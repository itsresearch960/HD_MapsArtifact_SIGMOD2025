{
 "cells": [
  {
   "cell_type": "code",
   "execution_count": null,
   "id": "6e3c3081-17fd-4842-96c7-a8f61cf7e669",
   "metadata": {
    "scrolled": true
   },
   "outputs": [
    {
     "name": "stdout",
     "output_type": "stream",
     "text": [
      "[1/3] Loading (or caching) road graph for bbox (39.8, 40.05, 116.2, 116.5) …\n",
      "[2/3] Processing files…\n"
     ]
    },
    {
     "name": "stderr",
     "output_type": "stream",
     "text": [
      "  0%|                                         | 1/10357 [00:00<29:47,  5.80it/s]"
     ]
    },
    {
     "name": "stdout",
     "output_type": "stream",
     "text": [
      "[OK] 1.txt → 1_slots.csv and paths.geojson\n"
     ]
    },
    {
     "name": "stderr",
     "output_type": "stream",
     "text": [
      "  0%|                                         | 2/10357 [00:00<56:32,  3.05it/s]"
     ]
    },
    {
     "name": "stdout",
     "output_type": "stream",
     "text": [
      "[OK] 10.txt → 10_slots.csv and paths.geojson\n"
     ]
    },
    {
     "name": "stderr",
     "output_type": "stream",
     "text": [
      "  0%|                                       | 3/10357 [00:01<1:06:31,  2.59it/s]"
     ]
    },
    {
     "name": "stdout",
     "output_type": "stream",
     "text": [
      "[OK] 100.txt → 100_slots.csv and paths.geojson\n"
     ]
    },
    {
     "name": "stderr",
     "output_type": "stream",
     "text": [
      "  0%|                                       | 4/10357 [00:01<1:09:44,  2.47it/s]"
     ]
    },
    {
     "name": "stdout",
     "output_type": "stream",
     "text": [
      "[OK] 1000.txt → 1000_slots.csv and paths.geojson\n"
     ]
    },
    {
     "name": "stderr",
     "output_type": "stream",
     "text": [
      "  0%|                                       | 5/10357 [00:01<1:03:39,  2.71it/s]"
     ]
    },
    {
     "name": "stdout",
     "output_type": "stream",
     "text": [
      "[OK] 10000.txt → 10000_slots.csv and paths.geojson\n"
     ]
    },
    {
     "name": "stderr",
     "output_type": "stream",
     "text": [
      "  0%|                                       | 6/10357 [00:02<1:02:58,  2.74it/s]"
     ]
    },
    {
     "name": "stdout",
     "output_type": "stream",
     "text": [
      "[OK] 10001.txt → 10001_slots.csv and paths.geojson\n"
     ]
    },
    {
     "name": "stderr",
     "output_type": "stream",
     "text": [
      "  0%|                                       | 7/10357 [00:02<1:02:04,  2.78it/s]"
     ]
    },
    {
     "name": "stdout",
     "output_type": "stream",
     "text": [
      "[OK] 10002.txt → 10002_slots.csv and paths.geojson\n"
     ]
    },
    {
     "name": "stderr",
     "output_type": "stream",
     "text": [
      "  0%|                                       | 8/10357 [00:02<1:06:10,  2.61it/s]"
     ]
    },
    {
     "name": "stdout",
     "output_type": "stream",
     "text": [
      "[OK] 10003.txt → 10003_slots.csv and paths.geojson\n",
      "[OK] 10004.txt → 10004_slots.csv\n"
     ]
    },
    {
     "name": "stderr",
     "output_type": "stream",
     "text": [
      "  0%|                                        | 10/10357 [00:03<46:59,  3.67it/s]"
     ]
    },
    {
     "name": "stdout",
     "output_type": "stream",
     "text": [
      "[OK] 10005.txt → 10005_slots.csv and paths.geojson\n"
     ]
    },
    {
     "name": "stderr",
     "output_type": "stream",
     "text": [
      "  0%|                                        | 11/10357 [00:03<48:59,  3.52it/s]"
     ]
    },
    {
     "name": "stdout",
     "output_type": "stream",
     "text": [
      "[OK] 10006.txt → 10006_slots.csv and paths.geojson\n"
     ]
    },
    {
     "name": "stderr",
     "output_type": "stream",
     "text": [
      "  0%|                                        | 12/10357 [00:03<47:59,  3.59it/s]"
     ]
    },
    {
     "name": "stdout",
     "output_type": "stream",
     "text": [
      "[OK] 10007.txt → 10007_slots.csv and paths.geojson\n"
     ]
    },
    {
     "name": "stderr",
     "output_type": "stream",
     "text": [
      "  0%|                                        | 13/10357 [00:04<49:45,  3.46it/s]"
     ]
    },
    {
     "name": "stdout",
     "output_type": "stream",
     "text": [
      "[OK] 10008.txt → 10008_slots.csv and paths.geojson\n"
     ]
    },
    {
     "name": "stderr",
     "output_type": "stream",
     "text": [
      "  0%|                                        | 14/10357 [00:04<52:26,  3.29it/s]"
     ]
    },
    {
     "name": "stdout",
     "output_type": "stream",
     "text": [
      "[OK] 10009.txt → 10009_slots.csv and paths.geojson\n"
     ]
    },
    {
     "name": "stderr",
     "output_type": "stream",
     "text": [
      "  0%|                                      | 15/10357 [00:04<1:01:29,  2.80it/s]"
     ]
    },
    {
     "name": "stdout",
     "output_type": "stream",
     "text": [
      "[OK] 1001.txt → 1001_slots.csv and paths.geojson\n"
     ]
    },
    {
     "name": "stderr",
     "output_type": "stream",
     "text": [
      "  0%|                                      | 16/10357 [00:05<1:06:11,  2.60it/s]"
     ]
    },
    {
     "name": "stdout",
     "output_type": "stream",
     "text": [
      "[OK] 10010.txt → 10010_slots.csv and paths.geojson\n"
     ]
    },
    {
     "name": "stderr",
     "output_type": "stream",
     "text": [
      "  0%|                                      | 17/10357 [00:06<1:18:41,  2.19it/s]"
     ]
    },
    {
     "name": "stdout",
     "output_type": "stream",
     "text": [
      "[OK] 10011.txt → 10011_slots.csv and paths.geojson\n"
     ]
    },
    {
     "name": "stderr",
     "output_type": "stream",
     "text": [
      "  0%|                                      | 18/10357 [00:06<1:13:58,  2.33it/s]"
     ]
    },
    {
     "name": "stdout",
     "output_type": "stream",
     "text": [
      "[OK] 10012.txt → 10012_slots.csv and paths.geojson\n"
     ]
    },
    {
     "name": "stderr",
     "output_type": "stream",
     "text": [
      "  0%|                                      | 19/10357 [00:06<1:05:45,  2.62it/s]"
     ]
    },
    {
     "name": "stdout",
     "output_type": "stream",
     "text": [
      "[OK] 10013.txt → 10013_slots.csv and paths.geojson\n"
     ]
    },
    {
     "name": "stderr",
     "output_type": "stream",
     "text": [
      "  0%|                                      | 20/10357 [00:06<1:01:08,  2.82it/s]"
     ]
    },
    {
     "name": "stdout",
     "output_type": "stream",
     "text": [
      "[OK] 10014.txt → 10014_slots.csv and paths.geojson\n"
     ]
    },
    {
     "name": "stderr",
     "output_type": "stream",
     "text": [
      "  0%|                                      | 21/10357 [00:07<1:00:50,  2.83it/s]"
     ]
    },
    {
     "name": "stdout",
     "output_type": "stream",
     "text": [
      "[OK] 10015.txt → 10015_slots.csv and paths.geojson\n"
     ]
    },
    {
     "name": "stderr",
     "output_type": "stream",
     "text": [
      "  0%|                                      | 22/10357 [00:07<1:01:27,  2.80it/s]"
     ]
    },
    {
     "name": "stdout",
     "output_type": "stream",
     "text": [
      "[OK] 10016.txt → 10016_slots.csv and paths.geojson\n"
     ]
    },
    {
     "name": "stderr",
     "output_type": "stream",
     "text": [
      "  0%|                                      | 23/10357 [00:08<1:01:56,  2.78it/s]"
     ]
    },
    {
     "name": "stdout",
     "output_type": "stream",
     "text": [
      "[OK] 10017.txt → 10017_slots.csv and paths.geojson\n"
     ]
    },
    {
     "name": "stderr",
     "output_type": "stream",
     "text": [
      "  0%|                                      | 24/10357 [00:08<1:00:24,  2.85it/s]"
     ]
    },
    {
     "name": "stdout",
     "output_type": "stream",
     "text": [
      "[OK] 10018.txt → 10018_slots.csv and paths.geojson\n"
     ]
    },
    {
     "name": "stderr",
     "output_type": "stream",
     "text": [
      "  0%|                                      | 25/10357 [00:08<1:12:27,  2.38it/s]"
     ]
    },
    {
     "name": "stdout",
     "output_type": "stream",
     "text": [
      "[OK] 10019.txt → 10019_slots.csv and paths.geojson\n"
     ]
    },
    {
     "name": "stderr",
     "output_type": "stream",
     "text": [
      "  0%|                                      | 26/10357 [00:09<1:19:08,  2.18it/s]"
     ]
    },
    {
     "name": "stdout",
     "output_type": "stream",
     "text": [
      "[OK] 1002.txt → 1002_slots.csv and paths.geojson\n"
     ]
    },
    {
     "name": "stderr",
     "output_type": "stream",
     "text": [
      "  0%|                                      | 27/10357 [00:09<1:10:40,  2.44it/s]"
     ]
    },
    {
     "name": "stdout",
     "output_type": "stream",
     "text": [
      "[OK] 10020.txt → 10020_slots.csv and paths.geojson\n"
     ]
    },
    {
     "name": "stderr",
     "output_type": "stream",
     "text": [
      "  0%|                                      | 28/10357 [00:10<1:05:05,  2.64it/s]"
     ]
    },
    {
     "name": "stdout",
     "output_type": "stream",
     "text": [
      "[OK] 10021.txt → 10021_slots.csv and paths.geojson\n"
     ]
    },
    {
     "name": "stderr",
     "output_type": "stream",
     "text": [
      "  0%|                                      | 29/10357 [00:10<1:10:30,  2.44it/s]"
     ]
    },
    {
     "name": "stdout",
     "output_type": "stream",
     "text": [
      "[OK] 10022.txt → 10022_slots.csv and paths.geojson\n"
     ]
    },
    {
     "name": "stderr",
     "output_type": "stream",
     "text": [
      "  0%|                                      | 30/10357 [00:10<1:04:07,  2.68it/s]"
     ]
    },
    {
     "name": "stdout",
     "output_type": "stream",
     "text": [
      "[OK] 10023.txt → 10023_slots.csv and paths.geojson\n"
     ]
    },
    {
     "name": "stderr",
     "output_type": "stream",
     "text": [
      "  0%|                                      | 31/10357 [00:11<1:24:11,  2.04it/s]"
     ]
    },
    {
     "name": "stdout",
     "output_type": "stream",
     "text": [
      "[OK] 10024.txt → 10024_slots.csv and paths.geojson\n"
     ]
    },
    {
     "name": "stderr",
     "output_type": "stream",
     "text": [
      "  0%|                                      | 32/10357 [00:11<1:09:42,  2.47it/s]"
     ]
    },
    {
     "name": "stdout",
     "output_type": "stream",
     "text": [
      "[OK] 10025.txt → 10025_slots.csv and paths.geojson\n"
     ]
    },
    {
     "name": "stderr",
     "output_type": "stream",
     "text": [
      "  0%|                                      | 33/10357 [00:12<1:14:33,  2.31it/s]"
     ]
    },
    {
     "name": "stdout",
     "output_type": "stream",
     "text": [
      "[OK] 10026.txt → 10026_slots.csv and paths.geojson\n"
     ]
    },
    {
     "name": "stderr",
     "output_type": "stream",
     "text": [
      "  0%|                                      | 34/10357 [00:12<1:07:33,  2.55it/s]"
     ]
    },
    {
     "name": "stdout",
     "output_type": "stream",
     "text": [
      "[OK] 10027.txt → 10027_slots.csv and paths.geojson\n"
     ]
    },
    {
     "name": "stderr",
     "output_type": "stream",
     "text": [
      "  0%|▏                                     | 35/10357 [00:13<1:05:47,  2.61it/s]"
     ]
    },
    {
     "name": "stdout",
     "output_type": "stream",
     "text": [
      "[OK] 10028.txt → 10028_slots.csv and paths.geojson\n"
     ]
    },
    {
     "name": "stderr",
     "output_type": "stream",
     "text": [
      "  0%|▏                                     | 36/10357 [00:13<1:07:13,  2.56it/s]"
     ]
    },
    {
     "name": "stdout",
     "output_type": "stream",
     "text": [
      "[OK] 10029.txt → 10029_slots.csv and paths.geojson\n"
     ]
    },
    {
     "name": "stderr",
     "output_type": "stream",
     "text": [
      "  0%|▏                                     | 37/10357 [00:13<1:08:09,  2.52it/s]"
     ]
    },
    {
     "name": "stdout",
     "output_type": "stream",
     "text": [
      "[OK] 1003.txt → 1003_slots.csv and paths.geojson\n"
     ]
    },
    {
     "name": "stderr",
     "output_type": "stream",
     "text": [
      "  0%|▏                                     | 38/10357 [00:14<1:25:49,  2.00it/s]"
     ]
    },
    {
     "name": "stdout",
     "output_type": "stream",
     "text": [
      "[OK] 10030.txt → 10030_slots.csv and paths.geojson\n"
     ]
    },
    {
     "name": "stderr",
     "output_type": "stream",
     "text": [
      "  0%|▏                                     | 39/10357 [00:15<1:24:35,  2.03it/s]"
     ]
    },
    {
     "name": "stdout",
     "output_type": "stream",
     "text": [
      "[OK] 10031.txt → 10031_slots.csv and paths.geojson\n",
      "[OK] 10032.txt → 10032_slots.csv and paths.geojson\n"
     ]
    },
    {
     "name": "stderr",
     "output_type": "stream",
     "text": [
      "  0%|▏                                     | 41/10357 [00:15<1:13:22,  2.34it/s]"
     ]
    },
    {
     "name": "stdout",
     "output_type": "stream",
     "text": [
      "[OK] 10033.txt → 10033_slots.csv and paths.geojson\n"
     ]
    },
    {
     "name": "stderr",
     "output_type": "stream",
     "text": [
      "  0%|▏                                     | 42/10357 [00:16<1:09:43,  2.47it/s]"
     ]
    },
    {
     "name": "stdout",
     "output_type": "stream",
     "text": [
      "[OK] 10034.txt → 10034_slots.csv and paths.geojson\n"
     ]
    },
    {
     "name": "stderr",
     "output_type": "stream",
     "text": [
      "  0%|▏                                     | 43/10357 [00:16<1:11:09,  2.42it/s]"
     ]
    },
    {
     "name": "stdout",
     "output_type": "stream",
     "text": [
      "[OK] 10035.txt → 10035_slots.csv and paths.geojson\n"
     ]
    },
    {
     "name": "stderr",
     "output_type": "stream",
     "text": [
      "  0%|▏                                     | 44/10357 [00:17<1:16:19,  2.25it/s]"
     ]
    },
    {
     "name": "stdout",
     "output_type": "stream",
     "text": [
      "[OK] 10036.txt → 10036_slots.csv and paths.geojson\n"
     ]
    },
    {
     "name": "stderr",
     "output_type": "stream",
     "text": [
      "  0%|▏                                     | 45/10357 [00:17<1:12:04,  2.38it/s]"
     ]
    },
    {
     "name": "stdout",
     "output_type": "stream",
     "text": [
      "[OK] 10037.txt → 10037_slots.csv and paths.geojson\n"
     ]
    },
    {
     "name": "stderr",
     "output_type": "stream",
     "text": [
      "  0%|▏                                     | 46/10357 [00:17<1:05:58,  2.61it/s]"
     ]
    },
    {
     "name": "stdout",
     "output_type": "stream",
     "text": [
      "[OK] 10038.txt → 10038_slots.csv and paths.geojson\n"
     ]
    },
    {
     "name": "stderr",
     "output_type": "stream",
     "text": [
      "  0%|▏                                     | 47/10357 [00:18<1:22:54,  2.07it/s]"
     ]
    },
    {
     "name": "stdout",
     "output_type": "stream",
     "text": [
      "[OK] 10039.txt → 10039_slots.csv and paths.geojson\n"
     ]
    },
    {
     "name": "stderr",
     "output_type": "stream",
     "text": [
      "  0%|▏                                     | 48/10357 [00:18<1:25:19,  2.01it/s]"
     ]
    },
    {
     "name": "stdout",
     "output_type": "stream",
     "text": [
      "[OK] 1004.txt → 1004_slots.csv and paths.geojson\n"
     ]
    },
    {
     "name": "stderr",
     "output_type": "stream",
     "text": [
      "  0%|▏                                     | 49/10357 [00:19<1:19:46,  2.15it/s]"
     ]
    },
    {
     "name": "stdout",
     "output_type": "stream",
     "text": [
      "[OK] 10040.txt → 10040_slots.csv and paths.geojson\n"
     ]
    },
    {
     "name": "stderr",
     "output_type": "stream",
     "text": [
      "  0%|▏                                     | 50/10357 [00:19<1:20:09,  2.14it/s]"
     ]
    },
    {
     "name": "stdout",
     "output_type": "stream",
     "text": [
      "[OK] 10041.txt → 10041_slots.csv and paths.geojson\n"
     ]
    },
    {
     "name": "stderr",
     "output_type": "stream",
     "text": [
      "  0%|▏                                     | 51/10357 [00:20<1:12:58,  2.35it/s]"
     ]
    },
    {
     "name": "stdout",
     "output_type": "stream",
     "text": [
      "[OK] 10042.txt → 10042_slots.csv and paths.geojson\n",
      "[OK] 10043.txt → 10043_slots.csv and paths.geojson\n"
     ]
    },
    {
     "name": "stderr",
     "output_type": "stream",
     "text": [
      "  1%|▏                                       | 53/10357 [00:20<50:47,  3.38it/s]"
     ]
    },
    {
     "name": "stdout",
     "output_type": "stream",
     "text": [
      "[OK] 10044.txt → 10044_slots.csv and paths.geojson\n"
     ]
    },
    {
     "name": "stderr",
     "output_type": "stream",
     "text": [
      "  1%|▏                                       | 54/10357 [00:20<48:53,  3.51it/s]"
     ]
    },
    {
     "name": "stdout",
     "output_type": "stream",
     "text": [
      "[OK] 10045.txt → 10045_slots.csv and paths.geojson\n"
     ]
    },
    {
     "name": "stderr",
     "output_type": "stream",
     "text": [
      "  1%|▏                                       | 55/10357 [00:21<53:07,  3.23it/s]"
     ]
    },
    {
     "name": "stdout",
     "output_type": "stream",
     "text": [
      "[OK] 10046.txt → 10046_slots.csv and paths.geojson\n"
     ]
    },
    {
     "name": "stderr",
     "output_type": "stream",
     "text": [
      "  1%|▏                                       | 56/10357 [00:21<57:04,  3.01it/s]"
     ]
    },
    {
     "name": "stdout",
     "output_type": "stream",
     "text": [
      "[OK] 10047.txt → 10047_slots.csv and paths.geojson\n"
     ]
    },
    {
     "name": "stderr",
     "output_type": "stream",
     "text": [
      "  1%|▏                                     | 57/10357 [00:21<1:02:28,  2.75it/s]"
     ]
    },
    {
     "name": "stdout",
     "output_type": "stream",
     "text": [
      "[OK] 10048.txt → 10048_slots.csv and paths.geojson\n",
      "[OK] 10049.txt → 10049_slots.csv\n"
     ]
    },
    {
     "name": "stderr",
     "output_type": "stream",
     "text": [
      "  1%|▏                                       | 59/10357 [00:22<47:21,  3.62it/s]"
     ]
    },
    {
     "name": "stdout",
     "output_type": "stream",
     "text": [
      "[OK] 1005.txt → 1005_slots.csv and paths.geojson\n"
     ]
    },
    {
     "name": "stderr",
     "output_type": "stream",
     "text": [
      "  1%|▏                                       | 60/10357 [00:22<56:12,  3.05it/s]"
     ]
    },
    {
     "name": "stdout",
     "output_type": "stream",
     "text": [
      "[OK] 10050.txt → 10050_slots.csv and paths.geojson\n"
     ]
    },
    {
     "name": "stderr",
     "output_type": "stream",
     "text": [
      "  1%|▏                                       | 61/10357 [00:23<57:01,  3.01it/s]"
     ]
    },
    {
     "name": "stdout",
     "output_type": "stream",
     "text": [
      "[OK] 10051.txt → 10051_slots.csv and paths.geojson\n"
     ]
    },
    {
     "name": "stderr",
     "output_type": "stream",
     "text": [
      "  1%|▏                                     | 62/10357 [00:23<1:02:15,  2.76it/s]"
     ]
    },
    {
     "name": "stdout",
     "output_type": "stream",
     "text": [
      "[OK] 10052.txt → 10052_slots.csv and paths.geojson\n"
     ]
    },
    {
     "name": "stderr",
     "output_type": "stream",
     "text": [
      "  1%|▏                                     | 63/10357 [00:23<1:01:30,  2.79it/s]"
     ]
    },
    {
     "name": "stdout",
     "output_type": "stream",
     "text": [
      "[OK] 10053.txt → 10053_slots.csv and paths.geojson\n"
     ]
    },
    {
     "name": "stderr",
     "output_type": "stream",
     "text": [
      "  1%|▏                                       | 64/10357 [00:24<54:55,  3.12it/s]"
     ]
    },
    {
     "name": "stdout",
     "output_type": "stream",
     "text": [
      "[OK] 10054.txt → 10054_slots.csv and paths.geojson\n"
     ]
    },
    {
     "name": "stderr",
     "output_type": "stream",
     "text": [
      "  1%|▎                                       | 65/10357 [00:24<50:46,  3.38it/s]"
     ]
    },
    {
     "name": "stdout",
     "output_type": "stream",
     "text": [
      "[OK] 10055.txt → 10055_slots.csv and paths.geojson\n"
     ]
    },
    {
     "name": "stderr",
     "output_type": "stream",
     "text": [
      "  1%|▎                                       | 66/10357 [00:24<49:42,  3.45it/s]"
     ]
    },
    {
     "name": "stdout",
     "output_type": "stream",
     "text": [
      "[OK] 10056.txt → 10056_slots.csv and paths.geojson\n",
      "[OK] 10057.txt → 10057_slots.csv and paths.geojson\n"
     ]
    },
    {
     "name": "stderr",
     "output_type": "stream",
     "text": [
      "  1%|▎                                       | 68/10357 [00:25<54:35,  3.14it/s]"
     ]
    },
    {
     "name": "stdout",
     "output_type": "stream",
     "text": [
      "[OK] 10058.txt → 10058_slots.csv and paths.geojson\n"
     ]
    },
    {
     "name": "stderr",
     "output_type": "stream",
     "text": [
      "  1%|▎                                     | 69/10357 [00:25<1:01:34,  2.78it/s]"
     ]
    },
    {
     "name": "stdout",
     "output_type": "stream",
     "text": [
      "[OK] 10059.txt → 10059_slots.csv and paths.geojson\n"
     ]
    },
    {
     "name": "stderr",
     "output_type": "stream",
     "text": [
      "  1%|▎                                       | 70/10357 [00:26<58:19,  2.94it/s]"
     ]
    },
    {
     "name": "stdout",
     "output_type": "stream",
     "text": [
      "[OK] 1006.txt → 1006_slots.csv and paths.geojson\n"
     ]
    },
    {
     "name": "stderr",
     "output_type": "stream",
     "text": [
      "  1%|▎                                     | 71/10357 [00:26<1:06:32,  2.58it/s]"
     ]
    },
    {
     "name": "stdout",
     "output_type": "stream",
     "text": [
      "[OK] 10060.txt → 10060_slots.csv and paths.geojson\n"
     ]
    },
    {
     "name": "stderr",
     "output_type": "stream",
     "text": [
      "  1%|▎                                     | 72/10357 [00:26<1:07:27,  2.54it/s]"
     ]
    },
    {
     "name": "stdout",
     "output_type": "stream",
     "text": [
      "[OK] 10061.txt → 10061_slots.csv and paths.geojson\n"
     ]
    },
    {
     "name": "stderr",
     "output_type": "stream",
     "text": [
      "  1%|▎                                     | 73/10357 [00:27<1:07:51,  2.53it/s]"
     ]
    },
    {
     "name": "stdout",
     "output_type": "stream",
     "text": [
      "[OK] 10062.txt → 10062_slots.csv and paths.geojson\n"
     ]
    },
    {
     "name": "stderr",
     "output_type": "stream",
     "text": [
      "  1%|▎                                     | 74/10357 [00:27<1:00:42,  2.82it/s]"
     ]
    },
    {
     "name": "stdout",
     "output_type": "stream",
     "text": [
      "[OK] 10063.txt → 10063_slots.csv and paths.geojson\n"
     ]
    },
    {
     "name": "stderr",
     "output_type": "stream",
     "text": [
      "  1%|▎                                     | 75/10357 [00:28<1:14:54,  2.29it/s]"
     ]
    },
    {
     "name": "stdout",
     "output_type": "stream",
     "text": [
      "[OK] 10064.txt → 10064_slots.csv and paths.geojson\n",
      "[OK] 10065.txt → 10065_slots.csv and paths.geojson\n"
     ]
    },
    {
     "name": "stderr",
     "output_type": "stream",
     "text": [
      "  1%|▎                                       | 77/10357 [00:28<57:42,  2.97it/s]"
     ]
    },
    {
     "name": "stdout",
     "output_type": "stream",
     "text": [
      "[OK] 10066.txt → 10066_slots.csv and paths.geojson\n"
     ]
    },
    {
     "name": "stderr",
     "output_type": "stream",
     "text": [
      "  1%|▎                                       | 78/10357 [00:28<54:41,  3.13it/s]"
     ]
    },
    {
     "name": "stdout",
     "output_type": "stream",
     "text": [
      "[OK] 10067.txt → 10067_slots.csv and paths.geojson\n"
     ]
    },
    {
     "name": "stderr",
     "output_type": "stream",
     "text": [
      "  1%|▎                                       | 79/10357 [00:29<56:44,  3.02it/s]"
     ]
    },
    {
     "name": "stdout",
     "output_type": "stream",
     "text": [
      "[OK] 10068.txt → 10068_slots.csv and paths.geojson\n"
     ]
    },
    {
     "name": "stderr",
     "output_type": "stream",
     "text": [
      "  1%|▎                                     | 80/10357 [00:29<1:03:27,  2.70it/s]"
     ]
    },
    {
     "name": "stdout",
     "output_type": "stream",
     "text": [
      "[OK] 10069.txt → 10069_slots.csv and paths.geojson\n"
     ]
    },
    {
     "name": "stderr",
     "output_type": "stream",
     "text": [
      "  1%|▎                                     | 81/10357 [00:30<1:15:20,  2.27it/s]"
     ]
    },
    {
     "name": "stdout",
     "output_type": "stream",
     "text": [
      "[OK] 1007.txt → 1007_slots.csv and paths.geojson\n"
     ]
    },
    {
     "name": "stderr",
     "output_type": "stream",
     "text": [
      "  1%|▎                                     | 82/10357 [00:30<1:09:31,  2.46it/s]"
     ]
    },
    {
     "name": "stdout",
     "output_type": "stream",
     "text": [
      "[OK] 10070.txt → 10070_slots.csv and paths.geojson\n"
     ]
    },
    {
     "name": "stderr",
     "output_type": "stream",
     "text": [
      "  1%|▎                                     | 83/10357 [00:31<1:13:44,  2.32it/s]"
     ]
    },
    {
     "name": "stdout",
     "output_type": "stream",
     "text": [
      "[OK] 10071.txt → 10071_slots.csv and paths.geojson\n"
     ]
    },
    {
     "name": "stderr",
     "output_type": "stream",
     "text": [
      "  1%|▎                                     | 84/10357 [00:31<1:16:47,  2.23it/s]"
     ]
    },
    {
     "name": "stdout",
     "output_type": "stream",
     "text": [
      "[OK] 10072.txt → 10072_slots.csv and paths.geojson\n"
     ]
    },
    {
     "name": "stderr",
     "output_type": "stream",
     "text": [
      "  1%|▎                                     | 85/10357 [00:32<1:19:06,  2.16it/s]"
     ]
    },
    {
     "name": "stdout",
     "output_type": "stream",
     "text": [
      "[OK] 10073.txt → 10073_slots.csv and paths.geojson\n"
     ]
    },
    {
     "name": "stderr",
     "output_type": "stream",
     "text": [
      "  1%|▎                                     | 86/10357 [00:32<1:11:16,  2.40it/s]"
     ]
    },
    {
     "name": "stdout",
     "output_type": "stream",
     "text": [
      "[OK] 10074.txt → 10074_slots.csv and paths.geojson\n"
     ]
    },
    {
     "name": "stderr",
     "output_type": "stream",
     "text": [
      "  1%|▎                                     | 87/10357 [00:32<1:06:39,  2.57it/s]"
     ]
    },
    {
     "name": "stdout",
     "output_type": "stream",
     "text": [
      "[OK] 10075.txt → 10075_slots.csv and paths.geojson\n"
     ]
    },
    {
     "name": "stderr",
     "output_type": "stream",
     "text": [
      "  1%|▎                                     | 88/10357 [00:33<1:08:13,  2.51it/s]"
     ]
    },
    {
     "name": "stdout",
     "output_type": "stream",
     "text": [
      "[OK] 10076.txt → 10076_slots.csv and paths.geojson\n"
     ]
    },
    {
     "name": "stderr",
     "output_type": "stream",
     "text": [
      "  1%|▎                                     | 89/10357 [00:33<1:12:26,  2.36it/s]"
     ]
    },
    {
     "name": "stdout",
     "output_type": "stream",
     "text": [
      "[OK] 10077.txt → 10077_slots.csv and paths.geojson\n"
     ]
    },
    {
     "name": "stderr",
     "output_type": "stream",
     "text": [
      "  1%|▎                                     | 90/10357 [00:36<3:21:41,  1.18s/it]"
     ]
    },
    {
     "name": "stdout",
     "output_type": "stream",
     "text": [
      "[OK] 10078.txt → 10078_slots.csv and paths.geojson\n"
     ]
    },
    {
     "name": "stderr",
     "output_type": "stream",
     "text": [
      "  1%|▎                                     | 91/10357 [00:37<2:43:22,  1.05it/s]"
     ]
    },
    {
     "name": "stdout",
     "output_type": "stream",
     "text": [
      "[OK] 10079.txt → 10079_slots.csv and paths.geojson\n"
     ]
    },
    {
     "name": "stderr",
     "output_type": "stream",
     "text": [
      "  1%|▎                                     | 92/10357 [00:37<2:10:38,  1.31it/s]"
     ]
    },
    {
     "name": "stdout",
     "output_type": "stream",
     "text": [
      "[OK] 1008.txt → 1008_slots.csv and paths.geojson\n"
     ]
    },
    {
     "name": "stderr",
     "output_type": "stream",
     "text": [
      "  1%|▎                                     | 93/10357 [00:37<1:42:42,  1.67it/s]"
     ]
    },
    {
     "name": "stdout",
     "output_type": "stream",
     "text": [
      "[OK] 10080.txt → 10080_slots.csv and paths.geojson\n"
     ]
    },
    {
     "name": "stderr",
     "output_type": "stream",
     "text": [
      "  1%|▎                                     | 94/10357 [00:38<1:32:42,  1.84it/s]"
     ]
    },
    {
     "name": "stdout",
     "output_type": "stream",
     "text": [
      "[OK] 10081.txt → 10081_slots.csv and paths.geojson\n"
     ]
    },
    {
     "name": "stderr",
     "output_type": "stream",
     "text": [
      "  1%|▎                                     | 95/10357 [00:38<1:21:19,  2.10it/s]"
     ]
    },
    {
     "name": "stdout",
     "output_type": "stream",
     "text": [
      "[OK] 10082.txt → 10082_slots.csv and paths.geojson\n"
     ]
    },
    {
     "name": "stderr",
     "output_type": "stream",
     "text": [
      "  1%|▎                                     | 96/10357 [00:38<1:09:54,  2.45it/s]"
     ]
    },
    {
     "name": "stdout",
     "output_type": "stream",
     "text": [
      "[OK] 10083.txt → 10083_slots.csv and paths.geojson\n"
     ]
    },
    {
     "name": "stderr",
     "output_type": "stream",
     "text": [
      "  1%|▎                                     | 97/10357 [00:38<1:02:21,  2.74it/s]"
     ]
    },
    {
     "name": "stdout",
     "output_type": "stream",
     "text": [
      "[OK] 10084.txt → 10084_slots.csv and paths.geojson\n"
     ]
    },
    {
     "name": "stderr",
     "output_type": "stream",
     "text": [
      "  1%|▍                                       | 98/10357 [00:39<55:03,  3.11it/s]"
     ]
    },
    {
     "name": "stdout",
     "output_type": "stream",
     "text": [
      "[OK] 10085.txt → 10085_slots.csv and paths.geojson\n"
     ]
    },
    {
     "name": "stderr",
     "output_type": "stream",
     "text": [
      "  1%|▎                                     | 99/10357 [00:40<1:30:43,  1.88it/s]"
     ]
    },
    {
     "name": "stdout",
     "output_type": "stream",
     "text": [
      "[OK] 10086.txt → 10086_slots.csv and paths.geojson\n"
     ]
    },
    {
     "name": "stderr",
     "output_type": "stream",
     "text": [
      "  1%|▎                                    | 100/10357 [00:40<1:31:41,  1.86it/s]"
     ]
    },
    {
     "name": "stdout",
     "output_type": "stream",
     "text": [
      "[OK] 10087.txt → 10087_slots.csv and paths.geojson\n"
     ]
    },
    {
     "name": "stderr",
     "output_type": "stream",
     "text": [
      "  1%|▎                                    | 101/10357 [00:40<1:14:52,  2.28it/s]"
     ]
    },
    {
     "name": "stdout",
     "output_type": "stream",
     "text": [
      "[OK] 10088.txt → 10088_slots.csv and paths.geojson\n"
     ]
    },
    {
     "name": "stderr",
     "output_type": "stream",
     "text": [
      "  1%|▎                                    | 102/10357 [00:41<1:04:52,  2.63it/s]"
     ]
    },
    {
     "name": "stdout",
     "output_type": "stream",
     "text": [
      "[OK] 10089.txt → 10089_slots.csv and paths.geojson\n"
     ]
    },
    {
     "name": "stderr",
     "output_type": "stream",
     "text": [
      "  1%|▎                                    | 103/10357 [00:41<1:03:02,  2.71it/s]"
     ]
    },
    {
     "name": "stdout",
     "output_type": "stream",
     "text": [
      "[OK] 1009.txt → 1009_slots.csv and paths.geojson\n"
     ]
    },
    {
     "name": "stderr",
     "output_type": "stream",
     "text": [
      "  1%|▎                                    | 104/10357 [00:41<1:02:35,  2.73it/s]"
     ]
    },
    {
     "name": "stdout",
     "output_type": "stream",
     "text": [
      "[OK] 10090.txt → 10090_slots.csv and paths.geojson\n"
     ]
    },
    {
     "name": "stderr",
     "output_type": "stream",
     "text": [
      "  1%|▍                                      | 105/10357 [00:42<55:33,  3.08it/s]"
     ]
    },
    {
     "name": "stdout",
     "output_type": "stream",
     "text": [
      "[OK] 10091.txt → 10091_slots.csv and paths.geojson\n"
     ]
    },
    {
     "name": "stderr",
     "output_type": "stream",
     "text": [
      "  1%|▍                                    | 106/10357 [00:42<1:12:44,  2.35it/s]"
     ]
    },
    {
     "name": "stdout",
     "output_type": "stream",
     "text": [
      "[OK] 10092.txt → 10092_slots.csv and paths.geojson\n"
     ]
    },
    {
     "name": "stderr",
     "output_type": "stream",
     "text": [
      "  1%|▍                                    | 107/10357 [00:43<1:14:41,  2.29it/s]"
     ]
    },
    {
     "name": "stdout",
     "output_type": "stream",
     "text": [
      "[OK] 10093.txt → 10093_slots.csv and paths.geojson\n"
     ]
    },
    {
     "name": "stderr",
     "output_type": "stream",
     "text": [
      "  1%|▍                                    | 108/10357 [00:43<1:11:01,  2.41it/s]"
     ]
    },
    {
     "name": "stdout",
     "output_type": "stream",
     "text": [
      "[OK] 10094.txt → 10094_slots.csv and paths.geojson\n"
     ]
    },
    {
     "name": "stderr",
     "output_type": "stream",
     "text": [
      "  1%|▍                                    | 109/10357 [00:44<1:12:58,  2.34it/s]"
     ]
    },
    {
     "name": "stdout",
     "output_type": "stream",
     "text": [
      "[OK] 10095.txt → 10095_slots.csv and paths.geojson\n"
     ]
    },
    {
     "name": "stderr",
     "output_type": "stream",
     "text": [
      "  1%|▍                                    | 110/10357 [00:44<1:05:56,  2.59it/s]"
     ]
    },
    {
     "name": "stdout",
     "output_type": "stream",
     "text": [
      "[OK] 10096.txt → 10096_slots.csv and paths.geojson\n"
     ]
    },
    {
     "name": "stderr",
     "output_type": "stream",
     "text": [
      "  1%|▍                                      | 111/10357 [00:44<59:49,  2.85it/s]"
     ]
    },
    {
     "name": "stdout",
     "output_type": "stream",
     "text": [
      "[OK] 10097.txt → 10097_slots.csv and paths.geojson\n"
     ]
    },
    {
     "name": "stderr",
     "output_type": "stream",
     "text": [
      "  1%|▍                                      | 112/10357 [00:44<54:44,  3.12it/s]"
     ]
    },
    {
     "name": "stdout",
     "output_type": "stream",
     "text": [
      "[OK] 10098.txt → 10098_slots.csv and paths.geojson\n"
     ]
    },
    {
     "name": "stderr",
     "output_type": "stream",
     "text": [
      "  1%|▍                                      | 113/10357 [00:45<55:43,  3.06it/s]"
     ]
    },
    {
     "name": "stdout",
     "output_type": "stream",
     "text": [
      "[OK] 10099.txt → 10099_slots.csv and paths.geojson\n",
      "[OK] 101.txt → 101_slots.csv\n"
     ]
    },
    {
     "name": "stderr",
     "output_type": "stream",
     "text": [
      "  1%|▍                                      | 115/10357 [00:45<52:49,  3.23it/s]"
     ]
    },
    {
     "name": "stdout",
     "output_type": "stream",
     "text": [
      "[OK] 1010.txt → 1010_slots.csv and paths.geojson\n"
     ]
    },
    {
     "name": "stderr",
     "output_type": "stream",
     "text": [
      "  1%|▍                                      | 116/10357 [00:46<50:20,  3.39it/s]"
     ]
    },
    {
     "name": "stdout",
     "output_type": "stream",
     "text": [
      "[OK] 10100.txt → 10100_slots.csv and paths.geojson\n"
     ]
    },
    {
     "name": "stderr",
     "output_type": "stream",
     "text": [
      "  1%|▍                                      | 117/10357 [00:46<47:28,  3.59it/s]"
     ]
    },
    {
     "name": "stdout",
     "output_type": "stream",
     "text": [
      "[OK] 10101.txt → 10101_slots.csv and paths.geojson\n"
     ]
    },
    {
     "name": "stderr",
     "output_type": "stream",
     "text": [
      "  1%|▍                                      | 118/10357 [00:46<58:46,  2.90it/s]"
     ]
    },
    {
     "name": "stdout",
     "output_type": "stream",
     "text": [
      "[OK] 10102.txt → 10102_slots.csv and paths.geojson\n"
     ]
    },
    {
     "name": "stderr",
     "output_type": "stream",
     "text": [
      "  1%|▍                                      | 119/10357 [00:47<57:23,  2.97it/s]"
     ]
    },
    {
     "name": "stdout",
     "output_type": "stream",
     "text": [
      "[OK] 10103.txt → 10103_slots.csv and paths.geojson\n"
     ]
    },
    {
     "name": "stderr",
     "output_type": "stream",
     "text": [
      "  1%|▍                                      | 120/10357 [00:47<59:59,  2.84it/s]"
     ]
    },
    {
     "name": "stdout",
     "output_type": "stream",
     "text": [
      "[OK] 10104.txt → 10104_slots.csv and paths.geojson\n"
     ]
    },
    {
     "name": "stderr",
     "output_type": "stream",
     "text": [
      "  1%|▍                                    | 121/10357 [00:47<1:03:46,  2.68it/s]"
     ]
    },
    {
     "name": "stdout",
     "output_type": "stream",
     "text": [
      "[OK] 10105.txt → 10105_slots.csv and paths.geojson\n"
     ]
    },
    {
     "name": "stderr",
     "output_type": "stream",
     "text": [
      "  1%|▍                                      | 122/10357 [00:48<56:06,  3.04it/s]"
     ]
    },
    {
     "name": "stdout",
     "output_type": "stream",
     "text": [
      "[OK] 10106.txt → 10106_slots.csv and paths.geojson\n",
      "[OK] 10107.txt → 10107_slots.csv and paths.geojson\n"
     ]
    },
    {
     "name": "stderr",
     "output_type": "stream",
     "text": [
      "  1%|▍                                      | 124/10357 [00:48<57:51,  2.95it/s]"
     ]
    },
    {
     "name": "stdout",
     "output_type": "stream",
     "text": [
      "[OK] 10108.txt → 10108_slots.csv and paths.geojson\n"
     ]
    },
    {
     "name": "stderr",
     "output_type": "stream",
     "text": [
      "  1%|▍                                    | 125/10357 [00:49<1:00:26,  2.82it/s]"
     ]
    },
    {
     "name": "stdout",
     "output_type": "stream",
     "text": [
      "[OK] 10109.txt → 10109_slots.csv and paths.geojson\n"
     ]
    },
    {
     "name": "stderr",
     "output_type": "stream",
     "text": [
      "  1%|▍                                    | 126/10357 [00:49<1:05:23,  2.61it/s]"
     ]
    },
    {
     "name": "stdout",
     "output_type": "stream",
     "text": [
      "[OK] 1011.txt → 1011_slots.csv and paths.geojson\n"
     ]
    },
    {
     "name": "stderr",
     "output_type": "stream",
     "text": [
      "  1%|▍                                    | 127/10357 [00:49<1:00:54,  2.80it/s]"
     ]
    },
    {
     "name": "stdout",
     "output_type": "stream",
     "text": [
      "[OK] 10110.txt → 10110_slots.csv and paths.geojson\n"
     ]
    },
    {
     "name": "stderr",
     "output_type": "stream",
     "text": [
      "  1%|▍                                    | 128/10357 [00:50<1:02:48,  2.71it/s]"
     ]
    },
    {
     "name": "stdout",
     "output_type": "stream",
     "text": [
      "[OK] 10111.txt → 10111_slots.csv and paths.geojson\n"
     ]
    },
    {
     "name": "stderr",
     "output_type": "stream",
     "text": [
      "  1%|▍                                    | 129/10357 [00:51<1:21:42,  2.09it/s]"
     ]
    },
    {
     "name": "stdout",
     "output_type": "stream",
     "text": [
      "[OK] 10112.txt → 10112_slots.csv and paths.geojson\n"
     ]
    },
    {
     "name": "stderr",
     "output_type": "stream",
     "text": [
      "  1%|▍                                    | 130/10357 [00:51<1:24:24,  2.02it/s]"
     ]
    },
    {
     "name": "stdout",
     "output_type": "stream",
     "text": [
      "[OK] 10113.txt → 10113_slots.csv and paths.geojson\n"
     ]
    },
    {
     "name": "stderr",
     "output_type": "stream",
     "text": [
      "  1%|▍                                    | 131/10357 [00:52<1:28:57,  1.92it/s]"
     ]
    },
    {
     "name": "stdout",
     "output_type": "stream",
     "text": [
      "[OK] 10114.txt → 10114_slots.csv and paths.geojson\n",
      "[SKIP] 10115.txt: no valid rows\n"
     ]
    },
    {
     "name": "stderr",
     "output_type": "stream",
     "text": [
      "  1%|▍                                    | 133/10357 [00:52<1:12:45,  2.34it/s]"
     ]
    },
    {
     "name": "stdout",
     "output_type": "stream",
     "text": [
      "[OK] 10116.txt → 10116_slots.csv and paths.geojson\n"
     ]
    },
    {
     "name": "stderr",
     "output_type": "stream",
     "text": [
      "  1%|▍                                    | 134/10357 [00:53<1:21:42,  2.09it/s]"
     ]
    },
    {
     "name": "stdout",
     "output_type": "stream",
     "text": [
      "[OK] 10117.txt → 10117_slots.csv and paths.geojson\n"
     ]
    },
    {
     "name": "stderr",
     "output_type": "stream",
     "text": [
      "  1%|▍                                    | 135/10357 [00:53<1:17:42,  2.19it/s]"
     ]
    },
    {
     "name": "stdout",
     "output_type": "stream",
     "text": [
      "[OK] 10118.txt → 10118_slots.csv and paths.geojson\n"
     ]
    },
    {
     "name": "stderr",
     "output_type": "stream",
     "text": [
      "  1%|▍                                    | 136/10357 [00:54<1:12:59,  2.33it/s]"
     ]
    },
    {
     "name": "stdout",
     "output_type": "stream",
     "text": [
      "[OK] 10119.txt → 10119_slots.csv and paths.geojson\n"
     ]
    },
    {
     "name": "stderr",
     "output_type": "stream",
     "text": [
      "  1%|▍                                    | 137/10357 [00:54<1:24:53,  2.01it/s]"
     ]
    },
    {
     "name": "stdout",
     "output_type": "stream",
     "text": [
      "[OK] 1012.txt → 1012_slots.csv and paths.geojson\n"
     ]
    },
    {
     "name": "stderr",
     "output_type": "stream",
     "text": [
      "  1%|▍                                    | 138/10357 [00:55<1:11:45,  2.37it/s]"
     ]
    },
    {
     "name": "stdout",
     "output_type": "stream",
     "text": [
      "[OK] 10120.txt → 10120_slots.csv and paths.geojson\n"
     ]
    },
    {
     "name": "stderr",
     "output_type": "stream",
     "text": [
      "  1%|▍                                    | 139/10357 [00:55<1:06:26,  2.56it/s]"
     ]
    },
    {
     "name": "stdout",
     "output_type": "stream",
     "text": [
      "[OK] 10121.txt → 10121_slots.csv and paths.geojson\n"
     ]
    },
    {
     "name": "stderr",
     "output_type": "stream",
     "text": [
      "  1%|▌                                    | 140/10357 [00:56<1:41:47,  1.67it/s]"
     ]
    },
    {
     "name": "stdout",
     "output_type": "stream",
     "text": [
      "[OK] 10122.txt → 10122_slots.csv and paths.geojson\n"
     ]
    },
    {
     "name": "stderr",
     "output_type": "stream",
     "text": [
      "  1%|▌                                    | 141/10357 [00:57<1:40:28,  1.69it/s]"
     ]
    },
    {
     "name": "stdout",
     "output_type": "stream",
     "text": [
      "[OK] 10123.txt → 10123_slots.csv and paths.geojson\n"
     ]
    },
    {
     "name": "stderr",
     "output_type": "stream",
     "text": [
      "  1%|▌                                    | 142/10357 [00:57<1:32:15,  1.85it/s]"
     ]
    },
    {
     "name": "stdout",
     "output_type": "stream",
     "text": [
      "[OK] 10124.txt → 10124_slots.csv and paths.geojson\n"
     ]
    },
    {
     "name": "stderr",
     "output_type": "stream",
     "text": [
      "  1%|▌                                    | 143/10357 [00:58<1:32:44,  1.84it/s]"
     ]
    },
    {
     "name": "stdout",
     "output_type": "stream",
     "text": [
      "[OK] 10125.txt → 10125_slots.csv and paths.geojson\n"
     ]
    },
    {
     "name": "stderr",
     "output_type": "stream",
     "text": [
      "  1%|▌                                    | 144/10357 [00:58<1:45:07,  1.62it/s]"
     ]
    },
    {
     "name": "stdout",
     "output_type": "stream",
     "text": [
      "[OK] 10126.txt → 10126_slots.csv and paths.geojson\n"
     ]
    },
    {
     "name": "stderr",
     "output_type": "stream",
     "text": [
      "  1%|▌                                    | 145/10357 [00:59<2:03:05,  1.38it/s]"
     ]
    },
    {
     "name": "stdout",
     "output_type": "stream",
     "text": [
      "[OK] 10127.txt → 10127_slots.csv and paths.geojson\n"
     ]
    },
    {
     "name": "stderr",
     "output_type": "stream",
     "text": [
      "  1%|▌                                    | 146/10357 [01:00<1:43:27,  1.64it/s]"
     ]
    },
    {
     "name": "stdout",
     "output_type": "stream",
     "text": [
      "[OK] 10128.txt → 10128_slots.csv and paths.geojson\n"
     ]
    },
    {
     "name": "stderr",
     "output_type": "stream",
     "text": [
      "  1%|▌                                    | 147/10357 [01:00<1:30:53,  1.87it/s]"
     ]
    },
    {
     "name": "stdout",
     "output_type": "stream",
     "text": [
      "[OK] 10129.txt → 10129_slots.csv and paths.geojson\n"
     ]
    },
    {
     "name": "stderr",
     "output_type": "stream",
     "text": [
      "  1%|▌                                    | 148/10357 [01:00<1:27:59,  1.93it/s]"
     ]
    },
    {
     "name": "stdout",
     "output_type": "stream",
     "text": [
      "[OK] 1013.txt → 1013_slots.csv and paths.geojson\n"
     ]
    },
    {
     "name": "stderr",
     "output_type": "stream",
     "text": [
      "  1%|▌                                    | 149/10357 [01:01<1:13:27,  2.32it/s]"
     ]
    },
    {
     "name": "stdout",
     "output_type": "stream",
     "text": [
      "[OK] 10130.txt → 10130_slots.csv and paths.geojson\n"
     ]
    },
    {
     "name": "stderr",
     "output_type": "stream",
     "text": [
      "  1%|▌                                    | 150/10357 [01:01<1:11:03,  2.39it/s]"
     ]
    },
    {
     "name": "stdout",
     "output_type": "stream",
     "text": [
      "[OK] 10131.txt → 10131_slots.csv and paths.geojson\n"
     ]
    },
    {
     "name": "stderr",
     "output_type": "stream",
     "text": [
      "  1%|▌                                    | 151/10357 [01:01<1:06:24,  2.56it/s]"
     ]
    },
    {
     "name": "stdout",
     "output_type": "stream",
     "text": [
      "[OK] 10132.txt → 10132_slots.csv and paths.geojson\n"
     ]
    },
    {
     "name": "stderr",
     "output_type": "stream",
     "text": [
      "  1%|▌                                    | 152/10357 [01:02<1:11:13,  2.39it/s]"
     ]
    },
    {
     "name": "stdout",
     "output_type": "stream",
     "text": [
      "[OK] 10133.txt → 10133_slots.csv and paths.geojson\n"
     ]
    },
    {
     "name": "stderr",
     "output_type": "stream",
     "text": [
      "  1%|▌                                    | 153/10357 [01:02<1:09:25,  2.45it/s]"
     ]
    },
    {
     "name": "stdout",
     "output_type": "stream",
     "text": [
      "[OK] 10134.txt → 10134_slots.csv and paths.geojson\n"
     ]
    },
    {
     "name": "stderr",
     "output_type": "stream",
     "text": [
      "  1%|▌                                    | 154/10357 [01:03<1:08:54,  2.47it/s]"
     ]
    },
    {
     "name": "stdout",
     "output_type": "stream",
     "text": [
      "[OK] 10135.txt → 10135_slots.csv and paths.geojson\n"
     ]
    },
    {
     "name": "stderr",
     "output_type": "stream",
     "text": [
      "  1%|▌                                    | 155/10357 [01:03<1:13:04,  2.33it/s]"
     ]
    },
    {
     "name": "stdout",
     "output_type": "stream",
     "text": [
      "[OK] 10136.txt → 10136_slots.csv and paths.geojson\n"
     ]
    },
    {
     "name": "stderr",
     "output_type": "stream",
     "text": [
      "  2%|▌                                    | 156/10357 [01:04<1:15:25,  2.25it/s]"
     ]
    },
    {
     "name": "stdout",
     "output_type": "stream",
     "text": [
      "[OK] 10137.txt → 10137_slots.csv and paths.geojson\n"
     ]
    },
    {
     "name": "stderr",
     "output_type": "stream",
     "text": [
      "  2%|▌                                    | 157/10357 [01:04<1:18:43,  2.16it/s]"
     ]
    },
    {
     "name": "stdout",
     "output_type": "stream",
     "text": [
      "[OK] 10138.txt → 10138_slots.csv and paths.geojson\n"
     ]
    },
    {
     "name": "stderr",
     "output_type": "stream",
     "text": [
      "  2%|▌                                    | 158/10357 [01:05<1:13:18,  2.32it/s]"
     ]
    },
    {
     "name": "stdout",
     "output_type": "stream",
     "text": [
      "[OK] 10139.txt → 10139_slots.csv and paths.geojson\n"
     ]
    },
    {
     "name": "stderr",
     "output_type": "stream",
     "text": [
      "  2%|▌                                    | 159/10357 [01:05<1:05:13,  2.61it/s]"
     ]
    },
    {
     "name": "stdout",
     "output_type": "stream",
     "text": [
      "[OK] 1014.txt → 1014_slots.csv and paths.geojson\n"
     ]
    },
    {
     "name": "stderr",
     "output_type": "stream",
     "text": [
      "  2%|▌                                    | 160/10357 [01:05<1:18:41,  2.16it/s]"
     ]
    },
    {
     "name": "stdout",
     "output_type": "stream",
     "text": [
      "[OK] 10140.txt → 10140_slots.csv and paths.geojson\n"
     ]
    },
    {
     "name": "stderr",
     "output_type": "stream",
     "text": [
      "  2%|▌                                    | 162/10357 [01:06<1:01:22,  2.77it/s]"
     ]
    },
    {
     "name": "stdout",
     "output_type": "stream",
     "text": [
      "[OK] 10141.txt → 10141_slots.csv and paths.geojson\n",
      "[OK] 10142.txt → 10142_slots.csv and paths.geojson\n"
     ]
    },
    {
     "name": "stderr",
     "output_type": "stream",
     "text": [
      "  2%|▌                                    | 163/10357 [01:06<1:01:37,  2.76it/s]"
     ]
    },
    {
     "name": "stdout",
     "output_type": "stream",
     "text": [
      "[OK] 10143.txt → 10143_slots.csv and paths.geojson\n"
     ]
    },
    {
     "name": "stderr",
     "output_type": "stream",
     "text": [
      "  2%|▌                                    | 164/10357 [01:07<1:00:47,  2.79it/s]"
     ]
    },
    {
     "name": "stdout",
     "output_type": "stream",
     "text": [
      "[OK] 10144.txt → 10144_slots.csv and paths.geojson\n"
     ]
    },
    {
     "name": "stderr",
     "output_type": "stream",
     "text": [
      "  2%|▌                                      | 165/10357 [01:07<55:43,  3.05it/s]"
     ]
    },
    {
     "name": "stdout",
     "output_type": "stream",
     "text": [
      "[OK] 10145.txt → 10145_slots.csv and paths.geojson\n"
     ]
    },
    {
     "name": "stderr",
     "output_type": "stream",
     "text": [
      "  2%|▋                                      | 166/10357 [01:07<54:29,  3.12it/s]"
     ]
    },
    {
     "name": "stdout",
     "output_type": "stream",
     "text": [
      "[OK] 10146.txt → 10146_slots.csv and paths.geojson\n"
     ]
    },
    {
     "name": "stderr",
     "output_type": "stream",
     "text": [
      "  2%|▋                                      | 168/10357 [01:08<51:01,  3.33it/s]"
     ]
    },
    {
     "name": "stdout",
     "output_type": "stream",
     "text": [
      "[OK] 10147.txt → 10147_slots.csv and paths.geojson\n",
      "[OK] 10148.txt → 10148_slots.csv and paths.geojson\n"
     ]
    },
    {
     "name": "stderr",
     "output_type": "stream",
     "text": [
      "  2%|▌                                    | 169/10357 [01:08<1:01:47,  2.75it/s]"
     ]
    },
    {
     "name": "stdout",
     "output_type": "stream",
     "text": [
      "[OK] 10149.txt → 10149_slots.csv and paths.geojson\n"
     ]
    },
    {
     "name": "stderr",
     "output_type": "stream",
     "text": [
      "  2%|▌                                    | 170/10357 [01:09<1:07:43,  2.51it/s]"
     ]
    },
    {
     "name": "stdout",
     "output_type": "stream",
     "text": [
      "[OK] 1015.txt → 1015_slots.csv and paths.geojson\n"
     ]
    },
    {
     "name": "stderr",
     "output_type": "stream",
     "text": [
      "  2%|▌                                    | 171/10357 [01:09<1:11:52,  2.36it/s]"
     ]
    },
    {
     "name": "stdout",
     "output_type": "stream",
     "text": [
      "[OK] 10150.txt → 10150_slots.csv and paths.geojson\n"
     ]
    },
    {
     "name": "stderr",
     "output_type": "stream",
     "text": [
      "  2%|▌                                    | 172/10357 [01:10<1:25:03,  2.00it/s]"
     ]
    },
    {
     "name": "stdout",
     "output_type": "stream",
     "text": [
      "[OK] 10151.txt → 10151_slots.csv and paths.geojson\n"
     ]
    },
    {
     "name": "stderr",
     "output_type": "stream",
     "text": [
      "  2%|▌                                    | 173/10357 [01:11<1:31:56,  1.85it/s]"
     ]
    },
    {
     "name": "stdout",
     "output_type": "stream",
     "text": [
      "[OK] 10152.txt → 10152_slots.csv and paths.geojson\n"
     ]
    },
    {
     "name": "stderr",
     "output_type": "stream",
     "text": [
      "  2%|▌                                    | 174/10357 [01:12<1:46:54,  1.59it/s]"
     ]
    },
    {
     "name": "stdout",
     "output_type": "stream",
     "text": [
      "[OK] 10153.txt → 10153_slots.csv and paths.geojson\n"
     ]
    },
    {
     "name": "stderr",
     "output_type": "stream",
     "text": [
      "  2%|▋                                    | 175/10357 [01:12<1:48:06,  1.57it/s]"
     ]
    },
    {
     "name": "stdout",
     "output_type": "stream",
     "text": [
      "[OK] 10154.txt → 10154_slots.csv and paths.geojson\n"
     ]
    },
    {
     "name": "stderr",
     "output_type": "stream",
     "text": [
      "  2%|▋                                    | 176/10357 [01:13<1:51:16,  1.52it/s]"
     ]
    },
    {
     "name": "stdout",
     "output_type": "stream",
     "text": [
      "[OK] 10155.txt → 10155_slots.csv and paths.geojson\n"
     ]
    },
    {
     "name": "stderr",
     "output_type": "stream",
     "text": [
      "  2%|▋                                    | 177/10357 [01:13<1:43:32,  1.64it/s]"
     ]
    },
    {
     "name": "stdout",
     "output_type": "stream",
     "text": [
      "[OK] 10156.txt → 10156_slots.csv and paths.geojson\n"
     ]
    },
    {
     "name": "stderr",
     "output_type": "stream",
     "text": [
      "  2%|▋                                    | 178/10357 [01:14<1:30:19,  1.88it/s]"
     ]
    },
    {
     "name": "stdout",
     "output_type": "stream",
     "text": [
      "[OK] 10157.txt → 10157_slots.csv and paths.geojson\n"
     ]
    },
    {
     "name": "stderr",
     "output_type": "stream",
     "text": [
      "  2%|▋                                    | 179/10357 [01:14<1:20:10,  2.12it/s]"
     ]
    },
    {
     "name": "stdout",
     "output_type": "stream",
     "text": [
      "[OK] 10158.txt → 10158_slots.csv and paths.geojson\n"
     ]
    },
    {
     "name": "stderr",
     "output_type": "stream",
     "text": [
      "  2%|▋                                    | 180/10357 [01:15<1:24:49,  2.00it/s]"
     ]
    },
    {
     "name": "stdout",
     "output_type": "stream",
     "text": [
      "[OK] 10159.txt → 10159_slots.csv and paths.geojson\n"
     ]
    },
    {
     "name": "stderr",
     "output_type": "stream",
     "text": [
      "  2%|▋                                    | 181/10357 [01:15<1:31:04,  1.86it/s]"
     ]
    },
    {
     "name": "stdout",
     "output_type": "stream",
     "text": [
      "[OK] 1016.txt → 1016_slots.csv and paths.geojson\n"
     ]
    },
    {
     "name": "stderr",
     "output_type": "stream",
     "text": [
      "  2%|▋                                    | 182/10357 [01:16<1:36:44,  1.75it/s]"
     ]
    },
    {
     "name": "stdout",
     "output_type": "stream",
     "text": [
      "[OK] 10160.txt → 10160_slots.csv and paths.geojson\n"
     ]
    },
    {
     "name": "stderr",
     "output_type": "stream",
     "text": [
      "  2%|▋                                    | 183/10357 [01:16<1:27:58,  1.93it/s]"
     ]
    },
    {
     "name": "stdout",
     "output_type": "stream",
     "text": [
      "[OK] 10161.txt → 10161_slots.csv and paths.geojson\n"
     ]
    },
    {
     "name": "stderr",
     "output_type": "stream",
     "text": [
      "  2%|▋                                    | 184/10357 [01:17<1:27:52,  1.93it/s]"
     ]
    },
    {
     "name": "stdout",
     "output_type": "stream",
     "text": [
      "[OK] 10162.txt → 10162_slots.csv and paths.geojson\n"
     ]
    },
    {
     "name": "stderr",
     "output_type": "stream",
     "text": [
      "  2%|▋                                    | 185/10357 [01:17<1:35:24,  1.78it/s]"
     ]
    },
    {
     "name": "stdout",
     "output_type": "stream",
     "text": [
      "[OK] 10163.txt → 10163_slots.csv and paths.geojson\n"
     ]
    },
    {
     "name": "stderr",
     "output_type": "stream",
     "text": [
      "  2%|▋                                    | 186/10357 [01:18<1:37:41,  1.74it/s]"
     ]
    },
    {
     "name": "stdout",
     "output_type": "stream",
     "text": [
      "[OK] 10164.txt → 10164_slots.csv and paths.geojson\n"
     ]
    },
    {
     "name": "stderr",
     "output_type": "stream",
     "text": [
      "  2%|▋                                    | 187/10357 [01:19<1:32:35,  1.83it/s]"
     ]
    },
    {
     "name": "stdout",
     "output_type": "stream",
     "text": [
      "[OK] 10165.txt → 10165_slots.csv and paths.geojson\n"
     ]
    },
    {
     "name": "stderr",
     "output_type": "stream",
     "text": [
      "  2%|▋                                    | 188/10357 [01:19<1:29:44,  1.89it/s]"
     ]
    },
    {
     "name": "stdout",
     "output_type": "stream",
     "text": [
      "[OK] 10166.txt → 10166_slots.csv and paths.geojson\n"
     ]
    },
    {
     "name": "stderr",
     "output_type": "stream",
     "text": [
      "  2%|▋                                    | 189/10357 [01:19<1:21:40,  2.07it/s]"
     ]
    },
    {
     "name": "stdout",
     "output_type": "stream",
     "text": [
      "[OK] 10167.txt → 10167_slots.csv and paths.geojson\n"
     ]
    },
    {
     "name": "stderr",
     "output_type": "stream",
     "text": [
      "  2%|▋                                    | 190/10357 [01:20<1:31:35,  1.85it/s]"
     ]
    },
    {
     "name": "stdout",
     "output_type": "stream",
     "text": [
      "[OK] 10168.txt → 10168_slots.csv and paths.geojson\n"
     ]
    },
    {
     "name": "stderr",
     "output_type": "stream",
     "text": [
      "  2%|▋                                    | 191/10357 [01:21<1:38:41,  1.72it/s]"
     ]
    },
    {
     "name": "stdout",
     "output_type": "stream",
     "text": [
      "[OK] 10169.txt → 10169_slots.csv and paths.geojson\n"
     ]
    },
    {
     "name": "stderr",
     "output_type": "stream",
     "text": [
      "  2%|▋                                    | 192/10357 [01:21<1:32:04,  1.84it/s]"
     ]
    },
    {
     "name": "stdout",
     "output_type": "stream",
     "text": [
      "[OK] 1017.txt → 1017_slots.csv and paths.geojson\n"
     ]
    },
    {
     "name": "stderr",
     "output_type": "stream",
     "text": [
      "  2%|▋                                    | 193/10357 [01:22<1:37:25,  1.74it/s]"
     ]
    },
    {
     "name": "stdout",
     "output_type": "stream",
     "text": [
      "[OK] 10170.txt → 10170_slots.csv and paths.geojson\n"
     ]
    },
    {
     "name": "stderr",
     "output_type": "stream",
     "text": [
      "  2%|▋                                    | 194/10357 [01:23<1:48:25,  1.56it/s]"
     ]
    },
    {
     "name": "stdout",
     "output_type": "stream",
     "text": [
      "[OK] 10171.txt → 10171_slots.csv and paths.geojson\n",
      "[OK] 10172.txt → 10172_slots.csv\n"
     ]
    },
    {
     "name": "stderr",
     "output_type": "stream",
     "text": [
      "  2%|▋                                    | 196/10357 [01:24<1:34:51,  1.79it/s]"
     ]
    },
    {
     "name": "stdout",
     "output_type": "stream",
     "text": [
      "[OK] 10173.txt → 10173_slots.csv and paths.geojson\n"
     ]
    },
    {
     "name": "stderr",
     "output_type": "stream",
     "text": [
      "  2%|▋                                    | 197/10357 [01:24<1:27:43,  1.93it/s]"
     ]
    },
    {
     "name": "stdout",
     "output_type": "stream",
     "text": [
      "[OK] 10174.txt → 10174_slots.csv and paths.geojson\n"
     ]
    },
    {
     "name": "stderr",
     "output_type": "stream",
     "text": [
      "  2%|▋                                    | 198/10357 [01:25<1:38:04,  1.73it/s]"
     ]
    },
    {
     "name": "stdout",
     "output_type": "stream",
     "text": [
      "[OK] 10175.txt → 10175_slots.csv and paths.geojson\n"
     ]
    },
    {
     "name": "stderr",
     "output_type": "stream",
     "text": [
      "  2%|▋                                    | 199/10357 [01:26<1:52:22,  1.51it/s]"
     ]
    },
    {
     "name": "stdout",
     "output_type": "stream",
     "text": [
      "[OK] 10176.txt → 10176_slots.csv and paths.geojson\n"
     ]
    },
    {
     "name": "stderr",
     "output_type": "stream",
     "text": [
      "  2%|▋                                    | 200/10357 [01:26<1:54:02,  1.48it/s]"
     ]
    },
    {
     "name": "stdout",
     "output_type": "stream",
     "text": [
      "[OK] 10177.txt → 10177_slots.csv and paths.geojson\n"
     ]
    },
    {
     "name": "stderr",
     "output_type": "stream",
     "text": [
      "  2%|▋                                    | 201/10357 [01:27<2:02:29,  1.38it/s]"
     ]
    },
    {
     "name": "stdout",
     "output_type": "stream",
     "text": [
      "[OK] 10178.txt → 10178_slots.csv and paths.geojson\n"
     ]
    },
    {
     "name": "stderr",
     "output_type": "stream",
     "text": [
      "  2%|▋                                    | 202/10357 [01:28<1:45:27,  1.60it/s]"
     ]
    },
    {
     "name": "stdout",
     "output_type": "stream",
     "text": [
      "[OK] 10179.txt → 10179_slots.csv and paths.geojson\n"
     ]
    },
    {
     "name": "stderr",
     "output_type": "stream",
     "text": [
      "  2%|▋                                    | 203/10357 [01:28<1:26:04,  1.97it/s]"
     ]
    },
    {
     "name": "stdout",
     "output_type": "stream",
     "text": [
      "[OK] 1018.txt → 1018_slots.csv and paths.geojson\n"
     ]
    },
    {
     "name": "stderr",
     "output_type": "stream",
     "text": [
      "  2%|▋                                    | 204/10357 [01:28<1:31:57,  1.84it/s]"
     ]
    },
    {
     "name": "stdout",
     "output_type": "stream",
     "text": [
      "[OK] 10180.txt → 10180_slots.csv and paths.geojson\n"
     ]
    },
    {
     "name": "stderr",
     "output_type": "stream",
     "text": [
      "  2%|▋                                    | 205/10357 [01:29<1:31:38,  1.85it/s]"
     ]
    },
    {
     "name": "stdout",
     "output_type": "stream",
     "text": [
      "[OK] 10181.txt → 10181_slots.csv and paths.geojson\n"
     ]
    },
    {
     "name": "stderr",
     "output_type": "stream",
     "text": [
      "  2%|▋                                    | 206/10357 [01:29<1:19:49,  2.12it/s]"
     ]
    },
    {
     "name": "stdout",
     "output_type": "stream",
     "text": [
      "[OK] 10182.txt → 10182_slots.csv and paths.geojson\n"
     ]
    },
    {
     "name": "stderr",
     "output_type": "stream",
     "text": [
      "  2%|▋                                    | 207/10357 [01:30<1:29:18,  1.89it/s]"
     ]
    },
    {
     "name": "stdout",
     "output_type": "stream",
     "text": [
      "[OK] 10183.txt → 10183_slots.csv and paths.geojson\n"
     ]
    },
    {
     "name": "stderr",
     "output_type": "stream",
     "text": [
      "  2%|▋                                    | 208/10357 [01:31<1:31:33,  1.85it/s]"
     ]
    },
    {
     "name": "stdout",
     "output_type": "stream",
     "text": [
      "[OK] 10184.txt → 10184_slots.csv and paths.geojson\n",
      "[OK] 10185.txt → 10185_slots.csv\n",
      "[OK] 10186.txt → 10186_slots.csv\n"
     ]
    },
    {
     "name": "stderr",
     "output_type": "stream",
     "text": [
      "  2%|▊                                    | 211/10357 [01:31<1:08:04,  2.48it/s]"
     ]
    },
    {
     "name": "stdout",
     "output_type": "stream",
     "text": [
      "[OK] 10187.txt → 10187_slots.csv and paths.geojson\n"
     ]
    },
    {
     "name": "stderr",
     "output_type": "stream",
     "text": [
      "  2%|▊                                    | 212/10357 [01:32<1:22:59,  2.04it/s]"
     ]
    },
    {
     "name": "stdout",
     "output_type": "stream",
     "text": [
      "[OK] 10188.txt → 10188_slots.csv and paths.geojson\n",
      "[OK] 10189.txt → 10189_slots.csv\n"
     ]
    },
    {
     "name": "stderr",
     "output_type": "stream",
     "text": [
      "  2%|▊                                    | 214/10357 [01:33<1:05:46,  2.57it/s]"
     ]
    },
    {
     "name": "stdout",
     "output_type": "stream",
     "text": [
      "[OK] 1019.txt → 1019_slots.csv and paths.geojson\n"
     ]
    },
    {
     "name": "stderr",
     "output_type": "stream",
     "text": [
      "  2%|▊                                    | 215/10357 [01:33<1:03:57,  2.64it/s]"
     ]
    },
    {
     "name": "stdout",
     "output_type": "stream",
     "text": [
      "[OK] 10190.txt → 10190_slots.csv and paths.geojson\n"
     ]
    },
    {
     "name": "stderr",
     "output_type": "stream",
     "text": [
      "  2%|▊                                    | 216/10357 [01:34<1:10:42,  2.39it/s]"
     ]
    },
    {
     "name": "stdout",
     "output_type": "stream",
     "text": [
      "[OK] 10191.txt → 10191_slots.csv and paths.geojson\n"
     ]
    },
    {
     "name": "stderr",
     "output_type": "stream",
     "text": [
      "  2%|▊                                    | 217/10357 [01:34<1:10:52,  2.38it/s]"
     ]
    },
    {
     "name": "stdout",
     "output_type": "stream",
     "text": [
      "[OK] 10192.txt → 10192_slots.csv and paths.geojson\n"
     ]
    },
    {
     "name": "stderr",
     "output_type": "stream",
     "text": [
      "  2%|▊                                    | 218/10357 [01:34<1:15:33,  2.24it/s]"
     ]
    },
    {
     "name": "stdout",
     "output_type": "stream",
     "text": [
      "[OK] 10193.txt → 10193_slots.csv and paths.geojson\n"
     ]
    },
    {
     "name": "stderr",
     "output_type": "stream",
     "text": [
      "  2%|▊                                    | 219/10357 [01:35<1:07:59,  2.49it/s]"
     ]
    },
    {
     "name": "stdout",
     "output_type": "stream",
     "text": [
      "[OK] 10194.txt → 10194_slots.csv and paths.geojson\n"
     ]
    },
    {
     "name": "stderr",
     "output_type": "stream",
     "text": [
      "  2%|▊                                    | 220/10357 [01:35<1:11:36,  2.36it/s]"
     ]
    },
    {
     "name": "stdout",
     "output_type": "stream",
     "text": [
      "[OK] 10195.txt → 10195_slots.csv and paths.geojson\n"
     ]
    },
    {
     "name": "stderr",
     "output_type": "stream",
     "text": [
      "  2%|▊                                    | 221/10357 [01:36<1:10:45,  2.39it/s]"
     ]
    },
    {
     "name": "stdout",
     "output_type": "stream",
     "text": [
      "[OK] 10196.txt → 10196_slots.csv and paths.geojson\n",
      "[OK] 10197.txt → 10197_slots.csv and paths.geojson\n"
     ]
    },
    {
     "name": "stderr",
     "output_type": "stream",
     "text": [
      "  2%|▊                                      | 223/10357 [01:36<58:28,  2.89it/s]"
     ]
    },
    {
     "name": "stdout",
     "output_type": "stream",
     "text": [
      "[OK] 10198.txt → 10198_slots.csv and paths.geojson\n"
     ]
    },
    {
     "name": "stderr",
     "output_type": "stream",
     "text": [
      "  2%|▊                                    | 224/10357 [01:37<1:18:01,  2.16it/s]"
     ]
    },
    {
     "name": "stdout",
     "output_type": "stream",
     "text": [
      "[OK] 10199.txt → 10199_slots.csv and paths.geojson\n"
     ]
    },
    {
     "name": "stderr",
     "output_type": "stream",
     "text": [
      "  2%|▊                                    | 225/10357 [01:37<1:07:11,  2.51it/s]"
     ]
    },
    {
     "name": "stdout",
     "output_type": "stream",
     "text": [
      "[OK] 102.txt → 102_slots.csv and paths.geojson\n"
     ]
    },
    {
     "name": "stderr",
     "output_type": "stream",
     "text": [
      "  2%|▊                                    | 226/10357 [01:38<1:12:23,  2.33it/s]"
     ]
    },
    {
     "name": "stdout",
     "output_type": "stream",
     "text": [
      "[OK] 1020.txt → 1020_slots.csv and paths.geojson\n"
     ]
    },
    {
     "name": "stderr",
     "output_type": "stream",
     "text": [
      "  2%|▊                                    | 227/10357 [01:38<1:17:39,  2.17it/s]"
     ]
    },
    {
     "name": "stdout",
     "output_type": "stream",
     "text": [
      "[OK] 10200.txt → 10200_slots.csv and paths.geojson\n"
     ]
    },
    {
     "name": "stderr",
     "output_type": "stream",
     "text": [
      "  2%|▊                                    | 228/10357 [01:39<1:23:43,  2.02it/s]"
     ]
    },
    {
     "name": "stdout",
     "output_type": "stream",
     "text": [
      "[OK] 10201.txt → 10201_slots.csv and paths.geojson\n"
     ]
    },
    {
     "name": "stderr",
     "output_type": "stream",
     "text": [
      "  2%|▊                                    | 229/10357 [01:39<1:22:15,  2.05it/s]"
     ]
    },
    {
     "name": "stdout",
     "output_type": "stream",
     "text": [
      "[OK] 10202.txt → 10202_slots.csv and paths.geojson\n"
     ]
    },
    {
     "name": "stderr",
     "output_type": "stream",
     "text": [
      "  2%|▊                                    | 230/10357 [01:40<1:19:13,  2.13it/s]"
     ]
    },
    {
     "name": "stdout",
     "output_type": "stream",
     "text": [
      "[OK] 10203.txt → 10203_slots.csv and paths.geojson\n"
     ]
    },
    {
     "name": "stderr",
     "output_type": "stream",
     "text": [
      "  2%|▊                                    | 231/10357 [01:40<1:34:28,  1.79it/s]"
     ]
    },
    {
     "name": "stdout",
     "output_type": "stream",
     "text": [
      "[OK] 10204.txt → 10204_slots.csv and paths.geojson\n"
     ]
    },
    {
     "name": "stderr",
     "output_type": "stream",
     "text": [
      "  2%|▊                                    | 232/10357 [01:41<1:26:50,  1.94it/s]"
     ]
    },
    {
     "name": "stdout",
     "output_type": "stream",
     "text": [
      "[OK] 10205.txt → 10205_slots.csv and paths.geojson\n",
      "[OK] 10206.txt → 10206_slots.csv and paths.geojson\n"
     ]
    },
    {
     "name": "stderr",
     "output_type": "stream",
     "text": [
      "  2%|▊                                    | 234/10357 [01:42<1:27:12,  1.93it/s]"
     ]
    },
    {
     "name": "stdout",
     "output_type": "stream",
     "text": [
      "[OK] 10207.txt → 10207_slots.csv and paths.geojson\n"
     ]
    },
    {
     "name": "stderr",
     "output_type": "stream",
     "text": [
      "  2%|▊                                    | 235/10357 [01:42<1:24:07,  2.01it/s]"
     ]
    },
    {
     "name": "stdout",
     "output_type": "stream",
     "text": [
      "[OK] 10208.txt → 10208_slots.csv and paths.geojson\n"
     ]
    },
    {
     "name": "stderr",
     "output_type": "stream",
     "text": [
      "  2%|▊                                    | 236/10357 [01:43<1:16:00,  2.22it/s]"
     ]
    },
    {
     "name": "stdout",
     "output_type": "stream",
     "text": [
      "[OK] 10209.txt → 10209_slots.csv and paths.geojson\n"
     ]
    },
    {
     "name": "stderr",
     "output_type": "stream",
     "text": [
      "  2%|▊                                    | 238/10357 [01:43<1:01:47,  2.73it/s]"
     ]
    },
    {
     "name": "stdout",
     "output_type": "stream",
     "text": [
      "[OK] 1021.txt → 1021_slots.csv and paths.geojson\n",
      "[OK] 10210.txt → 10210_slots.csv and paths.geojson\n"
     ]
    },
    {
     "name": "stderr",
     "output_type": "stream",
     "text": [
      "  2%|▉                                      | 240/10357 [01:44<57:41,  2.92it/s]"
     ]
    },
    {
     "name": "stdout",
     "output_type": "stream",
     "text": [
      "[OK] 10211.txt → 10211_slots.csv and paths.geojson\n",
      "[OK] 10212.txt → 10212_slots.csv and paths.geojson\n"
     ]
    },
    {
     "name": "stderr",
     "output_type": "stream",
     "text": [
      "  2%|▊                                    | 241/10357 [01:44<1:01:16,  2.75it/s]"
     ]
    },
    {
     "name": "stdout",
     "output_type": "stream",
     "text": [
      "[OK] 10213.txt → 10213_slots.csv and paths.geojson\n"
     ]
    },
    {
     "name": "stderr",
     "output_type": "stream",
     "text": [
      "  2%|▉                                      | 242/10357 [01:45<57:45,  2.92it/s]"
     ]
    },
    {
     "name": "stdout",
     "output_type": "stream",
     "text": [
      "[OK] 10214.txt → 10214_slots.csv and paths.geojson\n"
     ]
    },
    {
     "name": "stderr",
     "output_type": "stream",
     "text": [
      "  2%|▊                                    | 243/10357 [01:45<1:07:59,  2.48it/s]"
     ]
    },
    {
     "name": "stdout",
     "output_type": "stream",
     "text": [
      "[OK] 10215.txt → 10215_slots.csv and paths.geojson\n"
     ]
    },
    {
     "name": "stderr",
     "output_type": "stream",
     "text": [
      "  2%|▊                                    | 244/10357 [01:46<1:20:31,  2.09it/s]"
     ]
    },
    {
     "name": "stdout",
     "output_type": "stream",
     "text": [
      "[OK] 10216.txt → 10216_slots.csv and paths.geojson\n"
     ]
    },
    {
     "name": "stderr",
     "output_type": "stream",
     "text": [
      "  2%|▉                                    | 245/10357 [01:46<1:28:21,  1.91it/s]"
     ]
    },
    {
     "name": "stdout",
     "output_type": "stream",
     "text": [
      "[OK] 10217.txt → 10217_slots.csv and paths.geojson\n"
     ]
    },
    {
     "name": "stderr",
     "output_type": "stream",
     "text": [
      "  2%|▉                                    | 246/10357 [01:47<1:34:08,  1.79it/s]"
     ]
    },
    {
     "name": "stdout",
     "output_type": "stream",
     "text": [
      "[OK] 10218.txt → 10218_slots.csv and paths.geojson\n",
      "[OK] 10219.txt → 10219_slots.csv and paths.geojson\n"
     ]
    },
    {
     "name": "stderr",
     "output_type": "stream",
     "text": [
      "  2%|▉                                    | 248/10357 [01:48<1:08:45,  2.45it/s]"
     ]
    },
    {
     "name": "stdout",
     "output_type": "stream",
     "text": [
      "[OK] 1022.txt → 1022_slots.csv and paths.geojson\n"
     ]
    },
    {
     "name": "stderr",
     "output_type": "stream",
     "text": [
      "  2%|▉                                    | 249/10357 [01:48<1:03:33,  2.65it/s]"
     ]
    },
    {
     "name": "stdout",
     "output_type": "stream",
     "text": [
      "[OK] 10220.txt → 10220_slots.csv and paths.geojson\n"
     ]
    },
    {
     "name": "stderr",
     "output_type": "stream",
     "text": [
      "  2%|▉                                    | 250/10357 [01:48<1:04:03,  2.63it/s]"
     ]
    },
    {
     "name": "stdout",
     "output_type": "stream",
     "text": [
      "[OK] 10221.txt → 10221_slots.csv and paths.geojson\n"
     ]
    },
    {
     "name": "stderr",
     "output_type": "stream",
     "text": [
      "  2%|▉                                    | 251/10357 [01:49<1:06:16,  2.54it/s]"
     ]
    },
    {
     "name": "stdout",
     "output_type": "stream",
     "text": [
      "[OK] 10222.txt → 10222_slots.csv and paths.geojson\n"
     ]
    },
    {
     "name": "stderr",
     "output_type": "stream",
     "text": [
      "  2%|▉                                    | 252/10357 [01:49<1:04:11,  2.62it/s]"
     ]
    },
    {
     "name": "stdout",
     "output_type": "stream",
     "text": [
      "[OK] 10223.txt → 10223_slots.csv and paths.geojson\n"
     ]
    },
    {
     "name": "stderr",
     "output_type": "stream",
     "text": [
      "  2%|▉                                    | 253/10357 [01:50<1:13:25,  2.29it/s]"
     ]
    },
    {
     "name": "stdout",
     "output_type": "stream",
     "text": [
      "[OK] 10224.txt → 10224_slots.csv and paths.geojson\n"
     ]
    },
    {
     "name": "stderr",
     "output_type": "stream",
     "text": [
      "  2%|▉                                    | 254/10357 [01:50<1:24:02,  2.00it/s]"
     ]
    },
    {
     "name": "stdout",
     "output_type": "stream",
     "text": [
      "[OK] 10225.txt → 10225_slots.csv and paths.geojson\n"
     ]
    },
    {
     "name": "stderr",
     "output_type": "stream",
     "text": [
      "  2%|▉                                    | 255/10357 [01:51<1:14:20,  2.26it/s]"
     ]
    },
    {
     "name": "stdout",
     "output_type": "stream",
     "text": [
      "[OK] 10226.txt → 10226_slots.csv and paths.geojson\n"
     ]
    },
    {
     "name": "stderr",
     "output_type": "stream",
     "text": [
      "  2%|▉                                    | 256/10357 [01:51<1:35:21,  1.77it/s]"
     ]
    },
    {
     "name": "stdout",
     "output_type": "stream",
     "text": [
      "[OK] 10227.txt → 10227_slots.csv and paths.geojson\n"
     ]
    },
    {
     "name": "stderr",
     "output_type": "stream",
     "text": [
      "  2%|▉                                    | 257/10357 [01:52<1:28:19,  1.91it/s]"
     ]
    },
    {
     "name": "stdout",
     "output_type": "stream",
     "text": [
      "[OK] 10228.txt → 10228_slots.csv and paths.geojson\n",
      "[OK] 10229.txt → 10229_slots.csv\n"
     ]
    },
    {
     "name": "stderr",
     "output_type": "stream",
     "text": [
      "  3%|▉                                    | 259/10357 [01:52<1:07:59,  2.48it/s]"
     ]
    },
    {
     "name": "stdout",
     "output_type": "stream",
     "text": [
      "[OK] 1023.txt → 1023_slots.csv and paths.geojson\n"
     ]
    },
    {
     "name": "stderr",
     "output_type": "stream",
     "text": [
      "  3%|▉                                    | 260/10357 [01:53<1:20:08,  2.10it/s]"
     ]
    },
    {
     "name": "stdout",
     "output_type": "stream",
     "text": [
      "[OK] 10230.txt → 10230_slots.csv and paths.geojson\n"
     ]
    },
    {
     "name": "stderr",
     "output_type": "stream",
     "text": [
      "  3%|▉                                    | 261/10357 [01:54<1:31:51,  1.83it/s]"
     ]
    },
    {
     "name": "stdout",
     "output_type": "stream",
     "text": [
      "[OK] 10231.txt → 10231_slots.csv and paths.geojson\n"
     ]
    },
    {
     "name": "stderr",
     "output_type": "stream",
     "text": [
      "  3%|▉                                    | 262/10357 [01:55<1:48:29,  1.55it/s]"
     ]
    },
    {
     "name": "stdout",
     "output_type": "stream",
     "text": [
      "[OK] 10232.txt → 10232_slots.csv and paths.geojson\n"
     ]
    },
    {
     "name": "stderr",
     "output_type": "stream",
     "text": [
      "  3%|▉                                    | 263/10357 [01:55<1:40:42,  1.67it/s]"
     ]
    },
    {
     "name": "stdout",
     "output_type": "stream",
     "text": [
      "[OK] 10233.txt → 10233_slots.csv and paths.geojson\n"
     ]
    },
    {
     "name": "stderr",
     "output_type": "stream",
     "text": [
      "  3%|▉                                    | 264/10357 [01:56<1:27:58,  1.91it/s]"
     ]
    },
    {
     "name": "stdout",
     "output_type": "stream",
     "text": [
      "[OK] 10234.txt → 10234_slots.csv and paths.geojson\n",
      "[OK] 10235.txt → 10235_slots.csv\n"
     ]
    },
    {
     "name": "stderr",
     "output_type": "stream",
     "text": [
      "  3%|▉                                    | 266/10357 [01:56<1:10:50,  2.37it/s]"
     ]
    },
    {
     "name": "stdout",
     "output_type": "stream",
     "text": [
      "[OK] 10236.txt → 10236_slots.csv and paths.geojson\n"
     ]
    },
    {
     "name": "stderr",
     "output_type": "stream",
     "text": [
      "  3%|▉                                    | 267/10357 [01:56<1:08:48,  2.44it/s]"
     ]
    },
    {
     "name": "stdout",
     "output_type": "stream",
     "text": [
      "[OK] 10237.txt → 10237_slots.csv and paths.geojson\n",
      "[OK] 10238.txt → 10238_slots.csv\n"
     ]
    },
    {
     "name": "stderr",
     "output_type": "stream",
     "text": [
      "  3%|▉                                    | 269/10357 [01:57<1:04:02,  2.63it/s]"
     ]
    },
    {
     "name": "stdout",
     "output_type": "stream",
     "text": [
      "[OK] 10239.txt → 10239_slots.csv and paths.geojson\n"
     ]
    },
    {
     "name": "stderr",
     "output_type": "stream",
     "text": [
      "  3%|▉                                    | 270/10357 [01:58<1:09:08,  2.43it/s]"
     ]
    },
    {
     "name": "stdout",
     "output_type": "stream",
     "text": [
      "[OK] 1024.txt → 1024_slots.csv and paths.geojson\n",
      "[OK] 10240.txt → 10240_slots.csv\n"
     ]
    },
    {
     "name": "stderr",
     "output_type": "stream",
     "text": [
      "  3%|▉                                    | 272/10357 [01:58<1:03:57,  2.63it/s]"
     ]
    },
    {
     "name": "stdout",
     "output_type": "stream",
     "text": [
      "[OK] 10241.txt → 10241_slots.csv and paths.geojson\n",
      "[OK] 10242.txt → 10242_slots.csv\n"
     ]
    },
    {
     "name": "stderr",
     "output_type": "stream",
     "text": [
      "  3%|█                                      | 274/10357 [01:59<53:35,  3.14it/s]"
     ]
    },
    {
     "name": "stdout",
     "output_type": "stream",
     "text": [
      "[OK] 10243.txt → 10243_slots.csv and paths.geojson\n",
      "[OK] 10244.txt → 10244_slots.csv\n"
     ]
    },
    {
     "name": "stderr",
     "output_type": "stream",
     "text": [
      "  3%|█                                      | 276/10357 [01:59<53:48,  3.12it/s]"
     ]
    },
    {
     "name": "stdout",
     "output_type": "stream",
     "text": [
      "[OK] 10245.txt → 10245_slots.csv and paths.geojson\n"
     ]
    },
    {
     "name": "stderr",
     "output_type": "stream",
     "text": [
      "  3%|█                                      | 277/10357 [02:00<57:46,  2.91it/s]"
     ]
    },
    {
     "name": "stdout",
     "output_type": "stream",
     "text": [
      "[OK] 10246.txt → 10246_slots.csv and paths.geojson\n"
     ]
    },
    {
     "name": "stderr",
     "output_type": "stream",
     "text": [
      "  3%|█                                      | 278/10357 [02:00<54:30,  3.08it/s]"
     ]
    },
    {
     "name": "stdout",
     "output_type": "stream",
     "text": [
      "[OK] 10247.txt → 10247_slots.csv and paths.geojson\n"
     ]
    },
    {
     "name": "stderr",
     "output_type": "stream",
     "text": [
      "  3%|▉                                    | 279/10357 [02:01<1:08:01,  2.47it/s]"
     ]
    },
    {
     "name": "stdout",
     "output_type": "stream",
     "text": [
      "[OK] 10248.txt → 10248_slots.csv and paths.geojson\n"
     ]
    },
    {
     "name": "stderr",
     "output_type": "stream",
     "text": [
      "  3%|█                                    | 280/10357 [02:01<1:05:15,  2.57it/s]"
     ]
    },
    {
     "name": "stdout",
     "output_type": "stream",
     "text": [
      "[OK] 10249.txt → 10249_slots.csv and paths.geojson\n"
     ]
    },
    {
     "name": "stderr",
     "output_type": "stream",
     "text": [
      "  3%|█                                    | 281/10357 [02:01<1:03:45,  2.63it/s]"
     ]
    },
    {
     "name": "stdout",
     "output_type": "stream",
     "text": [
      "[OK] 1025.txt → 1025_slots.csv and paths.geojson\n",
      "[OK] 10250.txt → 10250_slots.csv\n"
     ]
    },
    {
     "name": "stderr",
     "output_type": "stream",
     "text": [
      "  3%|█                                      | 283/10357 [02:02<54:44,  3.07it/s]"
     ]
    },
    {
     "name": "stdout",
     "output_type": "stream",
     "text": [
      "[OK] 10251.txt → 10251_slots.csv and paths.geojson\n"
     ]
    },
    {
     "name": "stderr",
     "output_type": "stream",
     "text": [
      "  3%|█                                      | 284/10357 [02:02<53:43,  3.12it/s]"
     ]
    },
    {
     "name": "stdout",
     "output_type": "stream",
     "text": [
      "[OK] 10252.txt → 10252_slots.csv and paths.geojson\n"
     ]
    },
    {
     "name": "stderr",
     "output_type": "stream",
     "text": [
      "  3%|█                                      | 285/10357 [02:03<58:54,  2.85it/s]"
     ]
    },
    {
     "name": "stdout",
     "output_type": "stream",
     "text": [
      "[OK] 10253.txt → 10253_slots.csv and paths.geojson\n",
      "[OK] 10254.txt → 10254_slots.csv\n"
     ]
    },
    {
     "name": "stderr",
     "output_type": "stream",
     "text": [
      "  3%|█                                    | 287/10357 [02:03<1:00:55,  2.75it/s]"
     ]
    },
    {
     "name": "stdout",
     "output_type": "stream",
     "text": [
      "[OK] 10255.txt → 10255_slots.csv and paths.geojson\n",
      "[OK] 10256.txt → 10256_slots.csv\n"
     ]
    },
    {
     "name": "stderr",
     "output_type": "stream",
     "text": [
      "  3%|█                                    | 289/10357 [02:04<1:03:30,  2.64it/s]"
     ]
    },
    {
     "name": "stdout",
     "output_type": "stream",
     "text": [
      "[OK] 10257.txt → 10257_slots.csv and paths.geojson\n",
      "[OK] 10258.txt → 10258_slots.csv\n",
      "[OK] 10259.txt → 10259_slots.csv\n"
     ]
    },
    {
     "name": "stderr",
     "output_type": "stream",
     "text": [
      "  3%|█                                      | 292/10357 [02:05<48:12,  3.48it/s]"
     ]
    },
    {
     "name": "stdout",
     "output_type": "stream",
     "text": [
      "[OK] 1026.txt → 1026_slots.csv and paths.geojson\n",
      "[OK] 10260.txt → 10260_slots.csv\n"
     ]
    },
    {
     "name": "stderr",
     "output_type": "stream",
     "text": [
      "  3%|█                                      | 294/10357 [02:05<47:19,  3.54it/s]"
     ]
    },
    {
     "name": "stdout",
     "output_type": "stream",
     "text": [
      "[OK] 10261.txt → 10261_slots.csv and paths.geojson\n",
      "[OK] 10262.txt → 10262_slots.csv\n"
     ]
    },
    {
     "name": "stderr",
     "output_type": "stream",
     "text": [
      "  3%|█                                      | 296/10357 [02:06<49:48,  3.37it/s]"
     ]
    },
    {
     "name": "stdout",
     "output_type": "stream",
     "text": [
      "[OK] 10263.txt → 10263_slots.csv and paths.geojson\n",
      "[OK] 10264.txt → 10264_slots.csv\n"
     ]
    },
    {
     "name": "stderr",
     "output_type": "stream",
     "text": [
      "  3%|█                                      | 298/10357 [02:07<51:39,  3.25it/s]"
     ]
    },
    {
     "name": "stdout",
     "output_type": "stream",
     "text": [
      "[OK] 10265.txt → 10265_slots.csv and paths.geojson\n"
     ]
    },
    {
     "name": "stderr",
     "output_type": "stream",
     "text": [
      "  3%|█▏                                     | 301/10357 [02:07<37:45,  4.44it/s]"
     ]
    },
    {
     "name": "stdout",
     "output_type": "stream",
     "text": [
      "[OK] 10266.txt → 10266_slots.csv and paths.geojson\n",
      "[OK] 10267.txt → 10267_slots.csv\n",
      "[OK] 10268.txt → 10268_slots.csv and paths.geojson\n"
     ]
    },
    {
     "name": "stderr",
     "output_type": "stream",
     "text": [
      "  3%|█▏                                     | 302/10357 [02:08<43:46,  3.83it/s]"
     ]
    },
    {
     "name": "stdout",
     "output_type": "stream",
     "text": [
      "[OK] 10269.txt → 10269_slots.csv and paths.geojson\n"
     ]
    },
    {
     "name": "stderr",
     "output_type": "stream",
     "text": [
      "  3%|█▏                                     | 304/10357 [02:08<52:02,  3.22it/s]"
     ]
    },
    {
     "name": "stdout",
     "output_type": "stream",
     "text": [
      "[OK] 1027.txt → 1027_slots.csv and paths.geojson\n",
      "[OK] 10270.txt → 10270_slots.csv and paths.geojson\n"
     ]
    },
    {
     "name": "stderr",
     "output_type": "stream",
     "text": [
      "  3%|█                                    | 305/10357 [02:09<1:03:11,  2.65it/s]"
     ]
    },
    {
     "name": "stdout",
     "output_type": "stream",
     "text": [
      "[OK] 10271.txt → 10271_slots.csv and paths.geojson\n",
      "[OK] 10272.txt → 10272_slots.csv\n"
     ]
    },
    {
     "name": "stderr",
     "output_type": "stream",
     "text": [
      "  3%|█▏                                     | 307/10357 [02:09<50:34,  3.31it/s]"
     ]
    },
    {
     "name": "stdout",
     "output_type": "stream",
     "text": [
      "[OK] 10273.txt → 10273_slots.csv and paths.geojson\n"
     ]
    },
    {
     "name": "stderr",
     "output_type": "stream",
     "text": [
      "  3%|█                                    | 308/10357 [02:10<1:03:57,  2.62it/s]"
     ]
    },
    {
     "name": "stdout",
     "output_type": "stream",
     "text": [
      "[OK] 10274.txt → 10274_slots.csv and paths.geojson\n"
     ]
    },
    {
     "name": "stderr",
     "output_type": "stream",
     "text": [
      "  3%|█                                    | 309/10357 [02:10<1:04:06,  2.61it/s]"
     ]
    },
    {
     "name": "stdout",
     "output_type": "stream",
     "text": [
      "[OK] 10275.txt → 10275_slots.csv and paths.geojson\n"
     ]
    },
    {
     "name": "stderr",
     "output_type": "stream",
     "text": [
      "  3%|█▏                                     | 311/10357 [02:11<50:19,  3.33it/s]"
     ]
    },
    {
     "name": "stdout",
     "output_type": "stream",
     "text": [
      "[OK] 10276.txt → 10276_slots.csv and paths.geojson\n",
      "[OK] 10277.txt → 10277_slots.csv and paths.geojson\n"
     ]
    },
    {
     "name": "stderr",
     "output_type": "stream",
     "text": [
      "  3%|█▏                                     | 312/10357 [02:11<50:46,  3.30it/s]"
     ]
    },
    {
     "name": "stdout",
     "output_type": "stream",
     "text": [
      "[OK] 10278.txt → 10278_slots.csv and paths.geojson\n"
     ]
    },
    {
     "name": "stderr",
     "output_type": "stream",
     "text": [
      "  3%|█▏                                     | 313/10357 [02:11<48:39,  3.44it/s]"
     ]
    },
    {
     "name": "stdout",
     "output_type": "stream",
     "text": [
      "[OK] 10279.txt → 10279_slots.csv and paths.geojson\n"
     ]
    },
    {
     "name": "stderr",
     "output_type": "stream",
     "text": [
      "  3%|█▏                                     | 315/10357 [02:12<54:17,  3.08it/s]"
     ]
    },
    {
     "name": "stdout",
     "output_type": "stream",
     "text": [
      "[OK] 1028.txt → 1028_slots.csv and paths.geojson\n",
      "[OK] 10280.txt → 10280_slots.csv and paths.geojson\n"
     ]
    },
    {
     "name": "stderr",
     "output_type": "stream",
     "text": [
      "  3%|█▏                                     | 317/10357 [02:13<46:20,  3.61it/s]"
     ]
    },
    {
     "name": "stdout",
     "output_type": "stream",
     "text": [
      "[OK] 10281.txt → 10281_slots.csv and paths.geojson\n",
      "[OK] 10282.txt → 10282_slots.csv and paths.geojson\n"
     ]
    },
    {
     "name": "stderr",
     "output_type": "stream",
     "text": [
      "  3%|█▏                                     | 318/10357 [02:13<41:48,  4.00it/s]"
     ]
    },
    {
     "name": "stdout",
     "output_type": "stream",
     "text": [
      "[OK] 10283.txt → 10283_slots.csv and paths.geojson\n"
     ]
    },
    {
     "name": "stderr",
     "output_type": "stream",
     "text": [
      "  3%|█▏                                     | 319/10357 [02:13<49:16,  3.39it/s]"
     ]
    },
    {
     "name": "stdout",
     "output_type": "stream",
     "text": [
      "[OK] 10284.txt → 10284_slots.csv and paths.geojson\n"
     ]
    },
    {
     "name": "stderr",
     "output_type": "stream",
     "text": [
      "  3%|█▏                                     | 320/10357 [02:14<44:59,  3.72it/s]"
     ]
    },
    {
     "name": "stdout",
     "output_type": "stream",
     "text": [
      "[OK] 10285.txt → 10285_slots.csv and paths.geojson\n"
     ]
    },
    {
     "name": "stderr",
     "output_type": "stream",
     "text": [
      "  3%|█▏                                     | 321/10357 [02:14<45:45,  3.66it/s]"
     ]
    },
    {
     "name": "stdout",
     "output_type": "stream",
     "text": [
      "[OK] 10286.txt → 10286_slots.csv and paths.geojson\n"
     ]
    },
    {
     "name": "stderr",
     "output_type": "stream",
     "text": [
      "  3%|█▏                                     | 322/10357 [02:14<50:27,  3.32it/s]"
     ]
    },
    {
     "name": "stdout",
     "output_type": "stream",
     "text": [
      "[OK] 10287.txt → 10287_slots.csv and paths.geojson\n"
     ]
    },
    {
     "name": "stderr",
     "output_type": "stream",
     "text": [
      "  3%|█▏                                   | 323/10357 [02:15<1:01:01,  2.74it/s]"
     ]
    },
    {
     "name": "stdout",
     "output_type": "stream",
     "text": [
      "[OK] 10288.txt → 10288_slots.csv and paths.geojson\n"
     ]
    },
    {
     "name": "stderr",
     "output_type": "stream",
     "text": [
      "  3%|█▏                                     | 324/10357 [02:15<55:05,  3.04it/s]"
     ]
    },
    {
     "name": "stdout",
     "output_type": "stream",
     "text": [
      "[OK] 10289.txt → 10289_slots.csv and paths.geojson\n"
     ]
    },
    {
     "name": "stderr",
     "output_type": "stream",
     "text": [
      "  3%|█▏                                   | 325/10357 [02:16<1:13:19,  2.28it/s]"
     ]
    },
    {
     "name": "stdout",
     "output_type": "stream",
     "text": [
      "[OK] 1029.txt → 1029_slots.csv and paths.geojson\n"
     ]
    },
    {
     "name": "stderr",
     "output_type": "stream",
     "text": [
      "  3%|█▏                                   | 326/10357 [02:16<1:11:16,  2.35it/s]"
     ]
    },
    {
     "name": "stdout",
     "output_type": "stream",
     "text": [
      "[OK] 10290.txt → 10290_slots.csv and paths.geojson\n"
     ]
    },
    {
     "name": "stderr",
     "output_type": "stream",
     "text": [
      "  3%|█▏                                   | 327/10357 [02:16<1:06:53,  2.50it/s]"
     ]
    },
    {
     "name": "stdout",
     "output_type": "stream",
     "text": [
      "[OK] 10291.txt → 10291_slots.csv and paths.geojson\n"
     ]
    },
    {
     "name": "stderr",
     "output_type": "stream",
     "text": [
      "  3%|█▏                                   | 328/10357 [02:17<1:06:30,  2.51it/s]"
     ]
    },
    {
     "name": "stdout",
     "output_type": "stream",
     "text": [
      "[OK] 10292.txt → 10292_slots.csv and paths.geojson\n"
     ]
    },
    {
     "name": "stderr",
     "output_type": "stream",
     "text": [
      "  3%|█▏                                   | 329/10357 [02:17<1:06:53,  2.50it/s]"
     ]
    },
    {
     "name": "stdout",
     "output_type": "stream",
     "text": [
      "[OK] 10293.txt → 10293_slots.csv and paths.geojson\n"
     ]
    },
    {
     "name": "stderr",
     "output_type": "stream",
     "text": [
      "  3%|█▏                                     | 331/10357 [02:18<49:05,  3.40it/s]"
     ]
    },
    {
     "name": "stdout",
     "output_type": "stream",
     "text": [
      "[OK] 10294.txt → 10294_slots.csv and paths.geojson\n",
      "[OK] 10295.txt → 10295_slots.csv and paths.geojson\n"
     ]
    },
    {
     "name": "stderr",
     "output_type": "stream",
     "text": [
      "  3%|█▎                                     | 332/10357 [02:18<54:40,  3.06it/s]"
     ]
    },
    {
     "name": "stdout",
     "output_type": "stream",
     "text": [
      "[OK] 10296.txt → 10296_slots.csv and paths.geojson\n"
     ]
    },
    {
     "name": "stderr",
     "output_type": "stream",
     "text": [
      "  3%|█▎                                     | 333/10357 [02:18<54:57,  3.04it/s]"
     ]
    },
    {
     "name": "stdout",
     "output_type": "stream",
     "text": [
      "[OK] 10297.txt → 10297_slots.csv and paths.geojson\n"
     ]
    },
    {
     "name": "stderr",
     "output_type": "stream",
     "text": [
      "  3%|█▎                                     | 334/10357 [02:19<55:35,  3.01it/s]"
     ]
    },
    {
     "name": "stdout",
     "output_type": "stream",
     "text": [
      "[OK] 10298.txt → 10298_slots.csv and paths.geojson\n"
     ]
    },
    {
     "name": "stderr",
     "output_type": "stream",
     "text": [
      "  3%|█▎                                     | 335/10357 [02:19<56:10,  2.97it/s]"
     ]
    },
    {
     "name": "stdout",
     "output_type": "stream",
     "text": [
      "[OK] 10299.txt → 10299_slots.csv and paths.geojson\n"
     ]
    },
    {
     "name": "stderr",
     "output_type": "stream",
     "text": [
      "  3%|█▎                                     | 336/10357 [02:19<51:51,  3.22it/s]"
     ]
    },
    {
     "name": "stdout",
     "output_type": "stream",
     "text": [
      "[OK] 103.txt → 103_slots.csv and paths.geojson\n"
     ]
    },
    {
     "name": "stderr",
     "output_type": "stream",
     "text": [
      "  3%|█▏                                   | 337/10357 [02:20<1:00:39,  2.75it/s]"
     ]
    },
    {
     "name": "stdout",
     "output_type": "stream",
     "text": [
      "[OK] 1030.txt → 1030_slots.csv and paths.geojson\n"
     ]
    },
    {
     "name": "stderr",
     "output_type": "stream",
     "text": [
      "  3%|█▏                                   | 338/10357 [02:20<1:03:10,  2.64it/s]"
     ]
    },
    {
     "name": "stdout",
     "output_type": "stream",
     "text": [
      "[OK] 10300.txt → 10300_slots.csv and paths.geojson\n"
     ]
    },
    {
     "name": "stderr",
     "output_type": "stream",
     "text": [
      "  3%|█▏                                   | 339/10357 [02:21<1:15:08,  2.22it/s]"
     ]
    },
    {
     "name": "stdout",
     "output_type": "stream",
     "text": [
      "[OK] 10301.txt → 10301_slots.csv and paths.geojson\n"
     ]
    },
    {
     "name": "stderr",
     "output_type": "stream",
     "text": [
      "  3%|█▏                                   | 340/10357 [02:21<1:06:08,  2.52it/s]"
     ]
    },
    {
     "name": "stdout",
     "output_type": "stream",
     "text": [
      "[OK] 10302.txt → 10302_slots.csv and paths.geojson\n"
     ]
    },
    {
     "name": "stderr",
     "output_type": "stream",
     "text": [
      "  3%|█▏                                   | 341/10357 [02:21<1:07:08,  2.49it/s]"
     ]
    },
    {
     "name": "stdout",
     "output_type": "stream",
     "text": [
      "[OK] 10303.txt → 10303_slots.csv and paths.geojson\n"
     ]
    },
    {
     "name": "stderr",
     "output_type": "stream",
     "text": [
      "  3%|█▎                                     | 343/10357 [02:22<50:05,  3.33it/s]"
     ]
    },
    {
     "name": "stdout",
     "output_type": "stream",
     "text": [
      "[OK] 10304.txt → 10304_slots.csv and paths.geojson\n",
      "[OK] 10305.txt → 10305_slots.csv and paths.geojson\n"
     ]
    },
    {
     "name": "stderr",
     "output_type": "stream",
     "text": [
      "  3%|█▏                                   | 344/10357 [02:23<1:09:38,  2.40it/s]"
     ]
    },
    {
     "name": "stdout",
     "output_type": "stream",
     "text": [
      "[OK] 10306.txt → 10306_slots.csv and paths.geojson\n"
     ]
    },
    {
     "name": "stderr",
     "output_type": "stream",
     "text": [
      "  3%|█▏                                   | 345/10357 [02:23<1:07:57,  2.46it/s]"
     ]
    },
    {
     "name": "stdout",
     "output_type": "stream",
     "text": [
      "[OK] 10307.txt → 10307_slots.csv and paths.geojson\n"
     ]
    },
    {
     "name": "stderr",
     "output_type": "stream",
     "text": [
      "  3%|█▏                                   | 346/10357 [02:23<1:14:02,  2.25it/s]"
     ]
    },
    {
     "name": "stdout",
     "output_type": "stream",
     "text": [
      "[OK] 10308.txt → 10308_slots.csv and paths.geojson\n"
     ]
    },
    {
     "name": "stderr",
     "output_type": "stream",
     "text": [
      "  3%|█▏                                   | 347/10357 [02:24<1:26:04,  1.94it/s]"
     ]
    },
    {
     "name": "stdout",
     "output_type": "stream",
     "text": [
      "[OK] 10309.txt → 10309_slots.csv and paths.geojson\n",
      "[OK] 1031.txt → 1031_slots.csv\n"
     ]
    },
    {
     "name": "stderr",
     "output_type": "stream",
     "text": [
      "  3%|█▎                                     | 349/10357 [02:24<57:18,  2.91it/s]"
     ]
    },
    {
     "name": "stdout",
     "output_type": "stream",
     "text": [
      "[OK] 10310.txt → 10310_slots.csv and paths.geojson\n"
     ]
    },
    {
     "name": "stderr",
     "output_type": "stream",
     "text": [
      "  3%|█▎                                   | 350/10357 [02:25<1:12:29,  2.30it/s]"
     ]
    },
    {
     "name": "stdout",
     "output_type": "stream",
     "text": [
      "[OK] 10311.txt → 10311_slots.csv and paths.geojson\n"
     ]
    },
    {
     "name": "stderr",
     "output_type": "stream",
     "text": [
      "  3%|█▎                                   | 351/10357 [02:26<1:14:00,  2.25it/s]"
     ]
    },
    {
     "name": "stdout",
     "output_type": "stream",
     "text": [
      "[OK] 10312.txt → 10312_slots.csv and paths.geojson\n"
     ]
    },
    {
     "name": "stderr",
     "output_type": "stream",
     "text": [
      "  3%|█▎                                   | 352/10357 [02:26<1:25:34,  1.95it/s]"
     ]
    },
    {
     "name": "stdout",
     "output_type": "stream",
     "text": [
      "[OK] 10313.txt → 10313_slots.csv and paths.geojson\n"
     ]
    },
    {
     "name": "stderr",
     "output_type": "stream",
     "text": [
      "  3%|█▎                                   | 353/10357 [02:27<1:18:28,  2.12it/s]"
     ]
    },
    {
     "name": "stdout",
     "output_type": "stream",
     "text": [
      "[OK] 10314.txt → 10314_slots.csv and paths.geojson\n"
     ]
    },
    {
     "name": "stderr",
     "output_type": "stream",
     "text": [
      "  3%|█▎                                   | 354/10357 [02:27<1:13:05,  2.28it/s]"
     ]
    },
    {
     "name": "stdout",
     "output_type": "stream",
     "text": [
      "[OK] 10315.txt → 10315_slots.csv and paths.geojson\n"
     ]
    },
    {
     "name": "stderr",
     "output_type": "stream",
     "text": [
      "  3%|█▎                                   | 355/10357 [02:27<1:04:04,  2.60it/s]"
     ]
    },
    {
     "name": "stdout",
     "output_type": "stream",
     "text": [
      "[OK] 10316.txt → 10316_slots.csv and paths.geojson\n"
     ]
    },
    {
     "name": "stderr",
     "output_type": "stream",
     "text": [
      "  3%|█▎                                   | 356/10357 [02:28<1:04:49,  2.57it/s]"
     ]
    },
    {
     "name": "stdout",
     "output_type": "stream",
     "text": [
      "[OK] 10317.txt → 10317_slots.csv and paths.geojson\n"
     ]
    },
    {
     "name": "stderr",
     "output_type": "stream",
     "text": [
      "  3%|█▎                                   | 357/10357 [02:28<1:20:21,  2.07it/s]"
     ]
    },
    {
     "name": "stdout",
     "output_type": "stream",
     "text": [
      "[OK] 10318.txt → 10318_slots.csv and paths.geojson\n"
     ]
    },
    {
     "name": "stderr",
     "output_type": "stream",
     "text": [
      "  3%|█▎                                   | 358/10357 [02:29<1:31:55,  1.81it/s]"
     ]
    },
    {
     "name": "stdout",
     "output_type": "stream",
     "text": [
      "[OK] 10319.txt → 10319_slots.csv and paths.geojson\n"
     ]
    },
    {
     "name": "stderr",
     "output_type": "stream",
     "text": [
      "  3%|█▎                                   | 359/10357 [02:30<1:26:32,  1.93it/s]"
     ]
    },
    {
     "name": "stdout",
     "output_type": "stream",
     "text": [
      "[OK] 1032.txt → 1032_slots.csv and paths.geojson\n"
     ]
    },
    {
     "name": "stderr",
     "output_type": "stream",
     "text": [
      "  3%|█▎                                   | 360/10357 [02:30<1:18:05,  2.13it/s]"
     ]
    },
    {
     "name": "stdout",
     "output_type": "stream",
     "text": [
      "[OK] 10320.txt → 10320_slots.csv and paths.geojson\n",
      "[OK] 10321.txt → 10321_slots.csv and paths.geojson\n"
     ]
    },
    {
     "name": "stderr",
     "output_type": "stream",
     "text": [
      "  3%|█▎                                   | 362/10357 [02:31<1:07:26,  2.47it/s]"
     ]
    },
    {
     "name": "stdout",
     "output_type": "stream",
     "text": [
      "[OK] 10322.txt → 10322_slots.csv and paths.geojson\n"
     ]
    },
    {
     "name": "stderr",
     "output_type": "stream",
     "text": [
      "  4%|█▎                                   | 363/10357 [02:31<1:11:16,  2.34it/s]"
     ]
    },
    {
     "name": "stdout",
     "output_type": "stream",
     "text": [
      "[OK] 10323.txt → 10323_slots.csv and paths.geojson\n"
     ]
    },
    {
     "name": "stderr",
     "output_type": "stream",
     "text": [
      "  4%|█▎                                   | 364/10357 [02:32<1:14:15,  2.24it/s]"
     ]
    },
    {
     "name": "stdout",
     "output_type": "stream",
     "text": [
      "[OK] 10324.txt → 10324_slots.csv and paths.geojson\n"
     ]
    },
    {
     "name": "stderr",
     "output_type": "stream",
     "text": [
      "  4%|█▎                                   | 365/10357 [02:32<1:11:08,  2.34it/s]"
     ]
    },
    {
     "name": "stdout",
     "output_type": "stream",
     "text": [
      "[OK] 10325.txt → 10325_slots.csv and paths.geojson\n"
     ]
    },
    {
     "name": "stderr",
     "output_type": "stream",
     "text": [
      "  4%|█▎                                   | 366/10357 [02:32<1:13:50,  2.26it/s]"
     ]
    },
    {
     "name": "stdout",
     "output_type": "stream",
     "text": [
      "[OK] 10326.txt → 10326_slots.csv and paths.geojson\n"
     ]
    },
    {
     "name": "stderr",
     "output_type": "stream",
     "text": [
      "  4%|█▎                                   | 367/10357 [02:33<1:14:40,  2.23it/s]"
     ]
    },
    {
     "name": "stdout",
     "output_type": "stream",
     "text": [
      "[OK] 10327.txt → 10327_slots.csv and paths.geojson\n"
     ]
    },
    {
     "name": "stderr",
     "output_type": "stream",
     "text": [
      "  4%|█▎                                   | 368/10357 [02:33<1:20:52,  2.06it/s]"
     ]
    },
    {
     "name": "stdout",
     "output_type": "stream",
     "text": [
      "[OK] 10328.txt → 10328_slots.csv and paths.geojson\n"
     ]
    },
    {
     "name": "stderr",
     "output_type": "stream",
     "text": [
      "  4%|█▎                                   | 369/10357 [02:34<1:18:26,  2.12it/s]"
     ]
    },
    {
     "name": "stdout",
     "output_type": "stream",
     "text": [
      "[OK] 10329.txt → 10329_slots.csv and paths.geojson\n"
     ]
    },
    {
     "name": "stderr",
     "output_type": "stream",
     "text": [
      "  4%|█▎                                   | 370/10357 [02:34<1:21:38,  2.04it/s]"
     ]
    },
    {
     "name": "stdout",
     "output_type": "stream",
     "text": [
      "[OK] 1033.txt → 1033_slots.csv and paths.geojson\n"
     ]
    },
    {
     "name": "stderr",
     "output_type": "stream",
     "text": [
      "  4%|█▎                                   | 371/10357 [02:35<1:15:33,  2.20it/s]"
     ]
    },
    {
     "name": "stdout",
     "output_type": "stream",
     "text": [
      "[OK] 10330.txt → 10330_slots.csv and paths.geojson\n"
     ]
    },
    {
     "name": "stderr",
     "output_type": "stream",
     "text": [
      "  4%|█▎                                   | 372/10357 [02:35<1:04:01,  2.60it/s]"
     ]
    },
    {
     "name": "stdout",
     "output_type": "stream",
     "text": [
      "[OK] 10331.txt → 10331_slots.csv and paths.geojson\n"
     ]
    },
    {
     "name": "stderr",
     "output_type": "stream",
     "text": [
      "  4%|█▎                                   | 373/10357 [02:35<1:03:37,  2.62it/s]"
     ]
    },
    {
     "name": "stdout",
     "output_type": "stream",
     "text": [
      "[OK] 10332.txt → 10332_slots.csv and paths.geojson\n"
     ]
    },
    {
     "name": "stderr",
     "output_type": "stream",
     "text": [
      "  4%|█▍                                     | 374/10357 [02:36<58:04,  2.86it/s]"
     ]
    },
    {
     "name": "stdout",
     "output_type": "stream",
     "text": [
      "[OK] 10333.txt → 10333_slots.csv and paths.geojson\n"
     ]
    },
    {
     "name": "stderr",
     "output_type": "stream",
     "text": [
      "  4%|█▍                                     | 375/10357 [02:36<52:07,  3.19it/s]"
     ]
    },
    {
     "name": "stdout",
     "output_type": "stream",
     "text": [
      "[OK] 10334.txt → 10334_slots.csv and paths.geojson\n"
     ]
    },
    {
     "name": "stderr",
     "output_type": "stream",
     "text": [
      "  4%|█▍                                     | 376/10357 [02:36<48:53,  3.40it/s]"
     ]
    },
    {
     "name": "stdout",
     "output_type": "stream",
     "text": [
      "[OK] 10335.txt → 10335_slots.csv and paths.geojson\n"
     ]
    },
    {
     "name": "stderr",
     "output_type": "stream",
     "text": [
      "  4%|█▍                                     | 377/10357 [02:36<49:46,  3.34it/s]"
     ]
    },
    {
     "name": "stdout",
     "output_type": "stream",
     "text": [
      "[OK] 10336.txt → 10336_slots.csv and paths.geojson\n"
     ]
    },
    {
     "name": "stderr",
     "output_type": "stream",
     "text": [
      "  4%|█▎                                   | 378/10357 [02:37<1:03:00,  2.64it/s]"
     ]
    },
    {
     "name": "stdout",
     "output_type": "stream",
     "text": [
      "[OK] 10337.txt → 10337_slots.csv and paths.geojson\n"
     ]
    },
    {
     "name": "stderr",
     "output_type": "stream",
     "text": [
      "  4%|█▎                                   | 379/10357 [02:37<1:06:52,  2.49it/s]"
     ]
    },
    {
     "name": "stdout",
     "output_type": "stream",
     "text": [
      "[OK] 10338.txt → 10338_slots.csv and paths.geojson\n"
     ]
    },
    {
     "name": "stderr",
     "output_type": "stream",
     "text": [
      "  4%|█▎                                   | 380/10357 [02:38<1:02:31,  2.66it/s]"
     ]
    },
    {
     "name": "stdout",
     "output_type": "stream",
     "text": [
      "[OK] 10339.txt → 10339_slots.csv and paths.geojson\n"
     ]
    },
    {
     "name": "stderr",
     "output_type": "stream",
     "text": [
      "  4%|█▎                                   | 381/10357 [02:38<1:05:04,  2.55it/s]"
     ]
    },
    {
     "name": "stdout",
     "output_type": "stream",
     "text": [
      "[OK] 1034.txt → 1034_slots.csv and paths.geojson\n"
     ]
    },
    {
     "name": "stderr",
     "output_type": "stream",
     "text": [
      "  4%|█▍                                     | 383/10357 [02:39<52:44,  3.15it/s]"
     ]
    },
    {
     "name": "stdout",
     "output_type": "stream",
     "text": [
      "[OK] 10340.txt → 10340_slots.csv and paths.geojson\n",
      "[OK] 10341.txt → 10341_slots.csv and paths.geojson\n"
     ]
    },
    {
     "name": "stderr",
     "output_type": "stream",
     "text": [
      "  4%|█▍                                     | 385/10357 [02:39<38:17,  4.34it/s]"
     ]
    },
    {
     "name": "stdout",
     "output_type": "stream",
     "text": [
      "[OK] 10342.txt → 10342_slots.csv and paths.geojson\n",
      "[OK] 10343.txt → 10343_slots.csv and paths.geojson\n"
     ]
    },
    {
     "name": "stderr",
     "output_type": "stream",
     "text": [
      "  4%|█▍                                     | 386/10357 [02:39<40:28,  4.11it/s]"
     ]
    },
    {
     "name": "stdout",
     "output_type": "stream",
     "text": [
      "[OK] 10344.txt → 10344_slots.csv and paths.geojson\n"
     ]
    },
    {
     "name": "stderr",
     "output_type": "stream",
     "text": [
      "  4%|█▍                                     | 391/10357 [02:40<25:47,  6.44it/s]"
     ]
    },
    {
     "name": "stdout",
     "output_type": "stream",
     "text": [
      "[OK] 10345.txt → 10345_slots.csv and paths.geojson\n",
      "[OK] 10346.txt → 10346_slots.csv\n",
      "[OK] 10347.txt → 10347_slots.csv\n",
      "[OK] 10348.txt → 10348_slots.csv\n",
      "[OK] 10349.txt → 10349_slots.csv\n"
     ]
    },
    {
     "name": "stderr",
     "output_type": "stream",
     "text": [
      "  4%|█▍                                     | 393/10357 [02:40<21:59,  7.55it/s]"
     ]
    },
    {
     "name": "stdout",
     "output_type": "stream",
     "text": [
      "[OK] 1035.txt → 1035_slots.csv and paths.geojson\n",
      "[OK] 10350.txt → 10350_slots.csv\n"
     ]
    },
    {
     "name": "stderr",
     "output_type": "stream",
     "text": [
      "  4%|█▍                                     | 395/10357 [02:41<25:35,  6.49it/s]"
     ]
    },
    {
     "name": "stdout",
     "output_type": "stream",
     "text": [
      "[OK] 10351.txt → 10351_slots.csv and paths.geojson\n",
      "[SKIP] 10352.txt: no valid rows\n",
      "[OK] 10353.txt → 10353_slots.csv\n"
     ]
    },
    {
     "name": "stderr",
     "output_type": "stream",
     "text": [
      "  4%|█▍                                     | 398/10357 [02:41<28:33,  5.81it/s]"
     ]
    },
    {
     "name": "stdout",
     "output_type": "stream",
     "text": [
      "[OK] 10354.txt → 10354_slots.csv and paths.geojson\n",
      "[OK] 10355.txt → 10355_slots.csv and paths.geojson\n"
     ]
    },
    {
     "name": "stderr",
     "output_type": "stream",
     "text": [
      "  4%|█▌                                     | 399/10357 [02:41<31:35,  5.25it/s]"
     ]
    },
    {
     "name": "stdout",
     "output_type": "stream",
     "text": [
      "[OK] 10356.txt → 10356_slots.csv and paths.geojson\n"
     ]
    },
    {
     "name": "stderr",
     "output_type": "stream",
     "text": [
      "  4%|█▌                                     | 400/10357 [02:42<35:53,  4.62it/s]"
     ]
    },
    {
     "name": "stdout",
     "output_type": "stream",
     "text": [
      "[OK] 10357.txt → 10357_slots.csv and paths.geojson\n",
      "[OK] 1036.txt → 1036_slots.csv\n"
     ]
    },
    {
     "name": "stderr",
     "output_type": "stream",
     "text": [
      "  4%|█▌                                     | 402/10357 [02:42<37:02,  4.48it/s]"
     ]
    },
    {
     "name": "stdout",
     "output_type": "stream",
     "text": [
      "[OK] 1037.txt → 1037_slots.csv and paths.geojson\n"
     ]
    },
    {
     "name": "stderr",
     "output_type": "stream",
     "text": [
      "  4%|█▌                                     | 403/10357 [02:43<41:06,  4.04it/s]"
     ]
    },
    {
     "name": "stdout",
     "output_type": "stream",
     "text": [
      "[OK] 1038.txt → 1038_slots.csv and paths.geojson\n"
     ]
    },
    {
     "name": "stderr",
     "output_type": "stream",
     "text": [
      "  4%|█▌                                     | 404/10357 [02:43<53:00,  3.13it/s]"
     ]
    },
    {
     "name": "stdout",
     "output_type": "stream",
     "text": [
      "[OK] 1039.txt → 1039_slots.csv and paths.geojson\n"
     ]
    },
    {
     "name": "stderr",
     "output_type": "stream",
     "text": [
      "  4%|█▌                                     | 405/10357 [02:43<48:46,  3.40it/s]"
     ]
    },
    {
     "name": "stdout",
     "output_type": "stream",
     "text": [
      "[OK] 104.txt → 104_slots.csv and paths.geojson\n"
     ]
    },
    {
     "name": "stderr",
     "output_type": "stream",
     "text": [
      "  4%|█▌                                     | 406/10357 [02:44<47:55,  3.46it/s]"
     ]
    },
    {
     "name": "stdout",
     "output_type": "stream",
     "text": [
      "[OK] 1040.txt → 1040_slots.csv and paths.geojson\n"
     ]
    },
    {
     "name": "stderr",
     "output_type": "stream",
     "text": [
      "  4%|█▌                                     | 407/10357 [02:44<51:21,  3.23it/s]"
     ]
    },
    {
     "name": "stdout",
     "output_type": "stream",
     "text": [
      "[OK] 1041.txt → 1041_slots.csv and paths.geojson\n",
      "[OK] 1042.txt → 1042_slots.csv\n"
     ]
    },
    {
     "name": "stderr",
     "output_type": "stream",
     "text": [
      "  4%|█▌                                     | 409/10357 [02:44<46:24,  3.57it/s]"
     ]
    },
    {
     "name": "stdout",
     "output_type": "stream",
     "text": [
      "[OK] 1043.txt → 1043_slots.csv and paths.geojson\n"
     ]
    },
    {
     "name": "stderr",
     "output_type": "stream",
     "text": [
      "  4%|█▌                                     | 410/10357 [02:45<56:45,  2.92it/s]"
     ]
    },
    {
     "name": "stdout",
     "output_type": "stream",
     "text": [
      "[OK] 1044.txt → 1044_slots.csv and paths.geojson\n",
      "[OK] 1045.txt → 1045_slots.csv and paths.geojson\n"
     ]
    },
    {
     "name": "stderr",
     "output_type": "stream",
     "text": [
      "  4%|█▌                                     | 412/10357 [02:46<59:06,  2.80it/s]"
     ]
    },
    {
     "name": "stdout",
     "output_type": "stream",
     "text": [
      "[OK] 1046.txt → 1046_slots.csv and paths.geojson\n"
     ]
    },
    {
     "name": "stderr",
     "output_type": "stream",
     "text": [
      "  4%|█▌                                     | 413/10357 [02:46<55:01,  3.01it/s]"
     ]
    },
    {
     "name": "stdout",
     "output_type": "stream",
     "text": [
      "[OK] 1047.txt → 1047_slots.csv and paths.geojson\n"
     ]
    },
    {
     "name": "stderr",
     "output_type": "stream",
     "text": [
      "  4%|█▌                                     | 414/10357 [02:46<53:19,  3.11it/s]"
     ]
    },
    {
     "name": "stdout",
     "output_type": "stream",
     "text": [
      "[OK] 1048.txt → 1048_slots.csv and paths.geojson\n",
      "[OK] 1049.txt → 1049_slots.csv and paths.geojson\n"
     ]
    },
    {
     "name": "stderr",
     "output_type": "stream",
     "text": [
      "  4%|█▌                                     | 416/10357 [02:47<48:35,  3.41it/s]"
     ]
    },
    {
     "name": "stdout",
     "output_type": "stream",
     "text": [
      "[OK] 105.txt → 105_slots.csv and paths.geojson\n"
     ]
    },
    {
     "name": "stderr",
     "output_type": "stream",
     "text": [
      "  4%|█▌                                     | 417/10357 [02:47<54:10,  3.06it/s]"
     ]
    },
    {
     "name": "stdout",
     "output_type": "stream",
     "text": [
      "[OK] 1050.txt → 1050_slots.csv and paths.geojson\n",
      "[OK] 1051.txt → 1051_slots.csv and paths.geojson\n"
     ]
    },
    {
     "name": "stderr",
     "output_type": "stream",
     "text": [
      "  4%|█▌                                     | 419/10357 [02:47<41:20,  4.01it/s]"
     ]
    },
    {
     "name": "stdout",
     "output_type": "stream",
     "text": [
      "[OK] 1052.txt → 1052_slots.csv and paths.geojson\n"
     ]
    },
    {
     "name": "stderr",
     "output_type": "stream",
     "text": [
      "  4%|█▌                                     | 420/10357 [02:48<43:33,  3.80it/s]"
     ]
    },
    {
     "name": "stdout",
     "output_type": "stream",
     "text": [
      "[OK] 1053.txt → 1053_slots.csv and paths.geojson\n"
     ]
    },
    {
     "name": "stderr",
     "output_type": "stream",
     "text": [
      "  4%|█▌                                   | 421/10357 [02:49<1:05:16,  2.54it/s]"
     ]
    },
    {
     "name": "stdout",
     "output_type": "stream",
     "text": [
      "[OK] 1054.txt → 1054_slots.csv and paths.geojson\n"
     ]
    },
    {
     "name": "stderr",
     "output_type": "stream",
     "text": [
      "  4%|█▌                                   | 422/10357 [02:49<1:06:24,  2.49it/s]"
     ]
    },
    {
     "name": "stdout",
     "output_type": "stream",
     "text": [
      "[OK] 1055.txt → 1055_slots.csv and paths.geojson\n"
     ]
    },
    {
     "name": "stderr",
     "output_type": "stream",
     "text": [
      "  4%|█▌                                   | 423/10357 [02:50<1:13:50,  2.24it/s]"
     ]
    },
    {
     "name": "stdout",
     "output_type": "stream",
     "text": [
      "[OK] 1056.txt → 1056_slots.csv and paths.geojson\n"
     ]
    },
    {
     "name": "stderr",
     "output_type": "stream",
     "text": [
      "  4%|█▌                                   | 424/10357 [02:51<1:36:19,  1.72it/s]"
     ]
    },
    {
     "name": "stdout",
     "output_type": "stream",
     "text": [
      "[OK] 1057.txt → 1057_slots.csv and paths.geojson\n",
      "[OK] 1058.txt → 1058_slots.csv\n"
     ]
    },
    {
     "name": "stderr",
     "output_type": "stream",
     "text": [
      "  4%|█▌                                   | 426/10357 [02:52<1:30:48,  1.82it/s]"
     ]
    },
    {
     "name": "stdout",
     "output_type": "stream",
     "text": [
      "[OK] 1059.txt → 1059_slots.csv and paths.geojson\n"
     ]
    },
    {
     "name": "stderr",
     "output_type": "stream",
     "text": [
      "  4%|█▌                                   | 427/10357 [02:52<1:33:42,  1.77it/s]"
     ]
    },
    {
     "name": "stdout",
     "output_type": "stream",
     "text": [
      "[OK] 106.txt → 106_slots.csv and paths.geojson\n"
     ]
    },
    {
     "name": "stderr",
     "output_type": "stream",
     "text": [
      "  4%|█▌                                   | 428/10357 [02:53<1:34:41,  1.75it/s]"
     ]
    },
    {
     "name": "stdout",
     "output_type": "stream",
     "text": [
      "[OK] 1060.txt → 1060_slots.csv and paths.geojson\n"
     ]
    },
    {
     "name": "stderr",
     "output_type": "stream",
     "text": [
      "  4%|█▌                                   | 429/10357 [02:53<1:42:36,  1.61it/s]"
     ]
    },
    {
     "name": "stdout",
     "output_type": "stream",
     "text": [
      "[OK] 1061.txt → 1061_slots.csv and paths.geojson\n",
      "[OK] 1062.txt → 1062_slots.csv\n",
      "[OK] 1063.txt → 1063_slots.csv\n"
     ]
    },
    {
     "name": "stderr",
     "output_type": "stream",
     "text": [
      "  4%|█▌                                   | 432/10357 [02:54<1:09:19,  2.39it/s]"
     ]
    },
    {
     "name": "stdout",
     "output_type": "stream",
     "text": [
      "[OK] 1064.txt → 1064_slots.csv and paths.geojson\n",
      "[OK] 1065.txt → 1065_slots.csv\n"
     ]
    },
    {
     "name": "stderr",
     "output_type": "stream",
     "text": [
      "  4%|█▋                                     | 434/10357 [02:55<53:53,  3.07it/s]"
     ]
    },
    {
     "name": "stdout",
     "output_type": "stream",
     "text": [
      "[OK] 1066.txt → 1066_slots.csv and paths.geojson\n"
     ]
    },
    {
     "name": "stderr",
     "output_type": "stream",
     "text": [
      "  4%|█▌                                   | 435/10357 [02:55<1:09:34,  2.38it/s]"
     ]
    },
    {
     "name": "stdout",
     "output_type": "stream",
     "text": [
      "[OK] 1067.txt → 1067_slots.csv and paths.geojson\n"
     ]
    },
    {
     "name": "stderr",
     "output_type": "stream",
     "text": [
      "  4%|█▌                                   | 436/10357 [02:56<1:09:00,  2.40it/s]"
     ]
    },
    {
     "name": "stdout",
     "output_type": "stream",
     "text": [
      "[OK] 1068.txt → 1068_slots.csv and paths.geojson\n"
     ]
    },
    {
     "name": "stderr",
     "output_type": "stream",
     "text": [
      "  4%|█▌                                   | 437/10357 [02:56<1:19:32,  2.08it/s]"
     ]
    },
    {
     "name": "stdout",
     "output_type": "stream",
     "text": [
      "[OK] 1069.txt → 1069_slots.csv and paths.geojson\n"
     ]
    },
    {
     "name": "stderr",
     "output_type": "stream",
     "text": [
      "  4%|█▌                                   | 438/10357 [02:57<1:09:34,  2.38it/s]"
     ]
    },
    {
     "name": "stdout",
     "output_type": "stream",
     "text": [
      "[OK] 107.txt → 107_slots.csv and paths.geojson\n"
     ]
    },
    {
     "name": "stderr",
     "output_type": "stream",
     "text": [
      "  4%|█▌                                   | 439/10357 [02:57<1:19:42,  2.07it/s]"
     ]
    },
    {
     "name": "stdout",
     "output_type": "stream",
     "text": [
      "[OK] 1070.txt → 1070_slots.csv and paths.geojson\n"
     ]
    },
    {
     "name": "stderr",
     "output_type": "stream",
     "text": [
      "  4%|█▌                                   | 440/10357 [02:58<1:17:06,  2.14it/s]"
     ]
    },
    {
     "name": "stdout",
     "output_type": "stream",
     "text": [
      "[OK] 1071.txt → 1071_slots.csv and paths.geojson\n"
     ]
    },
    {
     "name": "stderr",
     "output_type": "stream",
     "text": [
      "  4%|█▌                                   | 441/10357 [02:58<1:13:24,  2.25it/s]"
     ]
    },
    {
     "name": "stdout",
     "output_type": "stream",
     "text": [
      "[OK] 1072.txt → 1072_slots.csv and paths.geojson\n"
     ]
    },
    {
     "name": "stderr",
     "output_type": "stream",
     "text": [
      "  4%|█▌                                   | 442/10357 [02:59<1:51:05,  1.49it/s]"
     ]
    },
    {
     "name": "stdout",
     "output_type": "stream",
     "text": [
      "[OK] 1073.txt → 1073_slots.csv and paths.geojson\n"
     ]
    },
    {
     "name": "stderr",
     "output_type": "stream",
     "text": [
      "  4%|█▌                                   | 443/10357 [03:00<1:43:12,  1.60it/s]"
     ]
    },
    {
     "name": "stdout",
     "output_type": "stream",
     "text": [
      "[OK] 1074.txt → 1074_slots.csv and paths.geojson\n"
     ]
    },
    {
     "name": "stderr",
     "output_type": "stream",
     "text": [
      "  4%|█▌                                   | 444/10357 [03:00<1:23:37,  1.98it/s]"
     ]
    },
    {
     "name": "stdout",
     "output_type": "stream",
     "text": [
      "[OK] 1075.txt → 1075_slots.csv and paths.geojson\n"
     ]
    },
    {
     "name": "stderr",
     "output_type": "stream",
     "text": [
      "  4%|█▌                                   | 445/10357 [03:00<1:16:48,  2.15it/s]"
     ]
    },
    {
     "name": "stdout",
     "output_type": "stream",
     "text": [
      "[OK] 1076.txt → 1076_slots.csv and paths.geojson\n",
      "[OK] 1077.txt → 1077_slots.csv\n"
     ]
    },
    {
     "name": "stderr",
     "output_type": "stream",
     "text": [
      "  4%|█▌                                   | 447/10357 [03:01<1:03:06,  2.62it/s]"
     ]
    },
    {
     "name": "stdout",
     "output_type": "stream",
     "text": [
      "[OK] 1078.txt → 1078_slots.csv and paths.geojson\n",
      "[OK] 1079.txt → 1079_slots.csv\n"
     ]
    },
    {
     "name": "stderr",
     "output_type": "stream",
     "text": [
      "  4%|█▋                                     | 449/10357 [03:01<46:25,  3.56it/s]"
     ]
    },
    {
     "name": "stdout",
     "output_type": "stream",
     "text": [
      "[OK] 108.txt → 108_slots.csv and paths.geojson\n",
      "[OK] 1080.txt → 1080_slots.csv and paths.geojson\n"
     ]
    },
    {
     "name": "stderr",
     "output_type": "stream",
     "text": [
      "  4%|█▋                                     | 451/10357 [03:02<54:57,  3.00it/s]"
     ]
    },
    {
     "name": "stdout",
     "output_type": "stream",
     "text": [
      "[OK] 1081.txt → 1081_slots.csv and paths.geojson\n",
      "[OK] 1082.txt → 1082_slots.csv\n"
     ]
    },
    {
     "name": "stderr",
     "output_type": "stream",
     "text": [
      "  4%|█▋                                     | 453/10357 [03:03<50:11,  3.29it/s]"
     ]
    },
    {
     "name": "stdout",
     "output_type": "stream",
     "text": [
      "[OK] 1083.txt → 1083_slots.csv and paths.geojson\n",
      "[OK] 1084.txt → 1084_slots.csv\n"
     ]
    },
    {
     "name": "stderr",
     "output_type": "stream",
     "text": [
      "  4%|█▋                                   | 455/10357 [03:04<1:02:52,  2.62it/s]"
     ]
    },
    {
     "name": "stdout",
     "output_type": "stream",
     "text": [
      "[OK] 1085.txt → 1085_slots.csv and paths.geojson\n"
     ]
    },
    {
     "name": "stderr",
     "output_type": "stream",
     "text": [
      "  4%|█▋                                   | 456/10357 [03:04<1:08:32,  2.41it/s]"
     ]
    },
    {
     "name": "stdout",
     "output_type": "stream",
     "text": [
      "[OK] 1086.txt → 1086_slots.csv and paths.geojson\n"
     ]
    },
    {
     "name": "stderr",
     "output_type": "stream",
     "text": [
      "  4%|█▋                                   | 457/10357 [03:05<1:20:56,  2.04it/s]"
     ]
    },
    {
     "name": "stdout",
     "output_type": "stream",
     "text": [
      "[OK] 1087.txt → 1087_slots.csv and paths.geojson\n"
     ]
    },
    {
     "name": "stderr",
     "output_type": "stream",
     "text": [
      "  4%|█▋                                   | 458/10357 [03:05<1:15:24,  2.19it/s]"
     ]
    },
    {
     "name": "stdout",
     "output_type": "stream",
     "text": [
      "[OK] 1088.txt → 1088_slots.csv and paths.geojson\n",
      "[SKIP] 1089.txt: no valid rows\n"
     ]
    },
    {
     "name": "stderr",
     "output_type": "stream",
     "text": [
      "  4%|█▋                                     | 460/10357 [03:06<52:15,  3.16it/s]"
     ]
    },
    {
     "name": "stdout",
     "output_type": "stream",
     "text": [
      "[OK] 109.txt → 109_slots.csv and paths.geojson\n"
     ]
    },
    {
     "name": "stderr",
     "output_type": "stream",
     "text": [
      "  4%|█▋                                     | 461/10357 [03:06<57:24,  2.87it/s]"
     ]
    },
    {
     "name": "stdout",
     "output_type": "stream",
     "text": [
      "[OK] 1090.txt → 1090_slots.csv and paths.geojson\n"
     ]
    },
    {
     "name": "stderr",
     "output_type": "stream",
     "text": [
      "  4%|█▋                                   | 462/10357 [03:06<1:01:13,  2.69it/s]"
     ]
    },
    {
     "name": "stdout",
     "output_type": "stream",
     "text": [
      "[OK] 1091.txt → 1091_slots.csv and paths.geojson\n"
     ]
    },
    {
     "name": "stderr",
     "output_type": "stream",
     "text": [
      "  4%|█▋                                   | 463/10357 [03:07<1:22:16,  2.00it/s]"
     ]
    },
    {
     "name": "stdout",
     "output_type": "stream",
     "text": [
      "[OK] 1092.txt → 1092_slots.csv and paths.geojson\n"
     ]
    },
    {
     "name": "stderr",
     "output_type": "stream",
     "text": [
      "  4%|█▋                                   | 464/10357 [03:08<1:40:07,  1.65it/s]"
     ]
    },
    {
     "name": "stdout",
     "output_type": "stream",
     "text": [
      "[OK] 1093.txt → 1093_slots.csv and paths.geojson\n"
     ]
    },
    {
     "name": "stderr",
     "output_type": "stream",
     "text": [
      "  4%|█▋                                   | 465/10357 [03:09<1:36:56,  1.70it/s]"
     ]
    },
    {
     "name": "stdout",
     "output_type": "stream",
     "text": [
      "[OK] 1094.txt → 1094_slots.csv and paths.geojson\n"
     ]
    },
    {
     "name": "stderr",
     "output_type": "stream",
     "text": [
      "  4%|█▋                                   | 466/10357 [03:10<1:48:58,  1.51it/s]"
     ]
    },
    {
     "name": "stdout",
     "output_type": "stream",
     "text": [
      "[OK] 1095.txt → 1095_slots.csv and paths.geojson\n"
     ]
    },
    {
     "name": "stderr",
     "output_type": "stream",
     "text": [
      "  5%|█▋                                   | 467/10357 [03:10<1:40:01,  1.65it/s]"
     ]
    },
    {
     "name": "stdout",
     "output_type": "stream",
     "text": [
      "[OK] 1096.txt → 1096_slots.csv and paths.geojson\n"
     ]
    },
    {
     "name": "stderr",
     "output_type": "stream",
     "text": [
      "  5%|█▋                                   | 468/10357 [03:11<1:38:27,  1.67it/s]"
     ]
    },
    {
     "name": "stdout",
     "output_type": "stream",
     "text": [
      "[OK] 1097.txt → 1097_slots.csv and paths.geojson\n"
     ]
    },
    {
     "name": "stderr",
     "output_type": "stream",
     "text": [
      "  5%|█▋                                   | 469/10357 [03:11<1:44:35,  1.58it/s]"
     ]
    },
    {
     "name": "stdout",
     "output_type": "stream",
     "text": [
      "[OK] 1098.txt → 1098_slots.csv and paths.geojson\n"
     ]
    },
    {
     "name": "stderr",
     "output_type": "stream",
     "text": [
      "  5%|█▋                                   | 470/10357 [03:12<1:36:53,  1.70it/s]"
     ]
    },
    {
     "name": "stdout",
     "output_type": "stream",
     "text": [
      "[OK] 1099.txt → 1099_slots.csv and paths.geojson\n"
     ]
    },
    {
     "name": "stderr",
     "output_type": "stream",
     "text": [
      "  5%|█▋                                   | 471/10357 [03:12<1:22:21,  2.00it/s]"
     ]
    },
    {
     "name": "stdout",
     "output_type": "stream",
     "text": [
      "[OK] 11.txt → 11_slots.csv and paths.geojson\n"
     ]
    },
    {
     "name": "stderr",
     "output_type": "stream",
     "text": [
      "  5%|█▋                                   | 472/10357 [03:12<1:09:55,  2.36it/s]"
     ]
    },
    {
     "name": "stdout",
     "output_type": "stream",
     "text": [
      "[OK] 110.txt → 110_slots.csv and paths.geojson\n"
     ]
    },
    {
     "name": "stderr",
     "output_type": "stream",
     "text": [
      "  5%|█▋                                   | 473/10357 [03:13<1:24:11,  1.96it/s]"
     ]
    },
    {
     "name": "stdout",
     "output_type": "stream",
     "text": [
      "[OK] 1100.txt → 1100_slots.csv and paths.geojson\n"
     ]
    },
    {
     "name": "stderr",
     "output_type": "stream",
     "text": [
      "  5%|█▋                                   | 474/10357 [03:13<1:16:00,  2.17it/s]"
     ]
    },
    {
     "name": "stdout",
     "output_type": "stream",
     "text": [
      "[OK] 1101.txt → 1101_slots.csv and paths.geojson\n"
     ]
    },
    {
     "name": "stderr",
     "output_type": "stream",
     "text": [
      "  5%|█▋                                   | 475/10357 [03:14<1:08:25,  2.41it/s]"
     ]
    },
    {
     "name": "stdout",
     "output_type": "stream",
     "text": [
      "[OK] 1102.txt → 1102_slots.csv and paths.geojson\n"
     ]
    },
    {
     "name": "stderr",
     "output_type": "stream",
     "text": [
      "  5%|█▋                                   | 476/10357 [03:14<1:18:12,  2.11it/s]"
     ]
    },
    {
     "name": "stdout",
     "output_type": "stream",
     "text": [
      "[OK] 1103.txt → 1103_slots.csv and paths.geojson\n"
     ]
    },
    {
     "name": "stderr",
     "output_type": "stream",
     "text": [
      "  5%|█▋                                   | 477/10357 [03:15<1:22:07,  2.00it/s]"
     ]
    },
    {
     "name": "stdout",
     "output_type": "stream",
     "text": [
      "[OK] 1104.txt → 1104_slots.csv and paths.geojson\n"
     ]
    },
    {
     "name": "stderr",
     "output_type": "stream",
     "text": [
      "  5%|█▋                                   | 478/10357 [03:16<1:30:37,  1.82it/s]"
     ]
    },
    {
     "name": "stdout",
     "output_type": "stream",
     "text": [
      "[OK] 1105.txt → 1105_slots.csv and paths.geojson\n"
     ]
    },
    {
     "name": "stderr",
     "output_type": "stream",
     "text": [
      "  5%|█▋                                   | 479/10357 [03:16<1:44:03,  1.58it/s]"
     ]
    },
    {
     "name": "stdout",
     "output_type": "stream",
     "text": [
      "[OK] 1106.txt → 1106_slots.csv and paths.geojson\n"
     ]
    },
    {
     "name": "stderr",
     "output_type": "stream",
     "text": [
      "  5%|█▋                                   | 480/10357 [03:17<1:37:55,  1.68it/s]"
     ]
    },
    {
     "name": "stdout",
     "output_type": "stream",
     "text": [
      "[OK] 1107.txt → 1107_slots.csv and paths.geojson\n"
     ]
    },
    {
     "name": "stderr",
     "output_type": "stream",
     "text": [
      "  5%|█▋                                   | 481/10357 [03:17<1:28:34,  1.86it/s]"
     ]
    },
    {
     "name": "stdout",
     "output_type": "stream",
     "text": [
      "[OK] 1108.txt → 1108_slots.csv and paths.geojson\n"
     ]
    },
    {
     "name": "stderr",
     "output_type": "stream",
     "text": [
      "  5%|█▋                                   | 482/10357 [03:18<1:17:16,  2.13it/s]"
     ]
    },
    {
     "name": "stdout",
     "output_type": "stream",
     "text": [
      "[OK] 1109.txt → 1109_slots.csv and paths.geojson\n",
      "[OK] 111.txt → 111_slots.csv and paths.geojson\n"
     ]
    },
    {
     "name": "stderr",
     "output_type": "stream",
     "text": [
      "  5%|█▊                                     | 484/10357 [03:18<59:40,  2.76it/s]"
     ]
    },
    {
     "name": "stdout",
     "output_type": "stream",
     "text": [
      "[OK] 1110.txt → 1110_slots.csv and paths.geojson\n"
     ]
    },
    {
     "name": "stderr",
     "output_type": "stream",
     "text": [
      "  5%|█▋                                   | 485/10357 [03:19<1:02:24,  2.64it/s]"
     ]
    },
    {
     "name": "stdout",
     "output_type": "stream",
     "text": [
      "[OK] 1111.txt → 1111_slots.csv and paths.geojson\n"
     ]
    },
    {
     "name": "stderr",
     "output_type": "stream",
     "text": [
      "  5%|█▋                                   | 486/10357 [03:19<1:07:24,  2.44it/s]"
     ]
    },
    {
     "name": "stdout",
     "output_type": "stream",
     "text": [
      "[OK] 1112.txt → 1112_slots.csv and paths.geojson\n"
     ]
    },
    {
     "name": "stderr",
     "output_type": "stream",
     "text": [
      "  5%|█▋                                   | 487/10357 [03:20<1:17:53,  2.11it/s]"
     ]
    },
    {
     "name": "stdout",
     "output_type": "stream",
     "text": [
      "[OK] 1113.txt → 1113_slots.csv and paths.geojson\n"
     ]
    },
    {
     "name": "stderr",
     "output_type": "stream",
     "text": [
      "  5%|█▋                                   | 488/10357 [03:20<1:08:50,  2.39it/s]"
     ]
    },
    {
     "name": "stdout",
     "output_type": "stream",
     "text": [
      "[OK] 1114.txt → 1114_slots.csv and paths.geojson\n"
     ]
    },
    {
     "name": "stderr",
     "output_type": "stream",
     "text": [
      "  5%|█▋                                   | 489/10357 [03:20<1:07:48,  2.43it/s]"
     ]
    },
    {
     "name": "stdout",
     "output_type": "stream",
     "text": [
      "[OK] 1115.txt → 1115_slots.csv and paths.geojson\n"
     ]
    },
    {
     "name": "stderr",
     "output_type": "stream",
     "text": [
      "  5%|█▊                                   | 490/10357 [03:21<1:19:01,  2.08it/s]"
     ]
    },
    {
     "name": "stdout",
     "output_type": "stream",
     "text": [
      "[OK] 1116.txt → 1116_slots.csv and paths.geojson\n"
     ]
    },
    {
     "name": "stderr",
     "output_type": "stream",
     "text": [
      "  5%|█▊                                   | 491/10357 [03:22<1:20:12,  2.05it/s]"
     ]
    },
    {
     "name": "stdout",
     "output_type": "stream",
     "text": [
      "[OK] 1117.txt → 1117_slots.csv and paths.geojson\n"
     ]
    },
    {
     "name": "stderr",
     "output_type": "stream",
     "text": [
      "  5%|█▊                                   | 492/10357 [03:22<1:29:45,  1.83it/s]"
     ]
    },
    {
     "name": "stdout",
     "output_type": "stream",
     "text": [
      "[OK] 1118.txt → 1118_slots.csv and paths.geojson\n"
     ]
    },
    {
     "name": "stderr",
     "output_type": "stream",
     "text": [
      "  5%|█▊                                   | 493/10357 [03:23<1:33:12,  1.76it/s]"
     ]
    },
    {
     "name": "stdout",
     "output_type": "stream",
     "text": [
      "[OK] 1119.txt → 1119_slots.csv and paths.geojson\n"
     ]
    },
    {
     "name": "stderr",
     "output_type": "stream",
     "text": [
      "  5%|█▊                                   | 494/10357 [03:23<1:29:48,  1.83it/s]"
     ]
    },
    {
     "name": "stdout",
     "output_type": "stream",
     "text": [
      "[OK] 112.txt → 112_slots.csv and paths.geojson\n"
     ]
    },
    {
     "name": "stderr",
     "output_type": "stream",
     "text": [
      "  5%|█▊                                   | 495/10357 [03:24<1:35:10,  1.73it/s]"
     ]
    },
    {
     "name": "stdout",
     "output_type": "stream",
     "text": [
      "[OK] 1120.txt → 1120_slots.csv and paths.geojson\n"
     ]
    },
    {
     "name": "stderr",
     "output_type": "stream",
     "text": [
      "  5%|█▊                                   | 496/10357 [03:24<1:24:53,  1.94it/s]"
     ]
    },
    {
     "name": "stdout",
     "output_type": "stream",
     "text": [
      "[OK] 1121.txt → 1121_slots.csv and paths.geojson\n"
     ]
    },
    {
     "name": "stderr",
     "output_type": "stream",
     "text": [
      "  5%|█▊                                   | 497/10357 [03:25<1:34:53,  1.73it/s]"
     ]
    },
    {
     "name": "stdout",
     "output_type": "stream",
     "text": [
      "[OK] 1122.txt → 1122_slots.csv and paths.geojson\n"
     ]
    },
    {
     "name": "stderr",
     "output_type": "stream",
     "text": [
      "  5%|█▊                                   | 498/10357 [03:26<1:48:56,  1.51it/s]"
     ]
    },
    {
     "name": "stdout",
     "output_type": "stream",
     "text": [
      "[OK] 1123.txt → 1123_slots.csv and paths.geojson\n"
     ]
    },
    {
     "name": "stderr",
     "output_type": "stream",
     "text": [
      "  5%|█▊                                   | 499/10357 [03:26<1:27:11,  1.88it/s]"
     ]
    },
    {
     "name": "stdout",
     "output_type": "stream",
     "text": [
      "[OK] 1124.txt → 1124_slots.csv and paths.geojson\n"
     ]
    },
    {
     "name": "stderr",
     "output_type": "stream",
     "text": [
      "  5%|█▊                                   | 500/10357 [03:27<1:34:57,  1.73it/s]"
     ]
    },
    {
     "name": "stdout",
     "output_type": "stream",
     "text": [
      "[OK] 1125.txt → 1125_slots.csv and paths.geojson\n"
     ]
    },
    {
     "name": "stderr",
     "output_type": "stream",
     "text": [
      "  5%|█▊                                   | 501/10357 [03:27<1:35:24,  1.72it/s]"
     ]
    },
    {
     "name": "stdout",
     "output_type": "stream",
     "text": [
      "[OK] 1126.txt → 1126_slots.csv and paths.geojson\n"
     ]
    },
    {
     "name": "stderr",
     "output_type": "stream",
     "text": [
      "  5%|█▊                                   | 502/10357 [03:28<1:31:08,  1.80it/s]"
     ]
    },
    {
     "name": "stdout",
     "output_type": "stream",
     "text": [
      "[OK] 1127.txt → 1127_slots.csv and paths.geojson\n"
     ]
    },
    {
     "name": "stderr",
     "output_type": "stream",
     "text": [
      "  5%|█▊                                   | 503/10357 [03:28<1:29:22,  1.84it/s]"
     ]
    },
    {
     "name": "stdout",
     "output_type": "stream",
     "text": [
      "[OK] 1128.txt → 1128_slots.csv and paths.geojson\n"
     ]
    },
    {
     "name": "stderr",
     "output_type": "stream",
     "text": [
      "  5%|█▊                                   | 504/10357 [03:29<1:42:09,  1.61it/s]"
     ]
    },
    {
     "name": "stdout",
     "output_type": "stream",
     "text": [
      "[OK] 1129.txt → 1129_slots.csv and paths.geojson\n"
     ]
    },
    {
     "name": "stderr",
     "output_type": "stream",
     "text": [
      "  5%|█▊                                   | 505/10357 [03:30<1:42:08,  1.61it/s]"
     ]
    },
    {
     "name": "stdout",
     "output_type": "stream",
     "text": [
      "[OK] 113.txt → 113_slots.csv and paths.geojson\n"
     ]
    },
    {
     "name": "stderr",
     "output_type": "stream",
     "text": [
      "  5%|█▊                                   | 506/10357 [03:30<1:23:12,  1.97it/s]"
     ]
    },
    {
     "name": "stdout",
     "output_type": "stream",
     "text": [
      "[OK] 1130.txt → 1130_slots.csv and paths.geojson\n"
     ]
    },
    {
     "name": "stderr",
     "output_type": "stream",
     "text": [
      "  5%|█▊                                   | 507/10357 [03:37<6:46:03,  2.47s/it]"
     ]
    },
    {
     "name": "stdout",
     "output_type": "stream",
     "text": [
      "[OK] 1131.txt → 1131_slots.csv and paths.geojson\n"
     ]
    },
    {
     "name": "stderr",
     "output_type": "stream",
     "text": [
      "  5%|█▊                                   | 508/10357 [03:38<5:27:30,  2.00s/it]"
     ]
    },
    {
     "name": "stdout",
     "output_type": "stream",
     "text": [
      "[OK] 1132.txt → 1132_slots.csv and paths.geojson\n"
     ]
    },
    {
     "name": "stderr",
     "output_type": "stream",
     "text": [
      "  5%|█▊                                   | 509/10357 [03:39<4:34:58,  1.68s/it]"
     ]
    },
    {
     "name": "stdout",
     "output_type": "stream",
     "text": [
      "[OK] 1133.txt → 1133_slots.csv and paths.geojson\n"
     ]
    },
    {
     "name": "stderr",
     "output_type": "stream",
     "text": [
      "  5%|█▊                                   | 510/10357 [03:39<3:24:32,  1.25s/it]"
     ]
    },
    {
     "name": "stdout",
     "output_type": "stream",
     "text": [
      "[OK] 1134.txt → 1134_slots.csv and paths.geojson\n"
     ]
    },
    {
     "name": "stderr",
     "output_type": "stream",
     "text": [
      "  5%|█▊                                   | 511/10357 [03:40<2:49:41,  1.03s/it]"
     ]
    },
    {
     "name": "stdout",
     "output_type": "stream",
     "text": [
      "[OK] 1135.txt → 1135_slots.csv and paths.geojson\n"
     ]
    },
    {
     "name": "stderr",
     "output_type": "stream",
     "text": [
      "  5%|█▊                                   | 512/10357 [03:40<2:17:25,  1.19it/s]"
     ]
    },
    {
     "name": "stdout",
     "output_type": "stream",
     "text": [
      "[OK] 1136.txt → 1136_slots.csv and paths.geojson\n"
     ]
    },
    {
     "name": "stderr",
     "output_type": "stream",
     "text": [
      "  5%|█▊                                   | 513/10357 [03:41<1:58:23,  1.39it/s]"
     ]
    },
    {
     "name": "stdout",
     "output_type": "stream",
     "text": [
      "[OK] 1137.txt → 1137_slots.csv and paths.geojson\n"
     ]
    },
    {
     "name": "stderr",
     "output_type": "stream",
     "text": [
      "  5%|█▊                                   | 514/10357 [03:41<1:33:31,  1.75it/s]"
     ]
    },
    {
     "name": "stdout",
     "output_type": "stream",
     "text": [
      "[OK] 1138.txt → 1138_slots.csv and paths.geojson\n"
     ]
    },
    {
     "name": "stderr",
     "output_type": "stream",
     "text": [
      "  5%|█▊                                   | 515/10357 [03:41<1:23:33,  1.96it/s]"
     ]
    },
    {
     "name": "stdout",
     "output_type": "stream",
     "text": [
      "[OK] 1139.txt → 1139_slots.csv and paths.geojson\n"
     ]
    },
    {
     "name": "stderr",
     "output_type": "stream",
     "text": [
      "  5%|█▊                                   | 516/10357 [03:42<1:19:16,  2.07it/s]"
     ]
    },
    {
     "name": "stdout",
     "output_type": "stream",
     "text": [
      "[OK] 114.txt → 114_slots.csv and paths.geojson\n"
     ]
    },
    {
     "name": "stderr",
     "output_type": "stream",
     "text": [
      "  5%|█▊                                   | 517/10357 [03:42<1:26:50,  1.89it/s]"
     ]
    },
    {
     "name": "stdout",
     "output_type": "stream",
     "text": [
      "[OK] 1140.txt → 1140_slots.csv and paths.geojson\n"
     ]
    },
    {
     "name": "stderr",
     "output_type": "stream",
     "text": [
      "  5%|█▊                                   | 518/10357 [03:43<1:48:48,  1.51it/s]"
     ]
    },
    {
     "name": "stdout",
     "output_type": "stream",
     "text": [
      "[OK] 1141.txt → 1141_slots.csv and paths.geojson\n"
     ]
    },
    {
     "name": "stderr",
     "output_type": "stream",
     "text": [
      "  5%|█▊                                   | 519/10357 [03:44<1:48:51,  1.51it/s]"
     ]
    },
    {
     "name": "stdout",
     "output_type": "stream",
     "text": [
      "[OK] 1142.txt → 1142_slots.csv and paths.geojson\n"
     ]
    },
    {
     "name": "stderr",
     "output_type": "stream",
     "text": [
      "  5%|█▊                                   | 520/10357 [03:44<1:40:31,  1.63it/s]"
     ]
    },
    {
     "name": "stdout",
     "output_type": "stream",
     "text": [
      "[OK] 1143.txt → 1143_slots.csv and paths.geojson\n"
     ]
    },
    {
     "name": "stderr",
     "output_type": "stream",
     "text": [
      "  5%|█▊                                   | 521/10357 [03:45<1:31:27,  1.79it/s]"
     ]
    },
    {
     "name": "stdout",
     "output_type": "stream",
     "text": [
      "[OK] 1144.txt → 1144_slots.csv and paths.geojson\n"
     ]
    },
    {
     "name": "stderr",
     "output_type": "stream",
     "text": [
      "  5%|█▊                                   | 522/10357 [03:45<1:30:39,  1.81it/s]"
     ]
    },
    {
     "name": "stdout",
     "output_type": "stream",
     "text": [
      "[OK] 1145.txt → 1145_slots.csv and paths.geojson\n"
     ]
    },
    {
     "name": "stderr",
     "output_type": "stream",
     "text": [
      "  5%|█▊                                   | 523/10357 [03:46<1:19:48,  2.05it/s]"
     ]
    },
    {
     "name": "stdout",
     "output_type": "stream",
     "text": [
      "[OK] 1146.txt → 1146_slots.csv and paths.geojson\n"
     ]
    },
    {
     "name": "stderr",
     "output_type": "stream",
     "text": [
      "  5%|█▊                                   | 524/10357 [03:46<1:21:57,  2.00it/s]"
     ]
    },
    {
     "name": "stdout",
     "output_type": "stream",
     "text": [
      "[OK] 1147.txt → 1147_slots.csv and paths.geojson\n"
     ]
    },
    {
     "name": "stderr",
     "output_type": "stream",
     "text": [
      "  5%|█▉                                   | 525/10357 [03:47<1:33:44,  1.75it/s]"
     ]
    },
    {
     "name": "stdout",
     "output_type": "stream",
     "text": [
      "[OK] 1148.txt → 1148_slots.csv and paths.geojson\n"
     ]
    },
    {
     "name": "stderr",
     "output_type": "stream",
     "text": [
      "  5%|█▉                                   | 526/10357 [03:47<1:16:23,  2.14it/s]"
     ]
    },
    {
     "name": "stdout",
     "output_type": "stream",
     "text": [
      "[OK] 1149.txt → 1149_slots.csv and paths.geojson\n"
     ]
    },
    {
     "name": "stderr",
     "output_type": "stream",
     "text": [
      "  5%|█▉                                   | 527/10357 [03:48<1:25:49,  1.91it/s]"
     ]
    },
    {
     "name": "stdout",
     "output_type": "stream",
     "text": [
      "[OK] 115.txt → 115_slots.csv and paths.geojson\n"
     ]
    },
    {
     "name": "stderr",
     "output_type": "stream",
     "text": [
      "  5%|█▉                                   | 528/10357 [03:48<1:28:03,  1.86it/s]"
     ]
    },
    {
     "name": "stdout",
     "output_type": "stream",
     "text": [
      "[OK] 1150.txt → 1150_slots.csv and paths.geojson\n"
     ]
    },
    {
     "name": "stderr",
     "output_type": "stream",
     "text": [
      "  5%|█▉                                   | 529/10357 [03:49<1:26:54,  1.88it/s]"
     ]
    },
    {
     "name": "stdout",
     "output_type": "stream",
     "text": [
      "[OK] 1151.txt → 1151_slots.csv and paths.geojson\n"
     ]
    },
    {
     "name": "stderr",
     "output_type": "stream",
     "text": [
      "  5%|█▉                                   | 530/10357 [03:49<1:13:01,  2.24it/s]"
     ]
    },
    {
     "name": "stdout",
     "output_type": "stream",
     "text": [
      "[OK] 1152.txt → 1152_slots.csv and paths.geojson\n"
     ]
    },
    {
     "name": "stderr",
     "output_type": "stream",
     "text": [
      "  5%|█▉                                   | 531/10357 [03:50<1:14:09,  2.21it/s]"
     ]
    },
    {
     "name": "stdout",
     "output_type": "stream",
     "text": [
      "[OK] 1153.txt → 1153_slots.csv and paths.geojson\n"
     ]
    },
    {
     "name": "stderr",
     "output_type": "stream",
     "text": [
      "  5%|█▉                                   | 532/10357 [03:50<1:07:45,  2.42it/s]"
     ]
    },
    {
     "name": "stdout",
     "output_type": "stream",
     "text": [
      "[OK] 1154.txt → 1154_slots.csv and paths.geojson\n"
     ]
    },
    {
     "name": "stderr",
     "output_type": "stream",
     "text": [
      "  5%|█▉                                   | 533/10357 [03:50<1:11:51,  2.28it/s]"
     ]
    },
    {
     "name": "stdout",
     "output_type": "stream",
     "text": [
      "[OK] 1155.txt → 1155_slots.csv and paths.geojson\n"
     ]
    },
    {
     "name": "stderr",
     "output_type": "stream",
     "text": [
      "  5%|█▉                                   | 534/10357 [03:51<1:12:45,  2.25it/s]"
     ]
    },
    {
     "name": "stdout",
     "output_type": "stream",
     "text": [
      "[OK] 1156.txt → 1156_slots.csv and paths.geojson\n"
     ]
    },
    {
     "name": "stderr",
     "output_type": "stream",
     "text": [
      "  5%|█▉                                   | 535/10357 [03:51<1:06:20,  2.47it/s]"
     ]
    },
    {
     "name": "stdout",
     "output_type": "stream",
     "text": [
      "[OK] 1157.txt → 1157_slots.csv and paths.geojson\n"
     ]
    },
    {
     "name": "stderr",
     "output_type": "stream",
     "text": [
      "  5%|█▉                                   | 536/10357 [03:52<1:24:07,  1.95it/s]"
     ]
    },
    {
     "name": "stdout",
     "output_type": "stream",
     "text": [
      "[OK] 1158.txt → 1158_slots.csv and paths.geojson\n"
     ]
    },
    {
     "name": "stderr",
     "output_type": "stream",
     "text": [
      "  5%|█▉                                   | 537/10357 [03:52<1:20:19,  2.04it/s]"
     ]
    },
    {
     "name": "stdout",
     "output_type": "stream",
     "text": [
      "[OK] 1159.txt → 1159_slots.csv and paths.geojson\n"
     ]
    },
    {
     "name": "stderr",
     "output_type": "stream",
     "text": [
      "  5%|█▉                                   | 538/10357 [03:53<1:27:20,  1.87it/s]"
     ]
    },
    {
     "name": "stdout",
     "output_type": "stream",
     "text": [
      "[OK] 116.txt → 116_slots.csv and paths.geojson\n"
     ]
    },
    {
     "name": "stderr",
     "output_type": "stream",
     "text": [
      "  5%|█▉                                   | 539/10357 [03:54<1:25:36,  1.91it/s]"
     ]
    },
    {
     "name": "stdout",
     "output_type": "stream",
     "text": [
      "[OK] 1160.txt → 1160_slots.csv and paths.geojson\n"
     ]
    },
    {
     "name": "stderr",
     "output_type": "stream",
     "text": [
      "  5%|█▉                                   | 540/10357 [03:54<1:27:34,  1.87it/s]"
     ]
    },
    {
     "name": "stdout",
     "output_type": "stream",
     "text": [
      "[OK] 1161.txt → 1161_slots.csv and paths.geojson\n"
     ]
    },
    {
     "name": "stderr",
     "output_type": "stream",
     "text": [
      "  5%|█▉                                   | 541/10357 [03:55<1:25:45,  1.91it/s]"
     ]
    },
    {
     "name": "stdout",
     "output_type": "stream",
     "text": [
      "[OK] 1162.txt → 1162_slots.csv and paths.geojson\n"
     ]
    },
    {
     "name": "stderr",
     "output_type": "stream",
     "text": [
      "  5%|█▉                                   | 542/10357 [03:55<1:39:51,  1.64it/s]"
     ]
    },
    {
     "name": "stdout",
     "output_type": "stream",
     "text": [
      "[OK] 1163.txt → 1163_slots.csv and paths.geojson\n"
     ]
    },
    {
     "name": "stderr",
     "output_type": "stream",
     "text": [
      "  5%|█▉                                   | 543/10357 [03:56<1:23:32,  1.96it/s]"
     ]
    },
    {
     "name": "stdout",
     "output_type": "stream",
     "text": [
      "[OK] 1164.txt → 1164_slots.csv and paths.geojson\n"
     ]
    },
    {
     "name": "stderr",
     "output_type": "stream",
     "text": [
      "  5%|█▉                                   | 544/10357 [03:56<1:12:19,  2.26it/s]"
     ]
    },
    {
     "name": "stdout",
     "output_type": "stream",
     "text": [
      "[OK] 1165.txt → 1165_slots.csv and paths.geojson\n"
     ]
    },
    {
     "name": "stderr",
     "output_type": "stream",
     "text": [
      "  5%|█▉                                   | 545/10357 [03:57<1:41:51,  1.61it/s]"
     ]
    },
    {
     "name": "stdout",
     "output_type": "stream",
     "text": [
      "[OK] 1166.txt → 1166_slots.csv and paths.geojson\n"
     ]
    },
    {
     "name": "stderr",
     "output_type": "stream",
     "text": [
      "  5%|█▉                                   | 546/10357 [03:58<1:40:13,  1.63it/s]"
     ]
    },
    {
     "name": "stdout",
     "output_type": "stream",
     "text": [
      "[OK] 1167.txt → 1167_slots.csv and paths.geojson\n"
     ]
    },
    {
     "name": "stderr",
     "output_type": "stream",
     "text": [
      "  5%|█▉                                   | 547/10357 [03:58<1:28:09,  1.85it/s]"
     ]
    },
    {
     "name": "stdout",
     "output_type": "stream",
     "text": [
      "[OK] 1168.txt → 1168_slots.csv and paths.geojson\n"
     ]
    },
    {
     "name": "stderr",
     "output_type": "stream",
     "text": [
      "  5%|█▉                                   | 548/10357 [04:00<2:21:59,  1.15it/s]"
     ]
    },
    {
     "name": "stdout",
     "output_type": "stream",
     "text": [
      "[OK] 1169.txt → 1169_slots.csv and paths.geojson\n"
     ]
    },
    {
     "name": "stderr",
     "output_type": "stream",
     "text": [
      "  5%|█▉                                   | 549/10357 [04:00<1:53:20,  1.44it/s]"
     ]
    },
    {
     "name": "stdout",
     "output_type": "stream",
     "text": [
      "[OK] 117.txt → 117_slots.csv and paths.geojson\n"
     ]
    },
    {
     "name": "stderr",
     "output_type": "stream",
     "text": [
      "  5%|█▉                                   | 550/10357 [04:00<1:40:47,  1.62it/s]"
     ]
    },
    {
     "name": "stdout",
     "output_type": "stream",
     "text": [
      "[OK] 1170.txt → 1170_slots.csv and paths.geojson\n"
     ]
    },
    {
     "name": "stderr",
     "output_type": "stream",
     "text": [
      "  5%|█▉                                   | 551/10357 [04:03<3:12:36,  1.18s/it]"
     ]
    },
    {
     "name": "stdout",
     "output_type": "stream",
     "text": [
      "[OK] 1171.txt → 1171_slots.csv and paths.geojson\n"
     ]
    },
    {
     "name": "stderr",
     "output_type": "stream",
     "text": [
      "  5%|█▉                                   | 552/10357 [04:04<3:30:14,  1.29s/it]"
     ]
    },
    {
     "name": "stdout",
     "output_type": "stream",
     "text": [
      "[OK] 1172.txt → 1172_slots.csv and paths.geojson\n"
     ]
    },
    {
     "name": "stderr",
     "output_type": "stream",
     "text": [
      "  5%|█▉                                   | 553/10357 [04:05<3:16:59,  1.21s/it]"
     ]
    },
    {
     "name": "stdout",
     "output_type": "stream",
     "text": [
      "[OK] 1173.txt → 1173_slots.csv and paths.geojson\n",
      "[OK] 1174.txt → 1174_slots.csv\n"
     ]
    },
    {
     "name": "stderr",
     "output_type": "stream",
     "text": [
      "  5%|█▉                                   | 555/10357 [04:06<2:04:56,  1.31it/s]"
     ]
    },
    {
     "name": "stdout",
     "output_type": "stream",
     "text": [
      "[OK] 1175.txt → 1175_slots.csv and paths.geojson\n"
     ]
    },
    {
     "name": "stderr",
     "output_type": "stream",
     "text": [
      "  5%|█▉                                   | 557/10357 [04:08<2:26:38,  1.11it/s]"
     ]
    },
    {
     "name": "stdout",
     "output_type": "stream",
     "text": [
      "[OK] 1176.txt → 1176_slots.csv and paths.geojson\n",
      "[OK] 1177.txt → 1177_slots.csv and paths.geojson\n"
     ]
    },
    {
     "name": "stderr",
     "output_type": "stream",
     "text": [
      "  5%|█▉                                   | 558/10357 [04:09<2:02:05,  1.34it/s]"
     ]
    },
    {
     "name": "stdout",
     "output_type": "stream",
     "text": [
      "[OK] 1178.txt → 1178_slots.csv and paths.geojson\n"
     ]
    },
    {
     "name": "stderr",
     "output_type": "stream",
     "text": [
      "  5%|█▉                                   | 559/10357 [04:09<1:53:25,  1.44it/s]"
     ]
    },
    {
     "name": "stdout",
     "output_type": "stream",
     "text": [
      "[OK] 1179.txt → 1179_slots.csv and paths.geojson\n"
     ]
    },
    {
     "name": "stderr",
     "output_type": "stream",
     "text": [
      "  5%|██                                   | 560/10357 [04:10<1:56:30,  1.40it/s]"
     ]
    },
    {
     "name": "stdout",
     "output_type": "stream",
     "text": [
      "[OK] 118.txt → 118_slots.csv and paths.geojson\n"
     ]
    },
    {
     "name": "stderr",
     "output_type": "stream",
     "text": [
      "  5%|██                                   | 561/10357 [04:11<1:51:38,  1.46it/s]"
     ]
    },
    {
     "name": "stdout",
     "output_type": "stream",
     "text": [
      "[OK] 1180.txt → 1180_slots.csv and paths.geojson\n"
     ]
    },
    {
     "name": "stderr",
     "output_type": "stream",
     "text": [
      "  5%|██                                   | 562/10357 [04:11<1:32:11,  1.77it/s]"
     ]
    },
    {
     "name": "stdout",
     "output_type": "stream",
     "text": [
      "[OK] 1181.txt → 1181_slots.csv and paths.geojson\n"
     ]
    },
    {
     "name": "stderr",
     "output_type": "stream",
     "text": [
      "  5%|██                                   | 563/10357 [04:12<1:42:42,  1.59it/s]"
     ]
    },
    {
     "name": "stdout",
     "output_type": "stream",
     "text": [
      "[OK] 1182.txt → 1182_slots.csv and paths.geojson\n",
      "[OK] 1183.txt → 1183_slots.csv\n"
     ]
    },
    {
     "name": "stderr",
     "output_type": "stream",
     "text": [
      "  5%|██                                   | 565/10357 [04:12<1:14:41,  2.18it/s]"
     ]
    },
    {
     "name": "stdout",
     "output_type": "stream",
     "text": [
      "[OK] 1184.txt → 1184_slots.csv and paths.geojson\n"
     ]
    },
    {
     "name": "stderr",
     "output_type": "stream",
     "text": [
      "  5%|██                                   | 566/10357 [04:13<1:21:48,  1.99it/s]"
     ]
    },
    {
     "name": "stdout",
     "output_type": "stream",
     "text": [
      "[OK] 1185.txt → 1185_slots.csv and paths.geojson\n"
     ]
    },
    {
     "name": "stderr",
     "output_type": "stream",
     "text": [
      "  5%|██                                   | 567/10357 [04:13<1:11:06,  2.29it/s]"
     ]
    },
    {
     "name": "stdout",
     "output_type": "stream",
     "text": [
      "[OK] 1186.txt → 1186_slots.csv and paths.geojson\n"
     ]
    },
    {
     "name": "stderr",
     "output_type": "stream",
     "text": [
      "  5%|██                                   | 568/10357 [04:14<1:11:08,  2.29it/s]"
     ]
    },
    {
     "name": "stdout",
     "output_type": "stream",
     "text": [
      "[OK] 1187.txt → 1187_slots.csv and paths.geojson\n"
     ]
    },
    {
     "name": "stderr",
     "output_type": "stream",
     "text": [
      "  5%|██                                   | 569/10357 [04:14<1:04:54,  2.51it/s]"
     ]
    },
    {
     "name": "stdout",
     "output_type": "stream",
     "text": [
      "[OK] 1188.txt → 1188_slots.csv and paths.geojson\n",
      "[OK] 1189.txt → 1189_slots.csv\n",
      "[OK] 119.txt → 119_slots.csv\n",
      "[OK] 1190.txt → 1190_slots.csv\n"
     ]
    },
    {
     "name": "stderr",
     "output_type": "stream",
     "text": [
      "  6%|██▏                                    | 573/10357 [04:15<45:24,  3.59it/s]"
     ]
    },
    {
     "name": "stdout",
     "output_type": "stream",
     "text": [
      "[OK] 1191.txt → 1191_slots.csv and paths.geojson\n"
     ]
    },
    {
     "name": "stderr",
     "output_type": "stream",
     "text": [
      "  6%|██▏                                    | 574/10357 [04:15<45:36,  3.58it/s]"
     ]
    },
    {
     "name": "stdout",
     "output_type": "stream",
     "text": [
      "[OK] 1192.txt → 1192_slots.csv and paths.geojson\n"
     ]
    },
    {
     "name": "stderr",
     "output_type": "stream",
     "text": [
      "  6%|██▏                                    | 575/10357 [04:15<50:42,  3.21it/s]"
     ]
    },
    {
     "name": "stdout",
     "output_type": "stream",
     "text": [
      "[OK] 1193.txt → 1193_slots.csv and paths.geojson\n"
     ]
    },
    {
     "name": "stderr",
     "output_type": "stream",
     "text": [
      "  6%|██                                   | 576/10357 [04:16<1:00:53,  2.68it/s]"
     ]
    },
    {
     "name": "stdout",
     "output_type": "stream",
     "text": [
      "[OK] 1194.txt → 1194_slots.csv and paths.geojson\n"
     ]
    },
    {
     "name": "stderr",
     "output_type": "stream",
     "text": [
      "  6%|██▏                                    | 577/10357 [04:16<56:12,  2.90it/s]"
     ]
    },
    {
     "name": "stdout",
     "output_type": "stream",
     "text": [
      "[OK] 1195.txt → 1195_slots.csv and paths.geojson\n"
     ]
    },
    {
     "name": "stderr",
     "output_type": "stream",
     "text": [
      "  6%|██                                   | 578/10357 [04:17<1:09:17,  2.35it/s]"
     ]
    },
    {
     "name": "stdout",
     "output_type": "stream",
     "text": [
      "[OK] 1196.txt → 1196_slots.csv and paths.geojson\n"
     ]
    },
    {
     "name": "stderr",
     "output_type": "stream",
     "text": [
      "  6%|██                                   | 579/10357 [04:17<1:02:28,  2.61it/s]"
     ]
    },
    {
     "name": "stdout",
     "output_type": "stream",
     "text": [
      "[OK] 1197.txt → 1197_slots.csv and paths.geojson\n"
     ]
    },
    {
     "name": "stderr",
     "output_type": "stream",
     "text": [
      "  6%|██                                   | 580/10357 [04:18<1:05:14,  2.50it/s]"
     ]
    },
    {
     "name": "stdout",
     "output_type": "stream",
     "text": [
      "[OK] 1198.txt → 1198_slots.csv and paths.geojson\n"
     ]
    },
    {
     "name": "stderr",
     "output_type": "stream",
     "text": [
      "  6%|██                                   | 581/10357 [04:19<1:28:27,  1.84it/s]"
     ]
    },
    {
     "name": "stdout",
     "output_type": "stream",
     "text": [
      "[OK] 1199.txt → 1199_slots.csv and paths.geojson\n"
     ]
    },
    {
     "name": "stderr",
     "output_type": "stream",
     "text": [
      "  6%|██                                   | 582/10357 [04:19<1:23:02,  1.96it/s]"
     ]
    },
    {
     "name": "stdout",
     "output_type": "stream",
     "text": [
      "[OK] 12.txt → 12_slots.csv and paths.geojson\n"
     ]
    },
    {
     "name": "stderr",
     "output_type": "stream",
     "text": [
      "  6%|██                                   | 583/10357 [04:20<1:36:53,  1.68it/s]"
     ]
    },
    {
     "name": "stdout",
     "output_type": "stream",
     "text": [
      "[OK] 120.txt → 120_slots.csv and paths.geojson\n"
     ]
    },
    {
     "name": "stderr",
     "output_type": "stream",
     "text": [
      "  6%|██                                   | 584/10357 [04:25<4:55:37,  1.81s/it]"
     ]
    },
    {
     "name": "stdout",
     "output_type": "stream",
     "text": [
      "[OK] 1200.txt → 1200_slots.csv and paths.geojson\n"
     ]
    },
    {
     "name": "stderr",
     "output_type": "stream",
     "text": [
      "  6%|██                                   | 585/10357 [04:25<3:45:55,  1.39s/it]"
     ]
    },
    {
     "name": "stdout",
     "output_type": "stream",
     "text": [
      "[OK] 1201.txt → 1201_slots.csv and paths.geojson\n"
     ]
    },
    {
     "name": "stderr",
     "output_type": "stream",
     "text": [
      "  6%|██                                   | 586/10357 [04:26<3:09:31,  1.16s/it]"
     ]
    },
    {
     "name": "stdout",
     "output_type": "stream",
     "text": [
      "[OK] 1202.txt → 1202_slots.csv and paths.geojson\n"
     ]
    },
    {
     "name": "stderr",
     "output_type": "stream",
     "text": [
      "  6%|██                                   | 587/10357 [04:26<2:58:12,  1.09s/it]"
     ]
    },
    {
     "name": "stdout",
     "output_type": "stream",
     "text": [
      "[OK] 1203.txt → 1203_slots.csv and paths.geojson\n"
     ]
    },
    {
     "name": "stderr",
     "output_type": "stream",
     "text": [
      "  6%|██                                   | 588/10357 [04:27<2:22:51,  1.14it/s]"
     ]
    },
    {
     "name": "stdout",
     "output_type": "stream",
     "text": [
      "[OK] 1204.txt → 1204_slots.csv and paths.geojson\n"
     ]
    },
    {
     "name": "stderr",
     "output_type": "stream",
     "text": [
      "  6%|██                                   | 590/10357 [04:28<2:08:02,  1.27it/s]"
     ]
    },
    {
     "name": "stdout",
     "output_type": "stream",
     "text": [
      "[OK] 1205.txt → 1205_slots.csv and paths.geojson\n",
      "[OK] 1206.txt → 1206_slots.csv and paths.geojson\n"
     ]
    },
    {
     "name": "stderr",
     "output_type": "stream",
     "text": [
      "  6%|██                                   | 591/10357 [04:29<1:48:18,  1.50it/s]"
     ]
    },
    {
     "name": "stdout",
     "output_type": "stream",
     "text": [
      "[OK] 1207.txt → 1207_slots.csv and paths.geojson\n"
     ]
    },
    {
     "name": "stderr",
     "output_type": "stream",
     "text": [
      "  6%|██                                   | 592/10357 [04:29<1:46:22,  1.53it/s]"
     ]
    },
    {
     "name": "stdout",
     "output_type": "stream",
     "text": [
      "[OK] 1208.txt → 1208_slots.csv and paths.geojson\n"
     ]
    },
    {
     "name": "stderr",
     "output_type": "stream",
     "text": [
      "  6%|██                                   | 593/10357 [04:30<1:35:11,  1.71it/s]"
     ]
    },
    {
     "name": "stdout",
     "output_type": "stream",
     "text": [
      "[OK] 1209.txt → 1209_slots.csv and paths.geojson\n"
     ]
    },
    {
     "name": "stderr",
     "output_type": "stream",
     "text": [
      "  6%|██                                   | 594/10357 [04:30<1:31:24,  1.78it/s]"
     ]
    },
    {
     "name": "stdout",
     "output_type": "stream",
     "text": [
      "[OK] 121.txt → 121_slots.csv and paths.geojson\n"
     ]
    },
    {
     "name": "stderr",
     "output_type": "stream",
     "text": [
      "  6%|██▏                                  | 595/10357 [04:31<1:40:02,  1.63it/s]"
     ]
    },
    {
     "name": "stdout",
     "output_type": "stream",
     "text": [
      "[OK] 1210.txt → 1210_slots.csv and paths.geojson\n"
     ]
    },
    {
     "name": "stderr",
     "output_type": "stream",
     "text": [
      "  6%|██▏                                  | 596/10357 [04:32<1:47:43,  1.51it/s]"
     ]
    },
    {
     "name": "stdout",
     "output_type": "stream",
     "text": [
      "[OK] 1211.txt → 1211_slots.csv and paths.geojson\n"
     ]
    },
    {
     "name": "stderr",
     "output_type": "stream",
     "text": [
      "  6%|██▏                                  | 597/10357 [04:33<1:56:36,  1.39it/s]"
     ]
    },
    {
     "name": "stdout",
     "output_type": "stream",
     "text": [
      "[OK] 1212.txt → 1212_slots.csv and paths.geojson\n"
     ]
    },
    {
     "name": "stderr",
     "output_type": "stream",
     "text": [
      "  6%|██▏                                  | 598/10357 [04:33<1:45:59,  1.53it/s]"
     ]
    },
    {
     "name": "stdout",
     "output_type": "stream",
     "text": [
      "[OK] 1213.txt → 1213_slots.csv and paths.geojson\n"
     ]
    },
    {
     "name": "stderr",
     "output_type": "stream",
     "text": [
      "  6%|██▏                                  | 599/10357 [04:34<1:44:12,  1.56it/s]"
     ]
    },
    {
     "name": "stdout",
     "output_type": "stream",
     "text": [
      "[OK] 1214.txt → 1214_slots.csv and paths.geojson\n"
     ]
    },
    {
     "name": "stderr",
     "output_type": "stream",
     "text": [
      "  6%|██▏                                  | 600/10357 [04:34<1:40:06,  1.62it/s]"
     ]
    },
    {
     "name": "stdout",
     "output_type": "stream",
     "text": [
      "[OK] 1215.txt → 1215_slots.csv and paths.geojson\n"
     ]
    },
    {
     "name": "stderr",
     "output_type": "stream",
     "text": [
      "  6%|██▏                                  | 601/10357 [04:35<1:29:11,  1.82it/s]"
     ]
    },
    {
     "name": "stdout",
     "output_type": "stream",
     "text": [
      "[OK] 1216.txt → 1216_slots.csv and paths.geojson\n"
     ]
    },
    {
     "name": "stderr",
     "output_type": "stream",
     "text": [
      "  6%|██▏                                  | 602/10357 [04:35<1:32:12,  1.76it/s]"
     ]
    },
    {
     "name": "stdout",
     "output_type": "stream",
     "text": [
      "[OK] 1217.txt → 1217_slots.csv and paths.geojson\n"
     ]
    },
    {
     "name": "stderr",
     "output_type": "stream",
     "text": [
      "  6%|██▏                                  | 603/10357 [04:36<1:24:28,  1.92it/s]"
     ]
    },
    {
     "name": "stdout",
     "output_type": "stream",
     "text": [
      "[OK] 1218.txt → 1218_slots.csv and paths.geojson\n"
     ]
    },
    {
     "name": "stderr",
     "output_type": "stream",
     "text": [
      "  6%|██▏                                  | 604/10357 [04:36<1:17:06,  2.11it/s]"
     ]
    },
    {
     "name": "stdout",
     "output_type": "stream",
     "text": [
      "[OK] 1219.txt → 1219_slots.csv and paths.geojson\n"
     ]
    },
    {
     "name": "stderr",
     "output_type": "stream",
     "text": [
      "  6%|██▏                                  | 605/10357 [04:37<1:35:07,  1.71it/s]"
     ]
    },
    {
     "name": "stdout",
     "output_type": "stream",
     "text": [
      "[OK] 122.txt → 122_slots.csv and paths.geojson\n"
     ]
    },
    {
     "name": "stderr",
     "output_type": "stream",
     "text": [
      "  6%|██▏                                  | 606/10357 [04:38<1:32:03,  1.77it/s]"
     ]
    },
    {
     "name": "stdout",
     "output_type": "stream",
     "text": [
      "[OK] 1220.txt → 1220_slots.csv and paths.geojson\n"
     ]
    },
    {
     "name": "stderr",
     "output_type": "stream",
     "text": [
      "  6%|██▏                                  | 607/10357 [04:38<1:14:37,  2.18it/s]"
     ]
    },
    {
     "name": "stdout",
     "output_type": "stream",
     "text": [
      "[OK] 1221.txt → 1221_slots.csv and paths.geojson\n"
     ]
    },
    {
     "name": "stderr",
     "output_type": "stream",
     "text": [
      "  6%|██▏                                  | 608/10357 [04:38<1:13:15,  2.22it/s]"
     ]
    },
    {
     "name": "stdout",
     "output_type": "stream",
     "text": [
      "[OK] 1222.txt → 1222_slots.csv and paths.geojson\n"
     ]
    },
    {
     "name": "stderr",
     "output_type": "stream",
     "text": [
      "  6%|██▏                                  | 609/10357 [04:39<1:12:03,  2.25it/s]"
     ]
    },
    {
     "name": "stdout",
     "output_type": "stream",
     "text": [
      "[OK] 1223.txt → 1223_slots.csv and paths.geojson\n"
     ]
    },
    {
     "name": "stderr",
     "output_type": "stream",
     "text": [
      "  6%|██▏                                  | 610/10357 [04:39<1:06:32,  2.44it/s]"
     ]
    },
    {
     "name": "stdout",
     "output_type": "stream",
     "text": [
      "[OK] 1224.txt → 1224_slots.csv and paths.geojson\n"
     ]
    },
    {
     "name": "stderr",
     "output_type": "stream",
     "text": [
      "  6%|██▎                                    | 611/10357 [04:39<57:27,  2.83it/s]"
     ]
    },
    {
     "name": "stdout",
     "output_type": "stream",
     "text": [
      "[OK] 1225.txt → 1225_slots.csv and paths.geojson\n"
     ]
    },
    {
     "name": "stderr",
     "output_type": "stream",
     "text": [
      "  6%|██▏                                  | 612/10357 [04:40<1:06:21,  2.45it/s]"
     ]
    },
    {
     "name": "stdout",
     "output_type": "stream",
     "text": [
      "[OK] 1226.txt → 1226_slots.csv and paths.geojson\n"
     ]
    },
    {
     "name": "stderr",
     "output_type": "stream",
     "text": [
      "  6%|██▏                                  | 613/10357 [04:40<1:11:37,  2.27it/s]"
     ]
    },
    {
     "name": "stdout",
     "output_type": "stream",
     "text": [
      "[OK] 1227.txt → 1227_slots.csv and paths.geojson\n"
     ]
    },
    {
     "name": "stderr",
     "output_type": "stream",
     "text": [
      "  6%|██▏                                  | 614/10357 [04:41<1:47:10,  1.52it/s]"
     ]
    },
    {
     "name": "stdout",
     "output_type": "stream",
     "text": [
      "[OK] 1228.txt → 1228_slots.csv and paths.geojson\n"
     ]
    },
    {
     "name": "stderr",
     "output_type": "stream",
     "text": [
      "  6%|██▏                                  | 615/10357 [04:42<1:40:36,  1.61it/s]"
     ]
    },
    {
     "name": "stdout",
     "output_type": "stream",
     "text": [
      "[OK] 1229.txt → 1229_slots.csv and paths.geojson\n"
     ]
    },
    {
     "name": "stderr",
     "output_type": "stream",
     "text": [
      "  6%|██▏                                  | 617/10357 [04:42<1:09:19,  2.34it/s]"
     ]
    },
    {
     "name": "stdout",
     "output_type": "stream",
     "text": [
      "[OK] 123.txt → 123_slots.csv and paths.geojson\n",
      "[OK] 1230.txt → 1230_slots.csv and paths.geojson\n"
     ]
    },
    {
     "name": "stderr",
     "output_type": "stream",
     "text": [
      "  6%|██▏                                  | 618/10357 [04:43<1:07:40,  2.40it/s]"
     ]
    },
    {
     "name": "stdout",
     "output_type": "stream",
     "text": [
      "[OK] 1231.txt → 1231_slots.csv and paths.geojson\n"
     ]
    },
    {
     "name": "stderr",
     "output_type": "stream",
     "text": [
      "  6%|██▏                                  | 619/10357 [04:43<1:02:07,  2.61it/s]"
     ]
    },
    {
     "name": "stdout",
     "output_type": "stream",
     "text": [
      "[OK] 1232.txt → 1232_slots.csv and paths.geojson\n"
     ]
    },
    {
     "name": "stderr",
     "output_type": "stream",
     "text": [
      "  6%|██▏                                  | 620/10357 [04:44<1:00:07,  2.70it/s]"
     ]
    },
    {
     "name": "stdout",
     "output_type": "stream",
     "text": [
      "[OK] 1233.txt → 1233_slots.csv and paths.geojson\n"
     ]
    },
    {
     "name": "stderr",
     "output_type": "stream",
     "text": [
      "  6%|██▏                                  | 621/10357 [04:44<1:06:43,  2.43it/s]"
     ]
    },
    {
     "name": "stdout",
     "output_type": "stream",
     "text": [
      "[OK] 1234.txt → 1234_slots.csv and paths.geojson\n"
     ]
    },
    {
     "name": "stderr",
     "output_type": "stream",
     "text": [
      "  6%|██▏                                  | 622/10357 [04:45<1:16:22,  2.12it/s]"
     ]
    },
    {
     "name": "stdout",
     "output_type": "stream",
     "text": [
      "[OK] 1235.txt → 1235_slots.csv and paths.geojson\n"
     ]
    },
    {
     "name": "stderr",
     "output_type": "stream",
     "text": [
      "  6%|██▏                                  | 623/10357 [04:45<1:21:25,  1.99it/s]"
     ]
    },
    {
     "name": "stdout",
     "output_type": "stream",
     "text": [
      "[OK] 1236.txt → 1236_slots.csv and paths.geojson\n"
     ]
    },
    {
     "name": "stderr",
     "output_type": "stream",
     "text": [
      "  6%|██▏                                  | 624/10357 [04:45<1:07:48,  2.39it/s]"
     ]
    },
    {
     "name": "stdout",
     "output_type": "stream",
     "text": [
      "[OK] 1237.txt → 1237_slots.csv and paths.geojson\n"
     ]
    },
    {
     "name": "stderr",
     "output_type": "stream",
     "text": [
      "  6%|██▏                                  | 625/10357 [04:46<1:20:28,  2.02it/s]"
     ]
    },
    {
     "name": "stdout",
     "output_type": "stream",
     "text": [
      "[OK] 1238.txt → 1238_slots.csv and paths.geojson\n"
     ]
    },
    {
     "name": "stderr",
     "output_type": "stream",
     "text": [
      "  6%|██▏                                  | 626/10357 [04:47<1:44:52,  1.55it/s]"
     ]
    },
    {
     "name": "stdout",
     "output_type": "stream",
     "text": [
      "[OK] 1239.txt → 1239_slots.csv and paths.geojson\n"
     ]
    },
    {
     "name": "stderr",
     "output_type": "stream",
     "text": [
      "  6%|██▏                                  | 627/10357 [04:48<1:44:12,  1.56it/s]"
     ]
    },
    {
     "name": "stdout",
     "output_type": "stream",
     "text": [
      "[OK] 124.txt → 124_slots.csv and paths.geojson\n"
     ]
    },
    {
     "name": "stderr",
     "output_type": "stream",
     "text": [
      "  6%|██▏                                  | 628/10357 [04:49<1:52:50,  1.44it/s]"
     ]
    },
    {
     "name": "stdout",
     "output_type": "stream",
     "text": [
      "[OK] 1240.txt → 1240_slots.csv and paths.geojson\n"
     ]
    },
    {
     "name": "stderr",
     "output_type": "stream",
     "text": [
      "  6%|██▏                                  | 629/10357 [04:49<1:39:16,  1.63it/s]"
     ]
    },
    {
     "name": "stdout",
     "output_type": "stream",
     "text": [
      "[OK] 1241.txt → 1241_slots.csv and paths.geojson\n"
     ]
    },
    {
     "name": "stderr",
     "output_type": "stream",
     "text": [
      "  6%|██▎                                  | 630/10357 [04:50<1:37:37,  1.66it/s]"
     ]
    },
    {
     "name": "stdout",
     "output_type": "stream",
     "text": [
      "[OK] 1242.txt → 1242_slots.csv and paths.geojson\n"
     ]
    },
    {
     "name": "stderr",
     "output_type": "stream",
     "text": [
      "  6%|██▎                                  | 631/10357 [04:50<1:24:16,  1.92it/s]"
     ]
    },
    {
     "name": "stdout",
     "output_type": "stream",
     "text": [
      "[OK] 1243.txt → 1243_slots.csv and paths.geojson\n"
     ]
    },
    {
     "name": "stderr",
     "output_type": "stream",
     "text": [
      "  6%|██▎                                  | 633/10357 [04:51<1:05:38,  2.47it/s]"
     ]
    },
    {
     "name": "stdout",
     "output_type": "stream",
     "text": [
      "[OK] 1244.txt → 1244_slots.csv and paths.geojson\n",
      "[OK] 1245.txt → 1245_slots.csv and paths.geojson\n"
     ]
    },
    {
     "name": "stderr",
     "output_type": "stream",
     "text": [
      "  6%|██▍                                    | 634/10357 [04:51<59:54,  2.70it/s]"
     ]
    },
    {
     "name": "stdout",
     "output_type": "stream",
     "text": [
      "[OK] 1246.txt → 1246_slots.csv and paths.geojson\n"
     ]
    },
    {
     "name": "stderr",
     "output_type": "stream",
     "text": [
      "  6%|██▍                                    | 635/10357 [04:51<52:55,  3.06it/s]"
     ]
    },
    {
     "name": "stdout",
     "output_type": "stream",
     "text": [
      "[OK] 1247.txt → 1247_slots.csv and paths.geojson\n"
     ]
    },
    {
     "name": "stderr",
     "output_type": "stream",
     "text": [
      "  6%|██▎                                  | 636/10357 [04:52<1:12:09,  2.25it/s]"
     ]
    },
    {
     "name": "stdout",
     "output_type": "stream",
     "text": [
      "[OK] 1248.txt → 1248_slots.csv and paths.geojson\n"
     ]
    },
    {
     "name": "stderr",
     "output_type": "stream",
     "text": [
      "  6%|██▎                                  | 637/10357 [04:52<1:08:59,  2.35it/s]"
     ]
    },
    {
     "name": "stdout",
     "output_type": "stream",
     "text": [
      "[OK] 1249.txt → 1249_slots.csv and paths.geojson\n"
     ]
    },
    {
     "name": "stderr",
     "output_type": "stream",
     "text": [
      "  6%|██▎                                  | 638/10357 [04:52<1:05:29,  2.47it/s]"
     ]
    },
    {
     "name": "stdout",
     "output_type": "stream",
     "text": [
      "[OK] 125.txt → 125_slots.csv and paths.geojson\n"
     ]
    },
    {
     "name": "stderr",
     "output_type": "stream",
     "text": [
      "  6%|██▎                                  | 639/10357 [04:53<1:10:11,  2.31it/s]"
     ]
    },
    {
     "name": "stdout",
     "output_type": "stream",
     "text": [
      "[OK] 1250.txt → 1250_slots.csv and paths.geojson\n"
     ]
    },
    {
     "name": "stderr",
     "output_type": "stream",
     "text": [
      "  6%|██▎                                  | 640/10357 [04:53<1:01:15,  2.64it/s]"
     ]
    },
    {
     "name": "stdout",
     "output_type": "stream",
     "text": [
      "[OK] 1251.txt → 1251_slots.csv and paths.geojson\n"
     ]
    },
    {
     "name": "stderr",
     "output_type": "stream",
     "text": [
      "  6%|██▎                                  | 641/10357 [04:54<1:03:29,  2.55it/s]"
     ]
    },
    {
     "name": "stdout",
     "output_type": "stream",
     "text": [
      "[OK] 1252.txt → 1252_slots.csv and paths.geojson\n"
     ]
    },
    {
     "name": "stderr",
     "output_type": "stream",
     "text": [
      "  6%|██▎                                  | 642/10357 [04:54<1:20:20,  2.02it/s]"
     ]
    },
    {
     "name": "stdout",
     "output_type": "stream",
     "text": [
      "[OK] 1253.txt → 1253_slots.csv and paths.geojson\n"
     ]
    },
    {
     "name": "stderr",
     "output_type": "stream",
     "text": [
      "  6%|██▎                                  | 643/10357 [04:55<1:17:19,  2.09it/s]"
     ]
    },
    {
     "name": "stdout",
     "output_type": "stream",
     "text": [
      "[OK] 1254.txt → 1254_slots.csv and paths.geojson\n"
     ]
    },
    {
     "name": "stderr",
     "output_type": "stream",
     "text": [
      "  6%|██▎                                  | 644/10357 [04:55<1:13:02,  2.22it/s]"
     ]
    },
    {
     "name": "stdout",
     "output_type": "stream",
     "text": [
      "[OK] 1255.txt → 1255_slots.csv and paths.geojson\n"
     ]
    },
    {
     "name": "stderr",
     "output_type": "stream",
     "text": [
      "  6%|██▎                                  | 645/10357 [04:55<1:04:27,  2.51it/s]"
     ]
    },
    {
     "name": "stdout",
     "output_type": "stream",
     "text": [
      "[OK] 1256.txt → 1256_slots.csv and paths.geojson\n"
     ]
    },
    {
     "name": "stderr",
     "output_type": "stream",
     "text": [
      "  6%|██▎                                  | 646/10357 [04:56<1:31:49,  1.76it/s]"
     ]
    },
    {
     "name": "stdout",
     "output_type": "stream",
     "text": [
      "[OK] 1257.txt → 1257_slots.csv and paths.geojson\n"
     ]
    },
    {
     "name": "stderr",
     "output_type": "stream",
     "text": [
      "  6%|██▎                                  | 647/10357 [04:57<1:46:56,  1.51it/s]"
     ]
    },
    {
     "name": "stdout",
     "output_type": "stream",
     "text": [
      "[OK] 1258.txt → 1258_slots.csv and paths.geojson\n"
     ]
    },
    {
     "name": "stderr",
     "output_type": "stream",
     "text": [
      "  6%|██▎                                  | 648/10357 [04:58<1:52:19,  1.44it/s]"
     ]
    },
    {
     "name": "stdout",
     "output_type": "stream",
     "text": [
      "[OK] 1259.txt → 1259_slots.csv and paths.geojson\n"
     ]
    },
    {
     "name": "stderr",
     "output_type": "stream",
     "text": [
      "  6%|██▍                                    | 651/10357 [04:59<57:20,  2.82it/s]"
     ]
    },
    {
     "name": "stdout",
     "output_type": "stream",
     "text": [
      "[OK] 126.txt → 126_slots.csv and paths.geojson\n",
      "[OK] 1260.txt → 1260_slots.csv and paths.geojson\n",
      "[OK] 1261.txt → 1261_slots.csv\n",
      "[OK] 1262.txt → 1262_slots.csv\n"
     ]
    },
    {
     "name": "stderr",
     "output_type": "stream",
     "text": [
      "  6%|██▍                                    | 653/10357 [04:59<42:17,  3.82it/s]"
     ]
    },
    {
     "name": "stdout",
     "output_type": "stream",
     "text": [
      "[OK] 1263.txt → 1263_slots.csv and paths.geojson\n"
     ]
    },
    {
     "name": "stderr",
     "output_type": "stream",
     "text": [
      "  6%|██▍                                    | 654/10357 [04:59<47:43,  3.39it/s]"
     ]
    },
    {
     "name": "stdout",
     "output_type": "stream",
     "text": [
      "[OK] 1264.txt → 1264_slots.csv and paths.geojson\n"
     ]
    },
    {
     "name": "stderr",
     "output_type": "stream",
     "text": [
      "  6%|██▍                                    | 655/10357 [05:00<51:17,  3.15it/s]"
     ]
    },
    {
     "name": "stdout",
     "output_type": "stream",
     "text": [
      "[OK] 1265.txt → 1265_slots.csv and paths.geojson\n"
     ]
    },
    {
     "name": "stderr",
     "output_type": "stream",
     "text": [
      "  6%|██▍                                    | 656/10357 [05:00<49:36,  3.26it/s]"
     ]
    },
    {
     "name": "stdout",
     "output_type": "stream",
     "text": [
      "[OK] 1266.txt → 1266_slots.csv and paths.geojson\n"
     ]
    },
    {
     "name": "stderr",
     "output_type": "stream",
     "text": [
      "  6%|██▍                                    | 657/10357 [05:00<55:04,  2.94it/s]"
     ]
    },
    {
     "name": "stdout",
     "output_type": "stream",
     "text": [
      "[OK] 1267.txt → 1267_slots.csv and paths.geojson\n"
     ]
    },
    {
     "name": "stderr",
     "output_type": "stream",
     "text": [
      "  6%|██▎                                  | 658/10357 [05:01<1:04:22,  2.51it/s]"
     ]
    },
    {
     "name": "stdout",
     "output_type": "stream",
     "text": [
      "[OK] 1268.txt → 1268_slots.csv and paths.geojson\n"
     ]
    },
    {
     "name": "stderr",
     "output_type": "stream",
     "text": [
      "  6%|██▍                                    | 659/10357 [05:01<56:54,  2.84it/s]"
     ]
    },
    {
     "name": "stdout",
     "output_type": "stream",
     "text": [
      "[OK] 1269.txt → 1269_slots.csv and paths.geojson\n"
     ]
    },
    {
     "name": "stderr",
     "output_type": "stream",
     "text": [
      "  6%|██▍                                    | 660/10357 [05:01<53:45,  3.01it/s]"
     ]
    },
    {
     "name": "stdout",
     "output_type": "stream",
     "text": [
      "[OK] 127.txt → 127_slots.csv and paths.geojson\n"
     ]
    },
    {
     "name": "stderr",
     "output_type": "stream",
     "text": [
      "  6%|██▎                                  | 661/10357 [05:02<1:02:06,  2.60it/s]"
     ]
    },
    {
     "name": "stdout",
     "output_type": "stream",
     "text": [
      "[OK] 1270.txt → 1270_slots.csv and paths.geojson\n"
     ]
    },
    {
     "name": "stderr",
     "output_type": "stream",
     "text": [
      "  6%|██▎                                  | 662/10357 [05:02<1:05:14,  2.48it/s]"
     ]
    },
    {
     "name": "stdout",
     "output_type": "stream",
     "text": [
      "[OK] 1271.txt → 1271_slots.csv and paths.geojson\n"
     ]
    },
    {
     "name": "stderr",
     "output_type": "stream",
     "text": [
      "  6%|██▎                                  | 663/10357 [05:03<1:01:00,  2.65it/s]"
     ]
    },
    {
     "name": "stdout",
     "output_type": "stream",
     "text": [
      "[OK] 1272.txt → 1272_slots.csv and paths.geojson\n"
     ]
    },
    {
     "name": "stderr",
     "output_type": "stream",
     "text": [
      "  6%|██▎                                  | 664/10357 [05:03<1:11:16,  2.27it/s]"
     ]
    },
    {
     "name": "stdout",
     "output_type": "stream",
     "text": [
      "[OK] 1273.txt → 1273_slots.csv and paths.geojson\n"
     ]
    },
    {
     "name": "stderr",
     "output_type": "stream",
     "text": [
      "  6%|██▍                                  | 665/10357 [05:04<1:23:18,  1.94it/s]"
     ]
    },
    {
     "name": "stdout",
     "output_type": "stream",
     "text": [
      "[OK] 1274.txt → 1274_slots.csv and paths.geojson\n"
     ]
    },
    {
     "name": "stderr",
     "output_type": "stream",
     "text": [
      "  6%|██▍                                  | 666/10357 [05:05<1:25:11,  1.90it/s]"
     ]
    },
    {
     "name": "stdout",
     "output_type": "stream",
     "text": [
      "[OK] 1275.txt → 1275_slots.csv and paths.geojson\n",
      "[OK] 1276.txt → 1276_slots.csv\n"
     ]
    },
    {
     "name": "stderr",
     "output_type": "stream",
     "text": [
      "  6%|██▍                                  | 668/10357 [05:11<5:03:18,  1.88s/it]"
     ]
    },
    {
     "name": "stdout",
     "output_type": "stream",
     "text": [
      "[OK] 1277.txt → 1277_slots.csv and paths.geojson\n"
     ]
    },
    {
     "name": "stderr",
     "output_type": "stream",
     "text": [
      "  6%|██▍                                  | 669/10357 [05:12<4:17:18,  1.59s/it]"
     ]
    },
    {
     "name": "stdout",
     "output_type": "stream",
     "text": [
      "[OK] 1278.txt → 1278_slots.csv and paths.geojson\n"
     ]
    },
    {
     "name": "stderr",
     "output_type": "stream",
     "text": [
      "  6%|██▍                                  | 670/10357 [05:13<3:34:33,  1.33s/it]"
     ]
    },
    {
     "name": "stdout",
     "output_type": "stream",
     "text": [
      "[OK] 1279.txt → 1279_slots.csv and paths.geojson\n"
     ]
    },
    {
     "name": "stderr",
     "output_type": "stream",
     "text": [
      "  7%|██▍                                  | 674/10357 [05:13<1:23:22,  1.94it/s]"
     ]
    },
    {
     "name": "stdout",
     "output_type": "stream",
     "text": [
      "[OK] 128.txt → 128_slots.csv and paths.geojson\n",
      "[OK] 1280.txt → 1280_slots.csv and paths.geojson\n",
      "[OK] 1281.txt → 1281_slots.csv and paths.geojson\n",
      "[OK] 1282.txt → 1282_slots.csv and paths.geojson\n"
     ]
    },
    {
     "name": "stderr",
     "output_type": "stream",
     "text": [
      "  7%|██▍                                  | 676/10357 [05:14<1:08:57,  2.34it/s]"
     ]
    },
    {
     "name": "stdout",
     "output_type": "stream",
     "text": [
      "[OK] 1283.txt → 1283_slots.csv and paths.geojson\n",
      "[OK] 1284.txt → 1284_slots.csv and paths.geojson\n"
     ]
    },
    {
     "name": "stderr",
     "output_type": "stream",
     "text": [
      "  7%|██▌                                    | 678/10357 [05:14<54:39,  2.95it/s]"
     ]
    },
    {
     "name": "stdout",
     "output_type": "stream",
     "text": [
      "[OK] 1285.txt → 1285_slots.csv and paths.geojson\n",
      "[OK] 1286.txt → 1286_slots.csv and paths.geojson\n"
     ]
    },
    {
     "name": "stderr",
     "output_type": "stream",
     "text": [
      "  7%|██▌                                    | 679/10357 [05:15<57:03,  2.83it/s]"
     ]
    },
    {
     "name": "stdout",
     "output_type": "stream",
     "text": [
      "[OK] 1287.txt → 1287_slots.csv and paths.geojson\n"
     ]
    },
    {
     "name": "stderr",
     "output_type": "stream",
     "text": [
      "  7%|██▍                                  | 680/10357 [05:15<1:06:02,  2.44it/s]"
     ]
    },
    {
     "name": "stdout",
     "output_type": "stream",
     "text": [
      "[OK] 1288.txt → 1288_slots.csv and paths.geojson\n"
     ]
    },
    {
     "name": "stderr",
     "output_type": "stream",
     "text": [
      "  7%|██▍                                  | 681/10357 [05:16<1:18:45,  2.05it/s]"
     ]
    },
    {
     "name": "stdout",
     "output_type": "stream",
     "text": [
      "[OK] 1289.txt → 1289_slots.csv and paths.geojson\n"
     ]
    },
    {
     "name": "stderr",
     "output_type": "stream",
     "text": [
      "  7%|██▍                                  | 682/10357 [05:16<1:08:26,  2.36it/s]"
     ]
    },
    {
     "name": "stdout",
     "output_type": "stream",
     "text": [
      "[OK] 129.txt → 129_slots.csv and paths.geojson\n"
     ]
    },
    {
     "name": "stderr",
     "output_type": "stream",
     "text": [
      "  7%|██▍                                  | 683/10357 [05:17<1:09:06,  2.33it/s]"
     ]
    },
    {
     "name": "stdout",
     "output_type": "stream",
     "text": [
      "[OK] 1290.txt → 1290_slots.csv and paths.geojson\n"
     ]
    },
    {
     "name": "stderr",
     "output_type": "stream",
     "text": [
      "  7%|██▍                                  | 684/10357 [05:17<1:03:29,  2.54it/s]"
     ]
    },
    {
     "name": "stdout",
     "output_type": "stream",
     "text": [
      "[OK] 1291.txt → 1291_slots.csv and paths.geojson\n"
     ]
    },
    {
     "name": "stderr",
     "output_type": "stream",
     "text": [
      "  7%|██▍                                  | 685/10357 [05:18<1:25:58,  1.87it/s]"
     ]
    },
    {
     "name": "stdout",
     "output_type": "stream",
     "text": [
      "[OK] 1292.txt → 1292_slots.csv and paths.geojson\n"
     ]
    },
    {
     "name": "stderr",
     "output_type": "stream",
     "text": [
      "  7%|██▍                                  | 686/10357 [05:18<1:21:15,  1.98it/s]"
     ]
    },
    {
     "name": "stdout",
     "output_type": "stream",
     "text": [
      "[OK] 1293.txt → 1293_slots.csv and paths.geojson\n"
     ]
    },
    {
     "name": "stderr",
     "output_type": "stream",
     "text": [
      "  7%|██▍                                  | 687/10357 [05:19<1:09:01,  2.33it/s]"
     ]
    },
    {
     "name": "stdout",
     "output_type": "stream",
     "text": [
      "[OK] 1294.txt → 1294_slots.csv and paths.geojson\n"
     ]
    },
    {
     "name": "stderr",
     "output_type": "stream",
     "text": [
      "  7%|██▍                                  | 688/10357 [05:19<1:06:33,  2.42it/s]"
     ]
    },
    {
     "name": "stdout",
     "output_type": "stream",
     "text": [
      "[OK] 1295.txt → 1295_slots.csv and paths.geojson\n"
     ]
    },
    {
     "name": "stderr",
     "output_type": "stream",
     "text": [
      "  7%|██▌                                    | 690/10357 [05:19<50:06,  3.21it/s]"
     ]
    },
    {
     "name": "stdout",
     "output_type": "stream",
     "text": [
      "[OK] 1296.txt → 1296_slots.csv and paths.geojson\n",
      "[OK] 1297.txt → 1297_slots.csv and paths.geojson\n"
     ]
    },
    {
     "name": "stderr",
     "output_type": "stream",
     "text": [
      "  7%|██▌                                    | 691/10357 [05:20<45:06,  3.57it/s]"
     ]
    },
    {
     "name": "stdout",
     "output_type": "stream",
     "text": [
      "[OK] 1298.txt → 1298_slots.csv and paths.geojson\n"
     ]
    },
    {
     "name": "stderr",
     "output_type": "stream",
     "text": [
      "  7%|██▌                                    | 692/10357 [05:20<47:46,  3.37it/s]"
     ]
    },
    {
     "name": "stdout",
     "output_type": "stream",
     "text": [
      "[OK] 1299.txt → 1299_slots.csv and paths.geojson\n"
     ]
    },
    {
     "name": "stderr",
     "output_type": "stream",
     "text": [
      "  7%|██▌                                    | 693/10357 [05:20<48:11,  3.34it/s]"
     ]
    },
    {
     "name": "stdout",
     "output_type": "stream",
     "text": [
      "[OK] 13.txt → 13_slots.csv and paths.geojson\n"
     ]
    },
    {
     "name": "stderr",
     "output_type": "stream",
     "text": [
      "  7%|██▌                                    | 694/10357 [05:21<55:50,  2.88it/s]"
     ]
    },
    {
     "name": "stdout",
     "output_type": "stream",
     "text": [
      "[OK] 130.txt → 130_slots.csv and paths.geojson\n"
     ]
    },
    {
     "name": "stderr",
     "output_type": "stream",
     "text": [
      "  7%|██▍                                  | 695/10357 [05:21<1:01:18,  2.63it/s]"
     ]
    },
    {
     "name": "stdout",
     "output_type": "stream",
     "text": [
      "[OK] 1300.txt → 1300_slots.csv and paths.geojson\n"
     ]
    },
    {
     "name": "stderr",
     "output_type": "stream",
     "text": [
      "  7%|██▍                                  | 696/10357 [05:22<1:04:10,  2.51it/s]"
     ]
    },
    {
     "name": "stdout",
     "output_type": "stream",
     "text": [
      "[OK] 1301.txt → 1301_slots.csv and paths.geojson\n"
     ]
    },
    {
     "name": "stderr",
     "output_type": "stream",
     "text": [
      "  7%|██▍                                  | 697/10357 [05:22<1:04:29,  2.50it/s]"
     ]
    },
    {
     "name": "stdout",
     "output_type": "stream",
     "text": [
      "[OK] 1302.txt → 1302_slots.csv and paths.geojson\n"
     ]
    },
    {
     "name": "stderr",
     "output_type": "stream",
     "text": [
      "  7%|██▍                                  | 698/10357 [05:23<1:25:23,  1.89it/s]"
     ]
    },
    {
     "name": "stdout",
     "output_type": "stream",
     "text": [
      "[OK] 1303.txt → 1303_slots.csv and paths.geojson\n"
     ]
    },
    {
     "name": "stderr",
     "output_type": "stream",
     "text": [
      "  7%|██▍                                  | 699/10357 [05:23<1:10:28,  2.28it/s]"
     ]
    },
    {
     "name": "stdout",
     "output_type": "stream",
     "text": [
      "[OK] 1304.txt → 1304_slots.csv and paths.geojson\n"
     ]
    },
    {
     "name": "stderr",
     "output_type": "stream",
     "text": [
      "  7%|██▌                                  | 700/10357 [05:24<1:12:38,  2.22it/s]"
     ]
    },
    {
     "name": "stdout",
     "output_type": "stream",
     "text": [
      "[OK] 1305.txt → 1305_slots.csv and paths.geojson\n"
     ]
    },
    {
     "name": "stderr",
     "output_type": "stream",
     "text": [
      "  7%|██▋                                    | 702/10357 [05:24<54:41,  2.94it/s]"
     ]
    },
    {
     "name": "stdout",
     "output_type": "stream",
     "text": [
      "[OK] 1306.txt → 1306_slots.csv and paths.geojson\n",
      "[OK] 1307.txt → 1307_slots.csv and paths.geojson\n"
     ]
    },
    {
     "name": "stderr",
     "output_type": "stream",
     "text": [
      "  7%|██▋                                    | 703/10357 [05:24<59:36,  2.70it/s]"
     ]
    },
    {
     "name": "stdout",
     "output_type": "stream",
     "text": [
      "[OK] 1308.txt → 1308_slots.csv and paths.geojson\n"
     ]
    },
    {
     "name": "stderr",
     "output_type": "stream",
     "text": [
      "  7%|██▌                                  | 704/10357 [05:25<1:14:48,  2.15it/s]"
     ]
    },
    {
     "name": "stdout",
     "output_type": "stream",
     "text": [
      "[OK] 1309.txt → 1309_slots.csv and paths.geojson\n"
     ]
    },
    {
     "name": "stderr",
     "output_type": "stream",
     "text": [
      "  7%|██▌                                  | 706/10357 [05:26<1:10:28,  2.28it/s]"
     ]
    },
    {
     "name": "stdout",
     "output_type": "stream",
     "text": [
      "[OK] 131.txt → 131_slots.csv and paths.geojson\n",
      "[OK] 1310.txt → 1310_slots.csv and paths.geojson\n"
     ]
    },
    {
     "name": "stderr",
     "output_type": "stream",
     "text": [
      "  7%|██▌                                  | 707/10357 [05:27<1:18:01,  2.06it/s]"
     ]
    },
    {
     "name": "stdout",
     "output_type": "stream",
     "text": [
      "[OK] 1311.txt → 1311_slots.csv and paths.geojson\n"
     ]
    },
    {
     "name": "stderr",
     "output_type": "stream",
     "text": [
      "  7%|██▌                                  | 708/10357 [05:27<1:26:41,  1.85it/s]"
     ]
    },
    {
     "name": "stdout",
     "output_type": "stream",
     "text": [
      "[OK] 1312.txt → 1312_slots.csv and paths.geojson\n"
     ]
    },
    {
     "name": "stderr",
     "output_type": "stream",
     "text": [
      "  7%|██▌                                  | 709/10357 [05:28<1:23:35,  1.92it/s]"
     ]
    },
    {
     "name": "stdout",
     "output_type": "stream",
     "text": [
      "[OK] 1313.txt → 1313_slots.csv and paths.geojson\n"
     ]
    },
    {
     "name": "stderr",
     "output_type": "stream",
     "text": [
      "  7%|██▌                                  | 710/10357 [05:28<1:10:26,  2.28it/s]"
     ]
    },
    {
     "name": "stdout",
     "output_type": "stream",
     "text": [
      "[OK] 1314.txt → 1314_slots.csv and paths.geojson\n"
     ]
    },
    {
     "name": "stderr",
     "output_type": "stream",
     "text": [
      "  7%|██▌                                  | 711/10357 [05:29<1:10:39,  2.28it/s]"
     ]
    },
    {
     "name": "stdout",
     "output_type": "stream",
     "text": [
      "[OK] 1315.txt → 1315_slots.csv and paths.geojson\n"
     ]
    },
    {
     "name": "stderr",
     "output_type": "stream",
     "text": [
      "  7%|██▌                                  | 712/10357 [05:29<1:02:08,  2.59it/s]"
     ]
    },
    {
     "name": "stdout",
     "output_type": "stream",
     "text": [
      "[OK] 1316.txt → 1316_slots.csv and paths.geojson\n"
     ]
    },
    {
     "name": "stderr",
     "output_type": "stream",
     "text": [
      "  7%|██▋                                    | 713/10357 [05:29<59:41,  2.69it/s]"
     ]
    },
    {
     "name": "stdout",
     "output_type": "stream",
     "text": [
      "[OK] 1317.txt → 1317_slots.csv and paths.geojson\n"
     ]
    },
    {
     "name": "stderr",
     "output_type": "stream",
     "text": [
      "  7%|██▌                                  | 714/10357 [05:30<1:10:07,  2.29it/s]"
     ]
    },
    {
     "name": "stdout",
     "output_type": "stream",
     "text": [
      "[OK] 1318.txt → 1318_slots.csv and paths.geojson\n"
     ]
    },
    {
     "name": "stderr",
     "output_type": "stream",
     "text": [
      "  7%|██▌                                  | 715/10357 [05:30<1:17:05,  2.08it/s]"
     ]
    },
    {
     "name": "stdout",
     "output_type": "stream",
     "text": [
      "[OK] 1319.txt → 1319_slots.csv and paths.geojson\n"
     ]
    },
    {
     "name": "stderr",
     "output_type": "stream",
     "text": [
      "  7%|██▌                                  | 716/10357 [05:31<1:15:20,  2.13it/s]"
     ]
    },
    {
     "name": "stdout",
     "output_type": "stream",
     "text": [
      "[OK] 132.txt → 132_slots.csv and paths.geojson\n"
     ]
    },
    {
     "name": "stderr",
     "output_type": "stream",
     "text": [
      "  7%|██▌                                  | 717/10357 [05:32<1:47:49,  1.49it/s]"
     ]
    },
    {
     "name": "stdout",
     "output_type": "stream",
     "text": [
      "[OK] 1320.txt → 1320_slots.csv and paths.geojson\n"
     ]
    },
    {
     "name": "stderr",
     "output_type": "stream",
     "text": [
      "  7%|██▌                                  | 718/10357 [05:32<1:31:57,  1.75it/s]"
     ]
    },
    {
     "name": "stdout",
     "output_type": "stream",
     "text": [
      "[OK] 1321.txt → 1321_slots.csv and paths.geojson\n"
     ]
    },
    {
     "name": "stderr",
     "output_type": "stream",
     "text": [
      "  7%|██▌                                  | 719/10357 [05:33<1:29:31,  1.79it/s]"
     ]
    },
    {
     "name": "stdout",
     "output_type": "stream",
     "text": [
      "[OK] 1322.txt → 1322_slots.csv and paths.geojson\n"
     ]
    },
    {
     "name": "stderr",
     "output_type": "stream",
     "text": [
      "  7%|██▌                                  | 720/10357 [05:33<1:39:37,  1.61it/s]"
     ]
    },
    {
     "name": "stdout",
     "output_type": "stream",
     "text": [
      "[OK] 1323.txt → 1323_slots.csv and paths.geojson\n"
     ]
    },
    {
     "name": "stderr",
     "output_type": "stream",
     "text": [
      "  7%|██▌                                  | 721/10357 [05:34<1:30:54,  1.77it/s]"
     ]
    },
    {
     "name": "stdout",
     "output_type": "stream",
     "text": [
      "[OK] 1324.txt → 1324_slots.csv and paths.geojson\n"
     ]
    },
    {
     "name": "stderr",
     "output_type": "stream",
     "text": [
      "  7%|██▌                                  | 722/10357 [05:34<1:23:34,  1.92it/s]"
     ]
    },
    {
     "name": "stdout",
     "output_type": "stream",
     "text": [
      "[OK] 1325.txt → 1325_slots.csv and paths.geojson\n"
     ]
    },
    {
     "name": "stderr",
     "output_type": "stream",
     "text": [
      "  7%|██▌                                  | 723/10357 [05:35<1:31:52,  1.75it/s]"
     ]
    },
    {
     "name": "stdout",
     "output_type": "stream",
     "text": [
      "[OK] 1326.txt → 1326_slots.csv and paths.geojson\n"
     ]
    },
    {
     "name": "stderr",
     "output_type": "stream",
     "text": [
      "  7%|██▌                                  | 724/10357 [05:36<1:36:05,  1.67it/s]"
     ]
    },
    {
     "name": "stdout",
     "output_type": "stream",
     "text": [
      "[OK] 1327.txt → 1327_slots.csv and paths.geojson\n"
     ]
    },
    {
     "name": "stderr",
     "output_type": "stream",
     "text": [
      "  7%|██▌                                  | 725/10357 [05:36<1:21:56,  1.96it/s]"
     ]
    },
    {
     "name": "stdout",
     "output_type": "stream",
     "text": [
      "[OK] 1328.txt → 1328_slots.csv and paths.geojson\n"
     ]
    },
    {
     "name": "stderr",
     "output_type": "stream",
     "text": [
      "  7%|██▌                                  | 726/10357 [05:37<1:24:43,  1.89it/s]"
     ]
    },
    {
     "name": "stdout",
     "output_type": "stream",
     "text": [
      "[OK] 1329.txt → 1329_slots.csv and paths.geojson\n"
     ]
    },
    {
     "name": "stderr",
     "output_type": "stream",
     "text": [
      "  7%|██▌                                  | 727/10357 [05:37<1:17:00,  2.08it/s]"
     ]
    },
    {
     "name": "stdout",
     "output_type": "stream",
     "text": [
      "[OK] 133.txt → 133_slots.csv and paths.geojson\n"
     ]
    },
    {
     "name": "stderr",
     "output_type": "stream",
     "text": [
      "  7%|██▌                                  | 728/10357 [05:38<1:31:33,  1.75it/s]"
     ]
    },
    {
     "name": "stdout",
     "output_type": "stream",
     "text": [
      "[OK] 1330.txt → 1330_slots.csv and paths.geojson\n"
     ]
    },
    {
     "name": "stderr",
     "output_type": "stream",
     "text": [
      "  7%|██▌                                  | 729/10357 [05:38<1:35:43,  1.68it/s]"
     ]
    },
    {
     "name": "stdout",
     "output_type": "stream",
     "text": [
      "[OK] 1331.txt → 1331_slots.csv and paths.geojson\n"
     ]
    },
    {
     "name": "stderr",
     "output_type": "stream",
     "text": [
      "  7%|██▌                                  | 730/10357 [05:39<1:38:49,  1.62it/s]"
     ]
    },
    {
     "name": "stdout",
     "output_type": "stream",
     "text": [
      "[OK] 1332.txt → 1332_slots.csv and paths.geojson\n"
     ]
    },
    {
     "name": "stderr",
     "output_type": "stream",
     "text": [
      "  7%|██▌                                  | 731/10357 [05:40<1:51:41,  1.44it/s]"
     ]
    },
    {
     "name": "stdout",
     "output_type": "stream",
     "text": [
      "[OK] 1333.txt → 1333_slots.csv and paths.geojson\n"
     ]
    },
    {
     "name": "stderr",
     "output_type": "stream",
     "text": [
      "  7%|██▌                                  | 732/10357 [05:40<1:28:11,  1.82it/s]"
     ]
    },
    {
     "name": "stdout",
     "output_type": "stream",
     "text": [
      "[OK] 1334.txt → 1334_slots.csv and paths.geojson\n"
     ]
    },
    {
     "name": "stderr",
     "output_type": "stream",
     "text": [
      "  7%|██▌                                  | 733/10357 [05:41<1:20:39,  1.99it/s]"
     ]
    },
    {
     "name": "stdout",
     "output_type": "stream",
     "text": [
      "[OK] 1335.txt → 1335_slots.csv and paths.geojson\n"
     ]
    },
    {
     "name": "stderr",
     "output_type": "stream",
     "text": [
      "  7%|██▌                                  | 734/10357 [05:41<1:30:15,  1.78it/s]"
     ]
    },
    {
     "name": "stdout",
     "output_type": "stream",
     "text": [
      "[OK] 1336.txt → 1336_slots.csv and paths.geojson\n"
     ]
    },
    {
     "name": "stderr",
     "output_type": "stream",
     "text": [
      "  7%|██▋                                  | 735/10357 [05:42<1:24:49,  1.89it/s]"
     ]
    },
    {
     "name": "stdout",
     "output_type": "stream",
     "text": [
      "[OK] 1337.txt → 1337_slots.csv and paths.geojson\n"
     ]
    },
    {
     "name": "stderr",
     "output_type": "stream",
     "text": [
      "  7%|██▋                                  | 736/10357 [05:42<1:14:43,  2.15it/s]"
     ]
    },
    {
     "name": "stdout",
     "output_type": "stream",
     "text": [
      "[OK] 1338.txt → 1338_slots.csv and paths.geojson\n"
     ]
    },
    {
     "name": "stderr",
     "output_type": "stream",
     "text": [
      "  7%|██▋                                  | 737/10357 [05:42<1:04:58,  2.47it/s]"
     ]
    },
    {
     "name": "stdout",
     "output_type": "stream",
     "text": [
      "[OK] 1339.txt → 1339_slots.csv and paths.geojson\n"
     ]
    },
    {
     "name": "stderr",
     "output_type": "stream",
     "text": [
      "  7%|██▊                                    | 738/10357 [05:43<59:49,  2.68it/s]"
     ]
    },
    {
     "name": "stdout",
     "output_type": "stream",
     "text": [
      "[OK] 134.txt → 134_slots.csv and paths.geojson\n"
     ]
    },
    {
     "name": "stderr",
     "output_type": "stream",
     "text": [
      "  7%|██▋                                  | 739/10357 [05:43<1:04:34,  2.48it/s]"
     ]
    },
    {
     "name": "stdout",
     "output_type": "stream",
     "text": [
      "[OK] 1340.txt → 1340_slots.csv and paths.geojson\n"
     ]
    },
    {
     "name": "stderr",
     "output_type": "stream",
     "text": [
      "  7%|██▊                                    | 740/10357 [05:43<58:12,  2.75it/s]"
     ]
    },
    {
     "name": "stdout",
     "output_type": "stream",
     "text": [
      "[OK] 1341.txt → 1341_slots.csv and paths.geojson\n"
     ]
    },
    {
     "name": "stderr",
     "output_type": "stream",
     "text": [
      "  7%|██▊                                    | 741/10357 [05:44<55:58,  2.86it/s]"
     ]
    },
    {
     "name": "stdout",
     "output_type": "stream",
     "text": [
      "[OK] 1342.txt → 1342_slots.csv and paths.geojson\n"
     ]
    },
    {
     "name": "stderr",
     "output_type": "stream",
     "text": [
      "  7%|██▊                                    | 742/10357 [05:44<54:53,  2.92it/s]"
     ]
    },
    {
     "name": "stdout",
     "output_type": "stream",
     "text": [
      "[OK] 1343.txt → 1343_slots.csv and paths.geojson\n",
      "[OK] 1344.txt → 1344_slots.csv\n",
      "[OK] 1345.txt → 1345_slots.csv and paths.geojson\n"
     ]
    },
    {
     "name": "stderr",
     "output_type": "stream",
     "text": [
      "  7%|██▊                                    | 745/10357 [05:44<34:17,  4.67it/s]"
     ]
    },
    {
     "name": "stdout",
     "output_type": "stream",
     "text": [
      "[OK] 1346.txt → 1346_slots.csv and paths.geojson\n"
     ]
    },
    {
     "name": "stderr",
     "output_type": "stream",
     "text": [
      "  7%|██▊                                    | 746/10357 [05:45<35:06,  4.56it/s]"
     ]
    },
    {
     "name": "stdout",
     "output_type": "stream",
     "text": [
      "[OK] 1347.txt → 1347_slots.csv and paths.geojson\n"
     ]
    },
    {
     "name": "stderr",
     "output_type": "stream",
     "text": [
      "  7%|██▊                                    | 747/10357 [05:45<52:14,  3.07it/s]"
     ]
    },
    {
     "name": "stdout",
     "output_type": "stream",
     "text": [
      "[OK] 1348.txt → 1348_slots.csv and paths.geojson\n"
     ]
    },
    {
     "name": "stderr",
     "output_type": "stream",
     "text": [
      "  7%|██▊                                    | 748/10357 [05:46<57:13,  2.80it/s]"
     ]
    },
    {
     "name": "stdout",
     "output_type": "stream",
     "text": [
      "[OK] 1349.txt → 1349_slots.csv and paths.geojson\n"
     ]
    },
    {
     "name": "stderr",
     "output_type": "stream",
     "text": [
      "  7%|██▊                                    | 749/10357 [05:46<52:24,  3.06it/s]"
     ]
    },
    {
     "name": "stdout",
     "output_type": "stream",
     "text": [
      "[OK] 135.txt → 135_slots.csv and paths.geojson\n"
     ]
    },
    {
     "name": "stderr",
     "output_type": "stream",
     "text": [
      "  7%|██▊                                    | 750/10357 [05:46<54:15,  2.95it/s]"
     ]
    },
    {
     "name": "stdout",
     "output_type": "stream",
     "text": [
      "[OK] 1350.txt → 1350_slots.csv and paths.geojson\n"
     ]
    },
    {
     "name": "stderr",
     "output_type": "stream",
     "text": [
      "  7%|██▋                                  | 751/10357 [05:47<1:05:54,  2.43it/s]"
     ]
    },
    {
     "name": "stdout",
     "output_type": "stream",
     "text": [
      "[OK] 1351.txt → 1351_slots.csv and paths.geojson\n"
     ]
    },
    {
     "name": "stderr",
     "output_type": "stream",
     "text": [
      "  7%|██▋                                  | 752/10357 [05:47<1:02:01,  2.58it/s]"
     ]
    },
    {
     "name": "stdout",
     "output_type": "stream",
     "text": [
      "[OK] 1352.txt → 1352_slots.csv and paths.geojson\n"
     ]
    },
    {
     "name": "stderr",
     "output_type": "stream",
     "text": [
      "  7%|██▋                                  | 753/10357 [05:48<1:22:39,  1.94it/s]"
     ]
    },
    {
     "name": "stdout",
     "output_type": "stream",
     "text": [
      "[OK] 1353.txt → 1353_slots.csv and paths.geojson\n"
     ]
    },
    {
     "name": "stderr",
     "output_type": "stream",
     "text": [
      "  7%|██▋                                  | 754/10357 [05:48<1:14:14,  2.16it/s]"
     ]
    },
    {
     "name": "stdout",
     "output_type": "stream",
     "text": [
      "[OK] 1354.txt → 1354_slots.csv and paths.geojson\n"
     ]
    },
    {
     "name": "stderr",
     "output_type": "stream",
     "text": [
      "  7%|██▋                                  | 755/10357 [05:49<1:18:33,  2.04it/s]"
     ]
    },
    {
     "name": "stdout",
     "output_type": "stream",
     "text": [
      "[OK] 1355.txt → 1355_slots.csv and paths.geojson\n"
     ]
    },
    {
     "name": "stderr",
     "output_type": "stream",
     "text": [
      "  7%|██▋                                  | 756/10357 [05:50<1:39:50,  1.60it/s]"
     ]
    },
    {
     "name": "stdout",
     "output_type": "stream",
     "text": [
      "[OK] 1356.txt → 1356_slots.csv and paths.geojson\n"
     ]
    },
    {
     "name": "stderr",
     "output_type": "stream",
     "text": [
      "  7%|██▋                                  | 757/10357 [05:50<1:22:36,  1.94it/s]"
     ]
    },
    {
     "name": "stdout",
     "output_type": "stream",
     "text": [
      "[OK] 1357.txt → 1357_slots.csv and paths.geojson\n"
     ]
    },
    {
     "name": "stderr",
     "output_type": "stream",
     "text": [
      "  7%|██▋                                  | 758/10357 [05:51<1:23:24,  1.92it/s]"
     ]
    },
    {
     "name": "stdout",
     "output_type": "stream",
     "text": [
      "[OK] 1358.txt → 1358_slots.csv and paths.geojson\n"
     ]
    },
    {
     "name": "stderr",
     "output_type": "stream",
     "text": [
      "  7%|██▋                                  | 759/10357 [05:51<1:18:56,  2.03it/s]"
     ]
    },
    {
     "name": "stdout",
     "output_type": "stream",
     "text": [
      "[OK] 1359.txt → 1359_slots.csv and paths.geojson\n"
     ]
    },
    {
     "name": "stderr",
     "output_type": "stream",
     "text": [
      "  7%|██▋                                  | 760/10357 [05:52<1:40:03,  1.60it/s]"
     ]
    },
    {
     "name": "stdout",
     "output_type": "stream",
     "text": [
      "[OK] 136.txt → 136_slots.csv and paths.geojson\n"
     ]
    },
    {
     "name": "stderr",
     "output_type": "stream",
     "text": [
      "  7%|██▋                                  | 761/10357 [05:53<1:50:07,  1.45it/s]"
     ]
    },
    {
     "name": "stdout",
     "output_type": "stream",
     "text": [
      "[OK] 1360.txt → 1360_slots.csv and paths.geojson\n"
     ]
    },
    {
     "name": "stderr",
     "output_type": "stream",
     "text": [
      "  7%|██▋                                  | 762/10357 [05:53<1:42:50,  1.55it/s]"
     ]
    },
    {
     "name": "stdout",
     "output_type": "stream",
     "text": [
      "[OK] 1361.txt → 1361_slots.csv and paths.geojson\n"
     ]
    },
    {
     "name": "stderr",
     "output_type": "stream",
     "text": [
      "  7%|██▋                                  | 763/10357 [05:54<1:22:09,  1.95it/s]"
     ]
    },
    {
     "name": "stdout",
     "output_type": "stream",
     "text": [
      "[OK] 1362.txt → 1362_slots.csv and paths.geojson\n"
     ]
    },
    {
     "name": "stderr",
     "output_type": "stream",
     "text": [
      "  7%|██▋                                  | 764/10357 [05:54<1:17:26,  2.06it/s]"
     ]
    },
    {
     "name": "stdout",
     "output_type": "stream",
     "text": [
      "[OK] 1363.txt → 1363_slots.csv and paths.geojson\n"
     ]
    },
    {
     "name": "stderr",
     "output_type": "stream",
     "text": [
      "  7%|██▋                                  | 765/10357 [05:54<1:12:52,  2.19it/s]"
     ]
    },
    {
     "name": "stdout",
     "output_type": "stream",
     "text": [
      "[OK] 1364.txt → 1364_slots.csv and paths.geojson\n"
     ]
    },
    {
     "name": "stderr",
     "output_type": "stream",
     "text": [
      "  7%|██▋                                  | 766/10357 [05:55<1:17:03,  2.07it/s]"
     ]
    },
    {
     "name": "stdout",
     "output_type": "stream",
     "text": [
      "[OK] 1365.txt → 1365_slots.csv and paths.geojson\n"
     ]
    },
    {
     "name": "stderr",
     "output_type": "stream",
     "text": [
      "  7%|██▋                                  | 767/10357 [05:55<1:17:54,  2.05it/s]"
     ]
    },
    {
     "name": "stdout",
     "output_type": "stream",
     "text": [
      "[OK] 1366.txt → 1366_slots.csv and paths.geojson\n"
     ]
    },
    {
     "name": "stderr",
     "output_type": "stream",
     "text": [
      "  7%|██▋                                  | 768/10357 [05:56<1:13:11,  2.18it/s]"
     ]
    },
    {
     "name": "stdout",
     "output_type": "stream",
     "text": [
      "[OK] 1367.txt → 1367_slots.csv and paths.geojson\n"
     ]
    },
    {
     "name": "stderr",
     "output_type": "stream",
     "text": [
      "  7%|██▋                                  | 769/10357 [05:56<1:14:39,  2.14it/s]"
     ]
    },
    {
     "name": "stdout",
     "output_type": "stream",
     "text": [
      "[OK] 1368.txt → 1368_slots.csv and paths.geojson\n"
     ]
    },
    {
     "name": "stderr",
     "output_type": "stream",
     "text": [
      "  7%|██▊                                  | 770/10357 [05:57<1:34:51,  1.68it/s]"
     ]
    },
    {
     "name": "stdout",
     "output_type": "stream",
     "text": [
      "[OK] 1369.txt → 1369_slots.csv and paths.geojson\n",
      "[OK] 137.txt → 137_slots.csv and paths.geojson\n"
     ]
    },
    {
     "name": "stderr",
     "output_type": "stream",
     "text": [
      "  7%|██▊                                  | 772/10357 [05:58<1:40:23,  1.59it/s]"
     ]
    },
    {
     "name": "stdout",
     "output_type": "stream",
     "text": [
      "[OK] 1370.txt → 1370_slots.csv and paths.geojson\n"
     ]
    },
    {
     "name": "stderr",
     "output_type": "stream",
     "text": [
      "  7%|██▊                                  | 773/10357 [05:59<1:34:20,  1.69it/s]"
     ]
    },
    {
     "name": "stdout",
     "output_type": "stream",
     "text": [
      "[OK] 1371.txt → 1371_slots.csv and paths.geojson\n"
     ]
    },
    {
     "name": "stderr",
     "output_type": "stream",
     "text": [
      "  7%|██▊                                  | 774/10357 [05:59<1:24:54,  1.88it/s]"
     ]
    },
    {
     "name": "stdout",
     "output_type": "stream",
     "text": [
      "[OK] 1372.txt → 1372_slots.csv and paths.geojson\n"
     ]
    },
    {
     "name": "stderr",
     "output_type": "stream",
     "text": [
      "  7%|██▊                                  | 775/10357 [06:00<1:15:13,  2.12it/s]"
     ]
    },
    {
     "name": "stdout",
     "output_type": "stream",
     "text": [
      "[OK] 1373.txt → 1373_slots.csv and paths.geojson\n"
     ]
    },
    {
     "name": "stderr",
     "output_type": "stream",
     "text": [
      "  7%|██▊                                  | 776/10357 [06:01<2:00:13,  1.33it/s]"
     ]
    },
    {
     "name": "stdout",
     "output_type": "stream",
     "text": [
      "[OK] 1374.txt → 1374_slots.csv and paths.geojson\n"
     ]
    },
    {
     "name": "stderr",
     "output_type": "stream",
     "text": [
      "  8%|██▊                                  | 778/10357 [06:02<1:23:33,  1.91it/s]"
     ]
    },
    {
     "name": "stdout",
     "output_type": "stream",
     "text": [
      "[OK] 1375.txt → 1375_slots.csv and paths.geojson\n",
      "[OK] 1376.txt → 1376_slots.csv and paths.geojson\n"
     ]
    },
    {
     "name": "stderr",
     "output_type": "stream",
     "text": [
      "  8%|██▊                                  | 779/10357 [06:03<1:37:12,  1.64it/s]"
     ]
    },
    {
     "name": "stdout",
     "output_type": "stream",
     "text": [
      "[OK] 1377.txt → 1377_slots.csv and paths.geojson\n"
     ]
    },
    {
     "name": "stderr",
     "output_type": "stream",
     "text": [
      "  8%|██▊                                  | 780/10357 [06:03<1:47:28,  1.49it/s]"
     ]
    },
    {
     "name": "stdout",
     "output_type": "stream",
     "text": [
      "[OK] 1378.txt → 1378_slots.csv and paths.geojson\n"
     ]
    },
    {
     "name": "stderr",
     "output_type": "stream",
     "text": [
      "  8%|██▊                                  | 781/10357 [06:04<1:38:33,  1.62it/s]"
     ]
    },
    {
     "name": "stdout",
     "output_type": "stream",
     "text": [
      "[OK] 1379.txt → 1379_slots.csv and paths.geojson\n"
     ]
    },
    {
     "name": "stderr",
     "output_type": "stream",
     "text": [
      "  8%|██▊                                  | 782/10357 [06:04<1:22:41,  1.93it/s]"
     ]
    },
    {
     "name": "stdout",
     "output_type": "stream",
     "text": [
      "[OK] 138.txt → 138_slots.csv and paths.geojson\n"
     ]
    },
    {
     "name": "stderr",
     "output_type": "stream",
     "text": [
      "  8%|██▊                                  | 783/10357 [06:04<1:14:54,  2.13it/s]"
     ]
    },
    {
     "name": "stdout",
     "output_type": "stream",
     "text": [
      "[OK] 1380.txt → 1380_slots.csv and paths.geojson\n"
     ]
    },
    {
     "name": "stderr",
     "output_type": "stream",
     "text": [
      "  8%|██▊                                  | 784/10357 [06:05<1:05:48,  2.42it/s]"
     ]
    },
    {
     "name": "stdout",
     "output_type": "stream",
     "text": [
      "[OK] 1381.txt → 1381_slots.csv and paths.geojson\n"
     ]
    },
    {
     "name": "stderr",
     "output_type": "stream",
     "text": [
      "  8%|██▊                                  | 785/10357 [06:05<1:20:05,  1.99it/s]"
     ]
    },
    {
     "name": "stdout",
     "output_type": "stream",
     "text": [
      "[OK] 1382.txt → 1382_slots.csv and paths.geojson\n"
     ]
    },
    {
     "name": "stderr",
     "output_type": "stream",
     "text": [
      "  8%|██▊                                  | 786/10357 [06:06<1:22:28,  1.93it/s]"
     ]
    },
    {
     "name": "stdout",
     "output_type": "stream",
     "text": [
      "[OK] 1383.txt → 1383_slots.csv and paths.geojson\n"
     ]
    },
    {
     "name": "stderr",
     "output_type": "stream",
     "text": [
      "  8%|██▊                                  | 787/10357 [06:06<1:20:29,  1.98it/s]"
     ]
    },
    {
     "name": "stdout",
     "output_type": "stream",
     "text": [
      "[OK] 1384.txt → 1384_slots.csv and paths.geojson\n"
     ]
    },
    {
     "name": "stderr",
     "output_type": "stream",
     "text": [
      "  8%|██▊                                  | 788/10357 [06:07<1:13:11,  2.18it/s]"
     ]
    },
    {
     "name": "stdout",
     "output_type": "stream",
     "text": [
      "[OK] 1385.txt → 1385_slots.csv and paths.geojson\n"
     ]
    },
    {
     "name": "stderr",
     "output_type": "stream",
     "text": [
      "  8%|██▊                                  | 789/10357 [06:07<1:18:07,  2.04it/s]"
     ]
    },
    {
     "name": "stdout",
     "output_type": "stream",
     "text": [
      "[OK] 1386.txt → 1386_slots.csv and paths.geojson\n"
     ]
    },
    {
     "name": "stderr",
     "output_type": "stream",
     "text": [
      "  8%|██▊                                  | 790/10357 [06:08<1:08:58,  2.31it/s]"
     ]
    },
    {
     "name": "stdout",
     "output_type": "stream",
     "text": [
      "[OK] 1387.txt → 1387_slots.csv and paths.geojson\n"
     ]
    },
    {
     "name": "stderr",
     "output_type": "stream",
     "text": [
      "  8%|██▊                                  | 791/10357 [06:08<1:00:51,  2.62it/s]"
     ]
    },
    {
     "name": "stdout",
     "output_type": "stream",
     "text": [
      "[OK] 1388.txt → 1388_slots.csv and paths.geojson\n"
     ]
    },
    {
     "name": "stderr",
     "output_type": "stream",
     "text": [
      "  8%|██▊                                  | 792/10357 [06:09<1:29:41,  1.78it/s]"
     ]
    },
    {
     "name": "stdout",
     "output_type": "stream",
     "text": [
      "[OK] 1389.txt → 1389_slots.csv and paths.geojson\n"
     ]
    },
    {
     "name": "stderr",
     "output_type": "stream",
     "text": [
      "  8%|██▊                                  | 793/10357 [06:09<1:21:10,  1.96it/s]"
     ]
    },
    {
     "name": "stdout",
     "output_type": "stream",
     "text": [
      "[OK] 139.txt → 139_slots.csv and paths.geojson\n"
     ]
    },
    {
     "name": "stderr",
     "output_type": "stream",
     "text": [
      "  8%|██▊                                  | 794/10357 [06:10<1:14:31,  2.14it/s]"
     ]
    },
    {
     "name": "stdout",
     "output_type": "stream",
     "text": [
      "[OK] 1390.txt → 1390_slots.csv and paths.geojson\n"
     ]
    },
    {
     "name": "stderr",
     "output_type": "stream",
     "text": [
      "  8%|██▊                                  | 795/10357 [06:10<1:18:51,  2.02it/s]"
     ]
    },
    {
     "name": "stdout",
     "output_type": "stream",
     "text": [
      "[OK] 1391.txt → 1391_slots.csv and paths.geojson\n"
     ]
    },
    {
     "name": "stderr",
     "output_type": "stream",
     "text": [
      "  8%|██▊                                  | 796/10357 [06:11<1:11:05,  2.24it/s]"
     ]
    },
    {
     "name": "stdout",
     "output_type": "stream",
     "text": [
      "[OK] 1392.txt → 1392_slots.csv and paths.geojson\n",
      "[OK] 1393.txt → 1393_slots.csv and paths.geojson\n"
     ]
    },
    {
     "name": "stderr",
     "output_type": "stream",
     "text": [
      "  8%|███                                    | 798/10357 [06:11<54:51,  2.90it/s]"
     ]
    },
    {
     "name": "stdout",
     "output_type": "stream",
     "text": [
      "[OK] 1394.txt → 1394_slots.csv and paths.geojson\n"
     ]
    },
    {
     "name": "stderr",
     "output_type": "stream",
     "text": [
      "  8%|███                                    | 799/10357 [06:11<55:17,  2.88it/s]"
     ]
    },
    {
     "name": "stdout",
     "output_type": "stream",
     "text": [
      "[OK] 1395.txt → 1395_slots.csv and paths.geojson\n"
     ]
    },
    {
     "name": "stderr",
     "output_type": "stream",
     "text": [
      "  8%|███                                    | 800/10357 [06:12<59:04,  2.70it/s]"
     ]
    },
    {
     "name": "stdout",
     "output_type": "stream",
     "text": [
      "[OK] 1396.txt → 1396_slots.csv and paths.geojson\n"
     ]
    },
    {
     "name": "stderr",
     "output_type": "stream",
     "text": [
      "  8%|███                                    | 802/10357 [06:13<59:02,  2.70it/s]"
     ]
    },
    {
     "name": "stdout",
     "output_type": "stream",
     "text": [
      "[OK] 1397.txt → 1397_slots.csv and paths.geojson\n",
      "[OK] 1398.txt → 1398_slots.csv and paths.geojson\n"
     ]
    },
    {
     "name": "stderr",
     "output_type": "stream",
     "text": [
      "  8%|███                                    | 804/10357 [06:13<46:12,  3.45it/s]"
     ]
    },
    {
     "name": "stdout",
     "output_type": "stream",
     "text": [
      "[OK] 1399.txt → 1399_slots.csv and paths.geojson\n",
      "[OK] 14.txt → 14_slots.csv and paths.geojson\n"
     ]
    },
    {
     "name": "stderr",
     "output_type": "stream",
     "text": [
      "  8%|███                                    | 805/10357 [06:13<49:11,  3.24it/s]"
     ]
    },
    {
     "name": "stdout",
     "output_type": "stream",
     "text": [
      "[OK] 140.txt → 140_slots.csv and paths.geojson\n"
     ]
    },
    {
     "name": "stderr",
     "output_type": "stream",
     "text": [
      "  8%|███                                    | 806/10357 [06:14<52:32,  3.03it/s]"
     ]
    },
    {
     "name": "stdout",
     "output_type": "stream",
     "text": [
      "[OK] 1400.txt → 1400_slots.csv and paths.geojson\n"
     ]
    },
    {
     "name": "stderr",
     "output_type": "stream",
     "text": [
      "  8%|███                                    | 808/10357 [06:14<44:18,  3.59it/s]"
     ]
    },
    {
     "name": "stdout",
     "output_type": "stream",
     "text": [
      "[OK] 1401.txt → 1401_slots.csv and paths.geojson\n",
      "[OK] 1402.txt → 1402_slots.csv and paths.geojson\n"
     ]
    },
    {
     "name": "stderr",
     "output_type": "stream",
     "text": [
      "  8%|███                                    | 810/10357 [06:15<32:04,  4.96it/s]"
     ]
    },
    {
     "name": "stdout",
     "output_type": "stream",
     "text": [
      "[OK] 1403.txt → 1403_slots.csv and paths.geojson\n",
      "[OK] 1404.txt → 1404_slots.csv and paths.geojson\n"
     ]
    },
    {
     "name": "stderr",
     "output_type": "stream",
     "text": [
      "  8%|███                                    | 811/10357 [06:15<32:35,  4.88it/s]"
     ]
    },
    {
     "name": "stdout",
     "output_type": "stream",
     "text": [
      "[OK] 1405.txt → 1405_slots.csv and paths.geojson\n"
     ]
    },
    {
     "name": "stderr",
     "output_type": "stream",
     "text": [
      "  8%|███                                    | 812/10357 [06:15<39:51,  3.99it/s]"
     ]
    },
    {
     "name": "stdout",
     "output_type": "stream",
     "text": [
      "[OK] 1406.txt → 1406_slots.csv and paths.geojson\n"
     ]
    },
    {
     "name": "stderr",
     "output_type": "stream",
     "text": [
      "  8%|███                                    | 813/10357 [06:16<48:16,  3.30it/s]"
     ]
    },
    {
     "name": "stdout",
     "output_type": "stream",
     "text": [
      "[OK] 1407.txt → 1407_slots.csv and paths.geojson\n"
     ]
    },
    {
     "name": "stderr",
     "output_type": "stream",
     "text": [
      "  8%|██▉                                  | 814/10357 [06:16<1:05:32,  2.43it/s]"
     ]
    },
    {
     "name": "stdout",
     "output_type": "stream",
     "text": [
      "[OK] 1408.txt → 1408_slots.csv and paths.geojson\n"
     ]
    },
    {
     "name": "stderr",
     "output_type": "stream",
     "text": [
      "  8%|██▉                                  | 815/10357 [06:18<1:46:53,  1.49it/s]"
     ]
    },
    {
     "name": "stdout",
     "output_type": "stream",
     "text": [
      "[OK] 1409.txt → 1409_slots.csv and paths.geojson\n"
     ]
    },
    {
     "name": "stderr",
     "output_type": "stream",
     "text": [
      "  8%|██▉                                  | 817/10357 [06:18<1:05:36,  2.42it/s]"
     ]
    },
    {
     "name": "stdout",
     "output_type": "stream",
     "text": [
      "[OK] 141.txt → 141_slots.csv and paths.geojson\n",
      "[OK] 1410.txt → 1410_slots.csv and paths.geojson\n"
     ]
    },
    {
     "name": "stderr",
     "output_type": "stream",
     "text": [
      "  8%|██▉                                  | 818/10357 [06:18<1:01:23,  2.59it/s]"
     ]
    },
    {
     "name": "stdout",
     "output_type": "stream",
     "text": [
      "[OK] 1411.txt → 1411_slots.csv and paths.geojson\n"
     ]
    },
    {
     "name": "stderr",
     "output_type": "stream",
     "text": [
      "  8%|███                                    | 819/10357 [06:19<57:53,  2.75it/s]"
     ]
    },
    {
     "name": "stdout",
     "output_type": "stream",
     "text": [
      "[OK] 1412.txt → 1412_slots.csv and paths.geojson\n"
     ]
    },
    {
     "name": "stderr",
     "output_type": "stream",
     "text": [
      "  8%|███                                    | 820/10357 [06:19<57:45,  2.75it/s]"
     ]
    },
    {
     "name": "stdout",
     "output_type": "stream",
     "text": [
      "[OK] 1413.txt → 1413_slots.csv and paths.geojson\n"
     ]
    },
    {
     "name": "stderr",
     "output_type": "stream",
     "text": [
      "  8%|██▉                                  | 821/10357 [06:19<1:00:38,  2.62it/s]"
     ]
    },
    {
     "name": "stdout",
     "output_type": "stream",
     "text": [
      "[OK] 1414.txt → 1414_slots.csv and paths.geojson\n"
     ]
    },
    {
     "name": "stderr",
     "output_type": "stream",
     "text": [
      "  8%|███                                    | 823/10357 [06:20<58:35,  2.71it/s]"
     ]
    },
    {
     "name": "stdout",
     "output_type": "stream",
     "text": [
      "[OK] 1415.txt → 1415_slots.csv and paths.geojson\n",
      "[OK] 1416.txt → 1416_slots.csv and paths.geojson\n"
     ]
    },
    {
     "name": "stderr",
     "output_type": "stream",
     "text": [
      "  8%|███                                    | 824/10357 [06:20<58:18,  2.72it/s]"
     ]
    },
    {
     "name": "stdout",
     "output_type": "stream",
     "text": [
      "[OK] 1417.txt → 1417_slots.csv and paths.geojson\n"
     ]
    },
    {
     "name": "stderr",
     "output_type": "stream",
     "text": [
      "  8%|██▉                                  | 825/10357 [06:21<1:18:06,  2.03it/s]"
     ]
    },
    {
     "name": "stdout",
     "output_type": "stream",
     "text": [
      "[OK] 1418.txt → 1418_slots.csv and paths.geojson\n"
     ]
    },
    {
     "name": "stderr",
     "output_type": "stream",
     "text": [
      "  8%|██▉                                  | 826/10357 [06:22<1:11:12,  2.23it/s]"
     ]
    },
    {
     "name": "stdout",
     "output_type": "stream",
     "text": [
      "[OK] 1419.txt → 1419_slots.csv and paths.geojson\n"
     ]
    },
    {
     "name": "stderr",
     "output_type": "stream",
     "text": [
      "  8%|██▉                                  | 827/10357 [06:22<1:07:34,  2.35it/s]"
     ]
    },
    {
     "name": "stdout",
     "output_type": "stream",
     "text": [
      "[OK] 142.txt → 142_slots.csv and paths.geojson\n"
     ]
    },
    {
     "name": "stderr",
     "output_type": "stream",
     "text": [
      "  8%|███                                    | 828/10357 [06:22<57:57,  2.74it/s]"
     ]
    },
    {
     "name": "stdout",
     "output_type": "stream",
     "text": [
      "[OK] 1420.txt → 1420_slots.csv and paths.geojson\n"
     ]
    },
    {
     "name": "stderr",
     "output_type": "stream",
     "text": [
      "  8%|███                                    | 829/10357 [06:23<59:32,  2.67it/s]"
     ]
    },
    {
     "name": "stdout",
     "output_type": "stream",
     "text": [
      "[OK] 1421.txt → 1421_slots.csv and paths.geojson\n"
     ]
    },
    {
     "name": "stderr",
     "output_type": "stream",
     "text": [
      "  8%|███▏                                   | 830/10357 [06:23<56:14,  2.82it/s]"
     ]
    },
    {
     "name": "stdout",
     "output_type": "stream",
     "text": [
      "[OK] 1422.txt → 1422_slots.csv and paths.geojson\n"
     ]
    },
    {
     "name": "stderr",
     "output_type": "stream",
     "text": [
      "  8%|███▏                                   | 831/10357 [06:23<59:29,  2.67it/s]"
     ]
    },
    {
     "name": "stdout",
     "output_type": "stream",
     "text": [
      "[OK] 1423.txt → 1423_slots.csv and paths.geojson\n"
     ]
    },
    {
     "name": "stderr",
     "output_type": "stream",
     "text": [
      "  8%|███▏                                   | 832/10357 [06:24<53:49,  2.95it/s]"
     ]
    },
    {
     "name": "stdout",
     "output_type": "stream",
     "text": [
      "[OK] 1424.txt → 1424_slots.csv and paths.geojson\n"
     ]
    },
    {
     "name": "stderr",
     "output_type": "stream",
     "text": [
      "  8%|██▉                                  | 833/10357 [06:24<1:01:38,  2.58it/s]"
     ]
    },
    {
     "name": "stdout",
     "output_type": "stream",
     "text": [
      "[OK] 1425.txt → 1425_slots.csv and paths.geojson\n"
     ]
    },
    {
     "name": "stderr",
     "output_type": "stream",
     "text": [
      "  8%|███▏                                   | 834/10357 [06:24<53:10,  2.98it/s]"
     ]
    },
    {
     "name": "stdout",
     "output_type": "stream",
     "text": [
      "[OK] 1426.txt → 1426_slots.csv and paths.geojson\n",
      "[OK] 1427.txt → 1427_slots.csv and paths.geojson\n"
     ]
    },
    {
     "name": "stderr",
     "output_type": "stream",
     "text": [
      "  8%|███▏                                   | 836/10357 [06:25<39:16,  4.04it/s]"
     ]
    },
    {
     "name": "stdout",
     "output_type": "stream",
     "text": [
      "[OK] 1428.txt → 1428_slots.csv and paths.geojson\n"
     ]
    },
    {
     "name": "stderr",
     "output_type": "stream",
     "text": [
      "  8%|███▏                                   | 837/10357 [06:25<50:11,  3.16it/s]"
     ]
    },
    {
     "name": "stdout",
     "output_type": "stream",
     "text": [
      "[OK] 1429.txt → 1429_slots.csv and paths.geojson\n"
     ]
    },
    {
     "name": "stderr",
     "output_type": "stream",
     "text": [
      "  8%|███▏                                   | 838/10357 [06:26<54:32,  2.91it/s]"
     ]
    },
    {
     "name": "stdout",
     "output_type": "stream",
     "text": [
      "[OK] 143.txt → 143_slots.csv and paths.geojson\n"
     ]
    },
    {
     "name": "stderr",
     "output_type": "stream",
     "text": [
      "  8%|███▏                                   | 839/10357 [06:26<52:59,  2.99it/s]"
     ]
    },
    {
     "name": "stdout",
     "output_type": "stream",
     "text": [
      "[OK] 1430.txt → 1430_slots.csv and paths.geojson\n"
     ]
    },
    {
     "name": "stderr",
     "output_type": "stream",
     "text": [
      "  8%|███▏                                   | 841/10357 [06:26<40:41,  3.90it/s]"
     ]
    },
    {
     "name": "stdout",
     "output_type": "stream",
     "text": [
      "[OK] 1431.txt → 1431_slots.csv and paths.geojson\n",
      "[OK] 1432.txt → 1432_slots.csv and paths.geojson\n"
     ]
    },
    {
     "name": "stderr",
     "output_type": "stream",
     "text": [
      "  8%|███▏                                   | 842/10357 [06:27<47:49,  3.32it/s]"
     ]
    },
    {
     "name": "stdout",
     "output_type": "stream",
     "text": [
      "[OK] 1433.txt → 1433_slots.csv and paths.geojson\n"
     ]
    },
    {
     "name": "stderr",
     "output_type": "stream",
     "text": [
      "  8%|███                                  | 843/10357 [06:27<1:05:02,  2.44it/s]"
     ]
    },
    {
     "name": "stdout",
     "output_type": "stream",
     "text": [
      "[OK] 1434.txt → 1434_slots.csv and paths.geojson\n"
     ]
    },
    {
     "name": "stderr",
     "output_type": "stream",
     "text": [
      "  8%|███                                  | 844/10357 [06:28<1:02:35,  2.53it/s]"
     ]
    },
    {
     "name": "stdout",
     "output_type": "stream",
     "text": [
      "[OK] 1435.txt → 1435_slots.csv and paths.geojson\n"
     ]
    },
    {
     "name": "stderr",
     "output_type": "stream",
     "text": [
      "  8%|███                                  | 845/10357 [06:28<1:11:09,  2.23it/s]"
     ]
    },
    {
     "name": "stdout",
     "output_type": "stream",
     "text": [
      "[OK] 1436.txt → 1436_slots.csv and paths.geojson\n"
     ]
    },
    {
     "name": "stderr",
     "output_type": "stream",
     "text": [
      "  8%|███▏                                   | 846/10357 [06:28<59:47,  2.65it/s]"
     ]
    },
    {
     "name": "stdout",
     "output_type": "stream",
     "text": [
      "[OK] 1437.txt → 1437_slots.csv and paths.geojson\n"
     ]
    },
    {
     "name": "stderr",
     "output_type": "stream",
     "text": [
      "  8%|███▏                                   | 847/10357 [06:29<55:19,  2.87it/s]"
     ]
    },
    {
     "name": "stdout",
     "output_type": "stream",
     "text": [
      "[OK] 1438.txt → 1438_slots.csv and paths.geojson\n"
     ]
    },
    {
     "name": "stderr",
     "output_type": "stream",
     "text": [
      "  8%|███▏                                   | 849/10357 [06:29<55:01,  2.88it/s]"
     ]
    },
    {
     "name": "stdout",
     "output_type": "stream",
     "text": [
      "[OK] 1439.txt → 1439_slots.csv and paths.geojson\n",
      "[OK] 144.txt → 144_slots.csv and paths.geojson\n"
     ]
    },
    {
     "name": "stderr",
     "output_type": "stream",
     "text": [
      "  8%|███                                  | 850/10357 [06:30<1:03:50,  2.48it/s]"
     ]
    },
    {
     "name": "stdout",
     "output_type": "stream",
     "text": [
      "[OK] 1440.txt → 1440_slots.csv and paths.geojson\n"
     ]
    },
    {
     "name": "stderr",
     "output_type": "stream",
     "text": [
      "  8%|███                                  | 851/10357 [06:30<1:05:39,  2.41it/s]"
     ]
    },
    {
     "name": "stdout",
     "output_type": "stream",
     "text": [
      "[OK] 1441.txt → 1441_slots.csv and paths.geojson\n"
     ]
    },
    {
     "name": "stderr",
     "output_type": "stream",
     "text": [
      "  8%|███                                  | 852/10357 [06:31<1:28:00,  1.80it/s]"
     ]
    },
    {
     "name": "stdout",
     "output_type": "stream",
     "text": [
      "[OK] 1442.txt → 1442_slots.csv and paths.geojson\n"
     ]
    },
    {
     "name": "stderr",
     "output_type": "stream",
     "text": [
      "  8%|███                                  | 853/10357 [06:32<1:28:01,  1.80it/s]"
     ]
    },
    {
     "name": "stdout",
     "output_type": "stream",
     "text": [
      "[OK] 1443.txt → 1443_slots.csv and paths.geojson\n"
     ]
    },
    {
     "name": "stderr",
     "output_type": "stream",
     "text": [
      "  8%|███                                  | 854/10357 [06:33<1:43:53,  1.52it/s]"
     ]
    },
    {
     "name": "stdout",
     "output_type": "stream",
     "text": [
      "[OK] 1444.txt → 1444_slots.csv and paths.geojson\n"
     ]
    },
    {
     "name": "stderr",
     "output_type": "stream",
     "text": [
      "  8%|███                                  | 855/10357 [06:33<1:27:49,  1.80it/s]"
     ]
    },
    {
     "name": "stdout",
     "output_type": "stream",
     "text": [
      "[OK] 1445.txt → 1445_slots.csv and paths.geojson\n"
     ]
    },
    {
     "name": "stderr",
     "output_type": "stream",
     "text": [
      "  8%|███                                  | 856/10357 [06:34<1:38:55,  1.60it/s]"
     ]
    },
    {
     "name": "stdout",
     "output_type": "stream",
     "text": [
      "[OK] 1446.txt → 1446_slots.csv and paths.geojson\n"
     ]
    },
    {
     "name": "stderr",
     "output_type": "stream",
     "text": [
      "  8%|███                                  | 857/10357 [06:34<1:21:28,  1.94it/s]"
     ]
    },
    {
     "name": "stdout",
     "output_type": "stream",
     "text": [
      "[OK] 1447.txt → 1447_slots.csv and paths.geojson\n"
     ]
    },
    {
     "name": "stderr",
     "output_type": "stream",
     "text": [
      "  8%|███                                  | 858/10357 [06:34<1:07:32,  2.34it/s]"
     ]
    },
    {
     "name": "stdout",
     "output_type": "stream",
     "text": [
      "[OK] 1448.txt → 1448_slots.csv and paths.geojson\n"
     ]
    },
    {
     "name": "stderr",
     "output_type": "stream",
     "text": [
      "  8%|███                                  | 859/10357 [06:35<1:05:28,  2.42it/s]"
     ]
    },
    {
     "name": "stdout",
     "output_type": "stream",
     "text": [
      "[OK] 1449.txt → 1449_slots.csv and paths.geojson\n"
     ]
    },
    {
     "name": "stderr",
     "output_type": "stream",
     "text": [
      "  8%|███▏                                   | 860/10357 [06:35<58:34,  2.70it/s]"
     ]
    },
    {
     "name": "stdout",
     "output_type": "stream",
     "text": [
      "[OK] 145.txt → 145_slots.csv and paths.geojson\n"
     ]
    },
    {
     "name": "stderr",
     "output_type": "stream",
     "text": [
      "  8%|███▏                                   | 861/10357 [06:35<55:36,  2.85it/s]"
     ]
    },
    {
     "name": "stdout",
     "output_type": "stream",
     "text": [
      "[OK] 1450.txt → 1450_slots.csv and paths.geojson\n"
     ]
    },
    {
     "name": "stderr",
     "output_type": "stream",
     "text": [
      "  8%|███                                  | 862/10357 [06:36<1:19:58,  1.98it/s]"
     ]
    },
    {
     "name": "stdout",
     "output_type": "stream",
     "text": [
      "[OK] 1451.txt → 1451_slots.csv and paths.geojson\n"
     ]
    },
    {
     "name": "stderr",
     "output_type": "stream",
     "text": [
      "  8%|███                                  | 863/10357 [06:36<1:09:51,  2.26it/s]"
     ]
    },
    {
     "name": "stdout",
     "output_type": "stream",
     "text": [
      "[OK] 1452.txt → 1452_slots.csv and paths.geojson\n"
     ]
    },
    {
     "name": "stderr",
     "output_type": "stream",
     "text": [
      "  8%|███                                  | 864/10357 [06:37<1:19:07,  2.00it/s]"
     ]
    },
    {
     "name": "stdout",
     "output_type": "stream",
     "text": [
      "[OK] 1453.txt → 1453_slots.csv and paths.geojson\n"
     ]
    },
    {
     "name": "stderr",
     "output_type": "stream",
     "text": [
      "  8%|███                                  | 865/10357 [06:37<1:07:27,  2.35it/s]"
     ]
    },
    {
     "name": "stdout",
     "output_type": "stream",
     "text": [
      "[OK] 1454.txt → 1454_slots.csv and paths.geojson\n"
     ]
    },
    {
     "name": "stderr",
     "output_type": "stream",
     "text": [
      "  8%|███▎                                   | 867/10357 [06:38<57:24,  2.76it/s]"
     ]
    },
    {
     "name": "stdout",
     "output_type": "stream",
     "text": [
      "[OK] 1455.txt → 1455_slots.csv and paths.geojson\n",
      "[OK] 1456.txt → 1456_slots.csv and paths.geojson\n"
     ]
    },
    {
     "name": "stderr",
     "output_type": "stream",
     "text": [
      "  8%|███                                  | 868/10357 [06:39<1:34:00,  1.68it/s]"
     ]
    },
    {
     "name": "stdout",
     "output_type": "stream",
     "text": [
      "[OK] 1457.txt → 1457_slots.csv and paths.geojson\n"
     ]
    },
    {
     "name": "stderr",
     "output_type": "stream",
     "text": [
      "  8%|███                                  | 869/10357 [06:39<1:17:46,  2.03it/s]"
     ]
    },
    {
     "name": "stdout",
     "output_type": "stream",
     "text": [
      "[OK] 1458.txt → 1458_slots.csv and paths.geojson\n"
     ]
    },
    {
     "name": "stderr",
     "output_type": "stream",
     "text": [
      "  8%|███                                  | 870/10357 [06:40<1:16:53,  2.06it/s]"
     ]
    },
    {
     "name": "stdout",
     "output_type": "stream",
     "text": [
      "[OK] 1459.txt → 1459_slots.csv and paths.geojson\n"
     ]
    },
    {
     "name": "stderr",
     "output_type": "stream",
     "text": [
      "  8%|███                                  | 871/10357 [06:40<1:11:29,  2.21it/s]"
     ]
    },
    {
     "name": "stdout",
     "output_type": "stream",
     "text": [
      "[OK] 146.txt → 146_slots.csv and paths.geojson\n"
     ]
    },
    {
     "name": "stderr",
     "output_type": "stream",
     "text": [
      "  8%|███                                  | 872/10357 [06:41<1:14:44,  2.12it/s]"
     ]
    },
    {
     "name": "stdout",
     "output_type": "stream",
     "text": [
      "[OK] 1460.txt → 1460_slots.csv and paths.geojson\n"
     ]
    },
    {
     "name": "stderr",
     "output_type": "stream",
     "text": [
      "  8%|███                                  | 873/10357 [06:41<1:03:55,  2.47it/s]"
     ]
    },
    {
     "name": "stdout",
     "output_type": "stream",
     "text": [
      "[OK] 1461.txt → 1461_slots.csv and paths.geojson\n"
     ]
    },
    {
     "name": "stderr",
     "output_type": "stream",
     "text": [
      "  8%|███▎                                   | 874/10357 [06:41<58:51,  2.69it/s]"
     ]
    },
    {
     "name": "stdout",
     "output_type": "stream",
     "text": [
      "[OK] 1462.txt → 1462_slots.csv and paths.geojson\n"
     ]
    },
    {
     "name": "stderr",
     "output_type": "stream",
     "text": [
      "  8%|███▎                                   | 876/10357 [06:42<48:42,  3.24it/s]"
     ]
    },
    {
     "name": "stdout",
     "output_type": "stream",
     "text": [
      "[OK] 1463.txt → 1463_slots.csv and paths.geojson\n",
      "[OK] 1464.txt → 1464_slots.csv and paths.geojson\n"
     ]
    },
    {
     "name": "stderr",
     "output_type": "stream",
     "text": [
      "  8%|███▎                                   | 877/10357 [06:42<41:16,  3.83it/s]"
     ]
    },
    {
     "name": "stdout",
     "output_type": "stream",
     "text": [
      "[OK] 1465.txt → 1465_slots.csv and paths.geojson\n"
     ]
    },
    {
     "name": "stderr",
     "output_type": "stream",
     "text": [
      "  8%|███▎                                   | 878/10357 [06:43<57:55,  2.73it/s]"
     ]
    },
    {
     "name": "stdout",
     "output_type": "stream",
     "text": [
      "[OK] 1466.txt → 1466_slots.csv and paths.geojson\n"
     ]
    },
    {
     "name": "stderr",
     "output_type": "stream",
     "text": [
      "  8%|███▎                                   | 879/10357 [06:43<51:10,  3.09it/s]"
     ]
    },
    {
     "name": "stdout",
     "output_type": "stream",
     "text": [
      "[OK] 1467.txt → 1467_slots.csv and paths.geojson\n"
     ]
    },
    {
     "name": "stderr",
     "output_type": "stream",
     "text": [
      "  8%|███▎                                   | 880/10357 [06:43<56:59,  2.77it/s]"
     ]
    },
    {
     "name": "stdout",
     "output_type": "stream",
     "text": [
      "[OK] 1468.txt → 1468_slots.csv and paths.geojson\n"
     ]
    },
    {
     "name": "stderr",
     "output_type": "stream",
     "text": [
      "  9%|███▏                                 | 881/10357 [06:44<1:03:53,  2.47it/s]"
     ]
    },
    {
     "name": "stdout",
     "output_type": "stream",
     "text": [
      "[OK] 1469.txt → 1469_slots.csv and paths.geojson\n"
     ]
    },
    {
     "name": "stderr",
     "output_type": "stream",
     "text": [
      "  9%|███▎                                   | 882/10357 [06:44<58:14,  2.71it/s]"
     ]
    },
    {
     "name": "stdout",
     "output_type": "stream",
     "text": [
      "[OK] 147.txt → 147_slots.csv and paths.geojson\n"
     ]
    },
    {
     "name": "stderr",
     "output_type": "stream",
     "text": [
      "  9%|███▎                                   | 883/10357 [06:44<51:01,  3.09it/s]"
     ]
    },
    {
     "name": "stdout",
     "output_type": "stream",
     "text": [
      "[OK] 1470.txt → 1470_slots.csv and paths.geojson\n"
     ]
    },
    {
     "name": "stderr",
     "output_type": "stream",
     "text": [
      "  9%|███▎                                   | 884/10357 [06:45<57:37,  2.74it/s]"
     ]
    },
    {
     "name": "stdout",
     "output_type": "stream",
     "text": [
      "[OK] 1471.txt → 1471_slots.csv and paths.geojson\n"
     ]
    },
    {
     "name": "stderr",
     "output_type": "stream",
     "text": [
      "  9%|███▏                                 | 885/10357 [06:45<1:02:30,  2.53it/s]"
     ]
    },
    {
     "name": "stdout",
     "output_type": "stream",
     "text": [
      "[OK] 1472.txt → 1472_slots.csv and paths.geojson\n"
     ]
    },
    {
     "name": "stderr",
     "output_type": "stream",
     "text": [
      "  9%|███▏                                 | 886/10357 [06:46<1:13:10,  2.16it/s]"
     ]
    },
    {
     "name": "stdout",
     "output_type": "stream",
     "text": [
      "[OK] 1473.txt → 1473_slots.csv and paths.geojson\n"
     ]
    },
    {
     "name": "stderr",
     "output_type": "stream",
     "text": [
      "  9%|███▏                                 | 887/10357 [06:46<1:19:13,  1.99it/s]"
     ]
    },
    {
     "name": "stdout",
     "output_type": "stream",
     "text": [
      "[OK] 1474.txt → 1474_slots.csv and paths.geojson\n"
     ]
    },
    {
     "name": "stderr",
     "output_type": "stream",
     "text": [
      "  9%|███▏                                 | 888/10357 [06:47<1:27:50,  1.80it/s]"
     ]
    },
    {
     "name": "stdout",
     "output_type": "stream",
     "text": [
      "[OK] 1475.txt → 1475_slots.csv and paths.geojson\n"
     ]
    },
    {
     "name": "stderr",
     "output_type": "stream",
     "text": [
      "  9%|███▏                                 | 889/10357 [06:47<1:17:52,  2.03it/s]"
     ]
    },
    {
     "name": "stdout",
     "output_type": "stream",
     "text": [
      "[OK] 1476.txt → 1476_slots.csv and paths.geojson\n"
     ]
    },
    {
     "name": "stderr",
     "output_type": "stream",
     "text": [
      "  9%|███▏                                 | 890/10357 [06:48<1:37:45,  1.61it/s]"
     ]
    },
    {
     "name": "stdout",
     "output_type": "stream",
     "text": [
      "[OK] 1477.txt → 1477_slots.csv and paths.geojson\n"
     ]
    },
    {
     "name": "stderr",
     "output_type": "stream",
     "text": [
      "  9%|███▏                                 | 891/10357 [06:49<1:31:36,  1.72it/s]"
     ]
    },
    {
     "name": "stdout",
     "output_type": "stream",
     "text": [
      "[OK] 1478.txt → 1478_slots.csv and paths.geojson\n"
     ]
    },
    {
     "name": "stderr",
     "output_type": "stream",
     "text": [
      "  9%|███▏                                 | 893/10357 [06:50<1:37:30,  1.62it/s]"
     ]
    },
    {
     "name": "stdout",
     "output_type": "stream",
     "text": [
      "[OK] 1479.txt → 1479_slots.csv and paths.geojson\n",
      "[OK] 148.txt → 148_slots.csv and paths.geojson\n"
     ]
    },
    {
     "name": "stderr",
     "output_type": "stream",
     "text": [
      "  9%|███▏                                 | 894/10357 [06:51<1:38:56,  1.59it/s]"
     ]
    },
    {
     "name": "stdout",
     "output_type": "stream",
     "text": [
      "[OK] 1480.txt → 1480_slots.csv and paths.geojson\n"
     ]
    },
    {
     "name": "stderr",
     "output_type": "stream",
     "text": [
      "  9%|███▏                                 | 895/10357 [06:52<1:37:34,  1.62it/s]"
     ]
    },
    {
     "name": "stdout",
     "output_type": "stream",
     "text": [
      "[OK] 1481.txt → 1481_slots.csv and paths.geojson\n",
      "[OK] 1482.txt → 1482_slots.csv and paths.geojson\n"
     ]
    },
    {
     "name": "stderr",
     "output_type": "stream",
     "text": [
      "  9%|███▏                                 | 897/10357 [06:52<1:18:26,  2.01it/s]"
     ]
    },
    {
     "name": "stdout",
     "output_type": "stream",
     "text": [
      "[OK] 1483.txt → 1483_slots.csv and paths.geojson\n"
     ]
    },
    {
     "name": "stderr",
     "output_type": "stream",
     "text": [
      "  9%|███▏                                 | 898/10357 [06:53<1:19:51,  1.97it/s]"
     ]
    },
    {
     "name": "stdout",
     "output_type": "stream",
     "text": [
      "[OK] 1484.txt → 1484_slots.csv and paths.geojson\n"
     ]
    },
    {
     "name": "stderr",
     "output_type": "stream",
     "text": [
      "  9%|███▏                                 | 899/10357 [06:53<1:13:03,  2.16it/s]"
     ]
    },
    {
     "name": "stdout",
     "output_type": "stream",
     "text": [
      "[OK] 1485.txt → 1485_slots.csv and paths.geojson\n",
      "[OK] 1486.txt → 1486_slots.csv and paths.geojson\n"
     ]
    },
    {
     "name": "stderr",
     "output_type": "stream",
     "text": [
      "  9%|███▍                                   | 901/10357 [06:54<51:42,  3.05it/s]"
     ]
    },
    {
     "name": "stdout",
     "output_type": "stream",
     "text": [
      "[OK] 1487.txt → 1487_slots.csv and paths.geojson\n"
     ]
    },
    {
     "name": "stderr",
     "output_type": "stream",
     "text": [
      "  9%|███▍                                   | 902/10357 [06:54<57:41,  2.73it/s]"
     ]
    },
    {
     "name": "stdout",
     "output_type": "stream",
     "text": [
      "[OK] 1488.txt → 1488_slots.csv and paths.geojson\n",
      "[OK] 1489.txt → 1489_slots.csv and paths.geojson\n"
     ]
    },
    {
     "name": "stderr",
     "output_type": "stream",
     "text": [
      "  9%|███▏                                 | 904/10357 [06:55<1:05:23,  2.41it/s]"
     ]
    },
    {
     "name": "stdout",
     "output_type": "stream",
     "text": [
      "[OK] 149.txt → 149_slots.csv and paths.geojson\n"
     ]
    },
    {
     "name": "stderr",
     "output_type": "stream",
     "text": [
      "  9%|███▏                                 | 905/10357 [06:55<1:06:14,  2.38it/s]"
     ]
    },
    {
     "name": "stdout",
     "output_type": "stream",
     "text": [
      "[OK] 1490.txt → 1490_slots.csv and paths.geojson\n"
     ]
    },
    {
     "name": "stderr",
     "output_type": "stream",
     "text": [
      "  9%|███▏                                 | 906/10357 [06:56<1:23:28,  1.89it/s]"
     ]
    },
    {
     "name": "stdout",
     "output_type": "stream",
     "text": [
      "[OK] 1491.txt → 1491_slots.csv and paths.geojson\n"
     ]
    },
    {
     "name": "stderr",
     "output_type": "stream",
     "text": [
      "  9%|███▏                                 | 907/10357 [06:57<1:17:32,  2.03it/s]"
     ]
    },
    {
     "name": "stdout",
     "output_type": "stream",
     "text": [
      "[OK] 1492.txt → 1492_slots.csv and paths.geojson\n"
     ]
    },
    {
     "name": "stderr",
     "output_type": "stream",
     "text": [
      "  9%|███▏                                 | 908/10357 [06:57<1:25:32,  1.84it/s]"
     ]
    },
    {
     "name": "stdout",
     "output_type": "stream",
     "text": [
      "[OK] 1493.txt → 1493_slots.csv and paths.geojson\n"
     ]
    },
    {
     "name": "stderr",
     "output_type": "stream",
     "text": [
      "  9%|███▏                                 | 909/10357 [06:58<1:27:14,  1.80it/s]"
     ]
    },
    {
     "name": "stdout",
     "output_type": "stream",
     "text": [
      "[OK] 1494.txt → 1494_slots.csv and paths.geojson\n"
     ]
    },
    {
     "name": "stderr",
     "output_type": "stream",
     "text": [
      "  9%|███▎                                 | 910/10357 [06:59<1:30:42,  1.74it/s]"
     ]
    },
    {
     "name": "stdout",
     "output_type": "stream",
     "text": [
      "[OK] 1495.txt → 1495_slots.csv and paths.geojson\n"
     ]
    },
    {
     "name": "stderr",
     "output_type": "stream",
     "text": [
      "  9%|███▎                                 | 911/10357 [06:59<1:26:09,  1.83it/s]"
     ]
    },
    {
     "name": "stdout",
     "output_type": "stream",
     "text": [
      "[OK] 1496.txt → 1496_slots.csv and paths.geojson\n",
      "[SKIP] 1497.txt: no valid rows\n"
     ]
    },
    {
     "name": "stderr",
     "output_type": "stream",
     "text": [
      "  9%|███▍                                   | 913/10357 [06:59<56:56,  2.76it/s]"
     ]
    },
    {
     "name": "stdout",
     "output_type": "stream",
     "text": [
      "[OK] 1498.txt → 1498_slots.csv and paths.geojson\n"
     ]
    },
    {
     "name": "stderr",
     "output_type": "stream",
     "text": [
      "  9%|███▍                                   | 914/10357 [07:00<53:00,  2.97it/s]"
     ]
    },
    {
     "name": "stdout",
     "output_type": "stream",
     "text": [
      "[OK] 1499.txt → 1499_slots.csv and paths.geojson\n"
     ]
    },
    {
     "name": "stderr",
     "output_type": "stream",
     "text": [
      "  9%|███▍                                   | 915/10357 [07:00<56:57,  2.76it/s]"
     ]
    },
    {
     "name": "stdout",
     "output_type": "stream",
     "text": [
      "[OK] 15.txt → 15_slots.csv and paths.geojson\n"
     ]
    },
    {
     "name": "stderr",
     "output_type": "stream",
     "text": [
      "  9%|███▎                                 | 916/10357 [07:01<1:05:23,  2.41it/s]"
     ]
    },
    {
     "name": "stdout",
     "output_type": "stream",
     "text": [
      "[OK] 150.txt → 150_slots.csv and paths.geojson\n"
     ]
    },
    {
     "name": "stderr",
     "output_type": "stream",
     "text": [
      "  9%|███▎                                 | 917/10357 [07:01<1:00:00,  2.62it/s]"
     ]
    },
    {
     "name": "stdout",
     "output_type": "stream",
     "text": [
      "[OK] 1500.txt → 1500_slots.csv and paths.geojson\n"
     ]
    },
    {
     "name": "stderr",
     "output_type": "stream",
     "text": [
      "  9%|███▍                                   | 918/10357 [07:01<57:37,  2.73it/s]"
     ]
    },
    {
     "name": "stdout",
     "output_type": "stream",
     "text": [
      "[OK] 1501.txt → 1501_slots.csv and paths.geojson\n"
     ]
    },
    {
     "name": "stderr",
     "output_type": "stream",
     "text": [
      "  9%|███▎                                 | 919/10357 [07:02<1:24:33,  1.86it/s]"
     ]
    },
    {
     "name": "stdout",
     "output_type": "stream",
     "text": [
      "[OK] 1502.txt → 1502_slots.csv and paths.geojson\n"
     ]
    },
    {
     "name": "stderr",
     "output_type": "stream",
     "text": [
      "  9%|███▎                                 | 920/10357 [07:03<1:16:20,  2.06it/s]"
     ]
    },
    {
     "name": "stdout",
     "output_type": "stream",
     "text": [
      "[OK] 1503.txt → 1503_slots.csv and paths.geojson\n"
     ]
    },
    {
     "name": "stderr",
     "output_type": "stream",
     "text": [
      "  9%|███▎                                 | 921/10357 [07:03<1:11:52,  2.19it/s]"
     ]
    },
    {
     "name": "stdout",
     "output_type": "stream",
     "text": [
      "[OK] 1504.txt → 1504_slots.csv and paths.geojson\n"
     ]
    },
    {
     "name": "stderr",
     "output_type": "stream",
     "text": [
      "  9%|███▎                                 | 922/10357 [07:03<1:05:18,  2.41it/s]"
     ]
    },
    {
     "name": "stdout",
     "output_type": "stream",
     "text": [
      "[OK] 1505.txt → 1505_slots.csv and paths.geojson\n"
     ]
    },
    {
     "name": "stderr",
     "output_type": "stream",
     "text": [
      "  9%|███▍                                   | 923/10357 [07:03<58:08,  2.70it/s]"
     ]
    },
    {
     "name": "stdout",
     "output_type": "stream",
     "text": [
      "[OK] 1506.txt → 1506_slots.csv and paths.geojson\n"
     ]
    },
    {
     "name": "stderr",
     "output_type": "stream",
     "text": [
      "  9%|███▎                                 | 924/10357 [07:04<1:02:51,  2.50it/s]"
     ]
    },
    {
     "name": "stdout",
     "output_type": "stream",
     "text": [
      "[OK] 1507.txt → 1507_slots.csv and paths.geojson\n"
     ]
    },
    {
     "name": "stderr",
     "output_type": "stream",
     "text": [
      "  9%|███▍                                   | 925/10357 [07:04<58:50,  2.67it/s]"
     ]
    },
    {
     "name": "stdout",
     "output_type": "stream",
     "text": [
      "[OK] 1508.txt → 1508_slots.csv and paths.geojson\n"
     ]
    },
    {
     "name": "stderr",
     "output_type": "stream",
     "text": [
      "  9%|███▎                                 | 926/10357 [07:06<2:01:41,  1.29it/s]"
     ]
    },
    {
     "name": "stdout",
     "output_type": "stream",
     "text": [
      "[OK] 1509.txt → 1509_slots.csv and paths.geojson\n"
     ]
    },
    {
     "name": "stderr",
     "output_type": "stream",
     "text": [
      "  9%|███▎                                 | 928/10357 [07:07<1:21:11,  1.94it/s]"
     ]
    },
    {
     "name": "stdout",
     "output_type": "stream",
     "text": [
      "[OK] 151.txt → 151_slots.csv and paths.geojson\n",
      "[OK] 1510.txt → 1510_slots.csv and paths.geojson\n"
     ]
    },
    {
     "name": "stderr",
     "output_type": "stream",
     "text": [
      "  9%|███▎                                 | 929/10357 [07:07<1:30:49,  1.73it/s]"
     ]
    },
    {
     "name": "stdout",
     "output_type": "stream",
     "text": [
      "[OK] 1511.txt → 1511_slots.csv and paths.geojson\n"
     ]
    },
    {
     "name": "stderr",
     "output_type": "stream",
     "text": [
      "  9%|███▎                                 | 930/10357 [07:08<1:25:00,  1.85it/s]"
     ]
    },
    {
     "name": "stdout",
     "output_type": "stream",
     "text": [
      "[OK] 1512.txt → 1512_slots.csv and paths.geojson\n"
     ]
    },
    {
     "name": "stderr",
     "output_type": "stream",
     "text": [
      "  9%|███▎                                 | 931/10357 [07:08<1:20:30,  1.95it/s]"
     ]
    },
    {
     "name": "stdout",
     "output_type": "stream",
     "text": [
      "[OK] 1513.txt → 1513_slots.csv and paths.geojson\n"
     ]
    },
    {
     "name": "stderr",
     "output_type": "stream",
     "text": [
      "  9%|███▎                                 | 932/10357 [07:08<1:11:37,  2.19it/s]"
     ]
    },
    {
     "name": "stdout",
     "output_type": "stream",
     "text": [
      "[OK] 1514.txt → 1514_slots.csv and paths.geojson\n"
     ]
    },
    {
     "name": "stderr",
     "output_type": "stream",
     "text": [
      "  9%|███▎                                 | 933/10357 [07:09<1:00:13,  2.61it/s]"
     ]
    },
    {
     "name": "stdout",
     "output_type": "stream",
     "text": [
      "[OK] 1515.txt → 1515_slots.csv and paths.geojson\n"
     ]
    },
    {
     "name": "stderr",
     "output_type": "stream",
     "text": [
      "  9%|███▎                                 | 934/10357 [07:09<1:06:53,  2.35it/s]"
     ]
    },
    {
     "name": "stdout",
     "output_type": "stream",
     "text": [
      "[OK] 1516.txt → 1516_slots.csv and paths.geojson\n"
     ]
    },
    {
     "name": "stderr",
     "output_type": "stream",
     "text": [
      "  9%|███▎                                 | 935/10357 [07:10<1:00:12,  2.61it/s]"
     ]
    },
    {
     "name": "stdout",
     "output_type": "stream",
     "text": [
      "[OK] 1517.txt → 1517_slots.csv and paths.geojson\n"
     ]
    },
    {
     "name": "stderr",
     "output_type": "stream",
     "text": [
      "  9%|███▎                                 | 936/10357 [07:10<1:10:58,  2.21it/s]"
     ]
    },
    {
     "name": "stdout",
     "output_type": "stream",
     "text": [
      "[OK] 1518.txt → 1518_slots.csv and paths.geojson\n"
     ]
    },
    {
     "name": "stderr",
     "output_type": "stream",
     "text": [
      "  9%|███▎                                 | 937/10357 [07:11<1:24:44,  1.85it/s]"
     ]
    },
    {
     "name": "stdout",
     "output_type": "stream",
     "text": [
      "[OK] 1519.txt → 1519_slots.csv and paths.geojson\n"
     ]
    },
    {
     "name": "stderr",
     "output_type": "stream",
     "text": [
      "  9%|███▎                                 | 938/10357 [07:11<1:19:59,  1.96it/s]"
     ]
    },
    {
     "name": "stdout",
     "output_type": "stream",
     "text": [
      "[OK] 152.txt → 152_slots.csv and paths.geojson\n"
     ]
    },
    {
     "name": "stderr",
     "output_type": "stream",
     "text": [
      "  9%|███▎                                 | 939/10357 [07:12<1:32:05,  1.70it/s]"
     ]
    },
    {
     "name": "stdout",
     "output_type": "stream",
     "text": [
      "[OK] 1520.txt → 1520_slots.csv and paths.geojson\n"
     ]
    },
    {
     "name": "stderr",
     "output_type": "stream",
     "text": [
      "  9%|███▎                                 | 940/10357 [07:12<1:22:06,  1.91it/s]"
     ]
    },
    {
     "name": "stdout",
     "output_type": "stream",
     "text": [
      "[OK] 1521.txt → 1521_slots.csv and paths.geojson\n"
     ]
    },
    {
     "name": "stderr",
     "output_type": "stream",
     "text": [
      "  9%|███▎                                 | 941/10357 [07:13<1:10:51,  2.21it/s]"
     ]
    },
    {
     "name": "stdout",
     "output_type": "stream",
     "text": [
      "[OK] 1522.txt → 1522_slots.csv and paths.geojson\n"
     ]
    },
    {
     "name": "stderr",
     "output_type": "stream",
     "text": [
      "  9%|███▎                                 | 942/10357 [07:14<1:39:51,  1.57it/s]"
     ]
    },
    {
     "name": "stdout",
     "output_type": "stream",
     "text": [
      "[OK] 1523.txt → 1523_slots.csv and paths.geojson\n"
     ]
    },
    {
     "name": "stderr",
     "output_type": "stream",
     "text": [
      "  9%|███▎                                 | 943/10357 [07:15<1:55:53,  1.35it/s]"
     ]
    },
    {
     "name": "stdout",
     "output_type": "stream",
     "text": [
      "[OK] 1524.txt → 1524_slots.csv and paths.geojson\n"
     ]
    },
    {
     "name": "stderr",
     "output_type": "stream",
     "text": [
      "  9%|███▎                                 | 944/10357 [07:15<1:48:12,  1.45it/s]"
     ]
    },
    {
     "name": "stdout",
     "output_type": "stream",
     "text": [
      "[OK] 1525.txt → 1525_slots.csv and paths.geojson\n"
     ]
    },
    {
     "name": "stderr",
     "output_type": "stream",
     "text": [
      "  9%|███▍                                 | 945/10357 [07:16<1:43:34,  1.51it/s]"
     ]
    },
    {
     "name": "stdout",
     "output_type": "stream",
     "text": [
      "[OK] 1526.txt → 1526_slots.csv and paths.geojson\n"
     ]
    },
    {
     "name": "stderr",
     "output_type": "stream",
     "text": [
      "  9%|███▍                                 | 946/10357 [07:16<1:34:38,  1.66it/s]"
     ]
    },
    {
     "name": "stdout",
     "output_type": "stream",
     "text": [
      "[OK] 1527.txt → 1527_slots.csv and paths.geojson\n"
     ]
    },
    {
     "name": "stderr",
     "output_type": "stream",
     "text": [
      "  9%|███▍                                 | 947/10357 [07:17<1:23:15,  1.88it/s]"
     ]
    },
    {
     "name": "stdout",
     "output_type": "stream",
     "text": [
      "[OK] 1528.txt → 1528_slots.csv and paths.geojson\n"
     ]
    },
    {
     "name": "stderr",
     "output_type": "stream",
     "text": [
      "  9%|███▍                                 | 948/10357 [07:17<1:29:14,  1.76it/s]"
     ]
    },
    {
     "name": "stdout",
     "output_type": "stream",
     "text": [
      "[OK] 1529.txt → 1529_slots.csv and paths.geojson\n"
     ]
    },
    {
     "name": "stderr",
     "output_type": "stream",
     "text": [
      "  9%|███▍                                 | 949/10357 [07:18<1:26:16,  1.82it/s]"
     ]
    },
    {
     "name": "stdout",
     "output_type": "stream",
     "text": [
      "[OK] 153.txt → 153_slots.csv and paths.geojson\n"
     ]
    },
    {
     "name": "stderr",
     "output_type": "stream",
     "text": [
      "  9%|███▍                                 | 950/10357 [07:19<1:34:16,  1.66it/s]"
     ]
    },
    {
     "name": "stdout",
     "output_type": "stream",
     "text": [
      "[OK] 1530.txt → 1530_slots.csv and paths.geojson\n"
     ]
    },
    {
     "name": "stderr",
     "output_type": "stream",
     "text": [
      "  9%|███▍                                 | 952/10357 [07:19<1:07:26,  2.32it/s]"
     ]
    },
    {
     "name": "stdout",
     "output_type": "stream",
     "text": [
      "[OK] 1531.txt → 1531_slots.csv and paths.geojson\n",
      "[OK] 1532.txt → 1532_slots.csv and paths.geojson\n"
     ]
    },
    {
     "name": "stderr",
     "output_type": "stream",
     "text": [
      "  9%|███▍                                 | 954/10357 [07:20<1:02:07,  2.52it/s]"
     ]
    },
    {
     "name": "stdout",
     "output_type": "stream",
     "text": [
      "[OK] 1533.txt → 1533_slots.csv and paths.geojson\n",
      "[OK] 1534.txt → 1534_slots.csv and paths.geojson\n"
     ]
    },
    {
     "name": "stderr",
     "output_type": "stream",
     "text": [
      "  9%|███▍                                 | 955/10357 [07:21<1:16:46,  2.04it/s]"
     ]
    },
    {
     "name": "stdout",
     "output_type": "stream",
     "text": [
      "[OK] 1535.txt → 1535_slots.csv and paths.geojson\n"
     ]
    },
    {
     "name": "stderr",
     "output_type": "stream",
     "text": [
      "  9%|███▍                                 | 956/10357 [07:21<1:15:48,  2.07it/s]"
     ]
    },
    {
     "name": "stdout",
     "output_type": "stream",
     "text": [
      "[OK] 1536.txt → 1536_slots.csv and paths.geojson\n"
     ]
    },
    {
     "name": "stderr",
     "output_type": "stream",
     "text": [
      "  9%|███▍                                 | 957/10357 [07:22<1:11:55,  2.18it/s]"
     ]
    },
    {
     "name": "stdout",
     "output_type": "stream",
     "text": [
      "[OK] 1537.txt → 1537_slots.csv and paths.geojson\n"
     ]
    },
    {
     "name": "stderr",
     "output_type": "stream",
     "text": [
      "  9%|███▍                                 | 958/10357 [07:22<1:05:40,  2.39it/s]"
     ]
    },
    {
     "name": "stdout",
     "output_type": "stream",
     "text": [
      "[OK] 1538.txt → 1538_slots.csv and paths.geojson\n"
     ]
    },
    {
     "name": "stderr",
     "output_type": "stream",
     "text": [
      "  9%|███▍                                 | 959/10357 [07:22<1:07:14,  2.33it/s]"
     ]
    },
    {
     "name": "stdout",
     "output_type": "stream",
     "text": [
      "[OK] 1539.txt → 1539_slots.csv and paths.geojson\n"
     ]
    },
    {
     "name": "stderr",
     "output_type": "stream",
     "text": [
      "  9%|███▍                                 | 960/10357 [07:23<1:17:32,  2.02it/s]"
     ]
    },
    {
     "name": "stdout",
     "output_type": "stream",
     "text": [
      "[OK] 154.txt → 154_slots.csv and paths.geojson\n"
     ]
    },
    {
     "name": "stderr",
     "output_type": "stream",
     "text": [
      "  9%|███▍                                 | 961/10357 [07:23<1:05:09,  2.40it/s]"
     ]
    },
    {
     "name": "stdout",
     "output_type": "stream",
     "text": [
      "[OK] 1540.txt → 1540_slots.csv and paths.geojson\n"
     ]
    },
    {
     "name": "stderr",
     "output_type": "stream",
     "text": [
      "  9%|███▍                                 | 962/10357 [07:24<1:04:08,  2.44it/s]"
     ]
    },
    {
     "name": "stdout",
     "output_type": "stream",
     "text": [
      "[OK] 1541.txt → 1541_slots.csv and paths.geojson\n"
     ]
    },
    {
     "name": "stderr",
     "output_type": "stream",
     "text": [
      "  9%|███▍                                 | 963/10357 [07:24<1:00:45,  2.58it/s]"
     ]
    },
    {
     "name": "stdout",
     "output_type": "stream",
     "text": [
      "[OK] 1542.txt → 1542_slots.csv and paths.geojson\n"
     ]
    },
    {
     "name": "stderr",
     "output_type": "stream",
     "text": [
      "  9%|███▋                                   | 964/10357 [07:24<55:55,  2.80it/s]"
     ]
    },
    {
     "name": "stdout",
     "output_type": "stream",
     "text": [
      "[OK] 1543.txt → 1543_slots.csv and paths.geojson\n"
     ]
    },
    {
     "name": "stderr",
     "output_type": "stream",
     "text": [
      "  9%|███▋                                   | 967/10357 [07:25<33:58,  4.61it/s]"
     ]
    },
    {
     "name": "stdout",
     "output_type": "stream",
     "text": [
      "[OK] 1544.txt → 1544_slots.csv and paths.geojson\n",
      "[OK] 1545.txt → 1545_slots.csv\n",
      "[OK] 1546.txt → 1546_slots.csv and paths.geojson\n"
     ]
    },
    {
     "name": "stderr",
     "output_type": "stream",
     "text": [
      "  9%|███▋                                   | 969/10357 [07:25<38:30,  4.06it/s]"
     ]
    },
    {
     "name": "stdout",
     "output_type": "stream",
     "text": [
      "[OK] 1547.txt → 1547_slots.csv and paths.geojson\n",
      "[OK] 1548.txt → 1548_slots.csv and paths.geojson\n",
      "[OK] 1549.txt → 1549_slots.csv and paths.geojson\n"
     ]
    },
    {
     "name": "stderr",
     "output_type": "stream",
     "text": [
      "  9%|███▋                                   | 971/10357 [07:26<32:05,  4.87it/s]"
     ]
    },
    {
     "name": "stdout",
     "output_type": "stream",
     "text": [
      "[OK] 155.txt → 155_slots.csv and paths.geojson\n"
     ]
    },
    {
     "name": "stderr",
     "output_type": "stream",
     "text": [
      "  9%|███▋                                   | 972/10357 [07:26<36:06,  4.33it/s]"
     ]
    },
    {
     "name": "stdout",
     "output_type": "stream",
     "text": [
      "[OK] 1550.txt → 1550_slots.csv and paths.geojson\n"
     ]
    },
    {
     "name": "stderr",
     "output_type": "stream",
     "text": [
      "  9%|███▋                                   | 973/10357 [07:26<42:58,  3.64it/s]"
     ]
    },
    {
     "name": "stdout",
     "output_type": "stream",
     "text": [
      "[OK] 1551.txt → 1551_slots.csv and paths.geojson\n"
     ]
    },
    {
     "name": "stderr",
     "output_type": "stream",
     "text": [
      "  9%|███▋                                   | 974/10357 [07:27<49:20,  3.17it/s]"
     ]
    },
    {
     "name": "stdout",
     "output_type": "stream",
     "text": [
      "[OK] 1552.txt → 1552_slots.csv and paths.geojson\n"
     ]
    },
    {
     "name": "stderr",
     "output_type": "stream",
     "text": [
      "  9%|███▍                                 | 975/10357 [07:28<1:07:23,  2.32it/s]"
     ]
    },
    {
     "name": "stdout",
     "output_type": "stream",
     "text": [
      "[OK] 1553.txt → 1553_slots.csv and paths.geojson\n"
     ]
    },
    {
     "name": "stderr",
     "output_type": "stream",
     "text": [
      "  9%|███▋                                   | 976/10357 [07:28<59:46,  2.62it/s]"
     ]
    },
    {
     "name": "stdout",
     "output_type": "stream",
     "text": [
      "[OK] 1554.txt → 1554_slots.csv and paths.geojson\n"
     ]
    },
    {
     "name": "stderr",
     "output_type": "stream",
     "text": [
      "  9%|███▍                                 | 977/10357 [07:28<1:08:29,  2.28it/s]"
     ]
    },
    {
     "name": "stdout",
     "output_type": "stream",
     "text": [
      "[OK] 1555.txt → 1555_slots.csv and paths.geojson\n"
     ]
    },
    {
     "name": "stderr",
     "output_type": "stream",
     "text": [
      "  9%|███▍                                 | 978/10357 [07:29<1:04:22,  2.43it/s]"
     ]
    },
    {
     "name": "stdout",
     "output_type": "stream",
     "text": [
      "[OK] 1556.txt → 1556_slots.csv and paths.geojson\n"
     ]
    },
    {
     "name": "stderr",
     "output_type": "stream",
     "text": [
      "  9%|███▍                                 | 979/10357 [07:29<1:08:34,  2.28it/s]"
     ]
    },
    {
     "name": "stdout",
     "output_type": "stream",
     "text": [
      "[OK] 1557.txt → 1557_slots.csv and paths.geojson\n"
     ]
    },
    {
     "name": "stderr",
     "output_type": "stream",
     "text": [
      "  9%|███▌                                 | 980/10357 [07:30<1:07:52,  2.30it/s]"
     ]
    },
    {
     "name": "stdout",
     "output_type": "stream",
     "text": [
      "[OK] 1558.txt → 1558_slots.csv and paths.geojson\n"
     ]
    },
    {
     "name": "stderr",
     "output_type": "stream",
     "text": [
      "  9%|███▌                                 | 981/10357 [07:30<1:10:15,  2.22it/s]"
     ]
    },
    {
     "name": "stdout",
     "output_type": "stream",
     "text": [
      "[OK] 1559.txt → 1559_slots.csv and paths.geojson\n"
     ]
    },
    {
     "name": "stderr",
     "output_type": "stream",
     "text": [
      "  9%|███▌                                 | 982/10357 [07:31<1:15:24,  2.07it/s]"
     ]
    },
    {
     "name": "stdout",
     "output_type": "stream",
     "text": [
      "[OK] 156.txt → 156_slots.csv and paths.geojson\n"
     ]
    },
    {
     "name": "stderr",
     "output_type": "stream",
     "text": [
      "  9%|███▌                                 | 983/10357 [07:31<1:04:30,  2.42it/s]"
     ]
    },
    {
     "name": "stdout",
     "output_type": "stream",
     "text": [
      "[OK] 1560.txt → 1560_slots.csv and paths.geojson\n"
     ]
    },
    {
     "name": "stderr",
     "output_type": "stream",
     "text": [
      " 10%|███▌                                 | 984/10357 [07:32<1:15:30,  2.07it/s]"
     ]
    },
    {
     "name": "stdout",
     "output_type": "stream",
     "text": [
      "[OK] 1561.txt → 1561_slots.csv and paths.geojson\n"
     ]
    },
    {
     "name": "stderr",
     "output_type": "stream",
     "text": [
      " 10%|███▌                                 | 985/10357 [07:32<1:05:33,  2.38it/s]"
     ]
    },
    {
     "name": "stdout",
     "output_type": "stream",
     "text": [
      "[OK] 1562.txt → 1562_slots.csv and paths.geojson\n"
     ]
    },
    {
     "name": "stderr",
     "output_type": "stream",
     "text": [
      " 10%|███▌                                 | 986/10357 [07:33<1:49:39,  1.42it/s]"
     ]
    },
    {
     "name": "stdout",
     "output_type": "stream",
     "text": [
      "[OK] 1563.txt → 1563_slots.csv and paths.geojson\n"
     ]
    },
    {
     "name": "stderr",
     "output_type": "stream",
     "text": [
      " 10%|███▌                                 | 987/10357 [07:34<1:31:19,  1.71it/s]"
     ]
    },
    {
     "name": "stdout",
     "output_type": "stream",
     "text": [
      "[OK] 1564.txt → 1564_slots.csv and paths.geojson\n"
     ]
    },
    {
     "name": "stderr",
     "output_type": "stream",
     "text": [
      " 10%|███▌                                 | 988/10357 [07:34<1:37:34,  1.60it/s]"
     ]
    },
    {
     "name": "stdout",
     "output_type": "stream",
     "text": [
      "[OK] 1565.txt → 1565_slots.csv and paths.geojson\n"
     ]
    },
    {
     "name": "stderr",
     "output_type": "stream",
     "text": [
      " 10%|███▌                                 | 989/10357 [07:35<1:34:59,  1.64it/s]"
     ]
    },
    {
     "name": "stdout",
     "output_type": "stream",
     "text": [
      "[OK] 1566.txt → 1566_slots.csv and paths.geojson\n"
     ]
    },
    {
     "name": "stderr",
     "output_type": "stream",
     "text": [
      " 10%|███▌                                 | 990/10357 [07:35<1:27:51,  1.78it/s]"
     ]
    },
    {
     "name": "stdout",
     "output_type": "stream",
     "text": [
      "[OK] 1567.txt → 1567_slots.csv and paths.geojson\n"
     ]
    },
    {
     "name": "stderr",
     "output_type": "stream",
     "text": [
      " 10%|███▌                                 | 991/10357 [07:36<1:20:02,  1.95it/s]"
     ]
    },
    {
     "name": "stdout",
     "output_type": "stream",
     "text": [
      "[OK] 1568.txt → 1568_slots.csv and paths.geojson\n"
     ]
    },
    {
     "name": "stderr",
     "output_type": "stream",
     "text": [
      " 10%|███▌                                 | 992/10357 [07:36<1:19:39,  1.96it/s]"
     ]
    },
    {
     "name": "stdout",
     "output_type": "stream",
     "text": [
      "[OK] 1569.txt → 1569_slots.csv and paths.geojson\n"
     ]
    },
    {
     "name": "stderr",
     "output_type": "stream",
     "text": [
      " 10%|███▌                                 | 993/10357 [07:37<1:23:25,  1.87it/s]"
     ]
    },
    {
     "name": "stdout",
     "output_type": "stream",
     "text": [
      "[OK] 157.txt → 157_slots.csv and paths.geojson\n"
     ]
    },
    {
     "name": "stderr",
     "output_type": "stream",
     "text": [
      " 10%|███▌                                 | 994/10357 [07:37<1:24:44,  1.84it/s]"
     ]
    },
    {
     "name": "stdout",
     "output_type": "stream",
     "text": [
      "[OK] 1570.txt → 1570_slots.csv and paths.geojson\n"
     ]
    },
    {
     "name": "stderr",
     "output_type": "stream",
     "text": [
      " 10%|███▌                                 | 995/10357 [07:38<1:11:36,  2.18it/s]"
     ]
    },
    {
     "name": "stdout",
     "output_type": "stream",
     "text": [
      "[OK] 1571.txt → 1571_slots.csv and paths.geojson\n"
     ]
    },
    {
     "name": "stderr",
     "output_type": "stream",
     "text": [
      " 10%|███▌                                 | 996/10357 [07:38<1:10:15,  2.22it/s]"
     ]
    },
    {
     "name": "stdout",
     "output_type": "stream",
     "text": [
      "[OK] 1572.txt → 1572_slots.csv and paths.geojson\n"
     ]
    },
    {
     "name": "stderr",
     "output_type": "stream",
     "text": [
      " 10%|███▌                                 | 997/10357 [07:38<1:06:13,  2.36it/s]"
     ]
    },
    {
     "name": "stdout",
     "output_type": "stream",
     "text": [
      "[OK] 1573.txt → 1573_slots.csv and paths.geojson\n"
     ]
    },
    {
     "name": "stderr",
     "output_type": "stream",
     "text": [
      " 10%|███▌                                 | 998/10357 [07:39<1:09:51,  2.23it/s]"
     ]
    },
    {
     "name": "stdout",
     "output_type": "stream",
     "text": [
      "[OK] 1574.txt → 1574_slots.csv and paths.geojson\n"
     ]
    },
    {
     "name": "stderr",
     "output_type": "stream",
     "text": [
      " 10%|███▌                                 | 999/10357 [07:39<1:10:14,  2.22it/s]"
     ]
    },
    {
     "name": "stdout",
     "output_type": "stream",
     "text": [
      "[OK] 1575.txt → 1575_slots.csv and paths.geojson\n"
     ]
    },
    {
     "name": "stderr",
     "output_type": "stream",
     "text": [
      " 10%|███▍                                | 1000/10357 [07:40<1:25:44,  1.82it/s]"
     ]
    },
    {
     "name": "stdout",
     "output_type": "stream",
     "text": [
      "[OK] 1576.txt → 1576_slots.csv and paths.geojson\n",
      "[OK] 1577.txt → 1577_slots.csv\n"
     ]
    },
    {
     "name": "stderr",
     "output_type": "stream",
     "text": [
      " 10%|███▋                                  | 1002/10357 [07:40<58:07,  2.68it/s]"
     ]
    },
    {
     "name": "stdout",
     "output_type": "stream",
     "text": [
      "[OK] 1578.txt → 1578_slots.csv and paths.geojson\n"
     ]
    },
    {
     "name": "stderr",
     "output_type": "stream",
     "text": [
      " 10%|███▍                                | 1003/10357 [07:41<1:22:11,  1.90it/s]"
     ]
    },
    {
     "name": "stdout",
     "output_type": "stream",
     "text": [
      "[OK] 1579.txt → 1579_slots.csv and paths.geojson\n"
     ]
    },
    {
     "name": "stderr",
     "output_type": "stream",
     "text": [
      " 10%|███▍                                | 1004/10357 [07:42<1:23:59,  1.86it/s]"
     ]
    },
    {
     "name": "stdout",
     "output_type": "stream",
     "text": [
      "[OK] 158.txt → 158_slots.csv and paths.geojson\n"
     ]
    },
    {
     "name": "stderr",
     "output_type": "stream",
     "text": [
      " 10%|███▍                                | 1005/10357 [07:43<1:37:43,  1.59it/s]"
     ]
    },
    {
     "name": "stdout",
     "output_type": "stream",
     "text": [
      "[OK] 1580.txt → 1580_slots.csv and paths.geojson\n"
     ]
    },
    {
     "name": "stderr",
     "output_type": "stream",
     "text": [
      " 10%|███▍                                | 1006/10357 [07:43<1:24:07,  1.85it/s]"
     ]
    },
    {
     "name": "stdout",
     "output_type": "stream",
     "text": [
      "[OK] 1581.txt → 1581_slots.csv and paths.geojson\n"
     ]
    },
    {
     "name": "stderr",
     "output_type": "stream",
     "text": [
      " 10%|███▌                                | 1007/10357 [07:44<1:27:11,  1.79it/s]"
     ]
    },
    {
     "name": "stdout",
     "output_type": "stream",
     "text": [
      "[OK] 1582.txt → 1582_slots.csv and paths.geojson\n"
     ]
    },
    {
     "name": "stderr",
     "output_type": "stream",
     "text": [
      " 10%|███▌                                | 1008/10357 [07:44<1:24:21,  1.85it/s]"
     ]
    },
    {
     "name": "stdout",
     "output_type": "stream",
     "text": [
      "[OK] 1583.txt → 1583_slots.csv and paths.geojson\n"
     ]
    },
    {
     "name": "stderr",
     "output_type": "stream",
     "text": [
      " 10%|███▌                                | 1009/10357 [07:45<1:16:56,  2.03it/s]"
     ]
    },
    {
     "name": "stdout",
     "output_type": "stream",
     "text": [
      "[OK] 1584.txt → 1584_slots.csv and paths.geojson\n"
     ]
    },
    {
     "name": "stderr",
     "output_type": "stream",
     "text": [
      " 10%|███▌                                | 1010/10357 [07:45<1:21:43,  1.91it/s]"
     ]
    },
    {
     "name": "stdout",
     "output_type": "stream",
     "text": [
      "[OK] 1585.txt → 1585_slots.csv and paths.geojson\n"
     ]
    },
    {
     "name": "stderr",
     "output_type": "stream",
     "text": [
      " 10%|███▋                                  | 1012/10357 [07:46<57:17,  2.72it/s]"
     ]
    },
    {
     "name": "stdout",
     "output_type": "stream",
     "text": [
      "[OK] 1586.txt → 1586_slots.csv and paths.geojson\n",
      "[OK] 1587.txt → 1587_slots.csv and paths.geojson\n"
     ]
    },
    {
     "name": "stderr",
     "output_type": "stream",
     "text": [
      " 10%|███▋                                  | 1013/10357 [07:46<59:09,  2.63it/s]"
     ]
    },
    {
     "name": "stdout",
     "output_type": "stream",
     "text": [
      "[OK] 1588.txt → 1588_slots.csv and paths.geojson\n"
     ]
    },
    {
     "name": "stderr",
     "output_type": "stream",
     "text": [
      " 10%|███▌                                | 1014/10357 [07:47<1:04:29,  2.41it/s]"
     ]
    },
    {
     "name": "stdout",
     "output_type": "stream",
     "text": [
      "[OK] 1589.txt → 1589_slots.csv and paths.geojson\n",
      "[OK] 159.txt → 159_slots.csv and paths.geojson\n"
     ]
    },
    {
     "name": "stderr",
     "output_type": "stream",
     "text": [
      " 10%|███▋                                  | 1016/10357 [07:47<53:35,  2.91it/s]"
     ]
    },
    {
     "name": "stdout",
     "output_type": "stream",
     "text": [
      "[OK] 1590.txt → 1590_slots.csv and paths.geojson\n"
     ]
    },
    {
     "name": "stderr",
     "output_type": "stream",
     "text": [
      " 10%|███▋                                  | 1018/10357 [07:48<45:55,  3.39it/s]"
     ]
    },
    {
     "name": "stdout",
     "output_type": "stream",
     "text": [
      "[OK] 1591.txt → 1591_slots.csv and paths.geojson\n",
      "[OK] 1592.txt → 1592_slots.csv and paths.geojson\n"
     ]
    },
    {
     "name": "stderr",
     "output_type": "stream",
     "text": [
      " 10%|███▋                                  | 1019/10357 [07:48<59:25,  2.62it/s]"
     ]
    },
    {
     "name": "stdout",
     "output_type": "stream",
     "text": [
      "[OK] 1593.txt → 1593_slots.csv and paths.geojson\n"
     ]
    },
    {
     "name": "stderr",
     "output_type": "stream",
     "text": [
      " 10%|███▋                                  | 1020/10357 [07:49<53:38,  2.90it/s]"
     ]
    },
    {
     "name": "stdout",
     "output_type": "stream",
     "text": [
      "[OK] 1594.txt → 1594_slots.csv and paths.geojson\n"
     ]
    },
    {
     "name": "stderr",
     "output_type": "stream",
     "text": [
      " 10%|███▋                                  | 1021/10357 [07:49<55:33,  2.80it/s]"
     ]
    },
    {
     "name": "stdout",
     "output_type": "stream",
     "text": [
      "[OK] 1595.txt → 1595_slots.csv and paths.geojson\n"
     ]
    },
    {
     "name": "stderr",
     "output_type": "stream",
     "text": [
      " 10%|███▋                                  | 1022/10357 [07:49<55:56,  2.78it/s]"
     ]
    },
    {
     "name": "stdout",
     "output_type": "stream",
     "text": [
      "[OK] 1596.txt → 1596_slots.csv and paths.geojson\n",
      "[OK] 1597.txt → 1597_slots.csv and paths.geojson\n"
     ]
    },
    {
     "name": "stderr",
     "output_type": "stream",
     "text": [
      " 10%|███▊                                  | 1024/10357 [07:50<54:44,  2.84it/s]"
     ]
    },
    {
     "name": "stdout",
     "output_type": "stream",
     "text": [
      "[OK] 1598.txt → 1598_slots.csv and paths.geojson\n"
     ]
    },
    {
     "name": "stderr",
     "output_type": "stream",
     "text": [
      " 10%|███▌                                | 1025/10357 [07:51<1:14:26,  2.09it/s]"
     ]
    },
    {
     "name": "stdout",
     "output_type": "stream",
     "text": [
      "[OK] 1599.txt → 1599_slots.csv and paths.geojson\n"
     ]
    },
    {
     "name": "stderr",
     "output_type": "stream",
     "text": [
      " 10%|███▌                                | 1026/10357 [07:52<1:27:54,  1.77it/s]"
     ]
    },
    {
     "name": "stdout",
     "output_type": "stream",
     "text": [
      "[OK] 16.txt → 16_slots.csv and paths.geojson\n"
     ]
    },
    {
     "name": "stderr",
     "output_type": "stream",
     "text": [
      " 10%|███▌                                | 1027/10357 [07:53<1:45:12,  1.48it/s]"
     ]
    },
    {
     "name": "stdout",
     "output_type": "stream",
     "text": [
      "[OK] 160.txt → 160_slots.csv and paths.geojson\n"
     ]
    },
    {
     "name": "stderr",
     "output_type": "stream",
     "text": [
      " 10%|███▌                                | 1028/10357 [07:53<1:36:12,  1.62it/s]"
     ]
    },
    {
     "name": "stdout",
     "output_type": "stream",
     "text": [
      "[OK] 1600.txt → 1600_slots.csv and paths.geojson\n"
     ]
    },
    {
     "name": "stderr",
     "output_type": "stream",
     "text": [
      " 10%|███▌                                | 1029/10357 [07:54<1:27:20,  1.78it/s]"
     ]
    },
    {
     "name": "stdout",
     "output_type": "stream",
     "text": [
      "[OK] 1601.txt → 1601_slots.csv and paths.geojson\n"
     ]
    },
    {
     "name": "stderr",
     "output_type": "stream",
     "text": [
      " 10%|███▌                                | 1030/10357 [07:54<1:13:11,  2.12it/s]"
     ]
    },
    {
     "name": "stdout",
     "output_type": "stream",
     "text": [
      "[OK] 1602.txt → 1602_slots.csv and paths.geojson\n"
     ]
    },
    {
     "name": "stderr",
     "output_type": "stream",
     "text": [
      " 10%|███▌                                | 1031/10357 [07:54<1:12:04,  2.16it/s]"
     ]
    },
    {
     "name": "stdout",
     "output_type": "stream",
     "text": [
      "[OK] 1603.txt → 1603_slots.csv and paths.geojson\n"
     ]
    },
    {
     "name": "stderr",
     "output_type": "stream",
     "text": [
      " 10%|███▌                                | 1032/10357 [07:55<1:19:44,  1.95it/s]"
     ]
    },
    {
     "name": "stdout",
     "output_type": "stream",
     "text": [
      "[OK] 1604.txt → 1604_slots.csv and paths.geojson\n"
     ]
    },
    {
     "name": "stderr",
     "output_type": "stream",
     "text": [
      " 10%|███▌                                | 1033/10357 [07:55<1:25:39,  1.81it/s]"
     ]
    },
    {
     "name": "stdout",
     "output_type": "stream",
     "text": [
      "[OK] 1605.txt → 1605_slots.csv and paths.geojson\n"
     ]
    },
    {
     "name": "stderr",
     "output_type": "stream",
     "text": [
      " 10%|███▌                                | 1034/10357 [07:56<1:10:07,  2.22it/s]"
     ]
    },
    {
     "name": "stdout",
     "output_type": "stream",
     "text": [
      "[OK] 1606.txt → 1606_slots.csv and paths.geojson\n"
     ]
    },
    {
     "name": "stderr",
     "output_type": "stream",
     "text": [
      " 10%|███▌                                | 1035/10357 [07:56<1:13:59,  2.10it/s]"
     ]
    },
    {
     "name": "stdout",
     "output_type": "stream",
     "text": [
      "[OK] 1607.txt → 1607_slots.csv and paths.geojson\n"
     ]
    },
    {
     "name": "stderr",
     "output_type": "stream",
     "text": [
      " 10%|███▌                                | 1036/10357 [07:57<1:05:09,  2.38it/s]"
     ]
    },
    {
     "name": "stdout",
     "output_type": "stream",
     "text": [
      "[OK] 1608.txt → 1608_slots.csv and paths.geojson\n"
     ]
    },
    {
     "name": "stderr",
     "output_type": "stream",
     "text": [
      " 10%|███▌                                | 1037/10357 [07:57<1:20:25,  1.93it/s]"
     ]
    },
    {
     "name": "stdout",
     "output_type": "stream",
     "text": [
      "[OK] 1609.txt → 1609_slots.csv and paths.geojson\n"
     ]
    },
    {
     "name": "stderr",
     "output_type": "stream",
     "text": [
      " 10%|███▌                                | 1038/10357 [07:58<1:33:11,  1.67it/s]"
     ]
    },
    {
     "name": "stdout",
     "output_type": "stream",
     "text": [
      "[OK] 161.txt → 161_slots.csv and paths.geojson\n"
     ]
    },
    {
     "name": "stderr",
     "output_type": "stream",
     "text": [
      " 10%|███▌                                | 1039/10357 [07:58<1:24:12,  1.84it/s]"
     ]
    },
    {
     "name": "stdout",
     "output_type": "stream",
     "text": [
      "[OK] 1610.txt → 1610_slots.csv and paths.geojson\n"
     ]
    },
    {
     "name": "stderr",
     "output_type": "stream",
     "text": [
      " 10%|███▌                                | 1041/10357 [07:59<1:05:34,  2.37it/s]"
     ]
    },
    {
     "name": "stdout",
     "output_type": "stream",
     "text": [
      "[OK] 1611.txt → 1611_slots.csv and paths.geojson\n",
      "[OK] 1612.txt → 1612_slots.csv and paths.geojson\n"
     ]
    },
    {
     "name": "stderr",
     "output_type": "stream",
     "text": [
      " 10%|███▊                                  | 1042/10357 [07:59<57:44,  2.69it/s]"
     ]
    },
    {
     "name": "stdout",
     "output_type": "stream",
     "text": [
      "[OK] 1613.txt → 1613_slots.csv and paths.geojson\n"
     ]
    },
    {
     "name": "stderr",
     "output_type": "stream",
     "text": [
      " 10%|███▊                                  | 1043/10357 [08:00<56:19,  2.76it/s]"
     ]
    },
    {
     "name": "stdout",
     "output_type": "stream",
     "text": [
      "[OK] 1614.txt → 1614_slots.csv and paths.geojson\n"
     ]
    },
    {
     "name": "stderr",
     "output_type": "stream",
     "text": [
      " 10%|███▊                                  | 1044/10357 [08:00<58:03,  2.67it/s]"
     ]
    },
    {
     "name": "stdout",
     "output_type": "stream",
     "text": [
      "[OK] 1615.txt → 1615_slots.csv and paths.geojson\n"
     ]
    },
    {
     "name": "stderr",
     "output_type": "stream",
     "text": [
      " 10%|███▋                                | 1045/10357 [08:01<1:08:20,  2.27it/s]"
     ]
    },
    {
     "name": "stdout",
     "output_type": "stream",
     "text": [
      "[OK] 1616.txt → 1616_slots.csv and paths.geojson\n"
     ]
    },
    {
     "name": "stderr",
     "output_type": "stream",
     "text": [
      " 10%|███▋                                | 1046/10357 [08:01<1:03:55,  2.43it/s]"
     ]
    },
    {
     "name": "stdout",
     "output_type": "stream",
     "text": [
      "[OK] 1617.txt → 1617_slots.csv and paths.geojson\n"
     ]
    },
    {
     "name": "stderr",
     "output_type": "stream",
     "text": [
      " 10%|███▋                                | 1047/10357 [08:02<1:06:40,  2.33it/s]"
     ]
    },
    {
     "name": "stdout",
     "output_type": "stream",
     "text": [
      "[OK] 1618.txt → 1618_slots.csv and paths.geojson\n"
     ]
    },
    {
     "name": "stderr",
     "output_type": "stream",
     "text": [
      " 10%|███▋                                | 1048/10357 [08:02<1:03:04,  2.46it/s]"
     ]
    },
    {
     "name": "stdout",
     "output_type": "stream",
     "text": [
      "[OK] 1619.txt → 1619_slots.csv and paths.geojson\n"
     ]
    },
    {
     "name": "stderr",
     "output_type": "stream",
     "text": [
      " 10%|███▋                                | 1049/10357 [08:02<1:08:58,  2.25it/s]"
     ]
    },
    {
     "name": "stdout",
     "output_type": "stream",
     "text": [
      "[OK] 162.txt → 162_slots.csv and paths.geojson\n"
     ]
    },
    {
     "name": "stderr",
     "output_type": "stream",
     "text": [
      " 10%|███▋                                | 1050/10357 [08:03<1:01:19,  2.53it/s]"
     ]
    },
    {
     "name": "stdout",
     "output_type": "stream",
     "text": [
      "[OK] 1620.txt → 1620_slots.csv and paths.geojson\n",
      "[OK] 1621.txt → 1621_slots.csv\n"
     ]
    },
    {
     "name": "stderr",
     "output_type": "stream",
     "text": [
      " 10%|███▊                                  | 1052/10357 [08:03<48:36,  3.19it/s]"
     ]
    },
    {
     "name": "stdout",
     "output_type": "stream",
     "text": [
      "[OK] 1622.txt → 1622_slots.csv and paths.geojson\n",
      "[OK] 1623.txt → 1623_slots.csv\n",
      "[OK] 1624.txt → 1624_slots.csv\n"
     ]
    },
    {
     "name": "stderr",
     "output_type": "stream",
     "text": [
      " 10%|███▊                                  | 1055/10357 [08:04<46:54,  3.31it/s]"
     ]
    },
    {
     "name": "stdout",
     "output_type": "stream",
     "text": [
      "[OK] 1625.txt → 1625_slots.csv and paths.geojson\n",
      "[OK] 1626.txt → 1626_slots.csv\n"
     ]
    },
    {
     "name": "stderr",
     "output_type": "stream",
     "text": [
      " 10%|███▉                                  | 1057/10357 [08:05<53:45,  2.88it/s]"
     ]
    },
    {
     "name": "stdout",
     "output_type": "stream",
     "text": [
      "[OK] 1627.txt → 1627_slots.csv and paths.geojson\n",
      "[OK] 1628.txt → 1628_slots.csv and paths.geojson\n"
     ]
    },
    {
     "name": "stderr",
     "output_type": "stream",
     "text": [
      " 10%|███▉                                  | 1059/10357 [08:05<48:23,  3.20it/s]"
     ]
    },
    {
     "name": "stdout",
     "output_type": "stream",
     "text": [
      "[OK] 1629.txt → 1629_slots.csv and paths.geojson\n"
     ]
    },
    {
     "name": "stderr",
     "output_type": "stream",
     "text": [
      " 10%|███▉                                  | 1060/10357 [08:06<49:15,  3.15it/s]"
     ]
    },
    {
     "name": "stdout",
     "output_type": "stream",
     "text": [
      "[OK] 163.txt → 163_slots.csv and paths.geojson\n"
     ]
    },
    {
     "name": "stderr",
     "output_type": "stream",
     "text": [
      " 10%|███▋                                | 1061/10357 [08:07<1:07:10,  2.31it/s]"
     ]
    },
    {
     "name": "stdout",
     "output_type": "stream",
     "text": [
      "[OK] 1630.txt → 1630_slots.csv and paths.geojson\n"
     ]
    },
    {
     "name": "stderr",
     "output_type": "stream",
     "text": [
      " 10%|███▋                                | 1062/10357 [08:07<1:06:47,  2.32it/s]"
     ]
    },
    {
     "name": "stdout",
     "output_type": "stream",
     "text": [
      "[OK] 1631.txt → 1631_slots.csv and paths.geojson\n"
     ]
    },
    {
     "name": "stderr",
     "output_type": "stream",
     "text": [
      " 10%|███▋                                | 1063/10357 [08:08<1:16:14,  2.03it/s]"
     ]
    },
    {
     "name": "stdout",
     "output_type": "stream",
     "text": [
      "[OK] 1632.txt → 1632_slots.csv and paths.geojson\n"
     ]
    },
    {
     "name": "stderr",
     "output_type": "stream",
     "text": [
      " 10%|███▋                                | 1064/10357 [08:08<1:13:09,  2.12it/s]"
     ]
    },
    {
     "name": "stdout",
     "output_type": "stream",
     "text": [
      "[OK] 1633.txt → 1633_slots.csv and paths.geojson\n"
     ]
    },
    {
     "name": "stderr",
     "output_type": "stream",
     "text": [
      " 10%|███▋                                | 1065/10357 [08:08<1:09:05,  2.24it/s]"
     ]
    },
    {
     "name": "stdout",
     "output_type": "stream",
     "text": [
      "[OK] 1634.txt → 1634_slots.csv and paths.geojson\n"
     ]
    },
    {
     "name": "stderr",
     "output_type": "stream",
     "text": [
      " 10%|███▋                                | 1066/10357 [08:09<1:18:27,  1.97it/s]"
     ]
    },
    {
     "name": "stdout",
     "output_type": "stream",
     "text": [
      "[OK] 1635.txt → 1635_slots.csv and paths.geojson\n"
     ]
    },
    {
     "name": "stderr",
     "output_type": "stream",
     "text": [
      " 10%|███▋                                | 1067/10357 [08:10<1:15:47,  2.04it/s]"
     ]
    },
    {
     "name": "stdout",
     "output_type": "stream",
     "text": [
      "[OK] 1636.txt → 1636_slots.csv and paths.geojson\n"
     ]
    },
    {
     "name": "stderr",
     "output_type": "stream",
     "text": [
      " 10%|███▋                                | 1068/10357 [08:10<1:11:42,  2.16it/s]"
     ]
    },
    {
     "name": "stdout",
     "output_type": "stream",
     "text": [
      "[OK] 1637.txt → 1637_slots.csv and paths.geojson\n"
     ]
    },
    {
     "name": "stderr",
     "output_type": "stream",
     "text": [
      " 10%|███▋                                | 1069/10357 [08:10<1:07:01,  2.31it/s]"
     ]
    },
    {
     "name": "stdout",
     "output_type": "stream",
     "text": [
      "[OK] 1638.txt → 1638_slots.csv and paths.geojson\n"
     ]
    },
    {
     "name": "stderr",
     "output_type": "stream",
     "text": [
      " 10%|███▉                                  | 1070/10357 [08:11<58:22,  2.65it/s]"
     ]
    },
    {
     "name": "stdout",
     "output_type": "stream",
     "text": [
      "[OK] 1639.txt → 1639_slots.csv and paths.geojson\n"
     ]
    },
    {
     "name": "stderr",
     "output_type": "stream",
     "text": [
      " 10%|███▋                                | 1071/10357 [08:11<1:07:15,  2.30it/s]"
     ]
    },
    {
     "name": "stdout",
     "output_type": "stream",
     "text": [
      "[OK] 164.txt → 164_slots.csv and paths.geojson\n"
     ]
    },
    {
     "name": "stderr",
     "output_type": "stream",
     "text": [
      " 10%|███▋                                | 1072/10357 [08:11<1:00:24,  2.56it/s]"
     ]
    },
    {
     "name": "stdout",
     "output_type": "stream",
     "text": [
      "[OK] 1640.txt → 1640_slots.csv and paths.geojson\n"
     ]
    },
    {
     "name": "stderr",
     "output_type": "stream",
     "text": [
      " 10%|███▋                                | 1073/10357 [08:12<1:08:36,  2.26it/s]"
     ]
    },
    {
     "name": "stdout",
     "output_type": "stream",
     "text": [
      "[OK] 1641.txt → 1641_slots.csv and paths.geojson\n"
     ]
    },
    {
     "name": "stderr",
     "output_type": "stream",
     "text": [
      " 10%|███▋                                | 1074/10357 [08:13<1:10:22,  2.20it/s]"
     ]
    },
    {
     "name": "stdout",
     "output_type": "stream",
     "text": [
      "[OK] 1642.txt → 1642_slots.csv and paths.geojson\n"
     ]
    },
    {
     "name": "stderr",
     "output_type": "stream",
     "text": [
      " 10%|███▉                                  | 1075/10357 [08:13<58:59,  2.62it/s]"
     ]
    },
    {
     "name": "stdout",
     "output_type": "stream",
     "text": [
      "[OK] 1643.txt → 1643_slots.csv and paths.geojson\n"
     ]
    },
    {
     "name": "stderr",
     "output_type": "stream",
     "text": [
      " 10%|███▋                                | 1076/10357 [08:13<1:02:20,  2.48it/s]"
     ]
    },
    {
     "name": "stdout",
     "output_type": "stream",
     "text": [
      "[OK] 1644.txt → 1644_slots.csv and paths.geojson\n"
     ]
    },
    {
     "name": "stderr",
     "output_type": "stream",
     "text": [
      " 10%|███▉                                  | 1078/10357 [08:14<53:01,  2.92it/s]"
     ]
    },
    {
     "name": "stdout",
     "output_type": "stream",
     "text": [
      "[OK] 1645.txt → 1645_slots.csv and paths.geojson\n",
      "[OK] 1646.txt → 1646_slots.csv and paths.geojson\n",
      "[OK] 1647.txt → 1647_slots.csv\n"
     ]
    },
    {
     "name": "stderr",
     "output_type": "stream",
     "text": [
      " 10%|███▉                                  | 1080/10357 [08:15<56:20,  2.74it/s]"
     ]
    },
    {
     "name": "stdout",
     "output_type": "stream",
     "text": [
      "[OK] 1648.txt → 1648_slots.csv and paths.geojson\n"
     ]
    },
    {
     "name": "stderr",
     "output_type": "stream",
     "text": [
      " 10%|███▉                                  | 1081/10357 [08:15<57:50,  2.67it/s]"
     ]
    },
    {
     "name": "stdout",
     "output_type": "stream",
     "text": [
      "[OK] 1649.txt → 1649_slots.csv and paths.geojson\n"
     ]
    },
    {
     "name": "stderr",
     "output_type": "stream",
     "text": [
      " 10%|███▊                                | 1082/10357 [08:16<1:04:43,  2.39it/s]"
     ]
    },
    {
     "name": "stdout",
     "output_type": "stream",
     "text": [
      "[OK] 165.txt → 165_slots.csv and paths.geojson\n"
     ]
    },
    {
     "name": "stderr",
     "output_type": "stream",
     "text": [
      " 10%|███▊                                | 1083/10357 [08:16<1:19:21,  1.95it/s]"
     ]
    },
    {
     "name": "stdout",
     "output_type": "stream",
     "text": [
      "[OK] 1650.txt → 1650_slots.csv and paths.geojson\n"
     ]
    },
    {
     "name": "stderr",
     "output_type": "stream",
     "text": [
      " 10%|███▊                                | 1084/10357 [08:17<1:24:40,  1.83it/s]"
     ]
    },
    {
     "name": "stdout",
     "output_type": "stream",
     "text": [
      "[OK] 1651.txt → 1651_slots.csv and paths.geojson\n"
     ]
    },
    {
     "name": "stderr",
     "output_type": "stream",
     "text": [
      " 10%|███▊                                | 1085/10357 [08:18<1:33:43,  1.65it/s]"
     ]
    },
    {
     "name": "stdout",
     "output_type": "stream",
     "text": [
      "[OK] 1652.txt → 1652_slots.csv and paths.geojson\n"
     ]
    },
    {
     "name": "stderr",
     "output_type": "stream",
     "text": [
      " 10%|███▊                                | 1086/10357 [08:18<1:19:13,  1.95it/s]"
     ]
    },
    {
     "name": "stdout",
     "output_type": "stream",
     "text": [
      "[OK] 1653.txt → 1653_slots.csv and paths.geojson\n"
     ]
    },
    {
     "name": "stderr",
     "output_type": "stream",
     "text": [
      " 10%|███▊                                | 1087/10357 [08:19<1:21:15,  1.90it/s]"
     ]
    },
    {
     "name": "stdout",
     "output_type": "stream",
     "text": [
      "[OK] 1654.txt → 1654_slots.csv and paths.geojson\n"
     ]
    },
    {
     "name": "stderr",
     "output_type": "stream",
     "text": [
      " 11%|███▊                                | 1088/10357 [08:19<1:36:19,  1.60it/s]"
     ]
    },
    {
     "name": "stdout",
     "output_type": "stream",
     "text": [
      "[OK] 1655.txt → 1655_slots.csv and paths.geojson\n"
     ]
    },
    {
     "name": "stderr",
     "output_type": "stream",
     "text": [
      " 11%|███▊                                | 1089/10357 [08:20<1:27:40,  1.76it/s]"
     ]
    },
    {
     "name": "stdout",
     "output_type": "stream",
     "text": [
      "[OK] 1656.txt → 1656_slots.csv and paths.geojson\n"
     ]
    },
    {
     "name": "stderr",
     "output_type": "stream",
     "text": [
      " 11%|███▊                                | 1090/10357 [08:20<1:17:48,  1.98it/s]"
     ]
    },
    {
     "name": "stdout",
     "output_type": "stream",
     "text": [
      "[OK] 1657.txt → 1657_slots.csv and paths.geojson\n"
     ]
    },
    {
     "name": "stderr",
     "output_type": "stream",
     "text": [
      " 11%|███▊                                | 1091/10357 [08:21<1:20:46,  1.91it/s]"
     ]
    },
    {
     "name": "stdout",
     "output_type": "stream",
     "text": [
      "[OK] 1658.txt → 1658_slots.csv and paths.geojson\n"
     ]
    },
    {
     "name": "stderr",
     "output_type": "stream",
     "text": [
      " 11%|███▊                                | 1092/10357 [08:21<1:15:14,  2.05it/s]"
     ]
    },
    {
     "name": "stdout",
     "output_type": "stream",
     "text": [
      "[OK] 1659.txt → 1659_slots.csv and paths.geojson\n"
     ]
    },
    {
     "name": "stderr",
     "output_type": "stream",
     "text": [
      " 11%|███▊                                | 1093/10357 [08:22<1:12:17,  2.14it/s]"
     ]
    },
    {
     "name": "stdout",
     "output_type": "stream",
     "text": [
      "[OK] 166.txt → 166_slots.csv and paths.geojson\n"
     ]
    },
    {
     "name": "stderr",
     "output_type": "stream",
     "text": [
      " 11%|███▊                                | 1094/10357 [08:22<1:17:33,  1.99it/s]"
     ]
    },
    {
     "name": "stdout",
     "output_type": "stream",
     "text": [
      "[OK] 1660.txt → 1660_slots.csv and paths.geojson\n"
     ]
    },
    {
     "name": "stderr",
     "output_type": "stream",
     "text": [
      " 11%|███▊                                | 1095/10357 [08:23<1:19:08,  1.95it/s]"
     ]
    },
    {
     "name": "stdout",
     "output_type": "stream",
     "text": [
      "[OK] 1661.txt → 1661_slots.csv and paths.geojson\n"
     ]
    },
    {
     "name": "stderr",
     "output_type": "stream",
     "text": [
      " 11%|███▊                                | 1096/10357 [08:23<1:14:19,  2.08it/s]"
     ]
    },
    {
     "name": "stdout",
     "output_type": "stream",
     "text": [
      "[OK] 1662.txt → 1662_slots.csv and paths.geojson\n"
     ]
    },
    {
     "name": "stderr",
     "output_type": "stream",
     "text": [
      " 11%|███▊                                | 1097/10357 [08:24<1:24:09,  1.83it/s]"
     ]
    },
    {
     "name": "stdout",
     "output_type": "stream",
     "text": [
      "[OK] 1663.txt → 1663_slots.csv and paths.geojson\n"
     ]
    },
    {
     "name": "stderr",
     "output_type": "stream",
     "text": [
      " 11%|███▊                                | 1098/10357 [08:24<1:11:30,  2.16it/s]"
     ]
    },
    {
     "name": "stdout",
     "output_type": "stream",
     "text": [
      "[OK] 1664.txt → 1664_slots.csv and paths.geojson\n"
     ]
    },
    {
     "name": "stderr",
     "output_type": "stream",
     "text": [
      " 11%|███▊                                | 1099/10357 [08:25<1:11:57,  2.14it/s]"
     ]
    },
    {
     "name": "stdout",
     "output_type": "stream",
     "text": [
      "[OK] 1665.txt → 1665_slots.csv and paths.geojson\n"
     ]
    },
    {
     "name": "stderr",
     "output_type": "stream",
     "text": [
      " 11%|███▊                                | 1100/10357 [08:25<1:06:38,  2.31it/s]"
     ]
    },
    {
     "name": "stdout",
     "output_type": "stream",
     "text": [
      "[OK] 1666.txt → 1666_slots.csv and paths.geojson\n"
     ]
    },
    {
     "name": "stderr",
     "output_type": "stream",
     "text": [
      " 11%|███▊                                | 1101/10357 [08:25<1:03:49,  2.42it/s]"
     ]
    },
    {
     "name": "stdout",
     "output_type": "stream",
     "text": [
      "[OK] 1667.txt → 1667_slots.csv and paths.geojson\n"
     ]
    },
    {
     "name": "stderr",
     "output_type": "stream",
     "text": [
      " 11%|████                                  | 1103/10357 [08:26<51:58,  2.97it/s]"
     ]
    },
    {
     "name": "stdout",
     "output_type": "stream",
     "text": [
      "[OK] 1668.txt → 1668_slots.csv and paths.geojson\n",
      "[OK] 1669.txt → 1669_slots.csv and paths.geojson\n"
     ]
    },
    {
     "name": "stderr",
     "output_type": "stream",
     "text": [
      " 11%|███▊                                | 1104/10357 [08:27<1:10:16,  2.19it/s]"
     ]
    },
    {
     "name": "stdout",
     "output_type": "stream",
     "text": [
      "[OK] 167.txt → 167_slots.csv and paths.geojson\n"
     ]
    },
    {
     "name": "stderr",
     "output_type": "stream",
     "text": [
      " 11%|███▊                                | 1105/10357 [08:27<1:27:02,  1.77it/s]"
     ]
    },
    {
     "name": "stdout",
     "output_type": "stream",
     "text": [
      "[OK] 1670.txt → 1670_slots.csv and paths.geojson\n"
     ]
    },
    {
     "name": "stderr",
     "output_type": "stream",
     "text": [
      " 11%|███▊                                | 1106/10357 [08:28<1:27:24,  1.76it/s]"
     ]
    },
    {
     "name": "stdout",
     "output_type": "stream",
     "text": [
      "[OK] 1671.txt → 1671_slots.csv and paths.geojson\n"
     ]
    },
    {
     "name": "stderr",
     "output_type": "stream",
     "text": [
      " 11%|███▊                                | 1107/10357 [08:29<1:29:45,  1.72it/s]"
     ]
    },
    {
     "name": "stdout",
     "output_type": "stream",
     "text": [
      "[OK] 1672.txt → 1672_slots.csv and paths.geojson\n"
     ]
    },
    {
     "name": "stderr",
     "output_type": "stream",
     "text": [
      " 11%|███▊                                | 1108/10357 [08:30<1:59:00,  1.30it/s]"
     ]
    },
    {
     "name": "stdout",
     "output_type": "stream",
     "text": [
      "[OK] 1673.txt → 1673_slots.csv and paths.geojson\n"
     ]
    },
    {
     "name": "stderr",
     "output_type": "stream",
     "text": [
      " 11%|███▊                                | 1109/10357 [08:30<1:46:16,  1.45it/s]"
     ]
    },
    {
     "name": "stdout",
     "output_type": "stream",
     "text": [
      "[OK] 1674.txt → 1674_slots.csv and paths.geojson\n"
     ]
    },
    {
     "name": "stderr",
     "output_type": "stream",
     "text": [
      " 11%|███▊                                | 1110/10357 [08:31<1:44:37,  1.47it/s]"
     ]
    },
    {
     "name": "stdout",
     "output_type": "stream",
     "text": [
      "[OK] 1675.txt → 1675_slots.csv and paths.geojson\n"
     ]
    },
    {
     "name": "stderr",
     "output_type": "stream",
     "text": [
      " 11%|███▊                                | 1111/10357 [08:32<1:40:49,  1.53it/s]"
     ]
    },
    {
     "name": "stdout",
     "output_type": "stream",
     "text": [
      "[OK] 1676.txt → 1676_slots.csv and paths.geojson\n"
     ]
    },
    {
     "name": "stderr",
     "output_type": "stream",
     "text": [
      " 11%|███▊                                | 1112/10357 [08:33<2:00:34,  1.28it/s]"
     ]
    },
    {
     "name": "stdout",
     "output_type": "stream",
     "text": [
      "[OK] 1677.txt → 1677_slots.csv and paths.geojson\n"
     ]
    },
    {
     "name": "stderr",
     "output_type": "stream",
     "text": [
      " 11%|███▊                                | 1113/10357 [08:33<1:53:22,  1.36it/s]"
     ]
    },
    {
     "name": "stdout",
     "output_type": "stream",
     "text": [
      "[OK] 1678.txt → 1678_slots.csv and paths.geojson\n"
     ]
    },
    {
     "name": "stderr",
     "output_type": "stream",
     "text": [
      " 11%|███▊                                | 1114/10357 [08:34<1:59:32,  1.29it/s]"
     ]
    },
    {
     "name": "stdout",
     "output_type": "stream",
     "text": [
      "[OK] 1679.txt → 1679_slots.csv and paths.geojson\n"
     ]
    },
    {
     "name": "stderr",
     "output_type": "stream",
     "text": [
      " 11%|███▉                                | 1115/10357 [08:34<1:35:25,  1.61it/s]"
     ]
    },
    {
     "name": "stdout",
     "output_type": "stream",
     "text": [
      "[OK] 168.txt → 168_slots.csv and paths.geojson\n"
     ]
    },
    {
     "name": "stderr",
     "output_type": "stream",
     "text": [
      " 11%|███▉                                | 1116/10357 [08:35<1:27:49,  1.75it/s]"
     ]
    },
    {
     "name": "stdout",
     "output_type": "stream",
     "text": [
      "[OK] 1680.txt → 1680_slots.csv and paths.geojson\n"
     ]
    },
    {
     "name": "stderr",
     "output_type": "stream",
     "text": [
      " 11%|███▉                                | 1117/10357 [08:35<1:32:25,  1.67it/s]"
     ]
    },
    {
     "name": "stdout",
     "output_type": "stream",
     "text": [
      "[OK] 1681.txt → 1681_slots.csv and paths.geojson\n"
     ]
    },
    {
     "name": "stderr",
     "output_type": "stream",
     "text": [
      " 11%|███▉                                | 1118/10357 [08:36<1:25:07,  1.81it/s]"
     ]
    },
    {
     "name": "stdout",
     "output_type": "stream",
     "text": [
      "[OK] 1682.txt → 1682_slots.csv and paths.geojson\n"
     ]
    },
    {
     "name": "stderr",
     "output_type": "stream",
     "text": [
      " 11%|███▉                                | 1119/10357 [08:36<1:20:02,  1.92it/s]"
     ]
    },
    {
     "name": "stdout",
     "output_type": "stream",
     "text": [
      "[OK] 1683.txt → 1683_slots.csv and paths.geojson\n"
     ]
    },
    {
     "name": "stderr",
     "output_type": "stream",
     "text": [
      " 11%|███▉                                | 1120/10357 [08:37<1:29:41,  1.72it/s]"
     ]
    },
    {
     "name": "stdout",
     "output_type": "stream",
     "text": [
      "[OK] 1684.txt → 1684_slots.csv and paths.geojson\n"
     ]
    },
    {
     "name": "stderr",
     "output_type": "stream",
     "text": [
      " 11%|███▉                                | 1121/10357 [08:38<1:25:03,  1.81it/s]"
     ]
    },
    {
     "name": "stdout",
     "output_type": "stream",
     "text": [
      "[OK] 1685.txt → 1685_slots.csv and paths.geojson\n"
     ]
    },
    {
     "name": "stderr",
     "output_type": "stream",
     "text": [
      " 11%|███▉                                | 1122/10357 [08:38<1:40:41,  1.53it/s]"
     ]
    },
    {
     "name": "stdout",
     "output_type": "stream",
     "text": [
      "[OK] 1686.txt → 1686_slots.csv and paths.geojson\n"
     ]
    },
    {
     "name": "stderr",
     "output_type": "stream",
     "text": [
      " 11%|███▉                                | 1123/10357 [08:39<1:28:16,  1.74it/s]"
     ]
    },
    {
     "name": "stdout",
     "output_type": "stream",
     "text": [
      "[OK] 1687.txt → 1687_slots.csv and paths.geojson\n"
     ]
    },
    {
     "name": "stderr",
     "output_type": "stream",
     "text": [
      " 11%|███▉                                | 1124/10357 [08:39<1:15:38,  2.03it/s]"
     ]
    },
    {
     "name": "stdout",
     "output_type": "stream",
     "text": [
      "[OK] 1688.txt → 1688_slots.csv and paths.geojson\n"
     ]
    },
    {
     "name": "stderr",
     "output_type": "stream",
     "text": [
      " 11%|███▉                                | 1125/10357 [08:40<1:26:08,  1.79it/s]"
     ]
    },
    {
     "name": "stdout",
     "output_type": "stream",
     "text": [
      "[OK] 1689.txt → 1689_slots.csv and paths.geojson\n"
     ]
    },
    {
     "name": "stderr",
     "output_type": "stream",
     "text": [
      " 11%|███▉                                | 1126/10357 [08:40<1:26:13,  1.78it/s]"
     ]
    },
    {
     "name": "stdout",
     "output_type": "stream",
     "text": [
      "[OK] 169.txt → 169_slots.csv and paths.geojson\n"
     ]
    },
    {
     "name": "stderr",
     "output_type": "stream",
     "text": [
      " 11%|███▉                                | 1127/10357 [08:41<1:14:02,  2.08it/s]"
     ]
    },
    {
     "name": "stdout",
     "output_type": "stream",
     "text": [
      "[OK] 1690.txt → 1690_slots.csv and paths.geojson\n"
     ]
    },
    {
     "name": "stderr",
     "output_type": "stream",
     "text": [
      " 11%|███▉                                | 1128/10357 [08:41<1:14:33,  2.06it/s]"
     ]
    },
    {
     "name": "stdout",
     "output_type": "stream",
     "text": [
      "[OK] 1691.txt → 1691_slots.csv and paths.geojson\n"
     ]
    },
    {
     "name": "stderr",
     "output_type": "stream",
     "text": [
      " 11%|███▉                                | 1129/10357 [08:42<1:23:51,  1.83it/s]"
     ]
    },
    {
     "name": "stdout",
     "output_type": "stream",
     "text": [
      "[OK] 1692.txt → 1692_slots.csv and paths.geojson\n"
     ]
    },
    {
     "name": "stderr",
     "output_type": "stream",
     "text": [
      " 11%|███▉                                | 1130/10357 [08:43<1:28:11,  1.74it/s]"
     ]
    },
    {
     "name": "stdout",
     "output_type": "stream",
     "text": [
      "[OK] 1693.txt → 1693_slots.csv and paths.geojson\n"
     ]
    },
    {
     "name": "stderr",
     "output_type": "stream",
     "text": [
      " 11%|███▉                                | 1131/10357 [08:43<1:22:42,  1.86it/s]"
     ]
    },
    {
     "name": "stdout",
     "output_type": "stream",
     "text": [
      "[OK] 1694.txt → 1694_slots.csv and paths.geojson\n"
     ]
    },
    {
     "name": "stderr",
     "output_type": "stream",
     "text": [
      " 11%|███▉                                | 1132/10357 [08:44<1:23:49,  1.83it/s]"
     ]
    },
    {
     "name": "stdout",
     "output_type": "stream",
     "text": [
      "[OK] 1695.txt → 1695_slots.csv and paths.geojson\n"
     ]
    },
    {
     "name": "stderr",
     "output_type": "stream",
     "text": [
      " 11%|███▉                                | 1133/10357 [08:44<1:28:11,  1.74it/s]"
     ]
    },
    {
     "name": "stdout",
     "output_type": "stream",
     "text": [
      "[OK] 1696.txt → 1696_slots.csv and paths.geojson\n"
     ]
    },
    {
     "name": "stderr",
     "output_type": "stream",
     "text": [
      " 11%|███▉                                | 1134/10357 [08:45<1:27:30,  1.76it/s]"
     ]
    },
    {
     "name": "stdout",
     "output_type": "stream",
     "text": [
      "[OK] 1697.txt → 1697_slots.csv and paths.geojson\n"
     ]
    },
    {
     "name": "stderr",
     "output_type": "stream",
     "text": [
      " 11%|███▉                                | 1135/10357 [08:45<1:23:17,  1.85it/s]"
     ]
    },
    {
     "name": "stdout",
     "output_type": "stream",
     "text": [
      "[OK] 1698.txt → 1698_slots.csv and paths.geojson\n"
     ]
    },
    {
     "name": "stderr",
     "output_type": "stream",
     "text": [
      " 11%|███▉                                | 1136/10357 [08:45<1:08:44,  2.24it/s]"
     ]
    },
    {
     "name": "stdout",
     "output_type": "stream",
     "text": [
      "[OK] 1699.txt → 1699_slots.csv and paths.geojson\n"
     ]
    },
    {
     "name": "stderr",
     "output_type": "stream",
     "text": [
      " 11%|███▉                                | 1137/10357 [08:46<1:28:29,  1.74it/s]"
     ]
    },
    {
     "name": "stdout",
     "output_type": "stream",
     "text": [
      "[OK] 17.txt → 17_slots.csv and paths.geojson\n",
      "[OK] 170.txt → 170_slots.csv and paths.geojson\n"
     ]
    },
    {
     "name": "stderr",
     "output_type": "stream",
     "text": [
      " 11%|███▉                                | 1139/10357 [08:47<1:02:42,  2.45it/s]"
     ]
    },
    {
     "name": "stdout",
     "output_type": "stream",
     "text": [
      "[OK] 1700.txt → 1700_slots.csv and paths.geojson\n"
     ]
    },
    {
     "name": "stderr",
     "output_type": "stream",
     "text": [
      " 11%|████▏                                 | 1140/10357 [08:47<59:42,  2.57it/s]"
     ]
    },
    {
     "name": "stdout",
     "output_type": "stream",
     "text": [
      "[OK] 1701.txt → 1701_slots.csv and paths.geojson\n"
     ]
    },
    {
     "name": "stderr",
     "output_type": "stream",
     "text": [
      " 11%|███▉                                | 1141/10357 [08:48<1:12:35,  2.12it/s]"
     ]
    },
    {
     "name": "stdout",
     "output_type": "stream",
     "text": [
      "[OK] 1702.txt → 1702_slots.csv and paths.geojson\n"
     ]
    },
    {
     "name": "stderr",
     "output_type": "stream",
     "text": [
      " 11%|███▉                                | 1142/10357 [08:49<1:26:34,  1.77it/s]"
     ]
    },
    {
     "name": "stdout",
     "output_type": "stream",
     "text": [
      "[OK] 1703.txt → 1703_slots.csv and paths.geojson\n"
     ]
    },
    {
     "name": "stderr",
     "output_type": "stream",
     "text": [
      " 11%|███▉                                | 1143/10357 [08:49<1:25:59,  1.79it/s]"
     ]
    },
    {
     "name": "stdout",
     "output_type": "stream",
     "text": [
      "[OK] 1704.txt → 1704_slots.csv and paths.geojson\n"
     ]
    },
    {
     "name": "stderr",
     "output_type": "stream",
     "text": [
      " 11%|███▉                                | 1144/10357 [08:50<1:24:11,  1.82it/s]"
     ]
    },
    {
     "name": "stdout",
     "output_type": "stream",
     "text": [
      "[OK] 1705.txt → 1705_slots.csv and paths.geojson\n"
     ]
    },
    {
     "name": "stderr",
     "output_type": "stream",
     "text": [
      " 11%|███▉                                | 1145/10357 [08:50<1:24:44,  1.81it/s]"
     ]
    },
    {
     "name": "stdout",
     "output_type": "stream",
     "text": [
      "[OK] 1706.txt → 1706_slots.csv and paths.geojson\n"
     ]
    },
    {
     "name": "stderr",
     "output_type": "stream",
     "text": [
      " 11%|███▉                                | 1146/10357 [08:51<1:17:41,  1.98it/s]"
     ]
    },
    {
     "name": "stdout",
     "output_type": "stream",
     "text": [
      "[OK] 1707.txt → 1707_slots.csv and paths.geojson\n"
     ]
    },
    {
     "name": "stderr",
     "output_type": "stream",
     "text": [
      " 11%|███▉                                | 1147/10357 [08:51<1:16:14,  2.01it/s]"
     ]
    },
    {
     "name": "stdout",
     "output_type": "stream",
     "text": [
      "[OK] 1708.txt → 1708_slots.csv and paths.geojson\n"
     ]
    },
    {
     "name": "stderr",
     "output_type": "stream",
     "text": [
      " 11%|███▉                                | 1148/10357 [08:52<1:22:42,  1.86it/s]"
     ]
    },
    {
     "name": "stdout",
     "output_type": "stream",
     "text": [
      "[OK] 1709.txt → 1709_slots.csv and paths.geojson\n",
      "[OK] 171.txt → 171_slots.csv\n"
     ]
    },
    {
     "name": "stderr",
     "output_type": "stream",
     "text": [
      " 11%|███▉                                | 1150/10357 [08:52<1:05:14,  2.35it/s]"
     ]
    },
    {
     "name": "stdout",
     "output_type": "stream",
     "text": [
      "[OK] 1710.txt → 1710_slots.csv and paths.geojson\n"
     ]
    },
    {
     "name": "stderr",
     "output_type": "stream",
     "text": [
      " 11%|████                                | 1151/10357 [08:53<1:11:14,  2.15it/s]"
     ]
    },
    {
     "name": "stdout",
     "output_type": "stream",
     "text": [
      "[OK] 1711.txt → 1711_slots.csv and paths.geojson\n"
     ]
    },
    {
     "name": "stderr",
     "output_type": "stream",
     "text": [
      " 11%|████                                | 1152/10357 [08:53<1:11:57,  2.13it/s]"
     ]
    },
    {
     "name": "stdout",
     "output_type": "stream",
     "text": [
      "[OK] 1712.txt → 1712_slots.csv and paths.geojson\n"
     ]
    },
    {
     "name": "stderr",
     "output_type": "stream",
     "text": [
      " 11%|████                                | 1153/10357 [08:54<1:09:23,  2.21it/s]"
     ]
    },
    {
     "name": "stdout",
     "output_type": "stream",
     "text": [
      "[OK] 1713.txt → 1713_slots.csv and paths.geojson\n"
     ]
    },
    {
     "name": "stderr",
     "output_type": "stream",
     "text": [
      " 11%|████                                | 1154/10357 [08:54<1:00:54,  2.52it/s]"
     ]
    },
    {
     "name": "stdout",
     "output_type": "stream",
     "text": [
      "[OK] 1714.txt → 1714_slots.csv and paths.geojson\n"
     ]
    },
    {
     "name": "stderr",
     "output_type": "stream",
     "text": [
      " 11%|████                                | 1155/10357 [08:55<1:07:21,  2.28it/s]"
     ]
    },
    {
     "name": "stdout",
     "output_type": "stream",
     "text": [
      "[OK] 1715.txt → 1715_slots.csv and paths.geojson\n"
     ]
    },
    {
     "name": "stderr",
     "output_type": "stream",
     "text": [
      " 11%|████                                | 1156/10357 [08:56<1:29:39,  1.71it/s]"
     ]
    },
    {
     "name": "stdout",
     "output_type": "stream",
     "text": [
      "[OK] 1716.txt → 1716_slots.csv and paths.geojson\n"
     ]
    },
    {
     "name": "stderr",
     "output_type": "stream",
     "text": [
      " 11%|████                                | 1157/10357 [08:56<1:36:14,  1.59it/s]"
     ]
    },
    {
     "name": "stdout",
     "output_type": "stream",
     "text": [
      "[OK] 1717.txt → 1717_slots.csv and paths.geojson\n"
     ]
    },
    {
     "name": "stderr",
     "output_type": "stream",
     "text": [
      " 11%|████                                | 1158/10357 [08:57<1:24:18,  1.82it/s]"
     ]
    },
    {
     "name": "stdout",
     "output_type": "stream",
     "text": [
      "[OK] 1718.txt → 1718_slots.csv and paths.geojson\n"
     ]
    },
    {
     "name": "stderr",
     "output_type": "stream",
     "text": [
      " 11%|████                                | 1159/10357 [08:57<1:31:18,  1.68it/s]"
     ]
    },
    {
     "name": "stdout",
     "output_type": "stream",
     "text": [
      "[OK] 1719.txt → 1719_slots.csv and paths.geojson\n",
      "[OK] 172.txt → 172_slots.csv\n"
     ]
    },
    {
     "name": "stderr",
     "output_type": "stream",
     "text": [
      " 11%|████                                | 1161/10357 [08:58<1:02:14,  2.46it/s]"
     ]
    },
    {
     "name": "stdout",
     "output_type": "stream",
     "text": [
      "[OK] 1720.txt → 1720_slots.csv and paths.geojson\n"
     ]
    },
    {
     "name": "stderr",
     "output_type": "stream",
     "text": [
      " 11%|████                                | 1162/10357 [08:58<1:01:15,  2.50it/s]"
     ]
    },
    {
     "name": "stdout",
     "output_type": "stream",
     "text": [
      "[OK] 1721.txt → 1721_slots.csv and paths.geojson\n"
     ]
    },
    {
     "name": "stderr",
     "output_type": "stream",
     "text": [
      " 11%|████▎                                 | 1163/10357 [08:58<59:08,  2.59it/s]"
     ]
    },
    {
     "name": "stdout",
     "output_type": "stream",
     "text": [
      "[OK] 1722.txt → 1722_slots.csv and paths.geojson\n"
     ]
    },
    {
     "name": "stderr",
     "output_type": "stream",
     "text": [
      " 11%|████                                | 1164/10357 [08:59<1:11:01,  2.16it/s]"
     ]
    },
    {
     "name": "stdout",
     "output_type": "stream",
     "text": [
      "[OK] 1723.txt → 1723_slots.csv and paths.geojson\n"
     ]
    },
    {
     "name": "stderr",
     "output_type": "stream",
     "text": [
      " 11%|████                                | 1165/10357 [09:00<1:08:20,  2.24it/s]"
     ]
    },
    {
     "name": "stdout",
     "output_type": "stream",
     "text": [
      "[OK] 1724.txt → 1724_slots.csv and paths.geojson\n"
     ]
    },
    {
     "name": "stderr",
     "output_type": "stream",
     "text": [
      " 11%|████                                | 1166/10357 [09:00<1:13:34,  2.08it/s]"
     ]
    },
    {
     "name": "stdout",
     "output_type": "stream",
     "text": [
      "[OK] 1725.txt → 1725_slots.csv and paths.geojson\n"
     ]
    },
    {
     "name": "stderr",
     "output_type": "stream",
     "text": [
      " 11%|████                                | 1167/10357 [09:01<1:35:32,  1.60it/s]"
     ]
    },
    {
     "name": "stdout",
     "output_type": "stream",
     "text": [
      "[OK] 1726.txt → 1726_slots.csv and paths.geojson\n"
     ]
    },
    {
     "name": "stderr",
     "output_type": "stream",
     "text": [
      " 11%|████                                | 1168/10357 [09:02<1:28:47,  1.72it/s]"
     ]
    },
    {
     "name": "stdout",
     "output_type": "stream",
     "text": [
      "[OK] 1727.txt → 1727_slots.csv and paths.geojson\n"
     ]
    },
    {
     "name": "stderr",
     "output_type": "stream",
     "text": [
      " 11%|████                                | 1169/10357 [09:03<1:46:00,  1.44it/s]"
     ]
    },
    {
     "name": "stdout",
     "output_type": "stream",
     "text": [
      "[OK] 1728.txt → 1728_slots.csv and paths.geojson\n"
     ]
    },
    {
     "name": "stderr",
     "output_type": "stream",
     "text": [
      " 11%|████                                | 1170/10357 [09:03<1:49:54,  1.39it/s]"
     ]
    },
    {
     "name": "stdout",
     "output_type": "stream",
     "text": [
      "[OK] 1729.txt → 1729_slots.csv and paths.geojson\n",
      "[OK] 173.txt → 173_slots.csv\n"
     ]
    },
    {
     "name": "stderr",
     "output_type": "stream",
     "text": [
      " 11%|████                                | 1172/10357 [09:04<1:23:18,  1.84it/s]"
     ]
    },
    {
     "name": "stdout",
     "output_type": "stream",
     "text": [
      "[OK] 1730.txt → 1730_slots.csv and paths.geojson\n"
     ]
    },
    {
     "name": "stderr",
     "output_type": "stream",
     "text": [
      " 11%|████                                | 1173/10357 [09:05<1:28:24,  1.73it/s]"
     ]
    },
    {
     "name": "stdout",
     "output_type": "stream",
     "text": [
      "[OK] 1731.txt → 1731_slots.csv and paths.geojson\n"
     ]
    },
    {
     "name": "stderr",
     "output_type": "stream",
     "text": [
      " 11%|████▎                                 | 1177/10357 [09:06<50:47,  3.01it/s]"
     ]
    },
    {
     "name": "stdout",
     "output_type": "stream",
     "text": [
      "[OK] 1732.txt → 1732_slots.csv and paths.geojson\n",
      "[OK] 1733.txt → 1733_slots.csv\n",
      "[OK] 1734.txt → 1734_slots.csv and paths.geojson\n",
      "[OK] 1735.txt → 1735_slots.csv and paths.geojson\n"
     ]
    },
    {
     "name": "stderr",
     "output_type": "stream",
     "text": [
      " 11%|████                                | 1178/10357 [09:07<1:08:50,  2.22it/s]"
     ]
    },
    {
     "name": "stdout",
     "output_type": "stream",
     "text": [
      "[OK] 1736.txt → 1736_slots.csv and paths.geojson\n"
     ]
    },
    {
     "name": "stderr",
     "output_type": "stream",
     "text": [
      " 11%|████                                | 1179/10357 [09:07<1:16:06,  2.01it/s]"
     ]
    },
    {
     "name": "stdout",
     "output_type": "stream",
     "text": [
      "[OK] 1737.txt → 1737_slots.csv and paths.geojson\n"
     ]
    },
    {
     "name": "stderr",
     "output_type": "stream",
     "text": [
      " 11%|████                                | 1180/10357 [09:08<1:21:28,  1.88it/s]"
     ]
    },
    {
     "name": "stdout",
     "output_type": "stream",
     "text": [
      "[OK] 1738.txt → 1738_slots.csv and paths.geojson\n"
     ]
    },
    {
     "name": "stderr",
     "output_type": "stream",
     "text": [
      " 11%|████                                | 1181/10357 [09:08<1:20:38,  1.90it/s]"
     ]
    },
    {
     "name": "stdout",
     "output_type": "stream",
     "text": [
      "[OK] 1739.txt → 1739_slots.csv and paths.geojson\n"
     ]
    },
    {
     "name": "stderr",
     "output_type": "stream",
     "text": [
      " 11%|████                                | 1182/10357 [09:09<1:15:21,  2.03it/s]"
     ]
    },
    {
     "name": "stdout",
     "output_type": "stream",
     "text": [
      "[OK] 174.txt → 174_slots.csv and paths.geojson\n"
     ]
    },
    {
     "name": "stderr",
     "output_type": "stream",
     "text": [
      " 11%|████                                | 1183/10357 [09:10<1:26:41,  1.76it/s]"
     ]
    },
    {
     "name": "stdout",
     "output_type": "stream",
     "text": [
      "[OK] 1740.txt → 1740_slots.csv and paths.geojson\n"
     ]
    },
    {
     "name": "stderr",
     "output_type": "stream",
     "text": [
      " 11%|████                                | 1184/10357 [09:10<1:42:05,  1.50it/s]"
     ]
    },
    {
     "name": "stdout",
     "output_type": "stream",
     "text": [
      "[OK] 1741.txt → 1741_slots.csv and paths.geojson\n"
     ]
    },
    {
     "name": "stderr",
     "output_type": "stream",
     "text": [
      " 11%|████                                | 1185/10357 [09:11<1:31:34,  1.67it/s]"
     ]
    },
    {
     "name": "stdout",
     "output_type": "stream",
     "text": [
      "[OK] 1742.txt → 1742_slots.csv and paths.geojson\n"
     ]
    },
    {
     "name": "stderr",
     "output_type": "stream",
     "text": [
      " 11%|████▏                               | 1187/10357 [09:11<1:01:07,  2.50it/s]"
     ]
    },
    {
     "name": "stdout",
     "output_type": "stream",
     "text": [
      "[OK] 1743.txt → 1743_slots.csv and paths.geojson\n",
      "[OK] 1744.txt → 1744_slots.csv\n"
     ]
    },
    {
     "name": "stderr",
     "output_type": "stream",
     "text": [
      " 11%|████▏                               | 1188/10357 [09:12<1:27:48,  1.74it/s]"
     ]
    },
    {
     "name": "stdout",
     "output_type": "stream",
     "text": [
      "[OK] 1745.txt → 1745_slots.csv and paths.geojson\n"
     ]
    },
    {
     "name": "stderr",
     "output_type": "stream",
     "text": [
      " 11%|████▏                               | 1189/10357 [09:13<1:15:09,  2.03it/s]"
     ]
    },
    {
     "name": "stdout",
     "output_type": "stream",
     "text": [
      "[OK] 1746.txt → 1746_slots.csv and paths.geojson\n"
     ]
    },
    {
     "name": "stderr",
     "output_type": "stream",
     "text": [
      " 11%|████▏                               | 1190/10357 [09:13<1:09:28,  2.20it/s]"
     ]
    },
    {
     "name": "stdout",
     "output_type": "stream",
     "text": [
      "[OK] 1747.txt → 1747_slots.csv and paths.geojson\n"
     ]
    },
    {
     "name": "stderr",
     "output_type": "stream",
     "text": [
      " 12%|████▎                                 | 1192/10357 [09:14<57:50,  2.64it/s]"
     ]
    },
    {
     "name": "stdout",
     "output_type": "stream",
     "text": [
      "[OK] 1748.txt → 1748_slots.csv and paths.geojson\n",
      "[OK] 1749.txt → 1749_slots.csv and paths.geojson\n"
     ]
    },
    {
     "name": "stderr",
     "output_type": "stream",
     "text": [
      " 12%|████▍                                 | 1193/10357 [09:14<58:44,  2.60it/s]"
     ]
    },
    {
     "name": "stdout",
     "output_type": "stream",
     "text": [
      "[OK] 175.txt → 175_slots.csv and paths.geojson\n"
     ]
    },
    {
     "name": "stderr",
     "output_type": "stream",
     "text": [
      " 12%|████▍                                 | 1194/10357 [09:14<57:02,  2.68it/s]"
     ]
    },
    {
     "name": "stdout",
     "output_type": "stream",
     "text": [
      "[OK] 1750.txt → 1750_slots.csv and paths.geojson\n"
     ]
    },
    {
     "name": "stderr",
     "output_type": "stream",
     "text": [
      " 12%|████▍                                 | 1195/10357 [09:15<58:08,  2.63it/s]"
     ]
    },
    {
     "name": "stdout",
     "output_type": "stream",
     "text": [
      "[OK] 1751.txt → 1751_slots.csv and paths.geojson\n"
     ]
    },
    {
     "name": "stderr",
     "output_type": "stream",
     "text": [
      " 12%|████▏                               | 1196/10357 [09:15<1:00:34,  2.52it/s]"
     ]
    },
    {
     "name": "stdout",
     "output_type": "stream",
     "text": [
      "[OK] 1752.txt → 1752_slots.csv and paths.geojson\n"
     ]
    },
    {
     "name": "stderr",
     "output_type": "stream",
     "text": [
      " 12%|████▍                                 | 1197/10357 [09:16<56:49,  2.69it/s]"
     ]
    },
    {
     "name": "stdout",
     "output_type": "stream",
     "text": [
      "[OK] 1753.txt → 1753_slots.csv and paths.geojson\n"
     ]
    },
    {
     "name": "stderr",
     "output_type": "stream",
     "text": [
      " 12%|████▏                               | 1198/10357 [09:16<1:05:51,  2.32it/s]"
     ]
    },
    {
     "name": "stdout",
     "output_type": "stream",
     "text": [
      "[OK] 1754.txt → 1754_slots.csv and paths.geojson\n"
     ]
    },
    {
     "name": "stderr",
     "output_type": "stream",
     "text": [
      " 12%|████▍                                 | 1199/10357 [09:16<58:25,  2.61it/s]"
     ]
    },
    {
     "name": "stdout",
     "output_type": "stream",
     "text": [
      "[OK] 1755.txt → 1755_slots.csv and paths.geojson\n"
     ]
    },
    {
     "name": "stderr",
     "output_type": "stream",
     "text": [
      " 12%|████▏                               | 1200/10357 [09:17<1:09:15,  2.20it/s]"
     ]
    },
    {
     "name": "stdout",
     "output_type": "stream",
     "text": [
      "[OK] 1756.txt → 1756_slots.csv and paths.geojson\n"
     ]
    },
    {
     "name": "stderr",
     "output_type": "stream",
     "text": [
      " 12%|████▏                               | 1201/10357 [09:19<1:58:59,  1.28it/s]"
     ]
    },
    {
     "name": "stdout",
     "output_type": "stream",
     "text": [
      "[OK] 1757.txt → 1757_slots.csv and paths.geojson\n"
     ]
    },
    {
     "name": "stderr",
     "output_type": "stream",
     "text": [
      " 12%|████▏                               | 1202/10357 [09:19<1:39:17,  1.54it/s]"
     ]
    },
    {
     "name": "stdout",
     "output_type": "stream",
     "text": [
      "[OK] 1758.txt → 1758_slots.csv and paths.geojson\n"
     ]
    },
    {
     "name": "stderr",
     "output_type": "stream",
     "text": [
      " 12%|████▏                               | 1203/10357 [09:20<1:50:21,  1.38it/s]"
     ]
    },
    {
     "name": "stdout",
     "output_type": "stream",
     "text": [
      "[OK] 1759.txt → 1759_slots.csv and paths.geojson\n"
     ]
    },
    {
     "name": "stderr",
     "output_type": "stream",
     "text": [
      " 12%|████▏                               | 1205/10357 [09:20<1:20:04,  1.90it/s]"
     ]
    },
    {
     "name": "stdout",
     "output_type": "stream",
     "text": [
      "[OK] 176.txt → 176_slots.csv and paths.geojson\n",
      "[OK] 1760.txt → 1760_slots.csv and paths.geojson\n"
     ]
    },
    {
     "name": "stderr",
     "output_type": "stream",
     "text": [
      " 12%|████▏                               | 1206/10357 [09:21<1:09:50,  2.18it/s]"
     ]
    },
    {
     "name": "stdout",
     "output_type": "stream",
     "text": [
      "[OK] 1761.txt → 1761_slots.csv and paths.geojson\n"
     ]
    },
    {
     "name": "stderr",
     "output_type": "stream",
     "text": [
      " 12%|████▏                               | 1207/10357 [09:22<1:26:50,  1.76it/s]"
     ]
    },
    {
     "name": "stdout",
     "output_type": "stream",
     "text": [
      "[OK] 1762.txt → 1762_slots.csv and paths.geojson\n"
     ]
    },
    {
     "name": "stderr",
     "output_type": "stream",
     "text": [
      " 12%|████▏                               | 1208/10357 [09:22<1:12:28,  2.10it/s]"
     ]
    },
    {
     "name": "stdout",
     "output_type": "stream",
     "text": [
      "[OK] 1763.txt → 1763_slots.csv and paths.geojson\n"
     ]
    },
    {
     "name": "stderr",
     "output_type": "stream",
     "text": [
      " 12%|████▏                               | 1209/10357 [09:22<1:14:11,  2.05it/s]"
     ]
    },
    {
     "name": "stdout",
     "output_type": "stream",
     "text": [
      "[OK] 1764.txt → 1764_slots.csv and paths.geojson\n"
     ]
    },
    {
     "name": "stderr",
     "output_type": "stream",
     "text": [
      " 12%|████▏                               | 1210/10357 [09:23<1:02:11,  2.45it/s]"
     ]
    },
    {
     "name": "stdout",
     "output_type": "stream",
     "text": [
      "[OK] 1765.txt → 1765_slots.csv and paths.geojson\n"
     ]
    },
    {
     "name": "stderr",
     "output_type": "stream",
     "text": [
      " 12%|████▏                               | 1211/10357 [09:23<1:01:52,  2.46it/s]"
     ]
    },
    {
     "name": "stdout",
     "output_type": "stream",
     "text": [
      "[OK] 1766.txt → 1766_slots.csv and paths.geojson\n"
     ]
    },
    {
     "name": "stderr",
     "output_type": "stream",
     "text": [
      " 12%|████▏                               | 1212/10357 [09:24<1:07:33,  2.26it/s]"
     ]
    },
    {
     "name": "stdout",
     "output_type": "stream",
     "text": [
      "[OK] 1767.txt → 1767_slots.csv and paths.geojson\n"
     ]
    },
    {
     "name": "stderr",
     "output_type": "stream",
     "text": [
      " 12%|████▏                               | 1213/10357 [09:24<1:26:39,  1.76it/s]"
     ]
    },
    {
     "name": "stdout",
     "output_type": "stream",
     "text": [
      "[OK] 1768.txt → 1768_slots.csv and paths.geojson\n"
     ]
    },
    {
     "name": "stderr",
     "output_type": "stream",
     "text": [
      " 12%|████▏                               | 1214/10357 [09:25<1:18:07,  1.95it/s]"
     ]
    },
    {
     "name": "stdout",
     "output_type": "stream",
     "text": [
      "[OK] 1769.txt → 1769_slots.csv and paths.geojson\n"
     ]
    },
    {
     "name": "stderr",
     "output_type": "stream",
     "text": [
      " 12%|████▏                               | 1215/10357 [09:25<1:12:44,  2.09it/s]"
     ]
    },
    {
     "name": "stdout",
     "output_type": "stream",
     "text": [
      "[OK] 177.txt → 177_slots.csv and paths.geojson\n"
     ]
    },
    {
     "name": "stderr",
     "output_type": "stream",
     "text": [
      " 12%|████▏                               | 1216/10357 [09:26<1:21:57,  1.86it/s]"
     ]
    },
    {
     "name": "stdout",
     "output_type": "stream",
     "text": [
      "[OK] 1770.txt → 1770_slots.csv and paths.geojson\n"
     ]
    },
    {
     "name": "stderr",
     "output_type": "stream",
     "text": [
      " 12%|████▍                                 | 1218/10357 [09:26<57:03,  2.67it/s]"
     ]
    },
    {
     "name": "stdout",
     "output_type": "stream",
     "text": [
      "[OK] 1771.txt → 1771_slots.csv and paths.geojson\n",
      "[OK] 1772.txt → 1772_slots.csv and paths.geojson\n"
     ]
    },
    {
     "name": "stderr",
     "output_type": "stream",
     "text": [
      " 12%|████▏                               | 1219/10357 [09:27<1:07:06,  2.27it/s]"
     ]
    },
    {
     "name": "stdout",
     "output_type": "stream",
     "text": [
      "[OK] 1773.txt → 1773_slots.csv and paths.geojson\n"
     ]
    },
    {
     "name": "stderr",
     "output_type": "stream",
     "text": [
      " 12%|████▏                               | 1220/10357 [09:27<1:01:33,  2.47it/s]"
     ]
    },
    {
     "name": "stdout",
     "output_type": "stream",
     "text": [
      "[OK] 1774.txt → 1774_slots.csv and paths.geojson\n"
     ]
    },
    {
     "name": "stderr",
     "output_type": "stream",
     "text": [
      " 12%|████▏                               | 1221/10357 [09:28<1:16:41,  1.99it/s]"
     ]
    },
    {
     "name": "stdout",
     "output_type": "stream",
     "text": [
      "[OK] 1775.txt → 1775_slots.csv and paths.geojson\n"
     ]
    },
    {
     "name": "stderr",
     "output_type": "stream",
     "text": [
      " 12%|████▏                               | 1222/10357 [09:28<1:06:55,  2.28it/s]"
     ]
    },
    {
     "name": "stdout",
     "output_type": "stream",
     "text": [
      "[OK] 1776.txt → 1776_slots.csv and paths.geojson\n"
     ]
    },
    {
     "name": "stderr",
     "output_type": "stream",
     "text": [
      " 12%|████▎                               | 1223/10357 [09:29<1:34:32,  1.61it/s]"
     ]
    },
    {
     "name": "stdout",
     "output_type": "stream",
     "text": [
      "[OK] 1777.txt → 1777_slots.csv and paths.geojson\n"
     ]
    },
    {
     "name": "stderr",
     "output_type": "stream",
     "text": [
      " 12%|████▎                               | 1224/10357 [09:30<1:38:01,  1.55it/s]"
     ]
    },
    {
     "name": "stdout",
     "output_type": "stream",
     "text": [
      "[OK] 1778.txt → 1778_slots.csv and paths.geojson\n"
     ]
    },
    {
     "name": "stderr",
     "output_type": "stream",
     "text": [
      " 12%|████▎                               | 1225/10357 [09:31<1:32:28,  1.65it/s]"
     ]
    },
    {
     "name": "stdout",
     "output_type": "stream",
     "text": [
      "[OK] 1779.txt → 1779_slots.csv and paths.geojson\n",
      "[OK] 178.txt → 178_slots.csv and paths.geojson\n"
     ]
    },
    {
     "name": "stderr",
     "output_type": "stream",
     "text": [
      " 12%|████▎                               | 1227/10357 [09:31<1:22:39,  1.84it/s]"
     ]
    },
    {
     "name": "stdout",
     "output_type": "stream",
     "text": [
      "[OK] 1780.txt → 1780_slots.csv and paths.geojson\n"
     ]
    },
    {
     "name": "stderr",
     "output_type": "stream",
     "text": [
      " 12%|████▎                               | 1228/10357 [09:32<1:22:25,  1.85it/s]"
     ]
    },
    {
     "name": "stdout",
     "output_type": "stream",
     "text": [
      "[OK] 1781.txt → 1781_slots.csv and paths.geojson\n"
     ]
    },
    {
     "name": "stderr",
     "output_type": "stream",
     "text": [
      " 12%|████▎                               | 1229/10357 [09:32<1:10:30,  2.16it/s]"
     ]
    },
    {
     "name": "stdout",
     "output_type": "stream",
     "text": [
      "[OK] 1782.txt → 1782_slots.csv and paths.geojson\n"
     ]
    },
    {
     "name": "stderr",
     "output_type": "stream",
     "text": [
      " 12%|████▎                               | 1231/10357 [09:33<1:00:35,  2.51it/s]"
     ]
    },
    {
     "name": "stdout",
     "output_type": "stream",
     "text": [
      "[OK] 1783.txt → 1783_slots.csv and paths.geojson\n",
      "[OK] 1784.txt → 1784_slots.csv and paths.geojson\n"
     ]
    },
    {
     "name": "stderr",
     "output_type": "stream",
     "text": [
      " 12%|████▌                                 | 1233/10357 [09:34<53:38,  2.83it/s]"
     ]
    },
    {
     "name": "stdout",
     "output_type": "stream",
     "text": [
      "[OK] 1785.txt → 1785_slots.csv and paths.geojson\n",
      "[OK] 1786.txt → 1786_slots.csv and paths.geojson\n"
     ]
    },
    {
     "name": "stderr",
     "output_type": "stream",
     "text": [
      " 12%|████▌                                 | 1234/10357 [09:34<54:08,  2.81it/s]"
     ]
    },
    {
     "name": "stdout",
     "output_type": "stream",
     "text": [
      "[OK] 1787.txt → 1787_slots.csv and paths.geojson\n"
     ]
    },
    {
     "name": "stderr",
     "output_type": "stream",
     "text": [
      " 12%|████▎                               | 1235/10357 [09:35<1:00:37,  2.51it/s]"
     ]
    },
    {
     "name": "stdout",
     "output_type": "stream",
     "text": [
      "[OK] 1788.txt → 1788_slots.csv and paths.geojson\n"
     ]
    },
    {
     "name": "stderr",
     "output_type": "stream",
     "text": [
      " 12%|████▎                               | 1236/10357 [09:35<1:16:00,  2.00it/s]"
     ]
    },
    {
     "name": "stdout",
     "output_type": "stream",
     "text": [
      "[OK] 1789.txt → 1789_slots.csv and paths.geojson\n"
     ]
    },
    {
     "name": "stderr",
     "output_type": "stream",
     "text": [
      " 12%|████▎                               | 1237/10357 [09:36<1:13:48,  2.06it/s]"
     ]
    },
    {
     "name": "stdout",
     "output_type": "stream",
     "text": [
      "[OK] 179.txt → 179_slots.csv and paths.geojson\n"
     ]
    },
    {
     "name": "stderr",
     "output_type": "stream",
     "text": [
      " 12%|████▎                               | 1238/10357 [09:37<1:57:43,  1.29it/s]"
     ]
    },
    {
     "name": "stdout",
     "output_type": "stream",
     "text": [
      "[OK] 1790.txt → 1790_slots.csv and paths.geojson\n"
     ]
    },
    {
     "name": "stderr",
     "output_type": "stream",
     "text": [
      " 12%|████▎                               | 1239/10357 [09:38<1:52:10,  1.35it/s]"
     ]
    },
    {
     "name": "stdout",
     "output_type": "stream",
     "text": [
      "[OK] 1791.txt → 1791_slots.csv and paths.geojson\n"
     ]
    },
    {
     "name": "stderr",
     "output_type": "stream",
     "text": [
      " 12%|████▎                               | 1240/10357 [09:38<1:45:03,  1.45it/s]"
     ]
    },
    {
     "name": "stdout",
     "output_type": "stream",
     "text": [
      "[OK] 1792.txt → 1792_slots.csv and paths.geojson\n"
     ]
    },
    {
     "name": "stderr",
     "output_type": "stream",
     "text": [
      " 12%|████▎                               | 1241/10357 [09:39<1:58:40,  1.28it/s]"
     ]
    },
    {
     "name": "stdout",
     "output_type": "stream",
     "text": [
      "[OK] 1793.txt → 1793_slots.csv and paths.geojson\n"
     ]
    },
    {
     "name": "stderr",
     "output_type": "stream",
     "text": [
      " 12%|████▎                               | 1242/10357 [09:40<1:54:40,  1.32it/s]"
     ]
    },
    {
     "name": "stdout",
     "output_type": "stream",
     "text": [
      "[OK] 1794.txt → 1794_slots.csv and paths.geojson\n"
     ]
    },
    {
     "name": "stderr",
     "output_type": "stream",
     "text": [
      " 12%|████▎                               | 1243/10357 [09:40<1:37:31,  1.56it/s]"
     ]
    },
    {
     "name": "stdout",
     "output_type": "stream",
     "text": [
      "[OK] 1795.txt → 1795_slots.csv and paths.geojson\n"
     ]
    },
    {
     "name": "stderr",
     "output_type": "stream",
     "text": [
      " 12%|████▎                               | 1244/10357 [09:41<1:34:54,  1.60it/s]"
     ]
    },
    {
     "name": "stdout",
     "output_type": "stream",
     "text": [
      "[OK] 1796.txt → 1796_slots.csv and paths.geojson\n"
     ]
    },
    {
     "name": "stderr",
     "output_type": "stream",
     "text": [
      " 12%|████▎                               | 1245/10357 [09:42<1:27:19,  1.74it/s]"
     ]
    },
    {
     "name": "stdout",
     "output_type": "stream",
     "text": [
      "[OK] 1797.txt → 1797_slots.csv and paths.geojson\n"
     ]
    },
    {
     "name": "stderr",
     "output_type": "stream",
     "text": [
      " 12%|████▎                               | 1246/10357 [09:42<1:22:58,  1.83it/s]"
     ]
    },
    {
     "name": "stdout",
     "output_type": "stream",
     "text": [
      "[OK] 1798.txt → 1798_slots.csv and paths.geojson\n"
     ]
    },
    {
     "name": "stderr",
     "output_type": "stream",
     "text": [
      " 12%|████▎                               | 1247/10357 [09:42<1:12:50,  2.08it/s]"
     ]
    },
    {
     "name": "stdout",
     "output_type": "stream",
     "text": [
      "[OK] 1799.txt → 1799_slots.csv and paths.geojson\n"
     ]
    },
    {
     "name": "stderr",
     "output_type": "stream",
     "text": [
      " 12%|████▎                               | 1248/10357 [09:43<1:14:50,  2.03it/s]"
     ]
    },
    {
     "name": "stdout",
     "output_type": "stream",
     "text": [
      "[OK] 18.txt → 18_slots.csv and paths.geojson\n"
     ]
    },
    {
     "name": "stderr",
     "output_type": "stream",
     "text": [
      " 12%|████▎                               | 1249/10357 [09:43<1:11:14,  2.13it/s]"
     ]
    },
    {
     "name": "stdout",
     "output_type": "stream",
     "text": [
      "[OK] 180.txt → 180_slots.csv and paths.geojson\n"
     ]
    },
    {
     "name": "stderr",
     "output_type": "stream",
     "text": [
      " 12%|████▎                               | 1250/10357 [09:44<1:02:57,  2.41it/s]"
     ]
    },
    {
     "name": "stdout",
     "output_type": "stream",
     "text": [
      "[OK] 1800.txt → 1800_slots.csv and paths.geojson\n"
     ]
    },
    {
     "name": "stderr",
     "output_type": "stream",
     "text": [
      " 12%|████▎                               | 1251/10357 [09:44<1:06:14,  2.29it/s]"
     ]
    },
    {
     "name": "stdout",
     "output_type": "stream",
     "text": [
      "[OK] 1801.txt → 1801_slots.csv and paths.geojson\n"
     ]
    },
    {
     "name": "stderr",
     "output_type": "stream",
     "text": [
      " 12%|████▌                                 | 1252/10357 [09:44<58:13,  2.61it/s]"
     ]
    },
    {
     "name": "stdout",
     "output_type": "stream",
     "text": [
      "[OK] 1802.txt → 1802_slots.csv and paths.geojson\n"
     ]
    },
    {
     "name": "stderr",
     "output_type": "stream",
     "text": [
      " 12%|████▎                               | 1253/10357 [09:45<1:02:08,  2.44it/s]"
     ]
    },
    {
     "name": "stdout",
     "output_type": "stream",
     "text": [
      "[OK] 1803.txt → 1803_slots.csv and paths.geojson\n"
     ]
    },
    {
     "name": "stderr",
     "output_type": "stream",
     "text": [
      " 12%|████▎                               | 1254/10357 [09:45<1:02:00,  2.45it/s]"
     ]
    },
    {
     "name": "stdout",
     "output_type": "stream",
     "text": [
      "[OK] 1804.txt → 1804_slots.csv and paths.geojson\n"
     ]
    },
    {
     "name": "stderr",
     "output_type": "stream",
     "text": [
      " 12%|████▎                               | 1255/10357 [09:46<1:01:20,  2.47it/s]"
     ]
    },
    {
     "name": "stdout",
     "output_type": "stream",
     "text": [
      "[OK] 1805.txt → 1805_slots.csv and paths.geojson\n"
     ]
    },
    {
     "name": "stderr",
     "output_type": "stream",
     "text": [
      " 12%|████▌                                 | 1256/10357 [09:46<56:37,  2.68it/s]"
     ]
    },
    {
     "name": "stdout",
     "output_type": "stream",
     "text": [
      "[OK] 1806.txt → 1806_slots.csv and paths.geojson\n"
     ]
    },
    {
     "name": "stderr",
     "output_type": "stream",
     "text": [
      " 12%|████▌                                 | 1257/10357 [09:46<58:50,  2.58it/s]"
     ]
    },
    {
     "name": "stdout",
     "output_type": "stream",
     "text": [
      "[OK] 1807.txt → 1807_slots.csv and paths.geojson\n"
     ]
    },
    {
     "name": "stderr",
     "output_type": "stream",
     "text": [
      " 12%|████▎                               | 1258/10357 [09:47<1:07:23,  2.25it/s]"
     ]
    },
    {
     "name": "stdout",
     "output_type": "stream",
     "text": [
      "[OK] 1808.txt → 1808_slots.csv and paths.geojson\n"
     ]
    },
    {
     "name": "stderr",
     "output_type": "stream",
     "text": [
      " 12%|████▍                               | 1259/10357 [09:48<1:18:31,  1.93it/s]"
     ]
    },
    {
     "name": "stdout",
     "output_type": "stream",
     "text": [
      "[OK] 1809.txt → 1809_slots.csv and paths.geojson\n"
     ]
    },
    {
     "name": "stderr",
     "output_type": "stream",
     "text": [
      " 12%|████▍                               | 1260/10357 [09:48<1:32:21,  1.64it/s]"
     ]
    },
    {
     "name": "stdout",
     "output_type": "stream",
     "text": [
      "[OK] 181.txt → 181_slots.csv and paths.geojson\n"
     ]
    },
    {
     "name": "stderr",
     "output_type": "stream",
     "text": [
      " 12%|████▍                               | 1261/10357 [09:49<1:37:10,  1.56it/s]"
     ]
    },
    {
     "name": "stdout",
     "output_type": "stream",
     "text": [
      "[OK] 1810.txt → 1810_slots.csv and paths.geojson\n"
     ]
    },
    {
     "name": "stderr",
     "output_type": "stream",
     "text": [
      " 12%|████▍                               | 1262/10357 [09:49<1:18:27,  1.93it/s]"
     ]
    },
    {
     "name": "stdout",
     "output_type": "stream",
     "text": [
      "[OK] 1811.txt → 1811_slots.csv and paths.geojson\n"
     ]
    },
    {
     "name": "stderr",
     "output_type": "stream",
     "text": [
      " 12%|████▍                               | 1263/10357 [09:50<1:13:06,  2.07it/s]"
     ]
    },
    {
     "name": "stdout",
     "output_type": "stream",
     "text": [
      "[OK] 1812.txt → 1812_slots.csv and paths.geojson\n"
     ]
    },
    {
     "name": "stderr",
     "output_type": "stream",
     "text": [
      " 12%|████▍                               | 1264/10357 [09:50<1:08:25,  2.21it/s]"
     ]
    },
    {
     "name": "stdout",
     "output_type": "stream",
     "text": [
      "[OK] 1813.txt → 1813_slots.csv and paths.geojson\n"
     ]
    },
    {
     "name": "stderr",
     "output_type": "stream",
     "text": [
      " 12%|████▍                               | 1265/10357 [09:50<1:02:37,  2.42it/s]"
     ]
    },
    {
     "name": "stdout",
     "output_type": "stream",
     "text": [
      "[OK] 1814.txt → 1814_slots.csv and paths.geojson\n"
     ]
    },
    {
     "name": "stderr",
     "output_type": "stream",
     "text": [
      " 12%|████▍                               | 1266/10357 [09:51<1:06:25,  2.28it/s]"
     ]
    },
    {
     "name": "stdout",
     "output_type": "stream",
     "text": [
      "[OK] 1815.txt → 1815_slots.csv and paths.geojson\n"
     ]
    },
    {
     "name": "stderr",
     "output_type": "stream",
     "text": [
      " 12%|████▍                               | 1267/10357 [09:51<1:09:55,  2.17it/s]"
     ]
    },
    {
     "name": "stdout",
     "output_type": "stream",
     "text": [
      "[OK] 1816.txt → 1816_slots.csv and paths.geojson\n"
     ]
    },
    {
     "name": "stderr",
     "output_type": "stream",
     "text": [
      " 12%|████▋                                 | 1269/10357 [09:52<50:47,  2.98it/s]"
     ]
    },
    {
     "name": "stdout",
     "output_type": "stream",
     "text": [
      "[OK] 1817.txt → 1817_slots.csv and paths.geojson\n",
      "[OK] 1818.txt → 1818_slots.csv and paths.geojson\n"
     ]
    },
    {
     "name": "stderr",
     "output_type": "stream",
     "text": [
      " 12%|████▋                                 | 1270/10357 [09:52<43:42,  3.46it/s]"
     ]
    },
    {
     "name": "stdout",
     "output_type": "stream",
     "text": [
      "[OK] 1819.txt → 1819_slots.csv and paths.geojson\n"
     ]
    },
    {
     "name": "stderr",
     "output_type": "stream",
     "text": [
      " 12%|████▋                                 | 1271/10357 [09:52<47:11,  3.21it/s]"
     ]
    },
    {
     "name": "stdout",
     "output_type": "stream",
     "text": [
      "[OK] 182.txt → 182_slots.csv and paths.geojson\n"
     ]
    },
    {
     "name": "stderr",
     "output_type": "stream",
     "text": [
      " 12%|████▋                                 | 1272/10357 [09:53<43:12,  3.50it/s]"
     ]
    },
    {
     "name": "stdout",
     "output_type": "stream",
     "text": [
      "[OK] 1820.txt → 1820_slots.csv and paths.geojson\n"
     ]
    },
    {
     "name": "stderr",
     "output_type": "stream",
     "text": [
      " 12%|████▋                                 | 1273/10357 [09:53<47:12,  3.21it/s]"
     ]
    },
    {
     "name": "stdout",
     "output_type": "stream",
     "text": [
      "[OK] 1821.txt → 1821_slots.csv and paths.geojson\n"
     ]
    },
    {
     "name": "stderr",
     "output_type": "stream",
     "text": [
      " 12%|████▋                                 | 1274/10357 [09:53<48:54,  3.09it/s]"
     ]
    },
    {
     "name": "stdout",
     "output_type": "stream",
     "text": [
      "[OK] 1822.txt → 1822_slots.csv and paths.geojson\n"
     ]
    },
    {
     "name": "stderr",
     "output_type": "stream",
     "text": [
      " 12%|████▍                               | 1275/10357 [09:54<1:00:05,  2.52it/s]"
     ]
    },
    {
     "name": "stdout",
     "output_type": "stream",
     "text": [
      "[OK] 1823.txt → 1823_slots.csv and paths.geojson\n"
     ]
    },
    {
     "name": "stderr",
     "output_type": "stream",
     "text": [
      " 12%|████▍                               | 1276/10357 [09:54<1:00:22,  2.51it/s]"
     ]
    },
    {
     "name": "stdout",
     "output_type": "stream",
     "text": [
      "[OK] 1824.txt → 1824_slots.csv and paths.geojson\n"
     ]
    },
    {
     "name": "stderr",
     "output_type": "stream",
     "text": [
      " 12%|████▍                               | 1277/10357 [09:55<1:23:56,  1.80it/s]"
     ]
    },
    {
     "name": "stdout",
     "output_type": "stream",
     "text": [
      "[OK] 1825.txt → 1825_slots.csv and paths.geojson\n"
     ]
    },
    {
     "name": "stderr",
     "output_type": "stream",
     "text": [
      " 12%|████▍                               | 1278/10357 [09:56<1:28:58,  1.70it/s]"
     ]
    },
    {
     "name": "stdout",
     "output_type": "stream",
     "text": [
      "[OK] 1826.txt → 1826_slots.csv and paths.geojson\n"
     ]
    },
    {
     "name": "stderr",
     "output_type": "stream",
     "text": [
      " 12%|████▍                               | 1279/10357 [09:57<2:03:05,  1.23it/s]"
     ]
    },
    {
     "name": "stdout",
     "output_type": "stream",
     "text": [
      "[OK] 1827.txt → 1827_slots.csv and paths.geojson\n"
     ]
    },
    {
     "name": "stderr",
     "output_type": "stream",
     "text": [
      " 12%|████▍                               | 1280/10357 [09:58<1:40:13,  1.51it/s]"
     ]
    },
    {
     "name": "stdout",
     "output_type": "stream",
     "text": [
      "[OK] 1828.txt → 1828_slots.csv and paths.geojson\n"
     ]
    },
    {
     "name": "stderr",
     "output_type": "stream",
     "text": [
      " 12%|████▍                               | 1281/10357 [09:58<1:36:01,  1.58it/s]"
     ]
    },
    {
     "name": "stdout",
     "output_type": "stream",
     "text": [
      "[OK] 1829.txt → 1829_slots.csv and paths.geojson\n"
     ]
    },
    {
     "name": "stderr",
     "output_type": "stream",
     "text": [
      " 12%|████▍                               | 1282/10357 [09:59<1:25:48,  1.76it/s]"
     ]
    },
    {
     "name": "stdout",
     "output_type": "stream",
     "text": [
      "[OK] 183.txt → 183_slots.csv and paths.geojson\n"
     ]
    },
    {
     "name": "stderr",
     "output_type": "stream",
     "text": [
      " 12%|████▍                               | 1283/10357 [10:00<1:52:35,  1.34it/s]"
     ]
    },
    {
     "name": "stdout",
     "output_type": "stream",
     "text": [
      "[OK] 1830.txt → 1830_slots.csv and paths.geojson\n",
      "[OK] 1831.txt → 1831_slots.csv and paths.geojson\n"
     ]
    },
    {
     "name": "stderr",
     "output_type": "stream",
     "text": [
      " 12%|████▍                               | 1285/10357 [10:00<1:15:32,  2.00it/s]"
     ]
    },
    {
     "name": "stdout",
     "output_type": "stream",
     "text": [
      "[OK] 1832.txt → 1832_slots.csv and paths.geojson\n"
     ]
    },
    {
     "name": "stderr",
     "output_type": "stream",
     "text": [
      " 12%|████▍                               | 1286/10357 [10:00<1:07:39,  2.23it/s]"
     ]
    },
    {
     "name": "stdout",
     "output_type": "stream",
     "text": [
      "[OK] 1833.txt → 1833_slots.csv and paths.geojson\n"
     ]
    },
    {
     "name": "stderr",
     "output_type": "stream",
     "text": [
      " 12%|████▋                                 | 1288/10357 [10:01<50:24,  3.00it/s]"
     ]
    },
    {
     "name": "stdout",
     "output_type": "stream",
     "text": [
      "[OK] 1834.txt → 1834_slots.csv and paths.geojson\n",
      "[OK] 1835.txt → 1835_slots.csv and paths.geojson\n",
      "[OK] 1836.txt → 1836_slots.csv\n"
     ]
    },
    {
     "name": "stderr",
     "output_type": "stream",
     "text": [
      " 12%|████▋                                 | 1290/10357 [10:02<51:26,  2.94it/s]"
     ]
    },
    {
     "name": "stdout",
     "output_type": "stream",
     "text": [
      "[OK] 1837.txt → 1837_slots.csv and paths.geojson\n"
     ]
    },
    {
     "name": "stderr",
     "output_type": "stream",
     "text": [
      " 12%|████▍                               | 1291/10357 [10:03<1:25:47,  1.76it/s]"
     ]
    },
    {
     "name": "stdout",
     "output_type": "stream",
     "text": [
      "[OK] 1838.txt → 1838_slots.csv and paths.geojson\n",
      "[OK] 1839.txt → 1839_slots.csv\n"
     ]
    },
    {
     "name": "stderr",
     "output_type": "stream",
     "text": [
      " 12%|████▍                               | 1293/10357 [10:03<1:05:21,  2.31it/s]"
     ]
    },
    {
     "name": "stdout",
     "output_type": "stream",
     "text": [
      "[OK] 184.txt → 184_slots.csv and paths.geojson\n"
     ]
    },
    {
     "name": "stderr",
     "output_type": "stream",
     "text": [
      " 12%|████▍                               | 1294/10357 [10:04<1:02:47,  2.41it/s]"
     ]
    },
    {
     "name": "stdout",
     "output_type": "stream",
     "text": [
      "[OK] 1840.txt → 1840_slots.csv and paths.geojson\n"
     ]
    },
    {
     "name": "stderr",
     "output_type": "stream",
     "text": [
      " 13%|████▊                                 | 1296/10357 [10:04<50:47,  2.97it/s]"
     ]
    },
    {
     "name": "stdout",
     "output_type": "stream",
     "text": [
      "[OK] 1841.txt → 1841_slots.csv and paths.geojson\n",
      "[OK] 1842.txt → 1842_slots.csv and paths.geojson\n"
     ]
    },
    {
     "name": "stderr",
     "output_type": "stream",
     "text": [
      " 13%|████▊                                 | 1297/10357 [10:05<49:30,  3.05it/s]"
     ]
    },
    {
     "name": "stdout",
     "output_type": "stream",
     "text": [
      "[OK] 1843.txt → 1843_slots.csv and paths.geojson\n"
     ]
    },
    {
     "name": "stderr",
     "output_type": "stream",
     "text": [
      " 13%|████▊                                 | 1298/10357 [10:05<54:43,  2.76it/s]"
     ]
    },
    {
     "name": "stdout",
     "output_type": "stream",
     "text": [
      "[OK] 1844.txt → 1844_slots.csv and paths.geojson\n"
     ]
    },
    {
     "name": "stderr",
     "output_type": "stream",
     "text": [
      " 13%|████▊                                 | 1299/10357 [10:05<53:37,  2.82it/s]"
     ]
    },
    {
     "name": "stdout",
     "output_type": "stream",
     "text": [
      "[OK] 1845.txt → 1845_slots.csv and paths.geojson\n",
      "[OK] 1846.txt → 1846_slots.csv and paths.geojson\n"
     ]
    },
    {
     "name": "stderr",
     "output_type": "stream",
     "text": [
      " 13%|████▊                                 | 1301/10357 [10:06<53:23,  2.83it/s]"
     ]
    },
    {
     "name": "stdout",
     "output_type": "stream",
     "text": [
      "[OK] 1847.txt → 1847_slots.csv and paths.geojson\n"
     ]
    },
    {
     "name": "stderr",
     "output_type": "stream",
     "text": [
      " 13%|████▊                                 | 1302/10357 [10:06<50:22,  3.00it/s]"
     ]
    },
    {
     "name": "stdout",
     "output_type": "stream",
     "text": [
      "[OK] 1848.txt → 1848_slots.csv and paths.geojson\n"
     ]
    },
    {
     "name": "stderr",
     "output_type": "stream",
     "text": [
      " 13%|████▊                                 | 1303/10357 [10:07<49:44,  3.03it/s]"
     ]
    },
    {
     "name": "stdout",
     "output_type": "stream",
     "text": [
      "[OK] 1849.txt → 1849_slots.csv and paths.geojson\n"
     ]
    },
    {
     "name": "stderr",
     "output_type": "stream",
     "text": [
      " 13%|████▊                                 | 1304/10357 [10:07<49:24,  3.05it/s]"
     ]
    },
    {
     "name": "stdout",
     "output_type": "stream",
     "text": [
      "[OK] 185.txt → 185_slots.csv and paths.geojson\n"
     ]
    },
    {
     "name": "stderr",
     "output_type": "stream",
     "text": [
      " 13%|████▌                               | 1305/10357 [10:08<1:09:35,  2.17it/s]"
     ]
    },
    {
     "name": "stdout",
     "output_type": "stream",
     "text": [
      "[OK] 1850.txt → 1850_slots.csv and paths.geojson\n"
     ]
    },
    {
     "name": "stderr",
     "output_type": "stream",
     "text": [
      " 13%|████▌                               | 1306/10357 [10:08<1:05:12,  2.31it/s]"
     ]
    },
    {
     "name": "stdout",
     "output_type": "stream",
     "text": [
      "[OK] 1851.txt → 1851_slots.csv and paths.geojson\n"
     ]
    },
    {
     "name": "stderr",
     "output_type": "stream",
     "text": [
      " 13%|████▌                               | 1307/10357 [10:09<1:08:47,  2.19it/s]"
     ]
    },
    {
     "name": "stdout",
     "output_type": "stream",
     "text": [
      "[OK] 1852.txt → 1852_slots.csv and paths.geojson\n"
     ]
    },
    {
     "name": "stderr",
     "output_type": "stream",
     "text": [
      " 13%|████▌                               | 1308/10357 [10:09<1:05:02,  2.32it/s]"
     ]
    },
    {
     "name": "stdout",
     "output_type": "stream",
     "text": [
      "[OK] 1853.txt → 1853_slots.csv and paths.geojson\n"
     ]
    },
    {
     "name": "stderr",
     "output_type": "stream",
     "text": [
      " 13%|████▌                               | 1309/10357 [10:10<1:10:46,  2.13it/s]"
     ]
    },
    {
     "name": "stdout",
     "output_type": "stream",
     "text": [
      "[OK] 1854.txt → 1854_slots.csv and paths.geojson\n"
     ]
    },
    {
     "name": "stderr",
     "output_type": "stream",
     "text": [
      " 13%|████▌                               | 1310/10357 [10:10<1:11:25,  2.11it/s]"
     ]
    },
    {
     "name": "stdout",
     "output_type": "stream",
     "text": [
      "[OK] 1855.txt → 1855_slots.csv and paths.geojson\n"
     ]
    },
    {
     "name": "stderr",
     "output_type": "stream",
     "text": [
      " 13%|████▌                               | 1311/10357 [10:10<1:06:23,  2.27it/s]"
     ]
    },
    {
     "name": "stdout",
     "output_type": "stream",
     "text": [
      "[OK] 1856.txt → 1856_slots.csv and paths.geojson\n"
     ]
    },
    {
     "name": "stderr",
     "output_type": "stream",
     "text": [
      " 13%|████▌                               | 1312/10357 [10:11<1:01:57,  2.43it/s]"
     ]
    },
    {
     "name": "stdout",
     "output_type": "stream",
     "text": [
      "[OK] 1857.txt → 1857_slots.csv and paths.geojson\n"
     ]
    },
    {
     "name": "stderr",
     "output_type": "stream",
     "text": [
      " 13%|████▌                               | 1313/10357 [10:11<1:09:31,  2.17it/s]"
     ]
    },
    {
     "name": "stdout",
     "output_type": "stream",
     "text": [
      "[OK] 1858.txt → 1858_slots.csv and paths.geojson\n"
     ]
    },
    {
     "name": "stderr",
     "output_type": "stream",
     "text": [
      " 13%|████▌                               | 1314/10357 [10:12<1:02:31,  2.41it/s]"
     ]
    },
    {
     "name": "stdout",
     "output_type": "stream",
     "text": [
      "[OK] 1859.txt → 1859_slots.csv and paths.geojson\n"
     ]
    },
    {
     "name": "stderr",
     "output_type": "stream",
     "text": [
      " 13%|████▌                               | 1315/10357 [10:12<1:03:22,  2.38it/s]"
     ]
    },
    {
     "name": "stdout",
     "output_type": "stream",
     "text": [
      "[OK] 186.txt → 186_slots.csv and paths.geojson\n"
     ]
    },
    {
     "name": "stderr",
     "output_type": "stream",
     "text": [
      " 13%|████▌                               | 1316/10357 [10:13<1:15:45,  1.99it/s]"
     ]
    },
    {
     "name": "stdout",
     "output_type": "stream",
     "text": [
      "[OK] 1860.txt → 1860_slots.csv and paths.geojson\n"
     ]
    },
    {
     "name": "stderr",
     "output_type": "stream",
     "text": [
      " 13%|████▌                               | 1317/10357 [10:13<1:10:12,  2.15it/s]"
     ]
    },
    {
     "name": "stdout",
     "output_type": "stream",
     "text": [
      "[OK] 1861.txt → 1861_slots.csv and paths.geojson\n"
     ]
    },
    {
     "name": "stderr",
     "output_type": "stream",
     "text": [
      " 13%|████▌                               | 1318/10357 [10:14<1:07:22,  2.24it/s]"
     ]
    },
    {
     "name": "stdout",
     "output_type": "stream",
     "text": [
      "[OK] 1862.txt → 1862_slots.csv and paths.geojson\n"
     ]
    },
    {
     "name": "stderr",
     "output_type": "stream",
     "text": [
      " 13%|████▊                                 | 1319/10357 [10:14<59:26,  2.53it/s]"
     ]
    },
    {
     "name": "stdout",
     "output_type": "stream",
     "text": [
      "[OK] 1863.txt → 1863_slots.csv and paths.geojson\n"
     ]
    },
    {
     "name": "stderr",
     "output_type": "stream",
     "text": [
      " 13%|████▌                               | 1320/10357 [10:14<1:00:20,  2.50it/s]"
     ]
    },
    {
     "name": "stdout",
     "output_type": "stream",
     "text": [
      "[OK] 1864.txt → 1864_slots.csv and paths.geojson\n"
     ]
    },
    {
     "name": "stderr",
     "output_type": "stream",
     "text": [
      " 13%|████▌                               | 1321/10357 [10:15<1:02:28,  2.41it/s]"
     ]
    },
    {
     "name": "stdout",
     "output_type": "stream",
     "text": [
      "[OK] 1865.txt → 1865_slots.csv and paths.geojson\n"
     ]
    },
    {
     "name": "stderr",
     "output_type": "stream",
     "text": [
      " 13%|████▌                               | 1322/10357 [10:15<1:00:18,  2.50it/s]"
     ]
    },
    {
     "name": "stdout",
     "output_type": "stream",
     "text": [
      "[OK] 1866.txt → 1866_slots.csv and paths.geojson\n"
     ]
    },
    {
     "name": "stderr",
     "output_type": "stream",
     "text": [
      " 13%|████▌                               | 1323/10357 [10:16<1:05:15,  2.31it/s]"
     ]
    },
    {
     "name": "stdout",
     "output_type": "stream",
     "text": [
      "[OK] 1867.txt → 1867_slots.csv and paths.geojson\n"
     ]
    },
    {
     "name": "stderr",
     "output_type": "stream",
     "text": [
      " 13%|████▌                               | 1324/10357 [10:16<1:19:11,  1.90it/s]"
     ]
    },
    {
     "name": "stdout",
     "output_type": "stream",
     "text": [
      "[OK] 1868.txt → 1868_slots.csv and paths.geojson\n"
     ]
    },
    {
     "name": "stderr",
     "output_type": "stream",
     "text": [
      " 13%|████▌                               | 1325/10357 [10:17<1:12:34,  2.07it/s]"
     ]
    },
    {
     "name": "stdout",
     "output_type": "stream",
     "text": [
      "[OK] 1869.txt → 1869_slots.csv and paths.geojson\n"
     ]
    },
    {
     "name": "stderr",
     "output_type": "stream",
     "text": [
      " 13%|████▌                               | 1326/10357 [10:17<1:05:07,  2.31it/s]"
     ]
    },
    {
     "name": "stdout",
     "output_type": "stream",
     "text": [
      "[OK] 187.txt → 187_slots.csv and paths.geojson\n"
     ]
    },
    {
     "name": "stderr",
     "output_type": "stream",
     "text": [
      " 13%|████▌                               | 1327/10357 [10:18<1:10:38,  2.13it/s]"
     ]
    },
    {
     "name": "stdout",
     "output_type": "stream",
     "text": [
      "[OK] 1870.txt → 1870_slots.csv and paths.geojson\n"
     ]
    },
    {
     "name": "stderr",
     "output_type": "stream",
     "text": [
      " 13%|████▌                               | 1328/10357 [10:18<1:11:37,  2.10it/s]"
     ]
    },
    {
     "name": "stdout",
     "output_type": "stream",
     "text": [
      "[OK] 1871.txt → 1871_slots.csv and paths.geojson\n"
     ]
    },
    {
     "name": "stderr",
     "output_type": "stream",
     "text": [
      " 13%|████▌                               | 1329/10357 [10:19<1:17:12,  1.95it/s]"
     ]
    },
    {
     "name": "stdout",
     "output_type": "stream",
     "text": [
      "[OK] 1872.txt → 1872_slots.csv and paths.geojson\n"
     ]
    },
    {
     "name": "stderr",
     "output_type": "stream",
     "text": [
      " 13%|████▌                               | 1330/10357 [10:19<1:21:27,  1.85it/s]"
     ]
    },
    {
     "name": "stdout",
     "output_type": "stream",
     "text": [
      "[OK] 1873.txt → 1873_slots.csv and paths.geojson\n"
     ]
    },
    {
     "name": "stderr",
     "output_type": "stream",
     "text": [
      " 13%|████▉                                 | 1332/10357 [10:20<56:19,  2.67it/s]"
     ]
    },
    {
     "name": "stdout",
     "output_type": "stream",
     "text": [
      "[OK] 1874.txt → 1874_slots.csv and paths.geojson\n",
      "[OK] 1875.txt → 1875_slots.csv and paths.geojson\n"
     ]
    },
    {
     "name": "stderr",
     "output_type": "stream",
     "text": [
      " 13%|████▋                               | 1333/10357 [10:21<1:21:23,  1.85it/s]"
     ]
    },
    {
     "name": "stdout",
     "output_type": "stream",
     "text": [
      "[OK] 1876.txt → 1876_slots.csv and paths.geojson\n"
     ]
    },
    {
     "name": "stderr",
     "output_type": "stream",
     "text": [
      " 13%|████▋                               | 1334/10357 [10:21<1:11:57,  2.09it/s]"
     ]
    },
    {
     "name": "stdout",
     "output_type": "stream",
     "text": [
      "[OK] 1877.txt → 1877_slots.csv and paths.geojson\n"
     ]
    },
    {
     "name": "stderr",
     "output_type": "stream",
     "text": [
      " 13%|████▋                               | 1335/10357 [10:21<1:11:23,  2.11it/s]"
     ]
    },
    {
     "name": "stdout",
     "output_type": "stream",
     "text": [
      "[OK] 1878.txt → 1878_slots.csv and paths.geojson\n"
     ]
    },
    {
     "name": "stderr",
     "output_type": "stream",
     "text": [
      " 13%|████▋                               | 1336/10357 [10:22<1:24:58,  1.77it/s]"
     ]
    },
    {
     "name": "stdout",
     "output_type": "stream",
     "text": [
      "[OK] 1879.txt → 1879_slots.csv and paths.geojson\n"
     ]
    },
    {
     "name": "stderr",
     "output_type": "stream",
     "text": [
      " 13%|████▋                               | 1337/10357 [10:23<1:16:30,  1.96it/s]"
     ]
    },
    {
     "name": "stdout",
     "output_type": "stream",
     "text": [
      "[OK] 188.txt → 188_slots.csv and paths.geojson\n"
     ]
    },
    {
     "name": "stderr",
     "output_type": "stream",
     "text": [
      " 13%|████▋                               | 1338/10357 [10:23<1:03:34,  2.36it/s]"
     ]
    },
    {
     "name": "stdout",
     "output_type": "stream",
     "text": [
      "[OK] 1880.txt → 1880_slots.csv and paths.geojson\n"
     ]
    },
    {
     "name": "stderr",
     "output_type": "stream",
     "text": [
      " 13%|████▋                               | 1339/10357 [10:23<1:04:08,  2.34it/s]"
     ]
    },
    {
     "name": "stdout",
     "output_type": "stream",
     "text": [
      "[OK] 1881.txt → 1881_slots.csv and paths.geojson\n"
     ]
    },
    {
     "name": "stderr",
     "output_type": "stream",
     "text": [
      " 13%|████▋                               | 1340/10357 [10:24<1:10:29,  2.13it/s]"
     ]
    },
    {
     "name": "stdout",
     "output_type": "stream",
     "text": [
      "[OK] 1882.txt → 1882_slots.csv and paths.geojson\n"
     ]
    },
    {
     "name": "stderr",
     "output_type": "stream",
     "text": [
      " 13%|████▋                               | 1341/10357 [10:24<1:03:55,  2.35it/s]"
     ]
    },
    {
     "name": "stdout",
     "output_type": "stream",
     "text": [
      "[OK] 1883.txt → 1883_slots.csv and paths.geojson\n"
     ]
    },
    {
     "name": "stderr",
     "output_type": "stream",
     "text": [
      " 13%|████▋                               | 1342/10357 [10:24<1:02:53,  2.39it/s]"
     ]
    },
    {
     "name": "stdout",
     "output_type": "stream",
     "text": [
      "[OK] 1884.txt → 1884_slots.csv and paths.geojson\n"
     ]
    },
    {
     "name": "stderr",
     "output_type": "stream",
     "text": [
      " 13%|████▋                               | 1343/10357 [10:25<1:00:54,  2.47it/s]"
     ]
    },
    {
     "name": "stdout",
     "output_type": "stream",
     "text": [
      "[OK] 1885.txt → 1885_slots.csv and paths.geojson\n"
     ]
    },
    {
     "name": "stderr",
     "output_type": "stream",
     "text": [
      " 13%|████▉                                 | 1344/10357 [10:25<58:35,  2.56it/s]"
     ]
    },
    {
     "name": "stdout",
     "output_type": "stream",
     "text": [
      "[OK] 1886.txt → 1886_slots.csv and paths.geojson\n"
     ]
    },
    {
     "name": "stderr",
     "output_type": "stream",
     "text": [
      " 13%|████▉                                 | 1345/10357 [10:26<56:23,  2.66it/s]"
     ]
    },
    {
     "name": "stdout",
     "output_type": "stream",
     "text": [
      "[OK] 1887.txt → 1887_slots.csv and paths.geojson\n"
     ]
    },
    {
     "name": "stderr",
     "output_type": "stream",
     "text": [
      " 13%|████▉                                 | 1346/10357 [10:26<48:57,  3.07it/s]"
     ]
    },
    {
     "name": "stdout",
     "output_type": "stream",
     "text": [
      "[OK] 1888.txt → 1888_slots.csv and paths.geojson\n"
     ]
    },
    {
     "name": "stderr",
     "output_type": "stream",
     "text": [
      " 13%|████▉                                 | 1347/10357 [10:26<47:28,  3.16it/s]"
     ]
    },
    {
     "name": "stdout",
     "output_type": "stream",
     "text": [
      "[OK] 1889.txt → 1889_slots.csv and paths.geojson\n"
     ]
    },
    {
     "name": "stderr",
     "output_type": "stream",
     "text": [
      " 13%|████▉                                 | 1348/10357 [10:26<43:48,  3.43it/s]"
     ]
    },
    {
     "name": "stdout",
     "output_type": "stream",
     "text": [
      "[OK] 189.txt → 189_slots.csv and paths.geojson\n"
     ]
    },
    {
     "name": "stderr",
     "output_type": "stream",
     "text": [
      " 13%|████▉                                 | 1350/10357 [10:27<35:42,  4.20it/s]"
     ]
    },
    {
     "name": "stdout",
     "output_type": "stream",
     "text": [
      "[OK] 1890.txt → 1890_slots.csv and paths.geojson\n",
      "[OK] 1891.txt → 1891_slots.csv and paths.geojson\n"
     ]
    },
    {
     "name": "stderr",
     "output_type": "stream",
     "text": [
      " 13%|████▉                                 | 1351/10357 [10:27<34:24,  4.36it/s]"
     ]
    },
    {
     "name": "stdout",
     "output_type": "stream",
     "text": [
      "[OK] 1892.txt → 1892_slots.csv and paths.geojson\n"
     ]
    },
    {
     "name": "stderr",
     "output_type": "stream",
     "text": [
      " 13%|████▉                                 | 1352/10357 [10:27<36:27,  4.12it/s]"
     ]
    },
    {
     "name": "stdout",
     "output_type": "stream",
     "text": [
      "[OK] 1893.txt → 1893_slots.csv and paths.geojson\n"
     ]
    },
    {
     "name": "stderr",
     "output_type": "stream",
     "text": [
      " 13%|████▉                                 | 1353/10357 [10:28<43:00,  3.49it/s]"
     ]
    },
    {
     "name": "stdout",
     "output_type": "stream",
     "text": [
      "[OK] 1894.txt → 1894_slots.csv and paths.geojson\n"
     ]
    },
    {
     "name": "stderr",
     "output_type": "stream",
     "text": [
      " 13%|████▉                                 | 1354/10357 [10:28<52:44,  2.85it/s]"
     ]
    },
    {
     "name": "stdout",
     "output_type": "stream",
     "text": [
      "[OK] 1895.txt → 1895_slots.csv and paths.geojson\n"
     ]
    },
    {
     "name": "stderr",
     "output_type": "stream",
     "text": [
      " 13%|████▉                                 | 1355/10357 [10:28<50:59,  2.94it/s]"
     ]
    },
    {
     "name": "stdout",
     "output_type": "stream",
     "text": [
      "[OK] 1896.txt → 1896_slots.csv and paths.geojson\n"
     ]
    },
    {
     "name": "stderr",
     "output_type": "stream",
     "text": [
      " 13%|████▋                               | 1356/10357 [10:29<1:01:24,  2.44it/s]"
     ]
    },
    {
     "name": "stdout",
     "output_type": "stream",
     "text": [
      "[OK] 1897.txt → 1897_slots.csv and paths.geojson\n"
     ]
    },
    {
     "name": "stderr",
     "output_type": "stream",
     "text": [
      " 13%|████▋                               | 1357/10357 [10:29<1:02:45,  2.39it/s]"
     ]
    },
    {
     "name": "stdout",
     "output_type": "stream",
     "text": [
      "[OK] 1898.txt → 1898_slots.csv and paths.geojson\n"
     ]
    },
    {
     "name": "stderr",
     "output_type": "stream",
     "text": [
      " 13%|████▉                                 | 1358/10357 [10:30<58:41,  2.56it/s]"
     ]
    },
    {
     "name": "stdout",
     "output_type": "stream",
     "text": [
      "[OK] 1899.txt → 1899_slots.csv and paths.geojson\n"
     ]
    },
    {
     "name": "stderr",
     "output_type": "stream",
     "text": [
      " 13%|████▋                               | 1359/10357 [10:30<1:05:54,  2.28it/s]"
     ]
    },
    {
     "name": "stdout",
     "output_type": "stream",
     "text": [
      "[OK] 19.txt → 19_slots.csv and paths.geojson\n"
     ]
    },
    {
     "name": "stderr",
     "output_type": "stream",
     "text": [
      " 13%|████▋                               | 1360/10357 [10:31<1:06:24,  2.26it/s]"
     ]
    },
    {
     "name": "stdout",
     "output_type": "stream",
     "text": [
      "[OK] 190.txt → 190_slots.csv and paths.geojson\n"
     ]
    },
    {
     "name": "stderr",
     "output_type": "stream",
     "text": [
      " 13%|████▉                                 | 1361/10357 [10:31<56:08,  2.67it/s]"
     ]
    },
    {
     "name": "stdout",
     "output_type": "stream",
     "text": [
      "[OK] 1900.txt → 1900_slots.csv and paths.geojson\n"
     ]
    },
    {
     "name": "stderr",
     "output_type": "stream",
     "text": [
      " 13%|████▉                                 | 1362/10357 [10:31<54:48,  2.74it/s]"
     ]
    },
    {
     "name": "stdout",
     "output_type": "stream",
     "text": [
      "[OK] 1901.txt → 1901_slots.csv and paths.geojson\n"
     ]
    },
    {
     "name": "stderr",
     "output_type": "stream",
     "text": [
      " 13%|█████                                 | 1363/10357 [10:32<52:26,  2.86it/s]"
     ]
    },
    {
     "name": "stdout",
     "output_type": "stream",
     "text": [
      "[OK] 1902.txt → 1902_slots.csv and paths.geojson\n"
     ]
    },
    {
     "name": "stderr",
     "output_type": "stream",
     "text": [
      " 13%|█████                                 | 1364/10357 [10:32<56:44,  2.64it/s]"
     ]
    },
    {
     "name": "stdout",
     "output_type": "stream",
     "text": [
      "[OK] 1903.txt → 1903_slots.csv and paths.geojson\n"
     ]
    },
    {
     "name": "stderr",
     "output_type": "stream",
     "text": [
      " 13%|█████                                 | 1365/10357 [10:32<55:59,  2.68it/s]"
     ]
    },
    {
     "name": "stdout",
     "output_type": "stream",
     "text": [
      "[OK] 1904.txt → 1904_slots.csv and paths.geojson\n"
     ]
    },
    {
     "name": "stderr",
     "output_type": "stream",
     "text": [
      " 13%|████▋                               | 1366/10357 [10:33<1:06:57,  2.24it/s]"
     ]
    },
    {
     "name": "stdout",
     "output_type": "stream",
     "text": [
      "[OK] 1905.txt → 1905_slots.csv and paths.geojson\n"
     ]
    },
    {
     "name": "stderr",
     "output_type": "stream",
     "text": [
      " 13%|█████                                 | 1367/10357 [10:33<58:53,  2.54it/s]"
     ]
    },
    {
     "name": "stdout",
     "output_type": "stream",
     "text": [
      "[OK] 1906.txt → 1906_slots.csv and paths.geojson\n"
     ]
    },
    {
     "name": "stderr",
     "output_type": "stream",
     "text": [
      " 13%|█████                                 | 1368/10357 [10:34<53:38,  2.79it/s]"
     ]
    },
    {
     "name": "stdout",
     "output_type": "stream",
     "text": [
      "[OK] 1907.txt → 1907_slots.csv and paths.geojson\n"
     ]
    },
    {
     "name": "stderr",
     "output_type": "stream",
     "text": [
      " 13%|████▊                               | 1369/10357 [10:34<1:13:20,  2.04it/s]"
     ]
    },
    {
     "name": "stdout",
     "output_type": "stream",
     "text": [
      "[OK] 1908.txt → 1908_slots.csv and paths.geojson\n"
     ]
    },
    {
     "name": "stderr",
     "output_type": "stream",
     "text": [
      " 13%|████▊                               | 1370/10357 [10:35<1:12:23,  2.07it/s]"
     ]
    },
    {
     "name": "stdout",
     "output_type": "stream",
     "text": [
      "[OK] 1909.txt → 1909_slots.csv and paths.geojson\n"
     ]
    },
    {
     "name": "stderr",
     "output_type": "stream",
     "text": [
      " 13%|████▊                               | 1371/10357 [10:36<1:27:21,  1.71it/s]"
     ]
    },
    {
     "name": "stdout",
     "output_type": "stream",
     "text": [
      "[OK] 191.txt → 191_slots.csv and paths.geojson\n"
     ]
    },
    {
     "name": "stderr",
     "output_type": "stream",
     "text": [
      " 13%|████▊                               | 1372/10357 [10:36<1:15:13,  1.99it/s]"
     ]
    },
    {
     "name": "stdout",
     "output_type": "stream",
     "text": [
      "[OK] 1910.txt → 1910_slots.csv and paths.geojson\n"
     ]
    },
    {
     "name": "stderr",
     "output_type": "stream",
     "text": [
      " 13%|████▊                               | 1373/10357 [10:37<1:18:02,  1.92it/s]"
     ]
    },
    {
     "name": "stdout",
     "output_type": "stream",
     "text": [
      "[OK] 1911.txt → 1911_slots.csv and paths.geojson\n",
      "[OK] 1912.txt → 1912_slots.csv and paths.geojson\n"
     ]
    },
    {
     "name": "stderr",
     "output_type": "stream",
     "text": [
      " 13%|████▊                               | 1375/10357 [10:38<1:23:17,  1.80it/s]"
     ]
    },
    {
     "name": "stdout",
     "output_type": "stream",
     "text": [
      "[OK] 1913.txt → 1913_slots.csv and paths.geojson\n"
     ]
    },
    {
     "name": "stderr",
     "output_type": "stream",
     "text": [
      " 13%|████▊                               | 1376/10357 [10:38<1:21:31,  1.84it/s]"
     ]
    },
    {
     "name": "stdout",
     "output_type": "stream",
     "text": [
      "[OK] 1914.txt → 1914_slots.csv and paths.geojson\n"
     ]
    },
    {
     "name": "stderr",
     "output_type": "stream",
     "text": [
      " 13%|████▊                               | 1377/10357 [10:39<1:26:07,  1.74it/s]"
     ]
    },
    {
     "name": "stdout",
     "output_type": "stream",
     "text": [
      "[OK] 1915.txt → 1915_slots.csv and paths.geojson\n"
     ]
    },
    {
     "name": "stderr",
     "output_type": "stream",
     "text": [
      " 13%|████▊                               | 1378/10357 [10:39<1:23:10,  1.80it/s]"
     ]
    },
    {
     "name": "stdout",
     "output_type": "stream",
     "text": [
      "[OK] 1916.txt → 1916_slots.csv and paths.geojson\n"
     ]
    },
    {
     "name": "stderr",
     "output_type": "stream",
     "text": [
      " 13%|████▊                               | 1379/10357 [10:40<1:22:46,  1.81it/s]"
     ]
    },
    {
     "name": "stdout",
     "output_type": "stream",
     "text": [
      "[OK] 1917.txt → 1917_slots.csv and paths.geojson\n"
     ]
    },
    {
     "name": "stderr",
     "output_type": "stream",
     "text": [
      " 13%|████▊                               | 1380/10357 [10:41<1:32:29,  1.62it/s]"
     ]
    },
    {
     "name": "stdout",
     "output_type": "stream",
     "text": [
      "[OK] 1918.txt → 1918_slots.csv and paths.geojson\n"
     ]
    },
    {
     "name": "stderr",
     "output_type": "stream",
     "text": [
      " 13%|████▊                               | 1381/10357 [10:41<1:33:48,  1.59it/s]"
     ]
    },
    {
     "name": "stdout",
     "output_type": "stream",
     "text": [
      "[OK] 1919.txt → 1919_slots.csv and paths.geojson\n",
      "[OK] 192.txt → 192_slots.csv\n"
     ]
    },
    {
     "name": "stderr",
     "output_type": "stream",
     "text": [
      " 13%|████▊                               | 1383/10357 [10:42<1:04:03,  2.33it/s]"
     ]
    },
    {
     "name": "stdout",
     "output_type": "stream",
     "text": [
      "[OK] 1920.txt → 1920_slots.csv and paths.geojson\n"
     ]
    },
    {
     "name": "stderr",
     "output_type": "stream",
     "text": [
      " 13%|████▊                               | 1384/10357 [10:42<1:00:24,  2.48it/s]"
     ]
    },
    {
     "name": "stdout",
     "output_type": "stream",
     "text": [
      "[OK] 1921.txt → 1921_slots.csv and paths.geojson\n"
     ]
    },
    {
     "name": "stderr",
     "output_type": "stream",
     "text": [
      " 13%|████▊                               | 1385/10357 [10:43<1:15:34,  1.98it/s]"
     ]
    },
    {
     "name": "stdout",
     "output_type": "stream",
     "text": [
      "[OK] 1922.txt → 1922_slots.csv and paths.geojson\n"
     ]
    },
    {
     "name": "stderr",
     "output_type": "stream",
     "text": [
      " 13%|████▊                               | 1386/10357 [10:43<1:12:56,  2.05it/s]"
     ]
    },
    {
     "name": "stdout",
     "output_type": "stream",
     "text": [
      "[OK] 1923.txt → 1923_slots.csv and paths.geojson\n"
     ]
    },
    {
     "name": "stderr",
     "output_type": "stream",
     "text": [
      " 13%|████▊                               | 1387/10357 [10:44<1:15:10,  1.99it/s]"
     ]
    },
    {
     "name": "stdout",
     "output_type": "stream",
     "text": [
      "[OK] 1924.txt → 1924_slots.csv and paths.geojson\n"
     ]
    },
    {
     "name": "stderr",
     "output_type": "stream",
     "text": [
      " 13%|████▊                               | 1388/10357 [10:45<1:38:11,  1.52it/s]"
     ]
    },
    {
     "name": "stdout",
     "output_type": "stream",
     "text": [
      "[OK] 1925.txt → 1925_slots.csv and paths.geojson\n"
     ]
    },
    {
     "name": "stderr",
     "output_type": "stream",
     "text": [
      " 13%|████▊                               | 1389/10357 [10:45<1:25:56,  1.74it/s]"
     ]
    },
    {
     "name": "stdout",
     "output_type": "stream",
     "text": [
      "[OK] 1926.txt → 1926_slots.csv and paths.geojson\n",
      "[OK] 1927.txt → 1927_slots.csv and paths.geojson\n"
     ]
    },
    {
     "name": "stderr",
     "output_type": "stream",
     "text": [
      " 13%|█████                                 | 1391/10357 [10:46<57:36,  2.59it/s]"
     ]
    },
    {
     "name": "stdout",
     "output_type": "stream",
     "text": [
      "[OK] 1928.txt → 1928_slots.csv and paths.geojson\n",
      "[OK] 1929.txt → 1929_slots.csv\n"
     ]
    },
    {
     "name": "stderr",
     "output_type": "stream",
     "text": [
      " 13%|████▊                               | 1393/10357 [10:47<1:03:28,  2.35it/s]"
     ]
    },
    {
     "name": "stdout",
     "output_type": "stream",
     "text": [
      "[OK] 193.txt → 193_slots.csv and paths.geojson\n",
      "[OK] 1930.txt → 1930_slots.csv and paths.geojson\n"
     ]
    },
    {
     "name": "stderr",
     "output_type": "stream",
     "text": [
      " 13%|████▊                               | 1395/10357 [10:47<1:05:48,  2.27it/s]"
     ]
    },
    {
     "name": "stdout",
     "output_type": "stream",
     "text": [
      "[OK] 1931.txt → 1931_slots.csv and paths.geojson\n"
     ]
    },
    {
     "name": "stderr",
     "output_type": "stream",
     "text": [
      " 13%|████▊                               | 1396/10357 [10:48<1:04:52,  2.30it/s]"
     ]
    },
    {
     "name": "stdout",
     "output_type": "stream",
     "text": [
      "[OK] 1932.txt → 1932_slots.csv and paths.geojson\n"
     ]
    },
    {
     "name": "stderr",
     "output_type": "stream",
     "text": [
      " 13%|█████▏                                | 1397/10357 [10:48<57:09,  2.61it/s]"
     ]
    },
    {
     "name": "stdout",
     "output_type": "stream",
     "text": [
      "[OK] 1933.txt → 1933_slots.csv and paths.geojson\n"
     ]
    },
    {
     "name": "stderr",
     "output_type": "stream",
     "text": [
      " 13%|████▊                               | 1398/10357 [10:49<1:04:39,  2.31it/s]"
     ]
    },
    {
     "name": "stdout",
     "output_type": "stream",
     "text": [
      "[OK] 1934.txt → 1934_slots.csv and paths.geojson\n"
     ]
    },
    {
     "name": "stderr",
     "output_type": "stream",
     "text": [
      " 14%|████▊                               | 1399/10357 [10:50<1:23:13,  1.79it/s]"
     ]
    },
    {
     "name": "stdout",
     "output_type": "stream",
     "text": [
      "[OK] 1935.txt → 1935_slots.csv and paths.geojson\n"
     ]
    },
    {
     "name": "stderr",
     "output_type": "stream",
     "text": [
      " 14%|████▊                               | 1400/10357 [10:50<1:13:58,  2.02it/s]"
     ]
    },
    {
     "name": "stdout",
     "output_type": "stream",
     "text": [
      "[OK] 1936.txt → 1936_slots.csv and paths.geojson\n"
     ]
    },
    {
     "name": "stderr",
     "output_type": "stream",
     "text": [
      " 14%|████▊                               | 1401/10357 [10:50<1:09:58,  2.13it/s]"
     ]
    },
    {
     "name": "stdout",
     "output_type": "stream",
     "text": [
      "[OK] 1937.txt → 1937_slots.csv and paths.geojson\n"
     ]
    },
    {
     "name": "stderr",
     "output_type": "stream",
     "text": [
      " 14%|████▊                               | 1402/10357 [10:52<2:10:41,  1.14it/s]"
     ]
    },
    {
     "name": "stdout",
     "output_type": "stream",
     "text": [
      "[OK] 1938.txt → 1938_slots.csv and paths.geojson\n"
     ]
    },
    {
     "name": "stderr",
     "output_type": "stream",
     "text": [
      " 14%|████▉                               | 1403/10357 [10:53<2:00:32,  1.24it/s]"
     ]
    },
    {
     "name": "stdout",
     "output_type": "stream",
     "text": [
      "[OK] 1939.txt → 1939_slots.csv and paths.geojson\n"
     ]
    },
    {
     "name": "stderr",
     "output_type": "stream",
     "text": [
      " 14%|████▉                               | 1404/10357 [10:54<2:04:36,  1.20it/s]"
     ]
    },
    {
     "name": "stdout",
     "output_type": "stream",
     "text": [
      "[OK] 194.txt → 194_slots.csv and paths.geojson\n"
     ]
    },
    {
     "name": "stderr",
     "output_type": "stream",
     "text": [
      " 14%|████▉                               | 1405/10357 [10:54<1:43:20,  1.44it/s]"
     ]
    },
    {
     "name": "stdout",
     "output_type": "stream",
     "text": [
      "[OK] 1940.txt → 1940_slots.csv and paths.geojson\n",
      "[OK] 1941.txt → 1941_slots.csv and paths.geojson\n"
     ]
    },
    {
     "name": "stderr",
     "output_type": "stream",
     "text": [
      " 14%|████▉                               | 1407/10357 [10:54<1:03:37,  2.34it/s]"
     ]
    },
    {
     "name": "stdout",
     "output_type": "stream",
     "text": [
      "[OK] 1942.txt → 1942_slots.csv and paths.geojson\n"
     ]
    },
    {
     "name": "stderr",
     "output_type": "stream",
     "text": [
      " 14%|████▉                               | 1408/10357 [10:55<1:14:52,  1.99it/s]"
     ]
    },
    {
     "name": "stdout",
     "output_type": "stream",
     "text": [
      "[OK] 1943.txt → 1943_slots.csv and paths.geojson\n"
     ]
    },
    {
     "name": "stderr",
     "output_type": "stream",
     "text": [
      " 14%|████▉                               | 1409/10357 [10:56<1:12:49,  2.05it/s]"
     ]
    },
    {
     "name": "stdout",
     "output_type": "stream",
     "text": [
      "[OK] 1944.txt → 1944_slots.csv and paths.geojson\n"
     ]
    },
    {
     "name": "stderr",
     "output_type": "stream",
     "text": [
      " 14%|████▉                               | 1410/10357 [10:56<1:04:31,  2.31it/s]"
     ]
    },
    {
     "name": "stdout",
     "output_type": "stream",
     "text": [
      "[OK] 1945.txt → 1945_slots.csv and paths.geojson\n"
     ]
    },
    {
     "name": "stderr",
     "output_type": "stream",
     "text": [
      " 14%|█████▏                                | 1411/10357 [10:56<58:33,  2.55it/s]"
     ]
    },
    {
     "name": "stdout",
     "output_type": "stream",
     "text": [
      "[OK] 1946.txt → 1946_slots.csv and paths.geojson\n",
      "[SKIP] 1947.txt: no valid rows\n"
     ]
    },
    {
     "name": "stderr",
     "output_type": "stream",
     "text": [
      " 14%|████▉                               | 1413/10357 [10:57<1:12:14,  2.06it/s]"
     ]
    },
    {
     "name": "stdout",
     "output_type": "stream",
     "text": [
      "[OK] 1948.txt → 1948_slots.csv and paths.geojson\n"
     ]
    },
    {
     "name": "stderr",
     "output_type": "stream",
     "text": [
      " 14%|████▉                               | 1414/10357 [10:58<1:11:18,  2.09it/s]"
     ]
    },
    {
     "name": "stdout",
     "output_type": "stream",
     "text": [
      "[OK] 1949.txt → 1949_slots.csv and paths.geojson\n"
     ]
    },
    {
     "name": "stderr",
     "output_type": "stream",
     "text": [
      " 14%|████▉                               | 1415/10357 [10:58<1:19:20,  1.88it/s]"
     ]
    },
    {
     "name": "stdout",
     "output_type": "stream",
     "text": [
      "[OK] 195.txt → 195_slots.csv and paths.geojson\n"
     ]
    },
    {
     "name": "stderr",
     "output_type": "stream",
     "text": [
      " 14%|████▉                               | 1416/10357 [10:59<1:17:58,  1.91it/s]"
     ]
    },
    {
     "name": "stdout",
     "output_type": "stream",
     "text": [
      "[OK] 1950.txt → 1950_slots.csv and paths.geojson\n"
     ]
    },
    {
     "name": "stderr",
     "output_type": "stream",
     "text": [
      " 14%|████▉                               | 1417/10357 [11:00<1:19:13,  1.88it/s]"
     ]
    },
    {
     "name": "stdout",
     "output_type": "stream",
     "text": [
      "[OK] 1951.txt → 1951_slots.csv and paths.geojson\n",
      "[OK] 1952.txt → 1952_slots.csv and paths.geojson\n"
     ]
    },
    {
     "name": "stderr",
     "output_type": "stream",
     "text": [
      " 14%|█████▏                                | 1419/10357 [11:00<56:05,  2.66it/s]"
     ]
    },
    {
     "name": "stdout",
     "output_type": "stream",
     "text": [
      "[OK] 1953.txt → 1953_slots.csv and paths.geojson\n"
     ]
    },
    {
     "name": "stderr",
     "output_type": "stream",
     "text": [
      " 14%|████▉                               | 1420/10357 [11:00<1:00:02,  2.48it/s]"
     ]
    },
    {
     "name": "stdout",
     "output_type": "stream",
     "text": [
      "[OK] 1954.txt → 1954_slots.csv and paths.geojson\n",
      "[OK] 1955.txt → 1955_slots.csv\n"
     ]
    },
    {
     "name": "stderr",
     "output_type": "stream",
     "text": [
      " 14%|█████▏                                | 1422/10357 [11:01<51:04,  2.92it/s]"
     ]
    },
    {
     "name": "stdout",
     "output_type": "stream",
     "text": [
      "[OK] 1956.txt → 1956_slots.csv and paths.geojson\n",
      "[OK] 1957.txt → 1957_slots.csv and paths.geojson\n"
     ]
    },
    {
     "name": "stderr",
     "output_type": "stream",
     "text": [
      " 14%|█████▏                                | 1424/10357 [11:01<49:13,  3.02it/s]"
     ]
    },
    {
     "name": "stdout",
     "output_type": "stream",
     "text": [
      "[OK] 1958.txt → 1958_slots.csv and paths.geojson\n"
     ]
    },
    {
     "name": "stderr",
     "output_type": "stream",
     "text": [
      " 14%|█████▏                                | 1425/10357 [11:02<55:26,  2.69it/s]"
     ]
    },
    {
     "name": "stdout",
     "output_type": "stream",
     "text": [
      "[OK] 1959.txt → 1959_slots.csv and paths.geojson\n"
     ]
    },
    {
     "name": "stderr",
     "output_type": "stream",
     "text": [
      " 14%|█████▏                                | 1426/10357 [11:02<58:27,  2.55it/s]"
     ]
    },
    {
     "name": "stdout",
     "output_type": "stream",
     "text": [
      "[OK] 196.txt → 196_slots.csv and paths.geojson\n",
      "[OK] 1960.txt → 1960_slots.csv and paths.geojson\n"
     ]
    },
    {
     "name": "stderr",
     "output_type": "stream",
     "text": [
      " 14%|█████▏                                | 1428/10357 [11:03<57:27,  2.59it/s]"
     ]
    },
    {
     "name": "stdout",
     "output_type": "stream",
     "text": [
      "[OK] 1961.txt → 1961_slots.csv and paths.geojson\n"
     ]
    },
    {
     "name": "stderr",
     "output_type": "stream",
     "text": [
      " 14%|████▉                               | 1430/10357 [11:04<1:00:36,  2.45it/s]"
     ]
    },
    {
     "name": "stdout",
     "output_type": "stream",
     "text": [
      "[OK] 1962.txt → 1962_slots.csv and paths.geojson\n",
      "[OK] 1963.txt → 1963_slots.csv and paths.geojson\n"
     ]
    },
    {
     "name": "stderr",
     "output_type": "stream",
     "text": [
      " 14%|█████▎                                | 1431/10357 [11:04<55:33,  2.68it/s]"
     ]
    },
    {
     "name": "stdout",
     "output_type": "stream",
     "text": [
      "[OK] 1964.txt → 1964_slots.csv and paths.geojson\n"
     ]
    },
    {
     "name": "stderr",
     "output_type": "stream",
     "text": [
      " 14%|████▉                               | 1432/10357 [11:05<1:07:07,  2.22it/s]"
     ]
    },
    {
     "name": "stdout",
     "output_type": "stream",
     "text": [
      "[OK] 1965.txt → 1965_slots.csv and paths.geojson\n"
     ]
    },
    {
     "name": "stderr",
     "output_type": "stream",
     "text": [
      " 14%|████▉                               | 1433/10357 [11:06<1:04:15,  2.31it/s]"
     ]
    },
    {
     "name": "stdout",
     "output_type": "stream",
     "text": [
      "[OK] 1966.txt → 1966_slots.csv and paths.geojson\n",
      "[OK] 1967.txt → 1967_slots.csv and paths.geojson\n"
     ]
    },
    {
     "name": "stderr",
     "output_type": "stream",
     "text": [
      " 14%|█████▎                                | 1435/10357 [11:06<47:14,  3.15it/s]"
     ]
    },
    {
     "name": "stdout",
     "output_type": "stream",
     "text": [
      "[OK] 1968.txt → 1968_slots.csv and paths.geojson\n"
     ]
    },
    {
     "name": "stderr",
     "output_type": "stream",
     "text": [
      " 14%|████▉                               | 1436/10357 [11:07<1:03:56,  2.33it/s]"
     ]
    },
    {
     "name": "stdout",
     "output_type": "stream",
     "text": [
      "[OK] 1969.txt → 1969_slots.csv and paths.geojson\n"
     ]
    },
    {
     "name": "stderr",
     "output_type": "stream",
     "text": [
      " 14%|████▉                               | 1437/10357 [11:07<1:05:28,  2.27it/s]"
     ]
    },
    {
     "name": "stdout",
     "output_type": "stream",
     "text": [
      "[OK] 197.txt → 197_slots.csv and paths.geojson\n"
     ]
    },
    {
     "name": "stderr",
     "output_type": "stream",
     "text": [
      " 14%|████▉                               | 1438/10357 [11:09<1:57:48,  1.26it/s]"
     ]
    },
    {
     "name": "stdout",
     "output_type": "stream",
     "text": [
      "[OK] 1970.txt → 1970_slots.csv and paths.geojson\n"
     ]
    },
    {
     "name": "stderr",
     "output_type": "stream",
     "text": [
      " 14%|█████                               | 1439/10357 [11:10<2:05:55,  1.18it/s]"
     ]
    },
    {
     "name": "stdout",
     "output_type": "stream",
     "text": [
      "[OK] 1971.txt → 1971_slots.csv and paths.geojson\n",
      "[OK] 1972.txt → 1972_slots.csv and paths.geojson\n"
     ]
    },
    {
     "name": "stderr",
     "output_type": "stream",
     "text": [
      " 14%|█████                               | 1441/10357 [11:10<1:27:39,  1.70it/s]"
     ]
    },
    {
     "name": "stdout",
     "output_type": "stream",
     "text": [
      "[OK] 1973.txt → 1973_slots.csv and paths.geojson\n"
     ]
    },
    {
     "name": "stderr",
     "output_type": "stream",
     "text": [
      " 14%|█████                               | 1442/10357 [11:11<1:33:49,  1.58it/s]"
     ]
    },
    {
     "name": "stdout",
     "output_type": "stream",
     "text": [
      "[OK] 1974.txt → 1974_slots.csv and paths.geojson\n"
     ]
    },
    {
     "name": "stderr",
     "output_type": "stream",
     "text": [
      " 14%|█████                               | 1443/10357 [11:12<1:21:04,  1.83it/s]"
     ]
    },
    {
     "name": "stdout",
     "output_type": "stream",
     "text": [
      "[OK] 1975.txt → 1975_slots.csv and paths.geojson\n"
     ]
    },
    {
     "name": "stderr",
     "output_type": "stream",
     "text": [
      " 14%|█████                               | 1444/10357 [11:12<1:35:28,  1.56it/s]"
     ]
    },
    {
     "name": "stdout",
     "output_type": "stream",
     "text": [
      "[OK] 1976.txt → 1976_slots.csv and paths.geojson\n"
     ]
    },
    {
     "name": "stderr",
     "output_type": "stream",
     "text": [
      " 14%|█████                               | 1445/10357 [11:13<1:22:52,  1.79it/s]"
     ]
    },
    {
     "name": "stdout",
     "output_type": "stream",
     "text": [
      "[OK] 1977.txt → 1977_slots.csv and paths.geojson\n",
      "[OK] 1978.txt → 1978_slots.csv and paths.geojson\n"
     ]
    },
    {
     "name": "stderr",
     "output_type": "stream",
     "text": [
      " 14%|█████                               | 1447/10357 [11:14<1:16:46,  1.93it/s]"
     ]
    },
    {
     "name": "stdout",
     "output_type": "stream",
     "text": [
      "[OK] 1979.txt → 1979_slots.csv and paths.geojson\n"
     ]
    },
    {
     "name": "stderr",
     "output_type": "stream",
     "text": [
      " 14%|█████                               | 1448/10357 [11:14<1:09:04,  2.15it/s]"
     ]
    },
    {
     "name": "stdout",
     "output_type": "stream",
     "text": [
      "[OK] 198.txt → 198_slots.csv and paths.geojson\n"
     ]
    },
    {
     "name": "stderr",
     "output_type": "stream",
     "text": [
      " 14%|█████                               | 1449/10357 [11:14<1:06:41,  2.23it/s]"
     ]
    },
    {
     "name": "stdout",
     "output_type": "stream",
     "text": [
      "[OK] 1980.txt → 1980_slots.csv and paths.geojson\n"
     ]
    },
    {
     "name": "stderr",
     "output_type": "stream",
     "text": [
      " 14%|█████▎                                | 1450/10357 [11:15<59:59,  2.47it/s]"
     ]
    },
    {
     "name": "stdout",
     "output_type": "stream",
     "text": [
      "[OK] 1981.txt → 1981_slots.csv and paths.geojson\n"
     ]
    },
    {
     "name": "stderr",
     "output_type": "stream",
     "text": [
      " 14%|█████                               | 1451/10357 [11:16<1:22:34,  1.80it/s]"
     ]
    },
    {
     "name": "stdout",
     "output_type": "stream",
     "text": [
      "[OK] 1982.txt → 1982_slots.csv and paths.geojson\n"
     ]
    },
    {
     "name": "stderr",
     "output_type": "stream",
     "text": [
      " 14%|█████                               | 1452/10357 [11:16<1:28:51,  1.67it/s]"
     ]
    },
    {
     "name": "stdout",
     "output_type": "stream",
     "text": [
      "[OK] 1983.txt → 1983_slots.csv and paths.geojson\n"
     ]
    },
    {
     "name": "stderr",
     "output_type": "stream",
     "text": [
      " 14%|█████                               | 1453/10357 [11:17<1:20:06,  1.85it/s]"
     ]
    },
    {
     "name": "stdout",
     "output_type": "stream",
     "text": [
      "[OK] 1984.txt → 1984_slots.csv and paths.geojson\n"
     ]
    },
    {
     "name": "stderr",
     "output_type": "stream",
     "text": [
      " 14%|█████                               | 1454/10357 [11:17<1:25:26,  1.74it/s]"
     ]
    },
    {
     "name": "stdout",
     "output_type": "stream",
     "text": [
      "[OK] 1985.txt → 1985_slots.csv and paths.geojson\n"
     ]
    },
    {
     "name": "stderr",
     "output_type": "stream",
     "text": [
      " 14%|█████                               | 1456/10357 [11:18<1:00:23,  2.46it/s]"
     ]
    },
    {
     "name": "stdout",
     "output_type": "stream",
     "text": [
      "[OK] 1986.txt → 1986_slots.csv and paths.geojson\n",
      "[OK] 1987.txt → 1987_slots.csv and paths.geojson\n"
     ]
    },
    {
     "name": "stderr",
     "output_type": "stream",
     "text": [
      " 14%|█████▎                                | 1457/10357 [11:18<55:04,  2.69it/s]"
     ]
    },
    {
     "name": "stdout",
     "output_type": "stream",
     "text": [
      "[OK] 1988.txt → 1988_slots.csv and paths.geojson\n"
     ]
    },
    {
     "name": "stderr",
     "output_type": "stream",
     "text": [
      " 14%|█████▎                                | 1459/10357 [11:19<42:11,  3.51it/s]"
     ]
    },
    {
     "name": "stdout",
     "output_type": "stream",
     "text": [
      "[OK] 1989.txt → 1989_slots.csv and paths.geojson\n",
      "[OK] 199.txt → 199_slots.csv and paths.geojson\n",
      "[OK] 1990.txt → 1990_slots.csv\n"
     ]
    },
    {
     "name": "stderr",
     "output_type": "stream",
     "text": [
      " 14%|█████▎                                | 1461/10357 [11:19<37:25,  3.96it/s]"
     ]
    },
    {
     "name": "stdout",
     "output_type": "stream",
     "text": [
      "[OK] 1991.txt → 1991_slots.csv and paths.geojson\n"
     ]
    },
    {
     "name": "stderr",
     "output_type": "stream",
     "text": [
      " 14%|█████▎                                | 1462/10357 [11:19<43:04,  3.44it/s]"
     ]
    },
    {
     "name": "stdout",
     "output_type": "stream",
     "text": [
      "[OK] 1992.txt → 1992_slots.csv and paths.geojson\n"
     ]
    },
    {
     "name": "stderr",
     "output_type": "stream",
     "text": [
      " 14%|█████▎                                | 1463/10357 [11:20<54:05,  2.74it/s]"
     ]
    },
    {
     "name": "stdout",
     "output_type": "stream",
     "text": [
      "[OK] 1993.txt → 1993_slots.csv and paths.geojson\n",
      "[OK] 1994.txt → 1994_slots.csv\n"
     ]
    },
    {
     "name": "stderr",
     "output_type": "stream",
     "text": [
      " 14%|█████▍                                | 1465/10357 [11:21<58:34,  2.53it/s]"
     ]
    },
    {
     "name": "stdout",
     "output_type": "stream",
     "text": [
      "[OK] 1995.txt → 1995_slots.csv and paths.geojson\n"
     ]
    },
    {
     "name": "stderr",
     "output_type": "stream",
     "text": [
      " 14%|█████▍                                | 1467/10357 [11:22<58:27,  2.53it/s]"
     ]
    },
    {
     "name": "stdout",
     "output_type": "stream",
     "text": [
      "[OK] 1996.txt → 1996_slots.csv and paths.geojson\n",
      "[OK] 1997.txt → 1997_slots.csv and paths.geojson\n"
     ]
    },
    {
     "name": "stderr",
     "output_type": "stream",
     "text": [
      " 14%|█████▍                                | 1468/10357 [11:22<55:40,  2.66it/s]"
     ]
    },
    {
     "name": "stdout",
     "output_type": "stream",
     "text": [
      "[OK] 1998.txt → 1998_slots.csv and paths.geojson\n"
     ]
    },
    {
     "name": "stderr",
     "output_type": "stream",
     "text": [
      " 14%|█████▍                                | 1469/10357 [11:22<54:57,  2.70it/s]"
     ]
    },
    {
     "name": "stdout",
     "output_type": "stream",
     "text": [
      "[OK] 1999.txt → 1999_slots.csv and paths.geojson\n"
     ]
    },
    {
     "name": "stderr",
     "output_type": "stream",
     "text": [
      " 14%|█████▍                                | 1470/10357 [11:23<59:11,  2.50it/s]"
     ]
    },
    {
     "name": "stdout",
     "output_type": "stream",
     "text": [
      "[OK] 2.txt → 2_slots.csv and paths.geojson\n"
     ]
    },
    {
     "name": "stderr",
     "output_type": "stream",
     "text": [
      " 14%|█████▍                                | 1472/10357 [11:24<49:06,  3.02it/s]"
     ]
    },
    {
     "name": "stdout",
     "output_type": "stream",
     "text": [
      "[OK] 20.txt → 20_slots.csv and paths.geojson\n",
      "[OK] 200.txt → 200_slots.csv and paths.geojson\n"
     ]
    },
    {
     "name": "stderr",
     "output_type": "stream",
     "text": [
      " 14%|█████▍                                | 1473/10357 [11:24<55:58,  2.65it/s]"
     ]
    },
    {
     "name": "stdout",
     "output_type": "stream",
     "text": [
      "[OK] 2000.txt → 2000_slots.csv and paths.geojson\n"
     ]
    },
    {
     "name": "stderr",
     "output_type": "stream",
     "text": [
      " 14%|█████▍                                | 1474/10357 [11:24<54:30,  2.72it/s]"
     ]
    },
    {
     "name": "stdout",
     "output_type": "stream",
     "text": [
      "[OK] 2001.txt → 2001_slots.csv and paths.geojson\n"
     ]
    },
    {
     "name": "stderr",
     "output_type": "stream",
     "text": [
      " 14%|█████▍                                | 1475/10357 [11:25<54:20,  2.72it/s]"
     ]
    },
    {
     "name": "stdout",
     "output_type": "stream",
     "text": [
      "[OK] 2002.txt → 2002_slots.csv and paths.geojson\n"
     ]
    },
    {
     "name": "stderr",
     "output_type": "stream",
     "text": [
      " 14%|█████▍                                | 1476/10357 [11:25<50:47,  2.91it/s]"
     ]
    },
    {
     "name": "stdout",
     "output_type": "stream",
     "text": [
      "[OK] 2003.txt → 2003_slots.csv and paths.geojson\n",
      "[OK] 2004.txt → 2004_slots.csv and paths.geojson\n"
     ]
    },
    {
     "name": "stderr",
     "output_type": "stream",
     "text": [
      " 14%|█████▏                              | 1478/10357 [11:26<1:08:25,  2.16it/s]"
     ]
    },
    {
     "name": "stdout",
     "output_type": "stream",
     "text": [
      "[OK] 2005.txt → 2005_slots.csv and paths.geojson\n"
     ]
    },
    {
     "name": "stderr",
     "output_type": "stream",
     "text": [
      " 14%|█████▍                                | 1479/10357 [11:26<58:51,  2.51it/s]"
     ]
    },
    {
     "name": "stdout",
     "output_type": "stream",
     "text": [
      "[OK] 2006.txt → 2006_slots.csv and paths.geojson\n"
     ]
    },
    {
     "name": "stderr",
     "output_type": "stream",
     "text": [
      " 14%|█████▍                                | 1480/10357 [11:27<58:58,  2.51it/s]"
     ]
    },
    {
     "name": "stdout",
     "output_type": "stream",
     "text": [
      "[OK] 2007.txt → 2007_slots.csv and paths.geojson\n"
     ]
    },
    {
     "name": "stderr",
     "output_type": "stream",
     "text": [
      " 14%|█████▍                                | 1481/10357 [11:27<51:59,  2.84it/s]"
     ]
    },
    {
     "name": "stdout",
     "output_type": "stream",
     "text": [
      "[OK] 2008.txt → 2008_slots.csv and paths.geojson\n"
     ]
    },
    {
     "name": "stderr",
     "output_type": "stream",
     "text": [
      " 14%|█████▍                                | 1482/10357 [11:27<57:24,  2.58it/s]"
     ]
    },
    {
     "name": "stdout",
     "output_type": "stream",
     "text": [
      "[OK] 2009.txt → 2009_slots.csv and paths.geojson\n"
     ]
    },
    {
     "name": "stderr",
     "output_type": "stream",
     "text": [
      " 14%|█████▏                              | 1483/10357 [11:28<1:05:19,  2.26it/s]"
     ]
    },
    {
     "name": "stdout",
     "output_type": "stream",
     "text": [
      "[OK] 201.txt → 201_slots.csv and paths.geojson\n"
     ]
    },
    {
     "name": "stderr",
     "output_type": "stream",
     "text": [
      " 14%|█████▍                                | 1484/10357 [11:28<59:25,  2.49it/s]"
     ]
    },
    {
     "name": "stdout",
     "output_type": "stream",
     "text": [
      "[OK] 2010.txt → 2010_slots.csv and paths.geojson\n"
     ]
    },
    {
     "name": "stderr",
     "output_type": "stream",
     "text": [
      " 14%|█████▍                                | 1485/10357 [11:29<59:08,  2.50it/s]"
     ]
    },
    {
     "name": "stdout",
     "output_type": "stream",
     "text": [
      "[OK] 2011.txt → 2011_slots.csv and paths.geojson\n"
     ]
    },
    {
     "name": "stderr",
     "output_type": "stream",
     "text": [
      " 14%|█████▏                              | 1487/10357 [11:30<1:05:12,  2.27it/s]"
     ]
    },
    {
     "name": "stdout",
     "output_type": "stream",
     "text": [
      "[OK] 2012.txt → 2012_slots.csv and paths.geojson\n",
      "[OK] 2013.txt → 2013_slots.csv and paths.geojson\n"
     ]
    },
    {
     "name": "stderr",
     "output_type": "stream",
     "text": [
      " 14%|█████▍                                | 1488/10357 [11:30<52:04,  2.84it/s]"
     ]
    },
    {
     "name": "stdout",
     "output_type": "stream",
     "text": [
      "[OK] 2014.txt → 2014_slots.csv and paths.geojson\n"
     ]
    },
    {
     "name": "stderr",
     "output_type": "stream",
     "text": [
      " 14%|█████▍                                | 1489/10357 [11:30<55:14,  2.68it/s]"
     ]
    },
    {
     "name": "stdout",
     "output_type": "stream",
     "text": [
      "[OK] 2015.txt → 2015_slots.csv and paths.geojson\n"
     ]
    },
    {
     "name": "stderr",
     "output_type": "stream",
     "text": [
      " 14%|█████▏                              | 1490/10357 [11:31<1:19:11,  1.87it/s]"
     ]
    },
    {
     "name": "stdout",
     "output_type": "stream",
     "text": [
      "[OK] 2016.txt → 2016_slots.csv and paths.geojson\n"
     ]
    },
    {
     "name": "stderr",
     "output_type": "stream",
     "text": [
      " 14%|█████▏                              | 1491/10357 [11:32<1:26:21,  1.71it/s]"
     ]
    },
    {
     "name": "stdout",
     "output_type": "stream",
     "text": [
      "[OK] 2017.txt → 2017_slots.csv and paths.geojson\n"
     ]
    },
    {
     "name": "stderr",
     "output_type": "stream",
     "text": [
      " 14%|█████▏                              | 1492/10357 [11:33<1:24:57,  1.74it/s]"
     ]
    },
    {
     "name": "stdout",
     "output_type": "stream",
     "text": [
      "[OK] 2018.txt → 2018_slots.csv and paths.geojson\n"
     ]
    },
    {
     "name": "stderr",
     "output_type": "stream",
     "text": [
      " 14%|█████▏                              | 1493/10357 [11:33<1:36:31,  1.53it/s]"
     ]
    },
    {
     "name": "stdout",
     "output_type": "stream",
     "text": [
      "[OK] 2019.txt → 2019_slots.csv and paths.geojson\n",
      "[OK] 202.txt → 202_slots.csv\n"
     ]
    },
    {
     "name": "stderr",
     "output_type": "stream",
     "text": [
      " 14%|█████▏                              | 1495/10357 [11:34<1:08:36,  2.15it/s]"
     ]
    },
    {
     "name": "stdout",
     "output_type": "stream",
     "text": [
      "[OK] 2020.txt → 2020_slots.csv and paths.geojson\n"
     ]
    },
    {
     "name": "stderr",
     "output_type": "stream",
     "text": [
      " 14%|█████▏                              | 1496/10357 [11:34<1:01:28,  2.40it/s]"
     ]
    },
    {
     "name": "stdout",
     "output_type": "stream",
     "text": [
      "[OK] 2021.txt → 2021_slots.csv and paths.geojson\n"
     ]
    },
    {
     "name": "stderr",
     "output_type": "stream",
     "text": [
      " 14%|█████▏                              | 1497/10357 [11:35<1:04:33,  2.29it/s]"
     ]
    },
    {
     "name": "stdout",
     "output_type": "stream",
     "text": [
      "[OK] 2022.txt → 2022_slots.csv and paths.geojson\n"
     ]
    },
    {
     "name": "stderr",
     "output_type": "stream",
     "text": [
      " 14%|█████▏                              | 1498/10357 [11:35<1:18:00,  1.89it/s]"
     ]
    },
    {
     "name": "stdout",
     "output_type": "stream",
     "text": [
      "[OK] 2023.txt → 2023_slots.csv and paths.geojson\n"
     ]
    },
    {
     "name": "stderr",
     "output_type": "stream",
     "text": [
      " 14%|█████▏                              | 1499/10357 [11:36<1:17:26,  1.91it/s]"
     ]
    },
    {
     "name": "stdout",
     "output_type": "stream",
     "text": [
      "[OK] 2024.txt → 2024_slots.csv and paths.geojson\n"
     ]
    },
    {
     "name": "stderr",
     "output_type": "stream",
     "text": [
      " 14%|█████▏                              | 1500/10357 [11:36<1:16:01,  1.94it/s]"
     ]
    },
    {
     "name": "stdout",
     "output_type": "stream",
     "text": [
      "[OK] 2025.txt → 2025_slots.csv and paths.geojson\n"
     ]
    },
    {
     "name": "stderr",
     "output_type": "stream",
     "text": [
      " 14%|█████▏                              | 1501/10357 [11:37<1:23:06,  1.78it/s]"
     ]
    },
    {
     "name": "stdout",
     "output_type": "stream",
     "text": [
      "[OK] 2026.txt → 2026_slots.csv and paths.geojson\n"
     ]
    },
    {
     "name": "stderr",
     "output_type": "stream",
     "text": [
      " 15%|█████▏                              | 1502/10357 [11:38<1:28:14,  1.67it/s]"
     ]
    },
    {
     "name": "stdout",
     "output_type": "stream",
     "text": [
      "[OK] 2027.txt → 2027_slots.csv and paths.geojson\n"
     ]
    },
    {
     "name": "stderr",
     "output_type": "stream",
     "text": [
      " 15%|█████▏                              | 1503/10357 [11:39<1:37:42,  1.51it/s]"
     ]
    },
    {
     "name": "stdout",
     "output_type": "stream",
     "text": [
      "[OK] 2028.txt → 2028_slots.csv and paths.geojson\n"
     ]
    },
    {
     "name": "stderr",
     "output_type": "stream",
     "text": [
      " 15%|█████▏                              | 1504/10357 [11:39<1:43:13,  1.43it/s]"
     ]
    },
    {
     "name": "stdout",
     "output_type": "stream",
     "text": [
      "[OK] 2029.txt → 2029_slots.csv and paths.geojson\n"
     ]
    },
    {
     "name": "stderr",
     "output_type": "stream",
     "text": [
      " 15%|█████▏                              | 1505/10357 [11:40<1:30:59,  1.62it/s]"
     ]
    },
    {
     "name": "stdout",
     "output_type": "stream",
     "text": [
      "[OK] 203.txt → 203_slots.csv and paths.geojson\n"
     ]
    },
    {
     "name": "stderr",
     "output_type": "stream",
     "text": [
      " 15%|█████▏                              | 1506/10357 [11:40<1:25:58,  1.72it/s]"
     ]
    },
    {
     "name": "stdout",
     "output_type": "stream",
     "text": [
      "[OK] 2030.txt → 2030_slots.csv and paths.geojson\n"
     ]
    },
    {
     "name": "stderr",
     "output_type": "stream",
     "text": [
      " 15%|█████▏                              | 1507/10357 [11:41<1:20:50,  1.82it/s]"
     ]
    },
    {
     "name": "stdout",
     "output_type": "stream",
     "text": [
      "[OK] 2031.txt → 2031_slots.csv and paths.geojson\n"
     ]
    },
    {
     "name": "stderr",
     "output_type": "stream",
     "text": [
      " 15%|█████▏                              | 1508/10357 [11:41<1:15:55,  1.94it/s]"
     ]
    },
    {
     "name": "stdout",
     "output_type": "stream",
     "text": [
      "[OK] 2032.txt → 2032_slots.csv and paths.geojson\n"
     ]
    },
    {
     "name": "stderr",
     "output_type": "stream",
     "text": [
      " 15%|█████▏                              | 1509/10357 [11:42<1:10:09,  2.10it/s]"
     ]
    },
    {
     "name": "stdout",
     "output_type": "stream",
     "text": [
      "[OK] 2033.txt → 2033_slots.csv and paths.geojson\n"
     ]
    },
    {
     "name": "stderr",
     "output_type": "stream",
     "text": [
      " 15%|█████▏                              | 1510/10357 [11:42<1:06:52,  2.20it/s]"
     ]
    },
    {
     "name": "stdout",
     "output_type": "stream",
     "text": [
      "[OK] 2034.txt → 2034_slots.csv and paths.geojson\n"
     ]
    },
    {
     "name": "stderr",
     "output_type": "stream",
     "text": [
      " 15%|█████▌                                | 1511/10357 [11:42<59:35,  2.47it/s]"
     ]
    },
    {
     "name": "stdout",
     "output_type": "stream",
     "text": [
      "[OK] 2035.txt → 2035_slots.csv and paths.geojson\n"
     ]
    },
    {
     "name": "stderr",
     "output_type": "stream",
     "text": [
      " 15%|█████▌                                | 1512/10357 [11:43<58:36,  2.52it/s]"
     ]
    },
    {
     "name": "stdout",
     "output_type": "stream",
     "text": [
      "[OK] 2036.txt → 2036_slots.csv and paths.geojson\n"
     ]
    },
    {
     "name": "stderr",
     "output_type": "stream",
     "text": [
      " 15%|█████▌                                | 1513/10357 [11:43<59:02,  2.50it/s]"
     ]
    },
    {
     "name": "stdout",
     "output_type": "stream",
     "text": [
      "[OK] 2037.txt → 2037_slots.csv and paths.geojson\n"
     ]
    },
    {
     "name": "stderr",
     "output_type": "stream",
     "text": [
      " 15%|█████▎                              | 1514/10357 [11:44<1:04:41,  2.28it/s]"
     ]
    },
    {
     "name": "stdout",
     "output_type": "stream",
     "text": [
      "[OK] 2038.txt → 2038_slots.csv and paths.geojson\n"
     ]
    },
    {
     "name": "stderr",
     "output_type": "stream",
     "text": [
      " 15%|█████▎                              | 1515/10357 [11:44<1:20:13,  1.84it/s]"
     ]
    },
    {
     "name": "stdout",
     "output_type": "stream",
     "text": [
      "[OK] 2039.txt → 2039_slots.csv and paths.geojson\n"
     ]
    },
    {
     "name": "stderr",
     "output_type": "stream",
     "text": [
      " 15%|█████▎                              | 1516/10357 [11:45<1:21:57,  1.80it/s]"
     ]
    },
    {
     "name": "stdout",
     "output_type": "stream",
     "text": [
      "[OK] 204.txt → 204_slots.csv and paths.geojson\n"
     ]
    },
    {
     "name": "stderr",
     "output_type": "stream",
     "text": [
      " 15%|█████▎                              | 1517/10357 [11:45<1:13:20,  2.01it/s]"
     ]
    },
    {
     "name": "stdout",
     "output_type": "stream",
     "text": [
      "[OK] 2040.txt → 2040_slots.csv and paths.geojson\n"
     ]
    },
    {
     "name": "stderr",
     "output_type": "stream",
     "text": [
      " 15%|█████▎                              | 1518/10357 [11:46<1:12:51,  2.02it/s]"
     ]
    },
    {
     "name": "stdout",
     "output_type": "stream",
     "text": [
      "[OK] 2041.txt → 2041_slots.csv and paths.geojson\n"
     ]
    },
    {
     "name": "stderr",
     "output_type": "stream",
     "text": [
      " 15%|█████▎                              | 1519/10357 [11:46<1:17:02,  1.91it/s]"
     ]
    },
    {
     "name": "stdout",
     "output_type": "stream",
     "text": [
      "[OK] 2042.txt → 2042_slots.csv and paths.geojson\n"
     ]
    },
    {
     "name": "stderr",
     "output_type": "stream",
     "text": [
      " 15%|█████▎                              | 1520/10357 [11:47<1:24:05,  1.75it/s]"
     ]
    },
    {
     "name": "stdout",
     "output_type": "stream",
     "text": [
      "[OK] 2043.txt → 2043_slots.csv and paths.geojson\n"
     ]
    },
    {
     "name": "stderr",
     "output_type": "stream",
     "text": [
      " 15%|█████▎                              | 1521/10357 [11:47<1:13:04,  2.02it/s]"
     ]
    },
    {
     "name": "stdout",
     "output_type": "stream",
     "text": [
      "[OK] 2044.txt → 2044_slots.csv and paths.geojson\n"
     ]
    },
    {
     "name": "stderr",
     "output_type": "stream",
     "text": [
      " 15%|█████▎                              | 1522/10357 [11:48<1:15:12,  1.96it/s]"
     ]
    },
    {
     "name": "stdout",
     "output_type": "stream",
     "text": [
      "[OK] 2045.txt → 2045_slots.csv and paths.geojson\n"
     ]
    },
    {
     "name": "stderr",
     "output_type": "stream",
     "text": [
      " 15%|█████▎                              | 1523/10357 [11:48<1:03:30,  2.32it/s]"
     ]
    },
    {
     "name": "stdout",
     "output_type": "stream",
     "text": [
      "[OK] 2046.txt → 2046_slots.csv and paths.geojson\n"
     ]
    },
    {
     "name": "stderr",
     "output_type": "stream",
     "text": [
      " 15%|█████▎                              | 1524/10357 [11:49<1:26:43,  1.70it/s]"
     ]
    },
    {
     "name": "stdout",
     "output_type": "stream",
     "text": [
      "[OK] 2047.txt → 2047_slots.csv and paths.geojson\n"
     ]
    },
    {
     "name": "stderr",
     "output_type": "stream",
     "text": [
      " 15%|█████▎                              | 1525/10357 [11:50<1:39:05,  1.49it/s]"
     ]
    },
    {
     "name": "stdout",
     "output_type": "stream",
     "text": [
      "[OK] 2048.txt → 2048_slots.csv and paths.geojson\n"
     ]
    },
    {
     "name": "stderr",
     "output_type": "stream",
     "text": [
      " 15%|█████▎                              | 1526/10357 [11:50<1:30:16,  1.63it/s]"
     ]
    },
    {
     "name": "stdout",
     "output_type": "stream",
     "text": [
      "[OK] 2049.txt → 2049_slots.csv and paths.geojson\n"
     ]
    },
    {
     "name": "stderr",
     "output_type": "stream",
     "text": [
      " 15%|█████▎                              | 1527/10357 [11:51<1:26:31,  1.70it/s]"
     ]
    },
    {
     "name": "stdout",
     "output_type": "stream",
     "text": [
      "[OK] 205.txt → 205_slots.csv and paths.geojson\n"
     ]
    },
    {
     "name": "stderr",
     "output_type": "stream",
     "text": [
      " 15%|█████▎                              | 1528/10357 [11:52<1:25:11,  1.73it/s]"
     ]
    },
    {
     "name": "stdout",
     "output_type": "stream",
     "text": [
      "[OK] 2050.txt → 2050_slots.csv and paths.geojson\n"
     ]
    },
    {
     "name": "stderr",
     "output_type": "stream",
     "text": [
      " 15%|█████▎                              | 1529/10357 [11:52<1:31:03,  1.62it/s]"
     ]
    },
    {
     "name": "stdout",
     "output_type": "stream",
     "text": [
      "[OK] 2051.txt → 2051_slots.csv and paths.geojson\n"
     ]
    },
    {
     "name": "stderr",
     "output_type": "stream",
     "text": [
      " 15%|█████▎                              | 1530/10357 [11:53<1:15:52,  1.94it/s]"
     ]
    },
    {
     "name": "stdout",
     "output_type": "stream",
     "text": [
      "[OK] 2052.txt → 2052_slots.csv and paths.geojson\n"
     ]
    },
    {
     "name": "stderr",
     "output_type": "stream",
     "text": [
      " 15%|█████▎                              | 1531/10357 [11:53<1:17:51,  1.89it/s]"
     ]
    },
    {
     "name": "stdout",
     "output_type": "stream",
     "text": [
      "[OK] 2053.txt → 2053_slots.csv and paths.geojson\n"
     ]
    },
    {
     "name": "stderr",
     "output_type": "stream",
     "text": [
      " 15%|█████▎                              | 1532/10357 [11:53<1:10:48,  2.08it/s]"
     ]
    },
    {
     "name": "stdout",
     "output_type": "stream",
     "text": [
      "[OK] 2054.txt → 2054_slots.csv and paths.geojson\n"
     ]
    },
    {
     "name": "stderr",
     "output_type": "stream",
     "text": [
      " 15%|█████▎                              | 1533/10357 [11:54<1:03:57,  2.30it/s]"
     ]
    },
    {
     "name": "stdout",
     "output_type": "stream",
     "text": [
      "[OK] 2055.txt → 2055_slots.csv and paths.geojson\n"
     ]
    },
    {
     "name": "stderr",
     "output_type": "stream",
     "text": [
      " 15%|█████▋                                | 1535/10357 [11:54<54:25,  2.70it/s]"
     ]
    },
    {
     "name": "stdout",
     "output_type": "stream",
     "text": [
      "[OK] 2056.txt → 2056_slots.csv and paths.geojson\n",
      "[OK] 2057.txt → 2057_slots.csv and paths.geojson\n"
     ]
    },
    {
     "name": "stderr",
     "output_type": "stream",
     "text": [
      " 15%|█████▋                                | 1537/10357 [11:55<48:02,  3.06it/s]"
     ]
    },
    {
     "name": "stdout",
     "output_type": "stream",
     "text": [
      "[OK] 2058.txt → 2058_slots.csv and paths.geojson\n",
      "[OK] 2059.txt → 2059_slots.csv and paths.geojson\n"
     ]
    },
    {
     "name": "stderr",
     "output_type": "stream",
     "text": [
      " 15%|█████▋                                | 1538/10357 [11:55<42:23,  3.47it/s]"
     ]
    },
    {
     "name": "stdout",
     "output_type": "stream",
     "text": [
      "[OK] 206.txt → 206_slots.csv and paths.geojson\n"
     ]
    },
    {
     "name": "stderr",
     "output_type": "stream",
     "text": [
      " 15%|█████▋                                | 1539/10357 [11:56<52:33,  2.80it/s]"
     ]
    },
    {
     "name": "stdout",
     "output_type": "stream",
     "text": [
      "[OK] 2060.txt → 2060_slots.csv and paths.geojson\n"
     ]
    },
    {
     "name": "stderr",
     "output_type": "stream",
     "text": [
      " 15%|█████▋                                | 1540/10357 [11:56<51:03,  2.88it/s]"
     ]
    },
    {
     "name": "stdout",
     "output_type": "stream",
     "text": [
      "[OK] 2061.txt → 2061_slots.csv and paths.geojson\n"
     ]
    },
    {
     "name": "stderr",
     "output_type": "stream",
     "text": [
      " 15%|█████▋                                | 1541/10357 [11:57<57:19,  2.56it/s]"
     ]
    },
    {
     "name": "stdout",
     "output_type": "stream",
     "text": [
      "[OK] 2062.txt → 2062_slots.csv and paths.geojson\n"
     ]
    },
    {
     "name": "stderr",
     "output_type": "stream",
     "text": [
      " 15%|█████▎                              | 1542/10357 [11:57<1:04:25,  2.28it/s]"
     ]
    },
    {
     "name": "stdout",
     "output_type": "stream",
     "text": [
      "[OK] 2063.txt → 2063_slots.csv and paths.geojson\n"
     ]
    },
    {
     "name": "stderr",
     "output_type": "stream",
     "text": [
      " 15%|█████▎                              | 1543/10357 [11:58<1:05:23,  2.25it/s]"
     ]
    },
    {
     "name": "stdout",
     "output_type": "stream",
     "text": [
      "[OK] 2064.txt → 2064_slots.csv and paths.geojson\n"
     ]
    },
    {
     "name": "stderr",
     "output_type": "stream",
     "text": [
      " 15%|█████▋                                | 1544/10357 [11:58<58:26,  2.51it/s]"
     ]
    },
    {
     "name": "stdout",
     "output_type": "stream",
     "text": [
      "[OK] 2065.txt → 2065_slots.csv and paths.geojson\n"
     ]
    },
    {
     "name": "stderr",
     "output_type": "stream",
     "text": [
      " 15%|█████▋                                | 1545/10357 [11:58<58:19,  2.52it/s]"
     ]
    },
    {
     "name": "stdout",
     "output_type": "stream",
     "text": [
      "[OK] 2066.txt → 2066_slots.csv and paths.geojson\n"
     ]
    },
    {
     "name": "stderr",
     "output_type": "stream",
     "text": [
      " 15%|█████▋                                | 1546/10357 [11:59<53:43,  2.73it/s]"
     ]
    },
    {
     "name": "stdout",
     "output_type": "stream",
     "text": [
      "[OK] 2067.txt → 2067_slots.csv and paths.geojson\n"
     ]
    },
    {
     "name": "stderr",
     "output_type": "stream",
     "text": [
      " 15%|█████▍                              | 1547/10357 [11:59<1:10:06,  2.09it/s]"
     ]
    },
    {
     "name": "stdout",
     "output_type": "stream",
     "text": [
      "[OK] 2068.txt → 2068_slots.csv and paths.geojson\n"
     ]
    },
    {
     "name": "stderr",
     "output_type": "stream",
     "text": [
      " 15%|█████▍                              | 1548/10357 [12:00<1:00:32,  2.42it/s]"
     ]
    },
    {
     "name": "stdout",
     "output_type": "stream",
     "text": [
      "[OK] 2069.txt → 2069_slots.csv and paths.geojson\n"
     ]
    },
    {
     "name": "stderr",
     "output_type": "stream",
     "text": [
      " 15%|█████▍                              | 1549/10357 [12:00<1:01:43,  2.38it/s]"
     ]
    },
    {
     "name": "stdout",
     "output_type": "stream",
     "text": [
      "[OK] 207.txt → 207_slots.csv and paths.geojson\n"
     ]
    },
    {
     "name": "stderr",
     "output_type": "stream",
     "text": [
      " 15%|█████▍                              | 1550/10357 [12:01<1:06:42,  2.20it/s]"
     ]
    },
    {
     "name": "stdout",
     "output_type": "stream",
     "text": [
      "[OK] 2070.txt → 2070_slots.csv and paths.geojson\n"
     ]
    },
    {
     "name": "stderr",
     "output_type": "stream",
     "text": [
      " 15%|█████▋                                | 1551/10357 [12:01<56:27,  2.60it/s]"
     ]
    },
    {
     "name": "stdout",
     "output_type": "stream",
     "text": [
      "[OK] 2071.txt → 2071_slots.csv and paths.geojson\n"
     ]
    },
    {
     "name": "stderr",
     "output_type": "stream",
     "text": [
      " 15%|█████▋                                | 1552/10357 [12:01<56:13,  2.61it/s]"
     ]
    },
    {
     "name": "stdout",
     "output_type": "stream",
     "text": [
      "[OK] 2072.txt → 2072_slots.csv and paths.geojson\n"
     ]
    },
    {
     "name": "stderr",
     "output_type": "stream",
     "text": [
      " 15%|█████▋                                | 1553/10357 [12:02<58:36,  2.50it/s]"
     ]
    },
    {
     "name": "stdout",
     "output_type": "stream",
     "text": [
      "[OK] 2073.txt → 2073_slots.csv and paths.geojson\n"
     ]
    },
    {
     "name": "stderr",
     "output_type": "stream",
     "text": [
      " 15%|█████▍                              | 1554/10357 [12:02<1:00:47,  2.41it/s]"
     ]
    },
    {
     "name": "stdout",
     "output_type": "stream",
     "text": [
      "[OK] 2074.txt → 2074_slots.csv and paths.geojson\n"
     ]
    },
    {
     "name": "stderr",
     "output_type": "stream",
     "text": [
      " 15%|█████▋                                | 1555/10357 [12:02<52:46,  2.78it/s]"
     ]
    },
    {
     "name": "stdout",
     "output_type": "stream",
     "text": [
      "[OK] 2075.txt → 2075_slots.csv and paths.geojson\n"
     ]
    },
    {
     "name": "stderr",
     "output_type": "stream",
     "text": [
      " 15%|█████▋                                | 1556/10357 [12:03<56:58,  2.57it/s]"
     ]
    },
    {
     "name": "stdout",
     "output_type": "stream",
     "text": [
      "[OK] 2076.txt → 2076_slots.csv and paths.geojson\n"
     ]
    },
    {
     "name": "stderr",
     "output_type": "stream",
     "text": [
      " 15%|█████▍                              | 1557/10357 [12:03<1:03:36,  2.31it/s]"
     ]
    },
    {
     "name": "stdout",
     "output_type": "stream",
     "text": [
      "[OK] 2077.txt → 2077_slots.csv and paths.geojson\n"
     ]
    },
    {
     "name": "stderr",
     "output_type": "stream",
     "text": [
      " 15%|█████▍                              | 1558/10357 [12:04<1:08:17,  2.15it/s]"
     ]
    },
    {
     "name": "stdout",
     "output_type": "stream",
     "text": [
      "[OK] 2078.txt → 2078_slots.csv and paths.geojson\n"
     ]
    },
    {
     "name": "stderr",
     "output_type": "stream",
     "text": [
      " 15%|█████▍                              | 1559/10357 [12:04<1:12:46,  2.02it/s]"
     ]
    },
    {
     "name": "stdout",
     "output_type": "stream",
     "text": [
      "[OK] 2079.txt → 2079_slots.csv and paths.geojson\n"
     ]
    },
    {
     "name": "stderr",
     "output_type": "stream",
     "text": [
      " 15%|█████▍                              | 1560/10357 [12:05<1:04:45,  2.26it/s]"
     ]
    },
    {
     "name": "stdout",
     "output_type": "stream",
     "text": [
      "[OK] 208.txt → 208_slots.csv and paths.geojson\n",
      "[OK] 2080.txt → 2080_slots.csv\n"
     ]
    },
    {
     "name": "stderr",
     "output_type": "stream",
     "text": [
      " 15%|█████▋                                | 1562/10357 [12:05<55:04,  2.66it/s]"
     ]
    },
    {
     "name": "stdout",
     "output_type": "stream",
     "text": [
      "[OK] 2081.txt → 2081_slots.csv and paths.geojson\n"
     ]
    },
    {
     "name": "stderr",
     "output_type": "stream",
     "text": [
      " 15%|█████▍                              | 1563/10357 [12:06<1:15:48,  1.93it/s]"
     ]
    },
    {
     "name": "stdout",
     "output_type": "stream",
     "text": [
      "[OK] 2082.txt → 2082_slots.csv and paths.geojson\n"
     ]
    },
    {
     "name": "stderr",
     "output_type": "stream",
     "text": [
      " 15%|█████▍                              | 1564/10357 [12:07<1:15:49,  1.93it/s]"
     ]
    },
    {
     "name": "stdout",
     "output_type": "stream",
     "text": [
      "[OK] 2083.txt → 2083_slots.csv and paths.geojson\n"
     ]
    },
    {
     "name": "stderr",
     "output_type": "stream",
     "text": [
      " 15%|█████▍                              | 1565/10357 [12:07<1:07:08,  2.18it/s]"
     ]
    },
    {
     "name": "stdout",
     "output_type": "stream",
     "text": [
      "[OK] 2084.txt → 2084_slots.csv and paths.geojson\n"
     ]
    },
    {
     "name": "stderr",
     "output_type": "stream",
     "text": [
      " 15%|█████▍                              | 1566/10357 [12:08<1:10:51,  2.07it/s]"
     ]
    },
    {
     "name": "stdout",
     "output_type": "stream",
     "text": [
      "[OK] 2085.txt → 2085_slots.csv and paths.geojson\n"
     ]
    },
    {
     "name": "stderr",
     "output_type": "stream",
     "text": [
      " 15%|█████▍                              | 1567/10357 [12:08<1:13:30,  1.99it/s]"
     ]
    },
    {
     "name": "stdout",
     "output_type": "stream",
     "text": [
      "[OK] 2086.txt → 2086_slots.csv and paths.geojson\n"
     ]
    },
    {
     "name": "stderr",
     "output_type": "stream",
     "text": [
      " 15%|█████▍                              | 1568/10357 [12:08<1:04:18,  2.28it/s]"
     ]
    },
    {
     "name": "stdout",
     "output_type": "stream",
     "text": [
      "[OK] 2087.txt → 2087_slots.csv and paths.geojson\n"
     ]
    },
    {
     "name": "stderr",
     "output_type": "stream",
     "text": [
      " 15%|█████▍                              | 1569/10357 [12:09<1:02:57,  2.33it/s]"
     ]
    },
    {
     "name": "stdout",
     "output_type": "stream",
     "text": [
      "[OK] 2088.txt → 2088_slots.csv and paths.geojson\n"
     ]
    },
    {
     "name": "stderr",
     "output_type": "stream",
     "text": [
      " 15%|█████▊                                | 1570/10357 [12:09<55:46,  2.63it/s]"
     ]
    },
    {
     "name": "stdout",
     "output_type": "stream",
     "text": [
      "[OK] 2089.txt → 2089_slots.csv and paths.geojson\n"
     ]
    },
    {
     "name": "stderr",
     "output_type": "stream",
     "text": [
      " 15%|█████▊                                | 1571/10357 [12:09<54:11,  2.70it/s]"
     ]
    },
    {
     "name": "stdout",
     "output_type": "stream",
     "text": [
      "[OK] 209.txt → 209_slots.csv and paths.geojson\n"
     ]
    },
    {
     "name": "stderr",
     "output_type": "stream",
     "text": [
      " 15%|█████▊                                | 1572/10357 [12:10<47:50,  3.06it/s]"
     ]
    },
    {
     "name": "stdout",
     "output_type": "stream",
     "text": [
      "[OK] 2090.txt → 2090_slots.csv and paths.geojson\n"
     ]
    },
    {
     "name": "stderr",
     "output_type": "stream",
     "text": [
      " 15%|█████▊                                | 1573/10357 [12:10<50:23,  2.91it/s]"
     ]
    },
    {
     "name": "stdout",
     "output_type": "stream",
     "text": [
      "[OK] 2091.txt → 2091_slots.csv and paths.geojson\n"
     ]
    },
    {
     "name": "stderr",
     "output_type": "stream",
     "text": [
      " 15%|█████▍                              | 1574/10357 [12:11<1:03:24,  2.31it/s]"
     ]
    },
    {
     "name": "stdout",
     "output_type": "stream",
     "text": [
      "[OK] 2092.txt → 2092_slots.csv and paths.geojson\n"
     ]
    },
    {
     "name": "stderr",
     "output_type": "stream",
     "text": [
      " 15%|█████▊                                | 1575/10357 [12:11<57:56,  2.53it/s]"
     ]
    },
    {
     "name": "stdout",
     "output_type": "stream",
     "text": [
      "[OK] 2093.txt → 2093_slots.csv and paths.geojson\n"
     ]
    },
    {
     "name": "stderr",
     "output_type": "stream",
     "text": [
      " 15%|█████▍                              | 1576/10357 [12:12<1:11:24,  2.05it/s]"
     ]
    },
    {
     "name": "stdout",
     "output_type": "stream",
     "text": [
      "[OK] 2094.txt → 2094_slots.csv and paths.geojson\n"
     ]
    },
    {
     "name": "stderr",
     "output_type": "stream",
     "text": [
      " 15%|█████▍                              | 1577/10357 [12:12<1:00:07,  2.43it/s]"
     ]
    },
    {
     "name": "stdout",
     "output_type": "stream",
     "text": [
      "[OK] 2095.txt → 2095_slots.csv and paths.geojson\n"
     ]
    },
    {
     "name": "stderr",
     "output_type": "stream",
     "text": [
      " 15%|█████▍                              | 1578/10357 [12:13<1:04:54,  2.25it/s]"
     ]
    },
    {
     "name": "stdout",
     "output_type": "stream",
     "text": [
      "[OK] 2096.txt → 2096_slots.csv and paths.geojson\n"
     ]
    },
    {
     "name": "stderr",
     "output_type": "stream",
     "text": [
      " 15%|█████▊                                | 1579/10357 [12:13<55:40,  2.63it/s]"
     ]
    },
    {
     "name": "stdout",
     "output_type": "stream",
     "text": [
      "[OK] 2097.txt → 2097_slots.csv and paths.geojson\n"
     ]
    },
    {
     "name": "stderr",
     "output_type": "stream",
     "text": [
      " 15%|█████▊                                | 1580/10357 [12:13<50:25,  2.90it/s]"
     ]
    },
    {
     "name": "stdout",
     "output_type": "stream",
     "text": [
      "[OK] 2098.txt → 2098_slots.csv and paths.geojson\n"
     ]
    },
    {
     "name": "stderr",
     "output_type": "stream",
     "text": [
      " 15%|█████▍                              | 1581/10357 [12:14<1:05:53,  2.22it/s]"
     ]
    },
    {
     "name": "stdout",
     "output_type": "stream",
     "text": [
      "[OK] 2099.txt → 2099_slots.csv and paths.geojson\n"
     ]
    },
    {
     "name": "stderr",
     "output_type": "stream",
     "text": [
      " 15%|█████▍                              | 1582/10357 [12:14<1:00:18,  2.42it/s]"
     ]
    },
    {
     "name": "stdout",
     "output_type": "stream",
     "text": [
      "[OK] 21.txt → 21_slots.csv and paths.geojson\n",
      "[OK] 210.txt → 210_slots.csv and paths.geojson\n"
     ]
    },
    {
     "name": "stderr",
     "output_type": "stream",
     "text": [
      " 15%|█████▊                                | 1584/10357 [12:15<59:45,  2.45it/s]"
     ]
    },
    {
     "name": "stdout",
     "output_type": "stream",
     "text": [
      "[OK] 2100.txt → 2100_slots.csv and paths.geojson\n",
      "[OK] 2101.txt → 2101_slots.csv and paths.geojson\n"
     ]
    },
    {
     "name": "stderr",
     "output_type": "stream",
     "text": [
      " 15%|█████▊                                | 1586/10357 [12:15<46:28,  3.15it/s]"
     ]
    },
    {
     "name": "stdout",
     "output_type": "stream",
     "text": [
      "[OK] 2102.txt → 2102_slots.csv and paths.geojson\n"
     ]
    },
    {
     "name": "stderr",
     "output_type": "stream",
     "text": [
      " 15%|█████▊                                | 1587/10357 [12:15<45:12,  3.23it/s]"
     ]
    },
    {
     "name": "stdout",
     "output_type": "stream",
     "text": [
      "[OK] 2103.txt → 2103_slots.csv and paths.geojson\n"
     ]
    },
    {
     "name": "stderr",
     "output_type": "stream",
     "text": [
      " 15%|█████▊                                | 1588/10357 [12:16<46:14,  3.16it/s]"
     ]
    },
    {
     "name": "stdout",
     "output_type": "stream",
     "text": [
      "[OK] 2104.txt → 2104_slots.csv and paths.geojson\n"
     ]
    },
    {
     "name": "stderr",
     "output_type": "stream",
     "text": [
      " 15%|█████▊                                | 1589/10357 [12:16<48:50,  2.99it/s]"
     ]
    },
    {
     "name": "stdout",
     "output_type": "stream",
     "text": [
      "[OK] 2105.txt → 2105_slots.csv and paths.geojson\n"
     ]
    },
    {
     "name": "stderr",
     "output_type": "stream",
     "text": [
      " 15%|█████▊                                | 1590/10357 [12:17<57:44,  2.53it/s]"
     ]
    },
    {
     "name": "stdout",
     "output_type": "stream",
     "text": [
      "[OK] 2106.txt → 2106_slots.csv and paths.geojson\n"
     ]
    },
    {
     "name": "stderr",
     "output_type": "stream",
     "text": [
      " 15%|█████▊                                | 1591/10357 [12:17<52:44,  2.77it/s]"
     ]
    },
    {
     "name": "stdout",
     "output_type": "stream",
     "text": [
      "[OK] 2107.txt → 2107_slots.csv and paths.geojson\n"
     ]
    },
    {
     "name": "stderr",
     "output_type": "stream",
     "text": [
      " 15%|█████▌                              | 1592/10357 [12:18<1:17:12,  1.89it/s]"
     ]
    },
    {
     "name": "stdout",
     "output_type": "stream",
     "text": [
      "[OK] 2108.txt → 2108_slots.csv and paths.geojson\n"
     ]
    },
    {
     "name": "stderr",
     "output_type": "stream",
     "text": [
      " 15%|█████▌                              | 1593/10357 [12:18<1:07:04,  2.18it/s]"
     ]
    },
    {
     "name": "stdout",
     "output_type": "stream",
     "text": [
      "[OK] 2109.txt → 2109_slots.csv and paths.geojson\n"
     ]
    },
    {
     "name": "stderr",
     "output_type": "stream",
     "text": [
      " 15%|█████▌                              | 1594/10357 [12:19<1:04:21,  2.27it/s]"
     ]
    },
    {
     "name": "stdout",
     "output_type": "stream",
     "text": [
      "[OK] 211.txt → 211_slots.csv and paths.geojson\n"
     ]
    },
    {
     "name": "stderr",
     "output_type": "stream",
     "text": [
      " 15%|█████▌                              | 1595/10357 [12:19<1:03:26,  2.30it/s]"
     ]
    },
    {
     "name": "stdout",
     "output_type": "stream",
     "text": [
      "[OK] 2110.txt → 2110_slots.csv and paths.geojson\n"
     ]
    },
    {
     "name": "stderr",
     "output_type": "stream",
     "text": [
      " 15%|█████▊                                | 1596/10357 [12:19<59:24,  2.46it/s]"
     ]
    },
    {
     "name": "stdout",
     "output_type": "stream",
     "text": [
      "[OK] 2111.txt → 2111_slots.csv and paths.geojson\n"
     ]
    },
    {
     "name": "stderr",
     "output_type": "stream",
     "text": [
      " 15%|█████▌                              | 1597/10357 [12:20<1:05:24,  2.23it/s]"
     ]
    },
    {
     "name": "stdout",
     "output_type": "stream",
     "text": [
      "[OK] 2112.txt → 2112_slots.csv and paths.geojson\n"
     ]
    },
    {
     "name": "stderr",
     "output_type": "stream",
     "text": [
      " 15%|█████▌                              | 1598/10357 [12:21<1:11:30,  2.04it/s]"
     ]
    },
    {
     "name": "stdout",
     "output_type": "stream",
     "text": [
      "[OK] 2113.txt → 2113_slots.csv and paths.geojson\n"
     ]
    },
    {
     "name": "stderr",
     "output_type": "stream",
     "text": [
      " 15%|█████▌                              | 1599/10357 [12:21<1:05:05,  2.24it/s]"
     ]
    },
    {
     "name": "stdout",
     "output_type": "stream",
     "text": [
      "[OK] 2114.txt → 2114_slots.csv and paths.geojson\n"
     ]
    },
    {
     "name": "stderr",
     "output_type": "stream",
     "text": [
      " 15%|█████▊                                | 1600/10357 [12:21<55:43,  2.62it/s]"
     ]
    },
    {
     "name": "stdout",
     "output_type": "stream",
     "text": [
      "[OK] 2115.txt → 2115_slots.csv and paths.geojson\n"
     ]
    },
    {
     "name": "stderr",
     "output_type": "stream",
     "text": [
      " 15%|█████▊                                | 1601/10357 [12:21<48:38,  3.00it/s]"
     ]
    },
    {
     "name": "stdout",
     "output_type": "stream",
     "text": [
      "[OK] 2116.txt → 2116_slots.csv and paths.geojson\n"
     ]
    },
    {
     "name": "stderr",
     "output_type": "stream",
     "text": [
      " 15%|█████▉                                | 1602/10357 [12:22<58:00,  2.52it/s]"
     ]
    },
    {
     "name": "stdout",
     "output_type": "stream",
     "text": [
      "[OK] 2117.txt → 2117_slots.csv and paths.geojson\n"
     ]
    },
    {
     "name": "stderr",
     "output_type": "stream",
     "text": [
      " 15%|█████▌                              | 1603/10357 [12:23<1:11:37,  2.04it/s]"
     ]
    },
    {
     "name": "stdout",
     "output_type": "stream",
     "text": [
      "[OK] 2118.txt → 2118_slots.csv and paths.geojson\n"
     ]
    },
    {
     "name": "stderr",
     "output_type": "stream",
     "text": [
      " 15%|█████▌                              | 1605/10357 [12:23<1:02:18,  2.34it/s]"
     ]
    },
    {
     "name": "stdout",
     "output_type": "stream",
     "text": [
      "[OK] 2119.txt → 2119_slots.csv and paths.geojson\n",
      "[OK] 212.txt → 212_slots.csv and paths.geojson\n"
     ]
    },
    {
     "name": "stderr",
     "output_type": "stream",
     "text": [
      " 16%|█████▉                                | 1606/10357 [12:24<58:48,  2.48it/s]"
     ]
    },
    {
     "name": "stdout",
     "output_type": "stream",
     "text": [
      "[OK] 2120.txt → 2120_slots.csv and paths.geojson\n"
     ]
    },
    {
     "name": "stderr",
     "output_type": "stream",
     "text": [
      " 16%|█████▉                                | 1608/10357 [12:24<46:24,  3.14it/s]"
     ]
    },
    {
     "name": "stdout",
     "output_type": "stream",
     "text": [
      "[OK] 2121.txt → 2121_slots.csv and paths.geojson\n",
      "[OK] 2122.txt → 2122_slots.csv and paths.geojson\n"
     ]
    },
    {
     "name": "stderr",
     "output_type": "stream",
     "text": [
      " 16%|█████▌                              | 1609/10357 [12:25<1:04:51,  2.25it/s]"
     ]
    },
    {
     "name": "stdout",
     "output_type": "stream",
     "text": [
      "[OK] 2123.txt → 2123_slots.csv and paths.geojson\n"
     ]
    },
    {
     "name": "stderr",
     "output_type": "stream",
     "text": [
      " 16%|█████▌                              | 1610/10357 [12:25<1:01:13,  2.38it/s]"
     ]
    },
    {
     "name": "stdout",
     "output_type": "stream",
     "text": [
      "[OK] 2124.txt → 2124_slots.csv and paths.geojson\n"
     ]
    },
    {
     "name": "stderr",
     "output_type": "stream",
     "text": [
      " 16%|█████▉                                | 1611/10357 [12:26<58:40,  2.48it/s]"
     ]
    },
    {
     "name": "stdout",
     "output_type": "stream",
     "text": [
      "[OK] 2125.txt → 2125_slots.csv and paths.geojson\n"
     ]
    },
    {
     "name": "stderr",
     "output_type": "stream",
     "text": [
      " 16%|█████▌                              | 1612/10357 [12:26<1:05:04,  2.24it/s]"
     ]
    },
    {
     "name": "stdout",
     "output_type": "stream",
     "text": [
      "[OK] 2126.txt → 2126_slots.csv and paths.geojson\n"
     ]
    },
    {
     "name": "stderr",
     "output_type": "stream",
     "text": [
      " 16%|█████▌                              | 1613/10357 [12:27<1:30:08,  1.62it/s]"
     ]
    },
    {
     "name": "stdout",
     "output_type": "stream",
     "text": [
      "[OK] 2127.txt → 2127_slots.csv and paths.geojson\n"
     ]
    },
    {
     "name": "stderr",
     "output_type": "stream",
     "text": [
      " 16%|█████▌                              | 1614/10357 [12:28<1:26:33,  1.68it/s]"
     ]
    },
    {
     "name": "stdout",
     "output_type": "stream",
     "text": [
      "[OK] 2128.txt → 2128_slots.csv and paths.geojson\n"
     ]
    },
    {
     "name": "stderr",
     "output_type": "stream",
     "text": [
      " 16%|█████▌                              | 1615/10357 [12:28<1:24:18,  1.73it/s]"
     ]
    },
    {
     "name": "stdout",
     "output_type": "stream",
     "text": [
      "[OK] 2129.txt → 2129_slots.csv and paths.geojson\n"
     ]
    },
    {
     "name": "stderr",
     "output_type": "stream",
     "text": [
      " 16%|█████▌                              | 1616/10357 [12:29<1:30:10,  1.62it/s]"
     ]
    },
    {
     "name": "stdout",
     "output_type": "stream",
     "text": [
      "[OK] 213.txt → 213_slots.csv and paths.geojson\n"
     ]
    },
    {
     "name": "stderr",
     "output_type": "stream",
     "text": [
      " 16%|█████▌                              | 1617/10357 [12:30<1:37:09,  1.50it/s]"
     ]
    },
    {
     "name": "stdout",
     "output_type": "stream",
     "text": [
      "[OK] 2130.txt → 2130_slots.csv and paths.geojson\n"
     ]
    },
    {
     "name": "stderr",
     "output_type": "stream",
     "text": [
      " 16%|█████▌                              | 1618/10357 [12:30<1:19:28,  1.83it/s]"
     ]
    },
    {
     "name": "stdout",
     "output_type": "stream",
     "text": [
      "[OK] 2131.txt → 2131_slots.csv and paths.geojson\n",
      "[OK] 2132.txt → 2132_slots.csv\n"
     ]
    },
    {
     "name": "stderr",
     "output_type": "stream",
     "text": [
      " 16%|█████▋                              | 1620/10357 [12:31<1:03:45,  2.28it/s]"
     ]
    },
    {
     "name": "stdout",
     "output_type": "stream",
     "text": [
      "[OK] 2133.txt → 2133_slots.csv and paths.geojson\n"
     ]
    },
    {
     "name": "stderr",
     "output_type": "stream",
     "text": [
      " 16%|█████▋                              | 1621/10357 [12:31<1:12:33,  2.01it/s]"
     ]
    },
    {
     "name": "stdout",
     "output_type": "stream",
     "text": [
      "[OK] 2134.txt → 2134_slots.csv and paths.geojson\n"
     ]
    },
    {
     "name": "stderr",
     "output_type": "stream",
     "text": [
      " 16%|█████▋                              | 1622/10357 [12:32<1:13:26,  1.98it/s]"
     ]
    },
    {
     "name": "stdout",
     "output_type": "stream",
     "text": [
      "[OK] 2135.txt → 2135_slots.csv and paths.geojson\n"
     ]
    },
    {
     "name": "stderr",
     "output_type": "stream",
     "text": [
      " 16%|█████▋                              | 1623/10357 [12:32<1:08:00,  2.14it/s]"
     ]
    },
    {
     "name": "stdout",
     "output_type": "stream",
     "text": [
      "[OK] 2136.txt → 2136_slots.csv and paths.geojson\n"
     ]
    },
    {
     "name": "stderr",
     "output_type": "stream",
     "text": [
      " 16%|█████▋                              | 1624/10357 [12:33<1:09:22,  2.10it/s]"
     ]
    },
    {
     "name": "stdout",
     "output_type": "stream",
     "text": [
      "[OK] 2137.txt → 2137_slots.csv and paths.geojson\n"
     ]
    },
    {
     "name": "stderr",
     "output_type": "stream",
     "text": [
      " 16%|█████▋                              | 1625/10357 [12:34<1:17:27,  1.88it/s]"
     ]
    },
    {
     "name": "stdout",
     "output_type": "stream",
     "text": [
      "[OK] 2138.txt → 2138_slots.csv and paths.geojson\n"
     ]
    },
    {
     "name": "stderr",
     "output_type": "stream",
     "text": [
      " 16%|█████▋                              | 1626/10357 [12:34<1:10:32,  2.06it/s]"
     ]
    },
    {
     "name": "stdout",
     "output_type": "stream",
     "text": [
      "[OK] 2139.txt → 2139_slots.csv and paths.geojson\n"
     ]
    },
    {
     "name": "stderr",
     "output_type": "stream",
     "text": [
      " 16%|█████▋                              | 1627/10357 [12:34<1:03:17,  2.30it/s]"
     ]
    },
    {
     "name": "stdout",
     "output_type": "stream",
     "text": [
      "[OK] 214.txt → 214_slots.csv and paths.geojson\n"
     ]
    },
    {
     "name": "stderr",
     "output_type": "stream",
     "text": [
      " 16%|█████▋                              | 1628/10357 [12:35<1:13:47,  1.97it/s]"
     ]
    },
    {
     "name": "stdout",
     "output_type": "stream",
     "text": [
      "[OK] 2140.txt → 2140_slots.csv and paths.geojson\n"
     ]
    },
    {
     "name": "stderr",
     "output_type": "stream",
     "text": [
      " 16%|█████▋                              | 1629/10357 [12:35<1:08:04,  2.14it/s]"
     ]
    },
    {
     "name": "stdout",
     "output_type": "stream",
     "text": [
      "[OK] 2141.txt → 2141_slots.csv and paths.geojson\n"
     ]
    },
    {
     "name": "stderr",
     "output_type": "stream",
     "text": [
      " 16%|█████▋                              | 1630/10357 [12:37<1:43:49,  1.40it/s]"
     ]
    },
    {
     "name": "stdout",
     "output_type": "stream",
     "text": [
      "[OK] 2142.txt → 2142_slots.csv and paths.geojson\n"
     ]
    },
    {
     "name": "stderr",
     "output_type": "stream",
     "text": [
      " 16%|█████▋                              | 1631/10357 [12:37<1:30:51,  1.60it/s]"
     ]
    },
    {
     "name": "stdout",
     "output_type": "stream",
     "text": [
      "[OK] 2143.txt → 2143_slots.csv and paths.geojson\n"
     ]
    },
    {
     "name": "stderr",
     "output_type": "stream",
     "text": [
      " 16%|█████▋                              | 1632/10357 [12:37<1:21:31,  1.78it/s]"
     ]
    },
    {
     "name": "stdout",
     "output_type": "stream",
     "text": [
      "[OK] 2144.txt → 2144_slots.csv and paths.geojson\n"
     ]
    },
    {
     "name": "stderr",
     "output_type": "stream",
     "text": [
      " 16%|█████▋                              | 1633/10357 [12:38<1:23:22,  1.74it/s]"
     ]
    },
    {
     "name": "stdout",
     "output_type": "stream",
     "text": [
      "[OK] 2145.txt → 2145_slots.csv and paths.geojson\n"
     ]
    },
    {
     "name": "stderr",
     "output_type": "stream",
     "text": [
      " 16%|█████▋                              | 1634/10357 [12:39<1:25:12,  1.71it/s]"
     ]
    },
    {
     "name": "stdout",
     "output_type": "stream",
     "text": [
      "[OK] 2146.txt → 2146_slots.csv and paths.geojson\n"
     ]
    },
    {
     "name": "stderr",
     "output_type": "stream",
     "text": [
      " 16%|█████▋                              | 1635/10357 [12:39<1:22:15,  1.77it/s]"
     ]
    },
    {
     "name": "stdout",
     "output_type": "stream",
     "text": [
      "[OK] 2147.txt → 2147_slots.csv and paths.geojson\n"
     ]
    },
    {
     "name": "stderr",
     "output_type": "stream",
     "text": [
      " 16%|█████▋                              | 1636/10357 [12:40<1:18:00,  1.86it/s]"
     ]
    },
    {
     "name": "stdout",
     "output_type": "stream",
     "text": [
      "[OK] 2148.txt → 2148_slots.csv and paths.geojson\n"
     ]
    },
    {
     "name": "stderr",
     "output_type": "stream",
     "text": [
      " 16%|█████▋                              | 1637/10357 [12:40<1:31:32,  1.59it/s]"
     ]
    },
    {
     "name": "stdout",
     "output_type": "stream",
     "text": [
      "[OK] 2149.txt → 2149_slots.csv and paths.geojson\n"
     ]
    },
    {
     "name": "stderr",
     "output_type": "stream",
     "text": [
      " 16%|█████▋                              | 1638/10357 [12:41<1:43:30,  1.40it/s]"
     ]
    },
    {
     "name": "stdout",
     "output_type": "stream",
     "text": [
      "[OK] 215.txt → 215_slots.csv and paths.geojson\n"
     ]
    },
    {
     "name": "stderr",
     "output_type": "stream",
     "text": [
      " 16%|█████▋                              | 1639/10357 [12:42<1:39:00,  1.47it/s]"
     ]
    },
    {
     "name": "stdout",
     "output_type": "stream",
     "text": [
      "[OK] 2150.txt → 2150_slots.csv and paths.geojson\n",
      "[OK] 2151.txt → 2151_slots.csv\n"
     ]
    },
    {
     "name": "stderr",
     "output_type": "stream",
     "text": [
      " 16%|█████▋                              | 1641/10357 [12:42<1:04:50,  2.24it/s]"
     ]
    },
    {
     "name": "stdout",
     "output_type": "stream",
     "text": [
      "[OK] 2152.txt → 2152_slots.csv and paths.geojson\n"
     ]
    },
    {
     "name": "stderr",
     "output_type": "stream",
     "text": [
      " 16%|█████▋                              | 1642/10357 [12:43<1:21:56,  1.77it/s]"
     ]
    },
    {
     "name": "stdout",
     "output_type": "stream",
     "text": [
      "[OK] 2153.txt → 2153_slots.csv and paths.geojson\n"
     ]
    },
    {
     "name": "stderr",
     "output_type": "stream",
     "text": [
      " 16%|█████▋                              | 1643/10357 [12:44<1:39:00,  1.47it/s]"
     ]
    },
    {
     "name": "stdout",
     "output_type": "stream",
     "text": [
      "[OK] 2154.txt → 2154_slots.csv and paths.geojson\n"
     ]
    },
    {
     "name": "stderr",
     "output_type": "stream",
     "text": [
      " 16%|█████▋                              | 1644/10357 [12:45<1:37:04,  1.50it/s]"
     ]
    },
    {
     "name": "stdout",
     "output_type": "stream",
     "text": [
      "[OK] 2155.txt → 2155_slots.csv and paths.geojson\n"
     ]
    },
    {
     "name": "stderr",
     "output_type": "stream",
     "text": [
      " 16%|█████▋                              | 1645/10357 [12:45<1:21:59,  1.77it/s]"
     ]
    },
    {
     "name": "stdout",
     "output_type": "stream",
     "text": [
      "[OK] 2156.txt → 2156_slots.csv and paths.geojson\n"
     ]
    },
    {
     "name": "stderr",
     "output_type": "stream",
     "text": [
      " 16%|█████▋                              | 1646/10357 [12:46<1:27:13,  1.66it/s]"
     ]
    },
    {
     "name": "stdout",
     "output_type": "stream",
     "text": [
      "[OK] 2157.txt → 2157_slots.csv and paths.geojson\n"
     ]
    },
    {
     "name": "stderr",
     "output_type": "stream",
     "text": [
      " 16%|█████▋                              | 1647/10357 [12:46<1:21:38,  1.78it/s]"
     ]
    },
    {
     "name": "stdout",
     "output_type": "stream",
     "text": [
      "[OK] 2158.txt → 2158_slots.csv and paths.geojson\n",
      "[OK] 2159.txt → 2159_slots.csv\n"
     ]
    },
    {
     "name": "stderr",
     "output_type": "stream",
     "text": [
      " 16%|█████▋                              | 1649/10357 [12:47<1:09:13,  2.10it/s]"
     ]
    },
    {
     "name": "stdout",
     "output_type": "stream",
     "text": [
      "[OK] 216.txt → 216_slots.csv and paths.geojson\n"
     ]
    },
    {
     "name": "stderr",
     "output_type": "stream",
     "text": [
      " 16%|█████▋                              | 1650/10357 [12:48<1:10:25,  2.06it/s]"
     ]
    },
    {
     "name": "stdout",
     "output_type": "stream",
     "text": [
      "[OK] 2160.txt → 2160_slots.csv and paths.geojson\n"
     ]
    },
    {
     "name": "stderr",
     "output_type": "stream",
     "text": [
      " 16%|█████▋                              | 1651/10357 [12:48<1:02:22,  2.33it/s]"
     ]
    },
    {
     "name": "stdout",
     "output_type": "stream",
     "text": [
      "[OK] 2161.txt → 2161_slots.csv and paths.geojson\n"
     ]
    },
    {
     "name": "stderr",
     "output_type": "stream",
     "text": [
      " 16%|██████                                | 1652/10357 [12:48<59:05,  2.46it/s]"
     ]
    },
    {
     "name": "stdout",
     "output_type": "stream",
     "text": [
      "[OK] 2162.txt → 2162_slots.csv and paths.geojson\n"
     ]
    },
    {
     "name": "stderr",
     "output_type": "stream",
     "text": [
      " 16%|██████                                | 1653/10357 [12:49<58:19,  2.49it/s]"
     ]
    },
    {
     "name": "stdout",
     "output_type": "stream",
     "text": [
      "[OK] 2163.txt → 2163_slots.csv and paths.geojson\n"
     ]
    },
    {
     "name": "stderr",
     "output_type": "stream",
     "text": [
      " 16%|█████▋                              | 1654/10357 [12:49<1:14:36,  1.94it/s]"
     ]
    },
    {
     "name": "stdout",
     "output_type": "stream",
     "text": [
      "[OK] 2164.txt → 2164_slots.csv and paths.geojson\n"
     ]
    },
    {
     "name": "stderr",
     "output_type": "stream",
     "text": [
      " 16%|█████▊                              | 1655/10357 [12:50<1:11:19,  2.03it/s]"
     ]
    },
    {
     "name": "stdout",
     "output_type": "stream",
     "text": [
      "[OK] 2165.txt → 2165_slots.csv and paths.geojson\n"
     ]
    },
    {
     "name": "stderr",
     "output_type": "stream",
     "text": [
      " 16%|█████▊                              | 1656/10357 [12:50<1:06:58,  2.17it/s]"
     ]
    },
    {
     "name": "stdout",
     "output_type": "stream",
     "text": [
      "[OK] 2166.txt → 2166_slots.csv and paths.geojson\n"
     ]
    },
    {
     "name": "stderr",
     "output_type": "stream",
     "text": [
      " 16%|█████▊                              | 1657/10357 [12:51<1:00:48,  2.38it/s]"
     ]
    },
    {
     "name": "stdout",
     "output_type": "stream",
     "text": [
      "[OK] 2167.txt → 2167_slots.csv and paths.geojson\n"
     ]
    },
    {
     "name": "stderr",
     "output_type": "stream",
     "text": [
      " 16%|██████                                | 1658/10357 [12:51<54:27,  2.66it/s]"
     ]
    },
    {
     "name": "stdout",
     "output_type": "stream",
     "text": [
      "[OK] 2168.txt → 2168_slots.csv and paths.geojson\n"
     ]
    },
    {
     "name": "stderr",
     "output_type": "stream",
     "text": [
      " 16%|█████▊                              | 1659/10357 [12:51<1:02:50,  2.31it/s]"
     ]
    },
    {
     "name": "stdout",
     "output_type": "stream",
     "text": [
      "[OK] 2169.txt → 2169_slots.csv and paths.geojson\n"
     ]
    },
    {
     "name": "stderr",
     "output_type": "stream",
     "text": [
      " 16%|█████▊                              | 1660/10357 [12:52<1:03:53,  2.27it/s]"
     ]
    },
    {
     "name": "stdout",
     "output_type": "stream",
     "text": [
      "[OK] 217.txt → 217_slots.csv and paths.geojson\n"
     ]
    },
    {
     "name": "stderr",
     "output_type": "stream",
     "text": [
      " 16%|██████                                | 1662/10357 [12:53<55:55,  2.59it/s]"
     ]
    },
    {
     "name": "stdout",
     "output_type": "stream",
     "text": [
      "[OK] 2170.txt → 2170_slots.csv and paths.geojson\n",
      "[OK] 2171.txt → 2171_slots.csv and paths.geojson\n"
     ]
    },
    {
     "name": "stderr",
     "output_type": "stream",
     "text": [
      " 16%|█████▊                              | 1663/10357 [12:54<1:32:30,  1.57it/s]"
     ]
    },
    {
     "name": "stdout",
     "output_type": "stream",
     "text": [
      "[OK] 2172.txt → 2172_slots.csv and paths.geojson\n"
     ]
    },
    {
     "name": "stderr",
     "output_type": "stream",
     "text": [
      " 16%|█████▊                              | 1664/10357 [12:55<1:50:18,  1.31it/s]"
     ]
    },
    {
     "name": "stdout",
     "output_type": "stream",
     "text": [
      "[OK] 2173.txt → 2173_slots.csv and paths.geojson\n",
      "[OK] 2174.txt → 2174_slots.csv and paths.geojson\n"
     ]
    },
    {
     "name": "stderr",
     "output_type": "stream",
     "text": [
      " 16%|█████▊                              | 1666/10357 [12:55<1:17:21,  1.87it/s]"
     ]
    },
    {
     "name": "stdout",
     "output_type": "stream",
     "text": [
      "[OK] 2175.txt → 2175_slots.csv and paths.geojson\n"
     ]
    },
    {
     "name": "stderr",
     "output_type": "stream",
     "text": [
      " 16%|█████▊                              | 1667/10357 [12:56<1:26:29,  1.67it/s]"
     ]
    },
    {
     "name": "stdout",
     "output_type": "stream",
     "text": [
      "[OK] 2176.txt → 2176_slots.csv and paths.geojson\n"
     ]
    },
    {
     "name": "stderr",
     "output_type": "stream",
     "text": [
      " 16%|█████▊                              | 1668/10357 [12:57<1:22:52,  1.75it/s]"
     ]
    },
    {
     "name": "stdout",
     "output_type": "stream",
     "text": [
      "[OK] 2177.txt → 2177_slots.csv and paths.geojson\n"
     ]
    },
    {
     "name": "stderr",
     "output_type": "stream",
     "text": [
      " 16%|█████▊                              | 1669/10357 [12:57<1:11:29,  2.03it/s]"
     ]
    },
    {
     "name": "stdout",
     "output_type": "stream",
     "text": [
      "[OK] 2178.txt → 2178_slots.csv and paths.geojson\n",
      "[OK] 2179.txt → 2179_slots.csv and paths.geojson\n"
     ]
    },
    {
     "name": "stderr",
     "output_type": "stream",
     "text": [
      " 16%|█████▊                              | 1671/10357 [12:58<1:04:38,  2.24it/s]"
     ]
    },
    {
     "name": "stdout",
     "output_type": "stream",
     "text": [
      "[OK] 218.txt → 218_slots.csv and paths.geojson\n"
     ]
    },
    {
     "name": "stderr",
     "output_type": "stream",
     "text": [
      " 16%|█████▊                              | 1672/10357 [12:58<1:02:11,  2.33it/s]"
     ]
    },
    {
     "name": "stdout",
     "output_type": "stream",
     "text": [
      "[OK] 2180.txt → 2180_slots.csv and paths.geojson\n"
     ]
    },
    {
     "name": "stderr",
     "output_type": "stream",
     "text": [
      " 16%|█████▊                              | 1673/10357 [12:59<1:03:40,  2.27it/s]"
     ]
    },
    {
     "name": "stdout",
     "output_type": "stream",
     "text": [
      "[OK] 2181.txt → 2181_slots.csv and paths.geojson\n",
      "[OK] 2182.txt → 2182_slots.csv\n"
     ]
    },
    {
     "name": "stderr",
     "output_type": "stream",
     "text": [
      " 16%|██████▏                               | 1675/10357 [12:59<44:57,  3.22it/s]"
     ]
    },
    {
     "name": "stdout",
     "output_type": "stream",
     "text": [
      "[OK] 2183.txt → 2183_slots.csv and paths.geojson\n"
     ]
    },
    {
     "name": "stderr",
     "output_type": "stream",
     "text": [
      " 16%|██████▏                               | 1676/10357 [12:59<49:32,  2.92it/s]"
     ]
    },
    {
     "name": "stdout",
     "output_type": "stream",
     "text": [
      "[OK] 2184.txt → 2184_slots.csv and paths.geojson\n"
     ]
    },
    {
     "name": "stderr",
     "output_type": "stream",
     "text": [
      " 16%|██████▏                               | 1677/10357 [13:00<54:25,  2.66it/s]"
     ]
    },
    {
     "name": "stdout",
     "output_type": "stream",
     "text": [
      "[OK] 2185.txt → 2185_slots.csv and paths.geojson\n"
     ]
    },
    {
     "name": "stderr",
     "output_type": "stream",
     "text": [
      " 16%|██████▏                               | 1678/10357 [13:00<53:45,  2.69it/s]"
     ]
    },
    {
     "name": "stdout",
     "output_type": "stream",
     "text": [
      "[OK] 2186.txt → 2186_slots.csv and paths.geojson\n"
     ]
    },
    {
     "name": "stderr",
     "output_type": "stream",
     "text": [
      " 16%|██████▏                               | 1679/10357 [13:00<53:23,  2.71it/s]"
     ]
    },
    {
     "name": "stdout",
     "output_type": "stream",
     "text": [
      "[OK] 2187.txt → 2187_slots.csv and paths.geojson\n"
     ]
    },
    {
     "name": "stderr",
     "output_type": "stream",
     "text": [
      " 16%|██████▏                               | 1681/10357 [13:01<47:50,  3.02it/s]"
     ]
    },
    {
     "name": "stdout",
     "output_type": "stream",
     "text": [
      "[OK] 2188.txt → 2188_slots.csv and paths.geojson\n",
      "[OK] 2189.txt → 2189_slots.csv and paths.geojson\n"
     ]
    },
    {
     "name": "stderr",
     "output_type": "stream",
     "text": [
      " 16%|█████▊                              | 1682/10357 [13:02<1:03:11,  2.29it/s]"
     ]
    },
    {
     "name": "stdout",
     "output_type": "stream",
     "text": [
      "[OK] 219.txt → 219_slots.csv and paths.geojson\n"
     ]
    },
    {
     "name": "stderr",
     "output_type": "stream",
     "text": [
      " 16%|█████▊                              | 1683/10357 [13:02<1:01:08,  2.36it/s]"
     ]
    },
    {
     "name": "stdout",
     "output_type": "stream",
     "text": [
      "[OK] 2190.txt → 2190_slots.csv and paths.geojson\n"
     ]
    },
    {
     "name": "stderr",
     "output_type": "stream",
     "text": [
      " 16%|█████▊                              | 1684/10357 [13:03<1:01:16,  2.36it/s]"
     ]
    },
    {
     "name": "stdout",
     "output_type": "stream",
     "text": [
      "[OK] 2191.txt → 2191_slots.csv and paths.geojson\n"
     ]
    },
    {
     "name": "stderr",
     "output_type": "stream",
     "text": [
      " 16%|█████▊                              | 1685/10357 [13:03<1:04:27,  2.24it/s]"
     ]
    },
    {
     "name": "stdout",
     "output_type": "stream",
     "text": [
      "[OK] 2192.txt → 2192_slots.csv and paths.geojson\n"
     ]
    },
    {
     "name": "stderr",
     "output_type": "stream",
     "text": [
      " 16%|█████▊                              | 1687/10357 [13:04<1:03:04,  2.29it/s]"
     ]
    },
    {
     "name": "stdout",
     "output_type": "stream",
     "text": [
      "[OK] 2193.txt → 2193_slots.csv and paths.geojson\n",
      "[OK] 2194.txt → 2194_slots.csv and paths.geojson\n"
     ]
    },
    {
     "name": "stderr",
     "output_type": "stream",
     "text": [
      " 16%|██████▏                               | 1688/10357 [13:04<55:39,  2.60it/s]"
     ]
    },
    {
     "name": "stdout",
     "output_type": "stream",
     "text": [
      "[OK] 2195.txt → 2195_slots.csv and paths.geojson\n"
     ]
    },
    {
     "name": "stderr",
     "output_type": "stream",
     "text": [
      " 16%|██████▏                               | 1689/10357 [13:05<49:57,  2.89it/s]"
     ]
    },
    {
     "name": "stdout",
     "output_type": "stream",
     "text": [
      "[OK] 2196.txt → 2196_slots.csv and paths.geojson\n"
     ]
    },
    {
     "name": "stderr",
     "output_type": "stream",
     "text": [
      " 16%|██████▏                               | 1690/10357 [13:05<50:45,  2.85it/s]"
     ]
    },
    {
     "name": "stdout",
     "output_type": "stream",
     "text": [
      "[OK] 2197.txt → 2197_slots.csv and paths.geojson\n"
     ]
    },
    {
     "name": "stderr",
     "output_type": "stream",
     "text": [
      " 16%|██████▏                               | 1691/10357 [13:05<50:46,  2.84it/s]"
     ]
    },
    {
     "name": "stdout",
     "output_type": "stream",
     "text": [
      "[OK] 2198.txt → 2198_slots.csv and paths.geojson\n"
     ]
    },
    {
     "name": "stderr",
     "output_type": "stream",
     "text": [
      " 16%|█████▉                              | 1692/10357 [13:06<1:14:46,  1.93it/s]"
     ]
    },
    {
     "name": "stdout",
     "output_type": "stream",
     "text": [
      "[OK] 2199.txt → 2199_slots.csv and paths.geojson\n",
      "[OK] 22.txt → 22_slots.csv\n"
     ]
    },
    {
     "name": "stderr",
     "output_type": "stream",
     "text": [
      " 16%|█████▉                              | 1694/10357 [13:07<1:08:56,  2.09it/s]"
     ]
    },
    {
     "name": "stdout",
     "output_type": "stream",
     "text": [
      "[OK] 220.txt → 220_slots.csv and paths.geojson\n"
     ]
    },
    {
     "name": "stderr",
     "output_type": "stream",
     "text": [
      " 16%|█████▉                              | 1695/10357 [13:07<1:04:41,  2.23it/s]"
     ]
    },
    {
     "name": "stdout",
     "output_type": "stream",
     "text": [
      "[OK] 2200.txt → 2200_slots.csv and paths.geojson\n"
     ]
    },
    {
     "name": "stderr",
     "output_type": "stream",
     "text": [
      " 16%|██████▏                               | 1696/10357 [13:08<57:38,  2.50it/s]"
     ]
    },
    {
     "name": "stdout",
     "output_type": "stream",
     "text": [
      "[OK] 2201.txt → 2201_slots.csv and paths.geojson\n"
     ]
    },
    {
     "name": "stderr",
     "output_type": "stream",
     "text": [
      " 16%|██████▏                               | 1697/10357 [13:08<55:32,  2.60it/s]"
     ]
    },
    {
     "name": "stdout",
     "output_type": "stream",
     "text": [
      "[OK] 2202.txt → 2202_slots.csv and paths.geojson\n"
     ]
    },
    {
     "name": "stderr",
     "output_type": "stream",
     "text": [
      " 16%|██████▏                               | 1698/10357 [13:08<49:59,  2.89it/s]"
     ]
    },
    {
     "name": "stdout",
     "output_type": "stream",
     "text": [
      "[OK] 2203.txt → 2203_slots.csv and paths.geojson\n"
     ]
    },
    {
     "name": "stderr",
     "output_type": "stream",
     "text": [
      " 16%|██████▏                               | 1699/10357 [13:09<52:59,  2.72it/s]"
     ]
    },
    {
     "name": "stdout",
     "output_type": "stream",
     "text": [
      "[OK] 2204.txt → 2204_slots.csv and paths.geojson\n"
     ]
    },
    {
     "name": "stderr",
     "output_type": "stream",
     "text": [
      " 16%|█████▉                              | 1700/10357 [13:09<1:00:13,  2.40it/s]"
     ]
    },
    {
     "name": "stdout",
     "output_type": "stream",
     "text": [
      "[OK] 2205.txt → 2205_slots.csv and paths.geojson\n"
     ]
    },
    {
     "name": "stderr",
     "output_type": "stream",
     "text": [
      " 16%|█████▉                              | 1701/10357 [13:10<1:03:23,  2.28it/s]"
     ]
    },
    {
     "name": "stdout",
     "output_type": "stream",
     "text": [
      "[OK] 2206.txt → 2206_slots.csv and paths.geojson\n"
     ]
    },
    {
     "name": "stderr",
     "output_type": "stream",
     "text": [
      " 16%|█████▉                              | 1702/10357 [13:10<1:07:31,  2.14it/s]"
     ]
    },
    {
     "name": "stdout",
     "output_type": "stream",
     "text": [
      "[OK] 2207.txt → 2207_slots.csv and paths.geojson\n"
     ]
    },
    {
     "name": "stderr",
     "output_type": "stream",
     "text": [
      " 16%|█████▉                              | 1703/10357 [13:11<1:09:51,  2.06it/s]"
     ]
    },
    {
     "name": "stdout",
     "output_type": "stream",
     "text": [
      "[OK] 2208.txt → 2208_slots.csv and paths.geojson\n"
     ]
    },
    {
     "name": "stderr",
     "output_type": "stream",
     "text": [
      " 16%|█████▉                              | 1704/10357 [13:11<1:00:16,  2.39it/s]"
     ]
    },
    {
     "name": "stdout",
     "output_type": "stream",
     "text": [
      "[OK] 2209.txt → 2209_slots.csv and paths.geojson\n"
     ]
    },
    {
     "name": "stderr",
     "output_type": "stream",
     "text": [
      " 16%|██████▎                               | 1705/10357 [13:11<57:34,  2.50it/s]"
     ]
    },
    {
     "name": "stdout",
     "output_type": "stream",
     "text": [
      "[OK] 221.txt → 221_slots.csv and paths.geojson\n"
     ]
    },
    {
     "name": "stderr",
     "output_type": "stream",
     "text": [
      " 16%|██████▎                               | 1706/10357 [13:12<56:45,  2.54it/s]"
     ]
    },
    {
     "name": "stdout",
     "output_type": "stream",
     "text": [
      "[OK] 2210.txt → 2210_slots.csv and paths.geojson\n"
     ]
    },
    {
     "name": "stderr",
     "output_type": "stream",
     "text": [
      " 16%|██████▎                               | 1707/10357 [13:12<49:38,  2.90it/s]"
     ]
    },
    {
     "name": "stdout",
     "output_type": "stream",
     "text": [
      "[OK] 2211.txt → 2211_slots.csv and paths.geojson\n"
     ]
    },
    {
     "name": "stderr",
     "output_type": "stream",
     "text": [
      " 16%|██████▎                               | 1708/10357 [13:12<45:11,  3.19it/s]"
     ]
    },
    {
     "name": "stdout",
     "output_type": "stream",
     "text": [
      "[OK] 2212.txt → 2212_slots.csv and paths.geojson\n"
     ]
    },
    {
     "name": "stderr",
     "output_type": "stream",
     "text": [
      " 17%|██████▎                               | 1709/10357 [13:13<52:20,  2.75it/s]"
     ]
    },
    {
     "name": "stdout",
     "output_type": "stream",
     "text": [
      "[OK] 2213.txt → 2213_slots.csv and paths.geojson\n"
     ]
    },
    {
     "name": "stderr",
     "output_type": "stream",
     "text": [
      " 17%|█████▉                              | 1710/10357 [13:13<1:00:20,  2.39it/s]"
     ]
    },
    {
     "name": "stdout",
     "output_type": "stream",
     "text": [
      "[OK] 2214.txt → 2214_slots.csv and paths.geojson\n"
     ]
    },
    {
     "name": "stderr",
     "output_type": "stream",
     "text": [
      " 17%|██████▎                               | 1711/10357 [13:14<54:22,  2.65it/s]"
     ]
    },
    {
     "name": "stdout",
     "output_type": "stream",
     "text": [
      "[OK] 2215.txt → 2215_slots.csv and paths.geojson\n"
     ]
    },
    {
     "name": "stderr",
     "output_type": "stream",
     "text": [
      " 17%|██████▎                               | 1712/10357 [13:14<51:54,  2.78it/s]"
     ]
    },
    {
     "name": "stdout",
     "output_type": "stream",
     "text": [
      "[OK] 2216.txt → 2216_slots.csv and paths.geojson\n"
     ]
    },
    {
     "name": "stderr",
     "output_type": "stream",
     "text": [
      " 17%|██████▎                               | 1713/10357 [13:14<52:28,  2.75it/s]"
     ]
    },
    {
     "name": "stdout",
     "output_type": "stream",
     "text": [
      "[OK] 2217.txt → 2217_slots.csv and paths.geojson\n"
     ]
    },
    {
     "name": "stderr",
     "output_type": "stream",
     "text": [
      " 17%|██████▎                               | 1714/10357 [13:15<59:08,  2.44it/s]"
     ]
    },
    {
     "name": "stdout",
     "output_type": "stream",
     "text": [
      "[OK] 2218.txt → 2218_slots.csv and paths.geojson\n"
     ]
    },
    {
     "name": "stderr",
     "output_type": "stream",
     "text": [
      " 17%|█████▉                              | 1715/10357 [13:17<1:59:09,  1.21it/s]"
     ]
    },
    {
     "name": "stdout",
     "output_type": "stream",
     "text": [
      "[OK] 2219.txt → 2219_slots.csv and paths.geojson\n"
     ]
    },
    {
     "name": "stderr",
     "output_type": "stream",
     "text": [
      " 17%|█████▉                              | 1716/10357 [13:17<2:02:47,  1.17it/s]"
     ]
    },
    {
     "name": "stdout",
     "output_type": "stream",
     "text": [
      "[OK] 222.txt → 222_slots.csv and paths.geojson\n",
      "[OK] 2220.txt → 2220_slots.csv and paths.geojson\n"
     ]
    },
    {
     "name": "stderr",
     "output_type": "stream",
     "text": [
      " 17%|█████▉                              | 1718/10357 [13:18<1:37:09,  1.48it/s]"
     ]
    },
    {
     "name": "stdout",
     "output_type": "stream",
     "text": [
      "[OK] 2221.txt → 2221_slots.csv and paths.geojson\n"
     ]
    },
    {
     "name": "stderr",
     "output_type": "stream",
     "text": [
      " 17%|█████▉                              | 1719/10357 [13:20<2:15:41,  1.06it/s]"
     ]
    },
    {
     "name": "stdout",
     "output_type": "stream",
     "text": [
      "[OK] 2222.txt → 2222_slots.csv and paths.geojson\n"
     ]
    },
    {
     "name": "stderr",
     "output_type": "stream",
     "text": [
      " 17%|█████▉                              | 1720/10357 [13:20<1:47:53,  1.33it/s]"
     ]
    },
    {
     "name": "stdout",
     "output_type": "stream",
     "text": [
      "[OK] 2223.txt → 2223_slots.csv and paths.geojson\n"
     ]
    },
    {
     "name": "stderr",
     "output_type": "stream",
     "text": [
      " 17%|█████▉                              | 1721/10357 [13:21<1:32:26,  1.56it/s]"
     ]
    },
    {
     "name": "stdout",
     "output_type": "stream",
     "text": [
      "[OK] 2224.txt → 2224_slots.csv and paths.geojson\n"
     ]
    },
    {
     "name": "stderr",
     "output_type": "stream",
     "text": [
      " 17%|█████▉                              | 1722/10357 [13:21<1:14:12,  1.94it/s]"
     ]
    },
    {
     "name": "stdout",
     "output_type": "stream",
     "text": [
      "[OK] 2225.txt → 2225_slots.csv and paths.geojson\n"
     ]
    },
    {
     "name": "stderr",
     "output_type": "stream",
     "text": [
      " 17%|██████▎                               | 1725/10357 [13:22<51:24,  2.80it/s]"
     ]
    },
    {
     "name": "stdout",
     "output_type": "stream",
     "text": [
      "[OK] 2226.txt → 2226_slots.csv and paths.geojson\n",
      "[OK] 2227.txt → 2227_slots.csv\n",
      "[OK] 2228.txt → 2228_slots.csv and paths.geojson\n"
     ]
    },
    {
     "name": "stderr",
     "output_type": "stream",
     "text": [
      " 17%|█████▉                              | 1726/10357 [13:23<1:06:57,  2.15it/s]"
     ]
    },
    {
     "name": "stdout",
     "output_type": "stream",
     "text": [
      "[OK] 2229.txt → 2229_slots.csv and paths.geojson\n"
     ]
    },
    {
     "name": "stderr",
     "output_type": "stream",
     "text": [
      " 17%|██████                              | 1727/10357 [13:23<1:00:15,  2.39it/s]"
     ]
    },
    {
     "name": "stdout",
     "output_type": "stream",
     "text": [
      "[OK] 223.txt → 223_slots.csv and paths.geojson\n"
     ]
    },
    {
     "name": "stderr",
     "output_type": "stream",
     "text": [
      " 17%|██████▎                               | 1728/10357 [13:23<55:35,  2.59it/s]"
     ]
    },
    {
     "name": "stdout",
     "output_type": "stream",
     "text": [
      "[OK] 2230.txt → 2230_slots.csv and paths.geojson\n"
     ]
    },
    {
     "name": "stderr",
     "output_type": "stream",
     "text": [
      " 17%|██████▎                               | 1729/10357 [13:23<52:08,  2.76it/s]"
     ]
    },
    {
     "name": "stdout",
     "output_type": "stream",
     "text": [
      "[OK] 2231.txt → 2231_slots.csv and paths.geojson\n"
     ]
    },
    {
     "name": "stderr",
     "output_type": "stream",
     "text": [
      " 17%|██████▎                               | 1731/10357 [13:24<43:29,  3.31it/s]"
     ]
    },
    {
     "name": "stdout",
     "output_type": "stream",
     "text": [
      "[OK] 2232.txt → 2232_slots.csv and paths.geojson\n",
      "[OK] 2233.txt → 2233_slots.csv and paths.geojson\n"
     ]
    },
    {
     "name": "stderr",
     "output_type": "stream",
     "text": [
      " 17%|██████▎                               | 1732/10357 [13:24<50:07,  2.87it/s]"
     ]
    },
    {
     "name": "stdout",
     "output_type": "stream",
     "text": [
      "[OK] 2234.txt → 2234_slots.csv and paths.geojson\n"
     ]
    },
    {
     "name": "stderr",
     "output_type": "stream",
     "text": [
      " 17%|██████▎                               | 1733/10357 [13:25<57:55,  2.48it/s]"
     ]
    },
    {
     "name": "stdout",
     "output_type": "stream",
     "text": [
      "[OK] 2235.txt → 2235_slots.csv and paths.geojson\n"
     ]
    },
    {
     "name": "stderr",
     "output_type": "stream",
     "text": [
      " 17%|██████                              | 1734/10357 [13:26<1:16:55,  1.87it/s]"
     ]
    },
    {
     "name": "stdout",
     "output_type": "stream",
     "text": [
      "[OK] 2236.txt → 2236_slots.csv and paths.geojson\n"
     ]
    },
    {
     "name": "stderr",
     "output_type": "stream",
     "text": [
      " 17%|█████▊                             | 1735/10357 [13:40<10:39:20,  4.45s/it]"
     ]
    },
    {
     "name": "stdout",
     "output_type": "stream",
     "text": [
      "[OK] 2237.txt → 2237_slots.csv and paths.geojson\n"
     ]
    },
    {
     "name": "stderr",
     "output_type": "stream",
     "text": [
      " 17%|██████                              | 1736/10357 [13:40<7:41:58,  3.22s/it]"
     ]
    },
    {
     "name": "stdout",
     "output_type": "stream",
     "text": [
      "[OK] 2238.txt → 2238_slots.csv and paths.geojson\n"
     ]
    },
    {
     "name": "stderr",
     "output_type": "stream",
     "text": [
      " 17%|██████                              | 1737/10357 [13:40<5:47:24,  2.42s/it]"
     ]
    },
    {
     "name": "stdout",
     "output_type": "stream",
     "text": [
      "[OK] 2239.txt → 2239_slots.csv and paths.geojson\n"
     ]
    },
    {
     "name": "stderr",
     "output_type": "stream",
     "text": [
      " 17%|██████                              | 1738/10357 [13:41<4:32:38,  1.90s/it]"
     ]
    },
    {
     "name": "stdout",
     "output_type": "stream",
     "text": [
      "[OK] 224.txt → 224_slots.csv and paths.geojson\n"
     ]
    },
    {
     "name": "stderr",
     "output_type": "stream",
     "text": [
      " 17%|██████                              | 1739/10357 [13:41<3:27:39,  1.45s/it]"
     ]
    },
    {
     "name": "stdout",
     "output_type": "stream",
     "text": [
      "[OK] 2240.txt → 2240_slots.csv and paths.geojson\n"
     ]
    },
    {
     "name": "stderr",
     "output_type": "stream",
     "text": [
      " 17%|██████                              | 1740/10357 [13:42<2:44:09,  1.14s/it]"
     ]
    },
    {
     "name": "stdout",
     "output_type": "stream",
     "text": [
      "[OK] 2241.txt → 2241_slots.csv and paths.geojson\n"
     ]
    },
    {
     "name": "stderr",
     "output_type": "stream",
     "text": [
      " 17%|██████                              | 1741/10357 [13:42<2:10:49,  1.10it/s]"
     ]
    },
    {
     "name": "stdout",
     "output_type": "stream",
     "text": [
      "[OK] 2242.txt → 2242_slots.csv and paths.geojson\n"
     ]
    },
    {
     "name": "stderr",
     "output_type": "stream",
     "text": [
      " 17%|██████                              | 1742/10357 [13:43<1:47:44,  1.33it/s]"
     ]
    },
    {
     "name": "stdout",
     "output_type": "stream",
     "text": [
      "[OK] 2243.txt → 2243_slots.csv and paths.geojson\n"
     ]
    },
    {
     "name": "stderr",
     "output_type": "stream",
     "text": [
      " 17%|██████                              | 1743/10357 [13:43<1:31:54,  1.56it/s]"
     ]
    },
    {
     "name": "stdout",
     "output_type": "stream",
     "text": [
      "[OK] 2244.txt → 2244_slots.csv and paths.geojson\n"
     ]
    },
    {
     "name": "stderr",
     "output_type": "stream",
     "text": [
      " 17%|██████                              | 1744/10357 [13:43<1:17:16,  1.86it/s]"
     ]
    },
    {
     "name": "stdout",
     "output_type": "stream",
     "text": [
      "[OK] 2245.txt → 2245_slots.csv and paths.geojson\n"
     ]
    },
    {
     "name": "stderr",
     "output_type": "stream",
     "text": [
      " 17%|██████                              | 1745/10357 [13:44<1:33:32,  1.53it/s]"
     ]
    },
    {
     "name": "stdout",
     "output_type": "stream",
     "text": [
      "[OK] 2246.txt → 2246_slots.csv and paths.geojson\n"
     ]
    },
    {
     "name": "stderr",
     "output_type": "stream",
     "text": [
      " 17%|██████                              | 1746/10357 [13:45<1:25:41,  1.67it/s]"
     ]
    },
    {
     "name": "stdout",
     "output_type": "stream",
     "text": [
      "[OK] 2247.txt → 2247_slots.csv and paths.geojson\n"
     ]
    },
    {
     "name": "stderr",
     "output_type": "stream",
     "text": [
      " 17%|██████                              | 1747/10357 [13:45<1:23:14,  1.72it/s]"
     ]
    },
    {
     "name": "stdout",
     "output_type": "stream",
     "text": [
      "[OK] 2248.txt → 2248_slots.csv and paths.geojson\n"
     ]
    },
    {
     "name": "stderr",
     "output_type": "stream",
     "text": [
      " 17%|██████                              | 1748/10357 [13:45<1:07:55,  2.11it/s]"
     ]
    },
    {
     "name": "stdout",
     "output_type": "stream",
     "text": [
      "[OK] 2249.txt → 2249_slots.csv and paths.geojson\n"
     ]
    },
    {
     "name": "stderr",
     "output_type": "stream",
     "text": [
      " 17%|██████                              | 1749/10357 [13:46<1:27:50,  1.63it/s]"
     ]
    },
    {
     "name": "stdout",
     "output_type": "stream",
     "text": [
      "[OK] 225.txt → 225_slots.csv and paths.geojson\n",
      "[OK] 2250.txt → 2250_slots.csv and paths.geojson\n"
     ]
    },
    {
     "name": "stderr",
     "output_type": "stream",
     "text": [
      " 17%|██████                              | 1751/10357 [13:47<1:10:06,  2.05it/s]"
     ]
    },
    {
     "name": "stdout",
     "output_type": "stream",
     "text": [
      "[OK] 2251.txt → 2251_slots.csv and paths.geojson\n"
     ]
    },
    {
     "name": "stderr",
     "output_type": "stream",
     "text": [
      " 17%|██████                              | 1752/10357 [13:47<1:02:49,  2.28it/s]"
     ]
    },
    {
     "name": "stdout",
     "output_type": "stream",
     "text": [
      "[OK] 2252.txt → 2252_slots.csv and paths.geojson\n"
     ]
    },
    {
     "name": "stderr",
     "output_type": "stream",
     "text": [
      " 17%|██████                              | 1753/10357 [13:48<1:07:16,  2.13it/s]"
     ]
    },
    {
     "name": "stdout",
     "output_type": "stream",
     "text": [
      "[OK] 2253.txt → 2253_slots.csv and paths.geojson\n"
     ]
    },
    {
     "name": "stderr",
     "output_type": "stream",
     "text": [
      " 17%|██████                              | 1754/10357 [13:48<1:02:52,  2.28it/s]"
     ]
    },
    {
     "name": "stdout",
     "output_type": "stream",
     "text": [
      "[OK] 2254.txt → 2254_slots.csv and paths.geojson\n"
     ]
    },
    {
     "name": "stderr",
     "output_type": "stream",
     "text": [
      " 17%|██████▍                               | 1756/10357 [13:49<49:07,  2.92it/s]"
     ]
    },
    {
     "name": "stdout",
     "output_type": "stream",
     "text": [
      "[OK] 2255.txt → 2255_slots.csv and paths.geojson\n",
      "[OK] 2256.txt → 2256_slots.csv and paths.geojson\n"
     ]
    },
    {
     "name": "stderr",
     "output_type": "stream",
     "text": [
      " 17%|██████▍                               | 1757/10357 [13:49<54:34,  2.63it/s]"
     ]
    },
    {
     "name": "stdout",
     "output_type": "stream",
     "text": [
      "[OK] 2257.txt → 2257_slots.csv and paths.geojson\n"
     ]
    },
    {
     "name": "stderr",
     "output_type": "stream",
     "text": [
      " 17%|██████▍                               | 1758/10357 [13:50<58:47,  2.44it/s]"
     ]
    },
    {
     "name": "stdout",
     "output_type": "stream",
     "text": [
      "[OK] 2258.txt → 2258_slots.csv and paths.geojson\n"
     ]
    },
    {
     "name": "stderr",
     "output_type": "stream",
     "text": [
      " 17%|██████                              | 1759/10357 [13:50<1:01:34,  2.33it/s]"
     ]
    },
    {
     "name": "stdout",
     "output_type": "stream",
     "text": [
      "[OK] 2259.txt → 2259_slots.csv and paths.geojson\n"
     ]
    },
    {
     "name": "stderr",
     "output_type": "stream",
     "text": [
      " 17%|██████                              | 1760/10357 [13:51<1:18:07,  1.83it/s]"
     ]
    },
    {
     "name": "stdout",
     "output_type": "stream",
     "text": [
      "[OK] 226.txt → 226_slots.csv and paths.geojson\n"
     ]
    },
    {
     "name": "stderr",
     "output_type": "stream",
     "text": [
      " 17%|██████                              | 1761/10357 [13:51<1:09:15,  2.07it/s]"
     ]
    },
    {
     "name": "stdout",
     "output_type": "stream",
     "text": [
      "[OK] 2260.txt → 2260_slots.csv and paths.geojson\n"
     ]
    },
    {
     "name": "stderr",
     "output_type": "stream",
     "text": [
      " 17%|██████                              | 1762/10357 [13:52<1:02:19,  2.30it/s]"
     ]
    },
    {
     "name": "stdout",
     "output_type": "stream",
     "text": [
      "[OK] 2261.txt → 2261_slots.csv and paths.geojson\n"
     ]
    },
    {
     "name": "stderr",
     "output_type": "stream",
     "text": [
      " 17%|██████▏                             | 1763/10357 [13:52<1:15:41,  1.89it/s]"
     ]
    },
    {
     "name": "stdout",
     "output_type": "stream",
     "text": [
      "[OK] 2262.txt → 2262_slots.csv and paths.geojson\n"
     ]
    },
    {
     "name": "stderr",
     "output_type": "stream",
     "text": [
      " 17%|██████▏                             | 1764/10357 [13:53<1:06:07,  2.17it/s]"
     ]
    },
    {
     "name": "stdout",
     "output_type": "stream",
     "text": [
      "[OK] 2263.txt → 2263_slots.csv and paths.geojson\n"
     ]
    },
    {
     "name": "stderr",
     "output_type": "stream",
     "text": [
      " 17%|██████▏                             | 1765/10357 [13:53<1:00:32,  2.37it/s]"
     ]
    },
    {
     "name": "stdout",
     "output_type": "stream",
     "text": [
      "[OK] 2264.txt → 2264_slots.csv and paths.geojson\n"
     ]
    },
    {
     "name": "stderr",
     "output_type": "stream",
     "text": [
      " 17%|██████▏                             | 1766/10357 [13:54<1:00:45,  2.36it/s]"
     ]
    },
    {
     "name": "stdout",
     "output_type": "stream",
     "text": [
      "[OK] 2265.txt → 2265_slots.csv and paths.geojson\n"
     ]
    },
    {
     "name": "stderr",
     "output_type": "stream",
     "text": [
      " 17%|██████▏                             | 1767/10357 [13:54<1:03:20,  2.26it/s]"
     ]
    },
    {
     "name": "stdout",
     "output_type": "stream",
     "text": [
      "[OK] 2266.txt → 2266_slots.csv and paths.geojson\n"
     ]
    },
    {
     "name": "stderr",
     "output_type": "stream",
     "text": [
      " 17%|██████▏                             | 1768/10357 [13:54<1:00:01,  2.38it/s]"
     ]
    },
    {
     "name": "stdout",
     "output_type": "stream",
     "text": [
      "[OK] 2267.txt → 2267_slots.csv and paths.geojson\n"
     ]
    },
    {
     "name": "stderr",
     "output_type": "stream",
     "text": [
      " 17%|██████▏                             | 1769/10357 [13:55<1:07:19,  2.13it/s]"
     ]
    },
    {
     "name": "stdout",
     "output_type": "stream",
     "text": [
      "[OK] 2268.txt → 2268_slots.csv and paths.geojson\n"
     ]
    },
    {
     "name": "stderr",
     "output_type": "stream",
     "text": [
      " 17%|██████▏                             | 1770/10357 [13:56<1:10:01,  2.04it/s]"
     ]
    },
    {
     "name": "stdout",
     "output_type": "stream",
     "text": [
      "[OK] 2269.txt → 2269_slots.csv and paths.geojson\n"
     ]
    },
    {
     "name": "stderr",
     "output_type": "stream",
     "text": [
      " 17%|██████▏                             | 1771/10357 [13:56<1:08:11,  2.10it/s]"
     ]
    },
    {
     "name": "stdout",
     "output_type": "stream",
     "text": [
      "[OK] 227.txt → 227_slots.csv and paths.geojson\n"
     ]
    },
    {
     "name": "stderr",
     "output_type": "stream",
     "text": [
      " 17%|██████▌                               | 1773/10357 [13:56<50:50,  2.81it/s]"
     ]
    },
    {
     "name": "stdout",
     "output_type": "stream",
     "text": [
      "[OK] 2270.txt → 2270_slots.csv and paths.geojson\n",
      "[OK] 2271.txt → 2271_slots.csv and paths.geojson\n"
     ]
    },
    {
     "name": "stderr",
     "output_type": "stream",
     "text": [
      " 17%|██████▏                             | 1774/10357 [13:57<1:00:51,  2.35it/s]"
     ]
    },
    {
     "name": "stdout",
     "output_type": "stream",
     "text": [
      "[OK] 2272.txt → 2272_slots.csv and paths.geojson\n"
     ]
    },
    {
     "name": "stderr",
     "output_type": "stream",
     "text": [
      " 17%|██████▌                               | 1775/10357 [13:57<57:34,  2.48it/s]"
     ]
    },
    {
     "name": "stdout",
     "output_type": "stream",
     "text": [
      "[OK] 2273.txt → 2273_slots.csv and paths.geojson\n"
     ]
    },
    {
     "name": "stderr",
     "output_type": "stream",
     "text": [
      " 17%|██████▏                             | 1776/10357 [13:58<1:13:49,  1.94it/s]"
     ]
    },
    {
     "name": "stdout",
     "output_type": "stream",
     "text": [
      "[OK] 2274.txt → 2274_slots.csv and paths.geojson\n"
     ]
    },
    {
     "name": "stderr",
     "output_type": "stream",
     "text": [
      " 17%|██████▏                             | 1777/10357 [13:59<1:22:57,  1.72it/s]"
     ]
    },
    {
     "name": "stdout",
     "output_type": "stream",
     "text": [
      "[OK] 2275.txt → 2275_slots.csv and paths.geojson\n"
     ]
    },
    {
     "name": "stderr",
     "output_type": "stream",
     "text": [
      " 17%|██████▏                             | 1778/10357 [13:59<1:20:01,  1.79it/s]"
     ]
    },
    {
     "name": "stdout",
     "output_type": "stream",
     "text": [
      "[OK] 2276.txt → 2276_slots.csv and paths.geojson\n",
      "[OK] 2277.txt → 2277_slots.csv and paths.geojson\n"
     ]
    },
    {
     "name": "stderr",
     "output_type": "stream",
     "text": [
      " 17%|██████▏                             | 1780/10357 [14:00<1:06:26,  2.15it/s]"
     ]
    },
    {
     "name": "stdout",
     "output_type": "stream",
     "text": [
      "[OK] 2278.txt → 2278_slots.csv and paths.geojson\n"
     ]
    },
    {
     "name": "stderr",
     "output_type": "stream",
     "text": [
      " 17%|██████▏                             | 1781/10357 [14:01<1:03:41,  2.24it/s]"
     ]
    },
    {
     "name": "stdout",
     "output_type": "stream",
     "text": [
      "[OK] 2279.txt → 2279_slots.csv and paths.geojson\n",
      "[OK] 228.txt → 228_slots.csv\n"
     ]
    },
    {
     "name": "stderr",
     "output_type": "stream",
     "text": [
      " 17%|██████▌                               | 1783/10357 [14:01<53:37,  2.66it/s]"
     ]
    },
    {
     "name": "stdout",
     "output_type": "stream",
     "text": [
      "[OK] 2280.txt → 2280_slots.csv and paths.geojson\n"
     ]
    },
    {
     "name": "stderr",
     "output_type": "stream",
     "text": [
      " 17%|██████▌                               | 1784/10357 [14:02<59:40,  2.39it/s]"
     ]
    },
    {
     "name": "stdout",
     "output_type": "stream",
     "text": [
      "[OK] 2281.txt → 2281_slots.csv and paths.geojson\n"
     ]
    },
    {
     "name": "stderr",
     "output_type": "stream",
     "text": [
      " 17%|██████▌                               | 1785/10357 [14:02<59:16,  2.41it/s]"
     ]
    },
    {
     "name": "stdout",
     "output_type": "stream",
     "text": [
      "[OK] 2282.txt → 2282_slots.csv and paths.geojson\n"
     ]
    },
    {
     "name": "stderr",
     "output_type": "stream",
     "text": [
      " 17%|██████▏                             | 1786/10357 [14:03<1:10:31,  2.03it/s]"
     ]
    },
    {
     "name": "stdout",
     "output_type": "stream",
     "text": [
      "[OK] 2283.txt → 2283_slots.csv and paths.geojson\n"
     ]
    },
    {
     "name": "stderr",
     "output_type": "stream",
     "text": [
      " 17%|██████▏                             | 1787/10357 [14:03<1:14:37,  1.91it/s]"
     ]
    },
    {
     "name": "stdout",
     "output_type": "stream",
     "text": [
      "[OK] 2284.txt → 2284_slots.csv and paths.geojson\n"
     ]
    },
    {
     "name": "stderr",
     "output_type": "stream",
     "text": [
      " 17%|██████▏                             | 1788/10357 [14:04<1:08:33,  2.08it/s]"
     ]
    },
    {
     "name": "stdout",
     "output_type": "stream",
     "text": [
      "[OK] 2285.txt → 2285_slots.csv and paths.geojson\n"
     ]
    },
    {
     "name": "stderr",
     "output_type": "stream",
     "text": [
      " 17%|██████▏                             | 1789/10357 [14:04<1:03:39,  2.24it/s]"
     ]
    },
    {
     "name": "stdout",
     "output_type": "stream",
     "text": [
      "[OK] 2286.txt → 2286_slots.csv and paths.geojson\n"
     ]
    },
    {
     "name": "stderr",
     "output_type": "stream",
     "text": [
      " 17%|██████▏                             | 1790/10357 [14:05<1:02:31,  2.28it/s]"
     ]
    },
    {
     "name": "stdout",
     "output_type": "stream",
     "text": [
      "[OK] 2287.txt → 2287_slots.csv and paths.geojson\n"
     ]
    },
    {
     "name": "stderr",
     "output_type": "stream",
     "text": [
      " 17%|██████▌                               | 1791/10357 [14:05<55:25,  2.58it/s]"
     ]
    },
    {
     "name": "stdout",
     "output_type": "stream",
     "text": [
      "[OK] 2288.txt → 2288_slots.csv and paths.geojson\n"
     ]
    },
    {
     "name": "stderr",
     "output_type": "stream",
     "text": [
      " 17%|██████▏                             | 1792/10357 [14:05<1:01:47,  2.31it/s]"
     ]
    },
    {
     "name": "stdout",
     "output_type": "stream",
     "text": [
      "[OK] 2289.txt → 2289_slots.csv and paths.geojson\n"
     ]
    },
    {
     "name": "stderr",
     "output_type": "stream",
     "text": [
      " 17%|██████▏                             | 1793/10357 [14:06<1:03:11,  2.26it/s]"
     ]
    },
    {
     "name": "stdout",
     "output_type": "stream",
     "text": [
      "[OK] 229.txt → 229_slots.csv and paths.geojson\n",
      "[OK] 2290.txt → 2290_slots.csv\n"
     ]
    },
    {
     "name": "stderr",
     "output_type": "stream",
     "text": [
      " 17%|██████▌                               | 1795/10357 [14:06<53:30,  2.67it/s]"
     ]
    },
    {
     "name": "stdout",
     "output_type": "stream",
     "text": [
      "[OK] 2291.txt → 2291_slots.csv and paths.geojson\n"
     ]
    },
    {
     "name": "stderr",
     "output_type": "stream",
     "text": [
      " 17%|██████▏                             | 1796/10357 [14:07<1:07:42,  2.11it/s]"
     ]
    },
    {
     "name": "stdout",
     "output_type": "stream",
     "text": [
      "[OK] 2292.txt → 2292_slots.csv and paths.geojson\n"
     ]
    },
    {
     "name": "stderr",
     "output_type": "stream",
     "text": [
      " 17%|██████▏                             | 1797/10357 [14:08<1:23:16,  1.71it/s]"
     ]
    },
    {
     "name": "stdout",
     "output_type": "stream",
     "text": [
      "[OK] 2293.txt → 2293_slots.csv and paths.geojson\n"
     ]
    },
    {
     "name": "stderr",
     "output_type": "stream",
     "text": [
      " 17%|██████▏                             | 1798/10357 [14:09<1:24:57,  1.68it/s]"
     ]
    },
    {
     "name": "stdout",
     "output_type": "stream",
     "text": [
      "[OK] 2294.txt → 2294_slots.csv and paths.geojson\n"
     ]
    },
    {
     "name": "stderr",
     "output_type": "stream",
     "text": [
      " 17%|██████▎                             | 1799/10357 [14:09<1:24:21,  1.69it/s]"
     ]
    },
    {
     "name": "stdout",
     "output_type": "stream",
     "text": [
      "[OK] 2295.txt → 2295_slots.csv and paths.geojson\n"
     ]
    },
    {
     "name": "stderr",
     "output_type": "stream",
     "text": [
      " 17%|██████▎                             | 1800/10357 [14:10<1:23:38,  1.70it/s]"
     ]
    },
    {
     "name": "stdout",
     "output_type": "stream",
     "text": [
      "[OK] 2296.txt → 2296_slots.csv and paths.geojson\n"
     ]
    },
    {
     "name": "stderr",
     "output_type": "stream",
     "text": [
      " 17%|██████▎                             | 1801/10357 [14:10<1:12:11,  1.98it/s]"
     ]
    },
    {
     "name": "stdout",
     "output_type": "stream",
     "text": [
      "[OK] 2297.txt → 2297_slots.csv and paths.geojson\n"
     ]
    },
    {
     "name": "stderr",
     "output_type": "stream",
     "text": [
      " 17%|██████▎                             | 1802/10357 [14:10<1:00:13,  2.37it/s]"
     ]
    },
    {
     "name": "stdout",
     "output_type": "stream",
     "text": [
      "[OK] 2298.txt → 2298_slots.csv and paths.geojson\n"
     ]
    },
    {
     "name": "stderr",
     "output_type": "stream",
     "text": [
      " 17%|██████▌                               | 1803/10357 [14:11<58:30,  2.44it/s]"
     ]
    },
    {
     "name": "stdout",
     "output_type": "stream",
     "text": [
      "[OK] 2299.txt → 2299_slots.csv and paths.geojson\n"
     ]
    },
    {
     "name": "stderr",
     "output_type": "stream",
     "text": [
      " 17%|██████▎                             | 1804/10357 [14:11<1:00:28,  2.36it/s]"
     ]
    },
    {
     "name": "stdout",
     "output_type": "stream",
     "text": [
      "[OK] 23.txt → 23_slots.csv and paths.geojson\n"
     ]
    },
    {
     "name": "stderr",
     "output_type": "stream",
     "text": [
      " 17%|██████▎                             | 1805/10357 [14:12<1:16:03,  1.87it/s]"
     ]
    },
    {
     "name": "stdout",
     "output_type": "stream",
     "text": [
      "[OK] 230.txt → 230_slots.csv and paths.geojson\n"
     ]
    },
    {
     "name": "stderr",
     "output_type": "stream",
     "text": [
      " 17%|██████▎                             | 1806/10357 [14:13<1:18:13,  1.82it/s]"
     ]
    },
    {
     "name": "stdout",
     "output_type": "stream",
     "text": [
      "[OK] 2300.txt → 2300_slots.csv and paths.geojson\n"
     ]
    },
    {
     "name": "stderr",
     "output_type": "stream",
     "text": [
      " 17%|██████▎                             | 1807/10357 [14:13<1:04:37,  2.20it/s]"
     ]
    },
    {
     "name": "stdout",
     "output_type": "stream",
     "text": [
      "[OK] 2301.txt → 2301_slots.csv and paths.geojson\n"
     ]
    },
    {
     "name": "stderr",
     "output_type": "stream",
     "text": [
      " 17%|██████▎                             | 1808/10357 [14:13<1:00:56,  2.34it/s]"
     ]
    },
    {
     "name": "stdout",
     "output_type": "stream",
     "text": [
      "[OK] 2302.txt → 2302_slots.csv and paths.geojson\n"
     ]
    },
    {
     "name": "stderr",
     "output_type": "stream",
     "text": [
      " 17%|██████▋                               | 1809/10357 [14:14<55:40,  2.56it/s]"
     ]
    },
    {
     "name": "stdout",
     "output_type": "stream",
     "text": [
      "[OK] 2303.txt → 2303_slots.csv and paths.geojson\n"
     ]
    },
    {
     "name": "stderr",
     "output_type": "stream",
     "text": [
      " 17%|██████▋                               | 1811/10357 [14:14<46:35,  3.06it/s]"
     ]
    },
    {
     "name": "stdout",
     "output_type": "stream",
     "text": [
      "[OK] 2304.txt → 2304_slots.csv and paths.geojson\n",
      "[OK] 2305.txt → 2305_slots.csv and paths.geojson\n"
     ]
    },
    {
     "name": "stderr",
     "output_type": "stream",
     "text": [
      " 17%|██████▋                               | 1812/10357 [14:14<49:29,  2.88it/s]"
     ]
    },
    {
     "name": "stdout",
     "output_type": "stream",
     "text": [
      "[OK] 2306.txt → 2306_slots.csv and paths.geojson\n"
     ]
    },
    {
     "name": "stderr",
     "output_type": "stream",
     "text": [
      " 18%|██████▋                               | 1813/10357 [14:15<56:21,  2.53it/s]"
     ]
    },
    {
     "name": "stdout",
     "output_type": "stream",
     "text": [
      "[OK] 2307.txt → 2307_slots.csv and paths.geojson\n"
     ]
    },
    {
     "name": "stderr",
     "output_type": "stream",
     "text": [
      " 18%|██████▋                               | 1814/10357 [14:15<50:54,  2.80it/s]"
     ]
    },
    {
     "name": "stdout",
     "output_type": "stream",
     "text": [
      "[OK] 2308.txt → 2308_slots.csv and paths.geojson\n"
     ]
    },
    {
     "name": "stderr",
     "output_type": "stream",
     "text": [
      " 18%|██████▋                               | 1815/10357 [14:16<48:19,  2.95it/s]"
     ]
    },
    {
     "name": "stdout",
     "output_type": "stream",
     "text": [
      "[OK] 2309.txt → 2309_slots.csv and paths.geojson\n",
      "[OK] 231.txt → 231_slots.csv and paths.geojson\n"
     ]
    },
    {
     "name": "stderr",
     "output_type": "stream",
     "text": [
      " 18%|██████▋                               | 1817/10357 [14:16<41:03,  3.47it/s]"
     ]
    },
    {
     "name": "stdout",
     "output_type": "stream",
     "text": [
      "[OK] 2310.txt → 2310_slots.csv and paths.geojson\n"
     ]
    },
    {
     "name": "stderr",
     "output_type": "stream",
     "text": [
      " 18%|██████▋                               | 1818/10357 [14:17<52:04,  2.73it/s]"
     ]
    },
    {
     "name": "stdout",
     "output_type": "stream",
     "text": [
      "[OK] 2311.txt → 2311_slots.csv and paths.geojson\n"
     ]
    },
    {
     "name": "stderr",
     "output_type": "stream",
     "text": [
      " 18%|██████▋                               | 1819/10357 [14:17<51:27,  2.77it/s]"
     ]
    },
    {
     "name": "stdout",
     "output_type": "stream",
     "text": [
      "[OK] 2312.txt → 2312_slots.csv and paths.geojson\n"
     ]
    },
    {
     "name": "stderr",
     "output_type": "stream",
     "text": [
      " 18%|██████▎                             | 1820/10357 [14:18<1:12:08,  1.97it/s]"
     ]
    },
    {
     "name": "stdout",
     "output_type": "stream",
     "text": [
      "[OK] 2313.txt → 2313_slots.csv and paths.geojson\n"
     ]
    },
    {
     "name": "stderr",
     "output_type": "stream",
     "text": [
      " 18%|██████▎                             | 1821/10357 [14:19<1:20:43,  1.76it/s]"
     ]
    },
    {
     "name": "stdout",
     "output_type": "stream",
     "text": [
      "[OK] 2314.txt → 2314_slots.csv and paths.geojson\n"
     ]
    },
    {
     "name": "stderr",
     "output_type": "stream",
     "text": [
      " 18%|██████▋                               | 1823/10357 [14:19<59:52,  2.38it/s]"
     ]
    },
    {
     "name": "stdout",
     "output_type": "stream",
     "text": [
      "[OK] 2315.txt → 2315_slots.csv and paths.geojson\n",
      "[OK] 2316.txt → 2316_slots.csv and paths.geojson\n"
     ]
    },
    {
     "name": "stderr",
     "output_type": "stream",
     "text": [
      " 18%|██████▎                             | 1824/10357 [14:20<1:07:28,  2.11it/s]"
     ]
    },
    {
     "name": "stdout",
     "output_type": "stream",
     "text": [
      "[OK] 2317.txt → 2317_slots.csv and paths.geojson\n"
     ]
    },
    {
     "name": "stderr",
     "output_type": "stream",
     "text": [
      " 18%|██████▎                             | 1825/10357 [14:21<1:18:47,  1.80it/s]"
     ]
    },
    {
     "name": "stdout",
     "output_type": "stream",
     "text": [
      "[OK] 2318.txt → 2318_slots.csv and paths.geojson\n"
     ]
    },
    {
     "name": "stderr",
     "output_type": "stream",
     "text": [
      " 18%|██████▎                             | 1826/10357 [14:21<1:12:38,  1.96it/s]"
     ]
    },
    {
     "name": "stdout",
     "output_type": "stream",
     "text": [
      "[OK] 2319.txt → 2319_slots.csv and paths.geojson\n"
     ]
    },
    {
     "name": "stderr",
     "output_type": "stream",
     "text": [
      " 18%|██████▎                             | 1827/10357 [14:22<1:25:22,  1.67it/s]"
     ]
    },
    {
     "name": "stdout",
     "output_type": "stream",
     "text": [
      "[OK] 232.txt → 232_slots.csv and paths.geojson\n"
     ]
    },
    {
     "name": "stderr",
     "output_type": "stream",
     "text": [
      " 18%|██████▎                             | 1828/10357 [14:22<1:23:07,  1.71it/s]"
     ]
    },
    {
     "name": "stdout",
     "output_type": "stream",
     "text": [
      "[OK] 2320.txt → 2320_slots.csv and paths.geojson\n"
     ]
    },
    {
     "name": "stderr",
     "output_type": "stream",
     "text": [
      " 18%|██████▎                             | 1829/10357 [14:23<1:10:41,  2.01it/s]"
     ]
    },
    {
     "name": "stdout",
     "output_type": "stream",
     "text": [
      "[OK] 2321.txt → 2321_slots.csv and paths.geojson\n"
     ]
    },
    {
     "name": "stderr",
     "output_type": "stream",
     "text": [
      " 18%|██████▎                             | 1830/10357 [14:23<1:13:53,  1.92it/s]"
     ]
    },
    {
     "name": "stdout",
     "output_type": "stream",
     "text": [
      "[OK] 2322.txt → 2322_slots.csv and paths.geojson\n"
     ]
    },
    {
     "name": "stderr",
     "output_type": "stream",
     "text": [
      " 18%|██████▎                             | 1831/10357 [14:24<1:20:02,  1.78it/s]"
     ]
    },
    {
     "name": "stdout",
     "output_type": "stream",
     "text": [
      "[OK] 2323.txt → 2323_slots.csv and paths.geojson\n"
     ]
    },
    {
     "name": "stderr",
     "output_type": "stream",
     "text": [
      " 18%|██████▎                             | 1832/10357 [14:24<1:11:09,  2.00it/s]"
     ]
    },
    {
     "name": "stdout",
     "output_type": "stream",
     "text": [
      "[OK] 2324.txt → 2324_slots.csv and paths.geojson\n"
     ]
    },
    {
     "name": "stderr",
     "output_type": "stream",
     "text": [
      " 18%|██████▋                               | 1834/10357 [14:25<51:59,  2.73it/s]"
     ]
    },
    {
     "name": "stdout",
     "output_type": "stream",
     "text": [
      "[OK] 2325.txt → 2325_slots.csv and paths.geojson\n",
      "[OK] 2326.txt → 2326_slots.csv and paths.geojson\n"
     ]
    },
    {
     "name": "stderr",
     "output_type": "stream",
     "text": [
      " 18%|██████▋                               | 1835/10357 [14:25<41:36,  3.41it/s]"
     ]
    },
    {
     "name": "stdout",
     "output_type": "stream",
     "text": [
      "[OK] 2327.txt → 2327_slots.csv and paths.geojson\n"
     ]
    },
    {
     "name": "stderr",
     "output_type": "stream",
     "text": [
      " 18%|██████▋                               | 1836/10357 [14:25<49:15,  2.88it/s]"
     ]
    },
    {
     "name": "stdout",
     "output_type": "stream",
     "text": [
      "[OK] 2328.txt → 2328_slots.csv and paths.geojson\n"
     ]
    },
    {
     "name": "stderr",
     "output_type": "stream",
     "text": [
      " 18%|██████▋                               | 1837/10357 [14:26<59:36,  2.38it/s]"
     ]
    },
    {
     "name": "stdout",
     "output_type": "stream",
     "text": [
      "[OK] 2329.txt → 2329_slots.csv and paths.geojson\n"
     ]
    },
    {
     "name": "stderr",
     "output_type": "stream",
     "text": [
      " 18%|██████▍                             | 1838/10357 [14:26<1:07:12,  2.11it/s]"
     ]
    },
    {
     "name": "stdout",
     "output_type": "stream",
     "text": [
      "[OK] 233.txt → 233_slots.csv and paths.geojson\n"
     ]
    },
    {
     "name": "stderr",
     "output_type": "stream",
     "text": [
      " 18%|██████▍                             | 1839/10357 [14:27<1:08:16,  2.08it/s]"
     ]
    },
    {
     "name": "stdout",
     "output_type": "stream",
     "text": [
      "[OK] 2330.txt → 2330_slots.csv and paths.geojson\n"
     ]
    },
    {
     "name": "stderr",
     "output_type": "stream",
     "text": [
      " 18%|██████▊                               | 1841/10357 [14:28<52:43,  2.69it/s]"
     ]
    },
    {
     "name": "stdout",
     "output_type": "stream",
     "text": [
      "[OK] 2331.txt → 2331_slots.csv and paths.geojson\n",
      "[OK] 2332.txt → 2332_slots.csv and paths.geojson\n"
     ]
    },
    {
     "name": "stderr",
     "output_type": "stream",
     "text": [
      " 18%|██████▍                             | 1842/10357 [14:28<1:05:26,  2.17it/s]"
     ]
    },
    {
     "name": "stdout",
     "output_type": "stream",
     "text": [
      "[OK] 2333.txt → 2333_slots.csv and paths.geojson\n",
      "[OK] 2334.txt → 2334_slots.csv and paths.geojson\n"
     ]
    },
    {
     "name": "stderr",
     "output_type": "stream",
     "text": [
      " 18%|██████▊                               | 1844/10357 [14:29<50:08,  2.83it/s]"
     ]
    },
    {
     "name": "stdout",
     "output_type": "stream",
     "text": [
      "[OK] 2335.txt → 2335_slots.csv and paths.geojson\n"
     ]
    },
    {
     "name": "stderr",
     "output_type": "stream",
     "text": [
      " 18%|██████▊                               | 1846/10357 [14:29<43:12,  3.28it/s]"
     ]
    },
    {
     "name": "stdout",
     "output_type": "stream",
     "text": [
      "[OK] 2336.txt → 2336_slots.csv and paths.geojson\n",
      "[OK] 2337.txt → 2337_slots.csv and paths.geojson\n"
     ]
    },
    {
     "name": "stderr",
     "output_type": "stream",
     "text": [
      " 18%|██████▊                               | 1847/10357 [14:30<51:57,  2.73it/s]"
     ]
    },
    {
     "name": "stdout",
     "output_type": "stream",
     "text": [
      "[OK] 2338.txt → 2338_slots.csv and paths.geojson\n"
     ]
    },
    {
     "name": "stderr",
     "output_type": "stream",
     "text": [
      " 18%|██████▍                             | 1848/10357 [14:31<1:22:51,  1.71it/s]"
     ]
    },
    {
     "name": "stdout",
     "output_type": "stream",
     "text": [
      "[OK] 2339.txt → 2339_slots.csv and paths.geojson\n"
     ]
    },
    {
     "name": "stderr",
     "output_type": "stream",
     "text": [
      " 18%|██████▍                             | 1849/10357 [14:31<1:22:47,  1.71it/s]"
     ]
    },
    {
     "name": "stdout",
     "output_type": "stream",
     "text": [
      "[OK] 234.txt → 234_slots.csv and paths.geojson\n"
     ]
    },
    {
     "name": "stderr",
     "output_type": "stream",
     "text": [
      " 18%|██████▍                             | 1851/10357 [14:32<1:06:16,  2.14it/s]"
     ]
    },
    {
     "name": "stdout",
     "output_type": "stream",
     "text": [
      "[OK] 2340.txt → 2340_slots.csv and paths.geojson\n",
      "[OK] 2341.txt → 2341_slots.csv and paths.geojson\n"
     ]
    },
    {
     "name": "stderr",
     "output_type": "stream",
     "text": [
      " 18%|██████▍                             | 1852/10357 [14:33<1:25:42,  1.65it/s]"
     ]
    },
    {
     "name": "stdout",
     "output_type": "stream",
     "text": [
      "[OK] 2342.txt → 2342_slots.csv and paths.geojson\n"
     ]
    },
    {
     "name": "stderr",
     "output_type": "stream",
     "text": [
      " 18%|██████▍                             | 1853/10357 [14:34<1:30:41,  1.56it/s]"
     ]
    },
    {
     "name": "stdout",
     "output_type": "stream",
     "text": [
      "[OK] 2343.txt → 2343_slots.csv and paths.geojson\n"
     ]
    },
    {
     "name": "stderr",
     "output_type": "stream",
     "text": [
      " 18%|██████▍                             | 1854/10357 [14:34<1:23:31,  1.70it/s]"
     ]
    },
    {
     "name": "stdout",
     "output_type": "stream",
     "text": [
      "[OK] 2344.txt → 2344_slots.csv and paths.geojson\n"
     ]
    },
    {
     "name": "stderr",
     "output_type": "stream",
     "text": [
      " 18%|██████▍                             | 1855/10357 [14:35<1:12:44,  1.95it/s]"
     ]
    },
    {
     "name": "stdout",
     "output_type": "stream",
     "text": [
      "[OK] 2345.txt → 2345_slots.csv and paths.geojson\n"
     ]
    },
    {
     "name": "stderr",
     "output_type": "stream",
     "text": [
      " 18%|██████▍                             | 1856/10357 [14:35<1:01:59,  2.29it/s]"
     ]
    },
    {
     "name": "stdout",
     "output_type": "stream",
     "text": [
      "[OK] 2346.txt → 2346_slots.csv and paths.geojson\n"
     ]
    },
    {
     "name": "stderr",
     "output_type": "stream",
     "text": [
      " 18%|██████▍                             | 1857/10357 [14:35<1:01:52,  2.29it/s]"
     ]
    },
    {
     "name": "stdout",
     "output_type": "stream",
     "text": [
      "[OK] 2347.txt → 2347_slots.csv and paths.geojson\n",
      "[OK] 2348.txt → 2348_slots.csv and paths.geojson\n",
      "[OK] 2349.txt → 2349_slots.csv and paths.geojson\n"
     ]
    },
    {
     "name": "stderr",
     "output_type": "stream",
     "text": [
      " 18%|██████▊                               | 1860/10357 [14:36<50:31,  2.80it/s]"
     ]
    },
    {
     "name": "stdout",
     "output_type": "stream",
     "text": [
      "[OK] 235.txt → 235_slots.csv and paths.geojson\n"
     ]
    },
    {
     "name": "stderr",
     "output_type": "stream",
     "text": [
      " 18%|██████▊                               | 1861/10357 [14:37<55:39,  2.54it/s]"
     ]
    },
    {
     "name": "stdout",
     "output_type": "stream",
     "text": [
      "[OK] 2350.txt → 2350_slots.csv and paths.geojson\n"
     ]
    },
    {
     "name": "stderr",
     "output_type": "stream",
     "text": [
      " 18%|██████▊                               | 1862/10357 [14:37<59:25,  2.38it/s]"
     ]
    },
    {
     "name": "stdout",
     "output_type": "stream",
     "text": [
      "[OK] 2351.txt → 2351_slots.csv and paths.geojson\n"
     ]
    },
    {
     "name": "stderr",
     "output_type": "stream",
     "text": [
      " 18%|██████▊                               | 1863/10357 [14:38<57:23,  2.47it/s]"
     ]
    },
    {
     "name": "stdout",
     "output_type": "stream",
     "text": [
      "[OK] 2352.txt → 2352_slots.csv and paths.geojson\n"
     ]
    },
    {
     "name": "stderr",
     "output_type": "stream",
     "text": [
      " 18%|██████▊                               | 1864/10357 [14:38<57:44,  2.45it/s]"
     ]
    },
    {
     "name": "stdout",
     "output_type": "stream",
     "text": [
      "[OK] 2353.txt → 2353_slots.csv and paths.geojson\n"
     ]
    },
    {
     "name": "stderr",
     "output_type": "stream",
     "text": [
      " 18%|██████▍                             | 1865/10357 [14:38<1:01:05,  2.32it/s]"
     ]
    },
    {
     "name": "stdout",
     "output_type": "stream",
     "text": [
      "[OK] 2354.txt → 2354_slots.csv and paths.geojson\n"
     ]
    },
    {
     "name": "stderr",
     "output_type": "stream",
     "text": [
      " 18%|██████▍                             | 1866/10357 [14:39<1:17:22,  1.83it/s]"
     ]
    },
    {
     "name": "stdout",
     "output_type": "stream",
     "text": [
      "[OK] 2355.txt → 2355_slots.csv and paths.geojson\n"
     ]
    },
    {
     "name": "stderr",
     "output_type": "stream",
     "text": [
      " 18%|██████▍                             | 1867/10357 [14:40<1:24:36,  1.67it/s]"
     ]
    },
    {
     "name": "stdout",
     "output_type": "stream",
     "text": [
      "[OK] 2356.txt → 2356_slots.csv and paths.geojson\n"
     ]
    },
    {
     "name": "stderr",
     "output_type": "stream",
     "text": [
      " 18%|██████▍                             | 1868/10357 [14:40<1:21:39,  1.73it/s]"
     ]
    },
    {
     "name": "stdout",
     "output_type": "stream",
     "text": [
      "[OK] 2357.txt → 2357_slots.csv and paths.geojson\n"
     ]
    },
    {
     "name": "stderr",
     "output_type": "stream",
     "text": [
      " 18%|██████▍                             | 1869/10357 [14:41<1:07:37,  2.09it/s]"
     ]
    },
    {
     "name": "stdout",
     "output_type": "stream",
     "text": [
      "[OK] 2358.txt → 2358_slots.csv and paths.geojson\n"
     ]
    },
    {
     "name": "stderr",
     "output_type": "stream",
     "text": [
      " 18%|██████▍                             | 1870/10357 [14:41<1:07:28,  2.10it/s]"
     ]
    },
    {
     "name": "stdout",
     "output_type": "stream",
     "text": [
      "[OK] 2359.txt → 2359_slots.csv and paths.geojson\n"
     ]
    },
    {
     "name": "stderr",
     "output_type": "stream",
     "text": [
      " 18%|██████▌                             | 1871/10357 [14:42<1:17:18,  1.83it/s]"
     ]
    },
    {
     "name": "stdout",
     "output_type": "stream",
     "text": [
      "[OK] 236.txt → 236_slots.csv and paths.geojson\n"
     ]
    },
    {
     "name": "stderr",
     "output_type": "stream",
     "text": [
      " 18%|██████▌                             | 1872/10357 [14:43<1:23:00,  1.70it/s]"
     ]
    },
    {
     "name": "stdout",
     "output_type": "stream",
     "text": [
      "[OK] 2360.txt → 2360_slots.csv and paths.geojson\n"
     ]
    },
    {
     "name": "stderr",
     "output_type": "stream",
     "text": [
      " 18%|██████▌                             | 1873/10357 [14:43<1:09:00,  2.05it/s]"
     ]
    },
    {
     "name": "stdout",
     "output_type": "stream",
     "text": [
      "[OK] 2361.txt → 2361_slots.csv and paths.geojson\n"
     ]
    },
    {
     "name": "stderr",
     "output_type": "stream",
     "text": [
      " 18%|██████▌                             | 1874/10357 [14:43<1:14:31,  1.90it/s]"
     ]
    },
    {
     "name": "stdout",
     "output_type": "stream",
     "text": [
      "[OK] 2362.txt → 2362_slots.csv and paths.geojson\n"
     ]
    },
    {
     "name": "stderr",
     "output_type": "stream",
     "text": [
      " 18%|██████▌                             | 1875/10357 [14:44<1:11:27,  1.98it/s]"
     ]
    },
    {
     "name": "stdout",
     "output_type": "stream",
     "text": [
      "[OK] 2363.txt → 2363_slots.csv and paths.geojson\n"
     ]
    },
    {
     "name": "stderr",
     "output_type": "stream",
     "text": [
      " 18%|██████▌                             | 1876/10357 [14:45<1:17:49,  1.82it/s]"
     ]
    },
    {
     "name": "stdout",
     "output_type": "stream",
     "text": [
      "[OK] 2364.txt → 2364_slots.csv and paths.geojson\n"
     ]
    },
    {
     "name": "stderr",
     "output_type": "stream",
     "text": [
      " 18%|██████▌                             | 1877/10357 [14:45<1:17:17,  1.83it/s]"
     ]
    },
    {
     "name": "stdout",
     "output_type": "stream",
     "text": [
      "[OK] 2365.txt → 2365_slots.csv and paths.geojson\n"
     ]
    },
    {
     "name": "stderr",
     "output_type": "stream",
     "text": [
      " 18%|██████▌                             | 1878/10357 [14:46<1:16:37,  1.84it/s]"
     ]
    },
    {
     "name": "stdout",
     "output_type": "stream",
     "text": [
      "[OK] 2366.txt → 2366_slots.csv and paths.geojson\n"
     ]
    },
    {
     "name": "stderr",
     "output_type": "stream",
     "text": [
      " 18%|██████▌                             | 1879/10357 [14:46<1:17:24,  1.83it/s]"
     ]
    },
    {
     "name": "stdout",
     "output_type": "stream",
     "text": [
      "[OK] 2367.txt → 2367_slots.csv and paths.geojson\n"
     ]
    },
    {
     "name": "stderr",
     "output_type": "stream",
     "text": [
      " 18%|██████▌                             | 1880/10357 [14:46<1:04:59,  2.17it/s]"
     ]
    },
    {
     "name": "stdout",
     "output_type": "stream",
     "text": [
      "[OK] 2368.txt → 2368_slots.csv and paths.geojson\n"
     ]
    },
    {
     "name": "stderr",
     "output_type": "stream",
     "text": [
      " 18%|██████▌                             | 1881/10357 [14:47<1:09:53,  2.02it/s]"
     ]
    },
    {
     "name": "stdout",
     "output_type": "stream",
     "text": [
      "[OK] 2369.txt → 2369_slots.csv and paths.geojson\n"
     ]
    },
    {
     "name": "stderr",
     "output_type": "stream",
     "text": [
      " 18%|██████▌                             | 1882/10357 [14:47<1:00:43,  2.33it/s]"
     ]
    },
    {
     "name": "stdout",
     "output_type": "stream",
     "text": [
      "[OK] 237.txt → 237_slots.csv and paths.geojson\n"
     ]
    },
    {
     "name": "stderr",
     "output_type": "stream",
     "text": [
      " 18%|██████▉                               | 1883/10357 [14:48<55:24,  2.55it/s]"
     ]
    },
    {
     "name": "stdout",
     "output_type": "stream",
     "text": [
      "[OK] 2370.txt → 2370_slots.csv and paths.geojson\n"
     ]
    },
    {
     "name": "stderr",
     "output_type": "stream",
     "text": [
      " 18%|██████▉                               | 1884/10357 [14:48<47:55,  2.95it/s]"
     ]
    },
    {
     "name": "stdout",
     "output_type": "stream",
     "text": [
      "[OK] 2371.txt → 2371_slots.csv and paths.geojson\n"
     ]
    },
    {
     "name": "stderr",
     "output_type": "stream",
     "text": [
      " 18%|██████▉                               | 1885/10357 [14:48<47:48,  2.95it/s]"
     ]
    },
    {
     "name": "stdout",
     "output_type": "stream",
     "text": [
      "[OK] 2372.txt → 2372_slots.csv and paths.geojson\n"
     ]
    },
    {
     "name": "stderr",
     "output_type": "stream",
     "text": [
      " 18%|██████▉                               | 1886/10357 [14:49<50:04,  2.82it/s]"
     ]
    },
    {
     "name": "stdout",
     "output_type": "stream",
     "text": [
      "[OK] 2373.txt → 2373_slots.csv and paths.geojson\n"
     ]
    },
    {
     "name": "stderr",
     "output_type": "stream",
     "text": [
      " 18%|██████▉                               | 1887/10357 [14:49<59:02,  2.39it/s]"
     ]
    },
    {
     "name": "stdout",
     "output_type": "stream",
     "text": [
      "[OK] 2374.txt → 2374_slots.csv and paths.geojson\n"
     ]
    },
    {
     "name": "stderr",
     "output_type": "stream",
     "text": [
      " 18%|██████▉                               | 1888/10357 [14:50<58:25,  2.42it/s]"
     ]
    },
    {
     "name": "stdout",
     "output_type": "stream",
     "text": [
      "[OK] 2375.txt → 2375_slots.csv and paths.geojson\n"
     ]
    },
    {
     "name": "stderr",
     "output_type": "stream",
     "text": [
      " 18%|██████▉                               | 1889/10357 [14:50<56:32,  2.50it/s]"
     ]
    },
    {
     "name": "stdout",
     "output_type": "stream",
     "text": [
      "[OK] 2376.txt → 2376_slots.csv and paths.geojson\n"
     ]
    },
    {
     "name": "stderr",
     "output_type": "stream",
     "text": [
      " 18%|██████▉                               | 1890/10357 [14:50<51:48,  2.72it/s]"
     ]
    },
    {
     "name": "stdout",
     "output_type": "stream",
     "text": [
      "[OK] 2377.txt → 2377_slots.csv and paths.geojson\n"
     ]
    },
    {
     "name": "stderr",
     "output_type": "stream",
     "text": [
      " 18%|██████▉                               | 1891/10357 [14:51<49:25,  2.86it/s]"
     ]
    },
    {
     "name": "stdout",
     "output_type": "stream",
     "text": [
      "[OK] 2378.txt → 2378_slots.csv and paths.geojson\n"
     ]
    },
    {
     "name": "stderr",
     "output_type": "stream",
     "text": [
      " 18%|██████▉                               | 1892/10357 [14:51<59:39,  2.37it/s]"
     ]
    },
    {
     "name": "stdout",
     "output_type": "stream",
     "text": [
      "[OK] 2379.txt → 2379_slots.csv and paths.geojson\n"
     ]
    },
    {
     "name": "stderr",
     "output_type": "stream",
     "text": [
      " 18%|██████▉                               | 1893/10357 [14:51<54:12,  2.60it/s]"
     ]
    },
    {
     "name": "stdout",
     "output_type": "stream",
     "text": [
      "[OK] 238.txt → 238_slots.csv and paths.geojson\n"
     ]
    },
    {
     "name": "stderr",
     "output_type": "stream",
     "text": [
      " 18%|██████▉                               | 1894/10357 [14:52<52:37,  2.68it/s]"
     ]
    },
    {
     "name": "stdout",
     "output_type": "stream",
     "text": [
      "[OK] 2380.txt → 2380_slots.csv and paths.geojson\n"
     ]
    },
    {
     "name": "stderr",
     "output_type": "stream",
     "text": [
      " 18%|██████▌                             | 1895/10357 [14:52<1:06:41,  2.11it/s]"
     ]
    },
    {
     "name": "stdout",
     "output_type": "stream",
     "text": [
      "[OK] 2381.txt → 2381_slots.csv and paths.geojson\n"
     ]
    },
    {
     "name": "stderr",
     "output_type": "stream",
     "text": [
      " 18%|██████▌                             | 1896/10357 [14:53<1:02:50,  2.24it/s]"
     ]
    },
    {
     "name": "stdout",
     "output_type": "stream",
     "text": [
      "[OK] 2382.txt → 2382_slots.csv and paths.geojson\n"
     ]
    },
    {
     "name": "stderr",
     "output_type": "stream",
     "text": [
      " 18%|██████▉                               | 1897/10357 [14:53<57:34,  2.45it/s]"
     ]
    },
    {
     "name": "stdout",
     "output_type": "stream",
     "text": [
      "[OK] 2383.txt → 2383_slots.csv and paths.geojson\n"
     ]
    },
    {
     "name": "stderr",
     "output_type": "stream",
     "text": [
      " 18%|██████▌                             | 1898/10357 [14:54<1:14:02,  1.90it/s]"
     ]
    },
    {
     "name": "stdout",
     "output_type": "stream",
     "text": [
      "[OK] 2384.txt → 2384_slots.csv and paths.geojson\n"
     ]
    },
    {
     "name": "stderr",
     "output_type": "stream",
     "text": [
      " 18%|██████▌                             | 1899/10357 [14:55<1:21:43,  1.73it/s]"
     ]
    },
    {
     "name": "stdout",
     "output_type": "stream",
     "text": [
      "[OK] 2385.txt → 2385_slots.csv and paths.geojson\n"
     ]
    },
    {
     "name": "stderr",
     "output_type": "stream",
     "text": [
      " 18%|██████▌                             | 1900/10357 [14:55<1:09:30,  2.03it/s]"
     ]
    },
    {
     "name": "stdout",
     "output_type": "stream",
     "text": [
      "[OK] 2386.txt → 2386_slots.csv and paths.geojson\n"
     ]
    },
    {
     "name": "stderr",
     "output_type": "stream",
     "text": [
      " 18%|██████▌                             | 1901/10357 [14:55<1:02:24,  2.26it/s]"
     ]
    },
    {
     "name": "stdout",
     "output_type": "stream",
     "text": [
      "[OK] 2387.txt → 2387_slots.csv and paths.geojson\n",
      "[OK] 2388.txt → 2388_slots.csv\n"
     ]
    },
    {
     "name": "stderr",
     "output_type": "stream",
     "text": [
      " 18%|██████▉                               | 1903/10357 [14:56<47:13,  2.98it/s]"
     ]
    },
    {
     "name": "stdout",
     "output_type": "stream",
     "text": [
      "[OK] 2389.txt → 2389_slots.csv and paths.geojson\n"
     ]
    },
    {
     "name": "stderr",
     "output_type": "stream",
     "text": [
      " 18%|██████▉                               | 1904/10357 [14:56<55:50,  2.52it/s]"
     ]
    },
    {
     "name": "stdout",
     "output_type": "stream",
     "text": [
      "[OK] 239.txt → 239_slots.csv and paths.geojson\n"
     ]
    },
    {
     "name": "stderr",
     "output_type": "stream",
     "text": [
      " 18%|██████▉                               | 1905/10357 [14:57<56:30,  2.49it/s]"
     ]
    },
    {
     "name": "stdout",
     "output_type": "stream",
     "text": [
      "[OK] 2390.txt → 2390_slots.csv and paths.geojson\n"
     ]
    },
    {
     "name": "stderr",
     "output_type": "stream",
     "text": [
      " 18%|██████▉                               | 1907/10357 [14:57<42:29,  3.31it/s]"
     ]
    },
    {
     "name": "stdout",
     "output_type": "stream",
     "text": [
      "[OK] 2391.txt → 2391_slots.csv and paths.geojson\n",
      "[OK] 2392.txt → 2392_slots.csv and paths.geojson\n"
     ]
    },
    {
     "name": "stderr",
     "output_type": "stream",
     "text": [
      " 18%|███████                               | 1908/10357 [14:58<50:32,  2.79it/s]"
     ]
    },
    {
     "name": "stdout",
     "output_type": "stream",
     "text": [
      "[OK] 2393.txt → 2393_slots.csv and paths.geojson\n"
     ]
    },
    {
     "name": "stderr",
     "output_type": "stream",
     "text": [
      " 18%|███████                               | 1910/10357 [14:58<40:44,  3.46it/s]"
     ]
    },
    {
     "name": "stdout",
     "output_type": "stream",
     "text": [
      "[OK] 2394.txt → 2394_slots.csv and paths.geojson\n",
      "[OK] 2395.txt → 2395_slots.csv and paths.geojson\n"
     ]
    },
    {
     "name": "stderr",
     "output_type": "stream",
     "text": [
      " 18%|██████▋                             | 1911/10357 [14:59<1:02:13,  2.26it/s]"
     ]
    },
    {
     "name": "stdout",
     "output_type": "stream",
     "text": [
      "[OK] 2396.txt → 2396_slots.csv and paths.geojson\n"
     ]
    },
    {
     "name": "stderr",
     "output_type": "stream",
     "text": [
      " 18%|██████▋                             | 1912/10357 [14:59<1:09:25,  2.03it/s]"
     ]
    },
    {
     "name": "stdout",
     "output_type": "stream",
     "text": [
      "[OK] 2397.txt → 2397_slots.csv and paths.geojson\n"
     ]
    },
    {
     "name": "stderr",
     "output_type": "stream",
     "text": [
      " 18%|██████▋                             | 1913/10357 [15:00<1:06:42,  2.11it/s]"
     ]
    },
    {
     "name": "stdout",
     "output_type": "stream",
     "text": [
      "[OK] 2398.txt → 2398_slots.csv and paths.geojson\n"
     ]
    },
    {
     "name": "stderr",
     "output_type": "stream",
     "text": [
      " 18%|██████▋                             | 1914/10357 [15:00<1:01:00,  2.31it/s]"
     ]
    },
    {
     "name": "stdout",
     "output_type": "stream",
     "text": [
      "[OK] 2399.txt → 2399_slots.csv and paths.geojson\n"
     ]
    },
    {
     "name": "stderr",
     "output_type": "stream",
     "text": [
      " 18%|██████▋                             | 1915/10357 [15:01<1:18:58,  1.78it/s]"
     ]
    },
    {
     "name": "stdout",
     "output_type": "stream",
     "text": [
      "[OK] 24.txt → 24_slots.csv and paths.geojson\n"
     ]
    },
    {
     "name": "stderr",
     "output_type": "stream",
     "text": [
      " 19%|███████                               | 1917/10357 [15:02<57:26,  2.45it/s]"
     ]
    },
    {
     "name": "stdout",
     "output_type": "stream",
     "text": [
      "[OK] 240.txt → 240_slots.csv and paths.geojson\n",
      "[OK] 2400.txt → 2400_slots.csv and paths.geojson\n"
     ]
    },
    {
     "name": "stderr",
     "output_type": "stream",
     "text": [
      " 19%|███████                               | 1918/10357 [15:02<56:46,  2.48it/s]"
     ]
    },
    {
     "name": "stdout",
     "output_type": "stream",
     "text": [
      "[OK] 2401.txt → 2401_slots.csv and paths.geojson\n"
     ]
    },
    {
     "name": "stderr",
     "output_type": "stream",
     "text": [
      " 19%|██████▋                             | 1920/10357 [15:03<1:01:54,  2.27it/s]"
     ]
    },
    {
     "name": "stdout",
     "output_type": "stream",
     "text": [
      "[OK] 2402.txt → 2402_slots.csv and paths.geojson\n",
      "[OK] 2403.txt → 2403_slots.csv and paths.geojson\n"
     ]
    },
    {
     "name": "stderr",
     "output_type": "stream",
     "text": [
      " 19%|██████▋                             | 1921/10357 [15:04<1:05:44,  2.14it/s]"
     ]
    },
    {
     "name": "stdout",
     "output_type": "stream",
     "text": [
      "[OK] 2404.txt → 2404_slots.csv and paths.geojson\n"
     ]
    },
    {
     "name": "stderr",
     "output_type": "stream",
     "text": [
      " 19%|███████                               | 1922/10357 [15:04<59:42,  2.35it/s]"
     ]
    },
    {
     "name": "stdout",
     "output_type": "stream",
     "text": [
      "[OK] 2405.txt → 2405_slots.csv and paths.geojson\n"
     ]
    },
    {
     "name": "stderr",
     "output_type": "stream",
     "text": [
      " 19%|███████                               | 1923/10357 [15:04<57:58,  2.42it/s]"
     ]
    },
    {
     "name": "stdout",
     "output_type": "stream",
     "text": [
      "[OK] 2406.txt → 2406_slots.csv and paths.geojson\n"
     ]
    },
    {
     "name": "stderr",
     "output_type": "stream",
     "text": [
      " 19%|███████                               | 1924/10357 [15:05<58:05,  2.42it/s]"
     ]
    },
    {
     "name": "stdout",
     "output_type": "stream",
     "text": [
      "[OK] 2407.txt → 2407_slots.csv and paths.geojson\n"
     ]
    },
    {
     "name": "stderr",
     "output_type": "stream",
     "text": [
      " 19%|███████                               | 1926/10357 [15:05<43:48,  3.21it/s]"
     ]
    },
    {
     "name": "stdout",
     "output_type": "stream",
     "text": [
      "[OK] 2408.txt → 2408_slots.csv and paths.geojson\n",
      "[OK] 2409.txt → 2409_slots.csv and paths.geojson\n"
     ]
    },
    {
     "name": "stderr",
     "output_type": "stream",
     "text": [
      " 19%|███████                               | 1927/10357 [15:06<49:57,  2.81it/s]"
     ]
    },
    {
     "name": "stdout",
     "output_type": "stream",
     "text": [
      "[OK] 241.txt → 241_slots.csv and paths.geojson\n"
     ]
    },
    {
     "name": "stderr",
     "output_type": "stream",
     "text": [
      " 19%|███████                               | 1928/10357 [15:06<56:14,  2.50it/s]"
     ]
    },
    {
     "name": "stdout",
     "output_type": "stream",
     "text": [
      "[OK] 2410.txt → 2410_slots.csv and paths.geojson\n"
     ]
    },
    {
     "name": "stderr",
     "output_type": "stream",
     "text": [
      " 19%|███████                               | 1929/10357 [15:07<55:24,  2.54it/s]"
     ]
    },
    {
     "name": "stdout",
     "output_type": "stream",
     "text": [
      "[OK] 2411.txt → 2411_slots.csv and paths.geojson\n"
     ]
    },
    {
     "name": "stderr",
     "output_type": "stream",
     "text": [
      " 19%|███████                               | 1930/10357 [15:07<47:33,  2.95it/s]"
     ]
    },
    {
     "name": "stdout",
     "output_type": "stream",
     "text": [
      "[OK] 2412.txt → 2412_slots.csv and paths.geojson\n"
     ]
    },
    {
     "name": "stderr",
     "output_type": "stream",
     "text": [
      " 19%|██████▋                             | 1931/10357 [15:08<1:08:16,  2.06it/s]"
     ]
    },
    {
     "name": "stdout",
     "output_type": "stream",
     "text": [
      "[OK] 2413.txt → 2413_slots.csv and paths.geojson\n"
     ]
    },
    {
     "name": "stderr",
     "output_type": "stream",
     "text": [
      " 19%|██████▋                             | 1932/10357 [15:08<1:10:24,  1.99it/s]"
     ]
    },
    {
     "name": "stdout",
     "output_type": "stream",
     "text": [
      "[OK] 2414.txt → 2414_slots.csv and paths.geojson\n"
     ]
    },
    {
     "name": "stderr",
     "output_type": "stream",
     "text": [
      " 19%|██████▋                             | 1933/10357 [15:09<1:17:19,  1.82it/s]"
     ]
    },
    {
     "name": "stdout",
     "output_type": "stream",
     "text": [
      "[OK] 2415.txt → 2415_slots.csv and paths.geojson\n"
     ]
    },
    {
     "name": "stderr",
     "output_type": "stream",
     "text": [
      " 19%|██████▋                             | 1934/10357 [15:09<1:15:28,  1.86it/s]"
     ]
    },
    {
     "name": "stdout",
     "output_type": "stream",
     "text": [
      "[OK] 2416.txt → 2416_slots.csv and paths.geojson\n"
     ]
    },
    {
     "name": "stderr",
     "output_type": "stream",
     "text": [
      " 19%|██████▋                             | 1935/10357 [15:10<1:15:23,  1.86it/s]"
     ]
    },
    {
     "name": "stdout",
     "output_type": "stream",
     "text": [
      "[OK] 2417.txt → 2417_slots.csv and paths.geojson\n"
     ]
    },
    {
     "name": "stderr",
     "output_type": "stream",
     "text": [
      " 19%|██████▋                             | 1936/10357 [15:10<1:03:31,  2.21it/s]"
     ]
    },
    {
     "name": "stdout",
     "output_type": "stream",
     "text": [
      "[OK] 2418.txt → 2418_slots.csv and paths.geojson\n"
     ]
    },
    {
     "name": "stderr",
     "output_type": "stream",
     "text": [
      " 19%|██████▋                             | 1937/10357 [15:11<1:10:56,  1.98it/s]"
     ]
    },
    {
     "name": "stdout",
     "output_type": "stream",
     "text": [
      "[OK] 2419.txt → 2419_slots.csv and paths.geojson\n"
     ]
    },
    {
     "name": "stderr",
     "output_type": "stream",
     "text": [
      " 19%|██████▋                             | 1938/10357 [15:11<1:03:08,  2.22it/s]"
     ]
    },
    {
     "name": "stdout",
     "output_type": "stream",
     "text": [
      "[OK] 242.txt → 242_slots.csv and paths.geojson\n"
     ]
    },
    {
     "name": "stderr",
     "output_type": "stream",
     "text": [
      " 19%|██████▋                             | 1939/10357 [15:12<1:08:19,  2.05it/s]"
     ]
    },
    {
     "name": "stdout",
     "output_type": "stream",
     "text": [
      "[OK] 2420.txt → 2420_slots.csv and paths.geojson\n"
     ]
    },
    {
     "name": "stderr",
     "output_type": "stream",
     "text": [
      " 19%|██████▋                             | 1940/10357 [15:12<1:05:40,  2.14it/s]"
     ]
    },
    {
     "name": "stdout",
     "output_type": "stream",
     "text": [
      "[OK] 2421.txt → 2421_slots.csv and paths.geojson\n"
     ]
    },
    {
     "name": "stderr",
     "output_type": "stream",
     "text": [
      " 19%|██████▋                             | 1941/10357 [15:12<1:02:17,  2.25it/s]"
     ]
    },
    {
     "name": "stdout",
     "output_type": "stream",
     "text": [
      "[OK] 2422.txt → 2422_slots.csv and paths.geojson\n",
      "[OK] 2423.txt → 2423_slots.csv\n"
     ]
    },
    {
     "name": "stderr",
     "output_type": "stream",
     "text": [
      " 19%|███████▏                              | 1943/10357 [15:13<53:18,  2.63it/s]"
     ]
    },
    {
     "name": "stdout",
     "output_type": "stream",
     "text": [
      "[OK] 2424.txt → 2424_slots.csv and paths.geojson\n"
     ]
    },
    {
     "name": "stderr",
     "output_type": "stream",
     "text": [
      " 19%|███████▏                              | 1944/10357 [15:14<57:34,  2.44it/s]"
     ]
    },
    {
     "name": "stdout",
     "output_type": "stream",
     "text": [
      "[OK] 2425.txt → 2425_slots.csv and paths.geojson\n",
      "[OK] 2426.txt → 2426_slots.csv\n"
     ]
    },
    {
     "name": "stderr",
     "output_type": "stream",
     "text": [
      " 19%|███████▏                              | 1946/10357 [15:14<43:33,  3.22it/s]"
     ]
    },
    {
     "name": "stdout",
     "output_type": "stream",
     "text": [
      "[OK] 2427.txt → 2427_slots.csv and paths.geojson\n"
     ]
    },
    {
     "name": "stderr",
     "output_type": "stream",
     "text": [
      " 19%|███████▏                              | 1947/10357 [15:14<44:05,  3.18it/s]"
     ]
    },
    {
     "name": "stdout",
     "output_type": "stream",
     "text": [
      "[OK] 2428.txt → 2428_slots.csv and paths.geojson\n"
     ]
    },
    {
     "name": "stderr",
     "output_type": "stream",
     "text": [
      " 19%|███████▏                              | 1948/10357 [15:15<45:47,  3.06it/s]"
     ]
    },
    {
     "name": "stdout",
     "output_type": "stream",
     "text": [
      "[OK] 2429.txt → 2429_slots.csv and paths.geojson\n"
     ]
    },
    {
     "name": "stderr",
     "output_type": "stream",
     "text": [
      " 19%|███████▏                              | 1949/10357 [15:15<48:12,  2.91it/s]"
     ]
    },
    {
     "name": "stdout",
     "output_type": "stream",
     "text": [
      "[OK] 243.txt → 243_slots.csv and paths.geojson\n",
      "[OK] 2430.txt → 2430_slots.csv and paths.geojson\n"
     ]
    },
    {
     "name": "stderr",
     "output_type": "stream",
     "text": [
      " 19%|███████▏                              | 1951/10357 [15:16<42:28,  3.30it/s]"
     ]
    },
    {
     "name": "stdout",
     "output_type": "stream",
     "text": [
      "[OK] 2431.txt → 2431_slots.csv and paths.geojson\n"
     ]
    },
    {
     "name": "stderr",
     "output_type": "stream",
     "text": [
      " 19%|██████▊                             | 1952/10357 [15:16<1:01:04,  2.29it/s]"
     ]
    },
    {
     "name": "stdout",
     "output_type": "stream",
     "text": [
      "[OK] 2432.txt → 2432_slots.csv and paths.geojson\n"
     ]
    },
    {
     "name": "stderr",
     "output_type": "stream",
     "text": [
      " 19%|███████▏                              | 1953/10357 [15:17<58:55,  2.38it/s]"
     ]
    },
    {
     "name": "stdout",
     "output_type": "stream",
     "text": [
      "[OK] 2433.txt → 2433_slots.csv and paths.geojson\n"
     ]
    },
    {
     "name": "stderr",
     "output_type": "stream",
     "text": [
      " 19%|██████▊                             | 1954/10357 [15:17<1:00:28,  2.32it/s]"
     ]
    },
    {
     "name": "stdout",
     "output_type": "stream",
     "text": [
      "[OK] 2434.txt → 2434_slots.csv and paths.geojson\n"
     ]
    },
    {
     "name": "stderr",
     "output_type": "stream",
     "text": [
      " 19%|███████▏                              | 1955/10357 [15:18<57:08,  2.45it/s]"
     ]
    },
    {
     "name": "stdout",
     "output_type": "stream",
     "text": [
      "[OK] 2435.txt → 2435_slots.csv and paths.geojson\n"
     ]
    },
    {
     "name": "stderr",
     "output_type": "stream",
     "text": [
      " 19%|██████▊                             | 1956/10357 [15:18<1:08:39,  2.04it/s]"
     ]
    },
    {
     "name": "stdout",
     "output_type": "stream",
     "text": [
      "[OK] 2436.txt → 2436_slots.csv and paths.geojson\n"
     ]
    },
    {
     "name": "stderr",
     "output_type": "stream",
     "text": [
      " 19%|██████▊                             | 1957/10357 [15:19<1:00:40,  2.31it/s]"
     ]
    },
    {
     "name": "stdout",
     "output_type": "stream",
     "text": [
      "[OK] 2437.txt → 2437_slots.csv and paths.geojson\n"
     ]
    },
    {
     "name": "stderr",
     "output_type": "stream",
     "text": [
      " 19%|██████▊                             | 1958/10357 [15:19<1:01:09,  2.29it/s]"
     ]
    },
    {
     "name": "stdout",
     "output_type": "stream",
     "text": [
      "[OK] 2438.txt → 2438_slots.csv and paths.geojson\n"
     ]
    },
    {
     "name": "stderr",
     "output_type": "stream",
     "text": [
      " 19%|███████▏                              | 1959/10357 [15:19<58:46,  2.38it/s]"
     ]
    },
    {
     "name": "stdout",
     "output_type": "stream",
     "text": [
      "[OK] 2439.txt → 2439_slots.csv and paths.geojson\n"
     ]
    },
    {
     "name": "stderr",
     "output_type": "stream",
     "text": [
      " 19%|██████▊                             | 1960/10357 [15:20<1:02:52,  2.23it/s]"
     ]
    },
    {
     "name": "stdout",
     "output_type": "stream",
     "text": [
      "[OK] 244.txt → 244_slots.csv and paths.geojson\n",
      "[OK] 2440.txt → 2440_slots.csv\n",
      "[OK] 2441.txt → 2441_slots.csv\n",
      "[OK] 2442.txt → 2442_slots.csv\n"
     ]
    },
    {
     "name": "stderr",
     "output_type": "stream",
     "text": [
      " 19%|███████▏                              | 1964/10357 [15:21<36:36,  3.82it/s]"
     ]
    },
    {
     "name": "stdout",
     "output_type": "stream",
     "text": [
      "[OK] 2443.txt → 2443_slots.csv and paths.geojson\n"
     ]
    },
    {
     "name": "stderr",
     "output_type": "stream",
     "text": [
      " 19%|███████▏                              | 1965/10357 [15:21<37:50,  3.70it/s]"
     ]
    },
    {
     "name": "stdout",
     "output_type": "stream",
     "text": [
      "[OK] 2444.txt → 2444_slots.csv and paths.geojson\n"
     ]
    },
    {
     "name": "stderr",
     "output_type": "stream",
     "text": [
      " 19%|███████▏                              | 1966/10357 [15:21<41:44,  3.35it/s]"
     ]
    },
    {
     "name": "stdout",
     "output_type": "stream",
     "text": [
      "[OK] 2445.txt → 2445_slots.csv and paths.geojson\n"
     ]
    },
    {
     "name": "stderr",
     "output_type": "stream",
     "text": [
      " 19%|███████▏                              | 1967/10357 [15:22<52:07,  2.68it/s]"
     ]
    },
    {
     "name": "stdout",
     "output_type": "stream",
     "text": [
      "[OK] 2446.txt → 2446_slots.csv and paths.geojson\n",
      "[OK] 2447.txt → 2447_slots.csv\n"
     ]
    },
    {
     "name": "stderr",
     "output_type": "stream",
     "text": [
      " 19%|███████▏                              | 1969/10357 [15:22<49:29,  2.82it/s]"
     ]
    },
    {
     "name": "stdout",
     "output_type": "stream",
     "text": [
      "[OK] 2448.txt → 2448_slots.csv and paths.geojson\n",
      "[OK] 2449.txt → 2449_slots.csv\n"
     ]
    },
    {
     "name": "stderr",
     "output_type": "stream",
     "text": [
      " 19%|███████▏                              | 1971/10357 [15:23<40:18,  3.47it/s]"
     ]
    },
    {
     "name": "stdout",
     "output_type": "stream",
     "text": [
      "[OK] 245.txt → 245_slots.csv and paths.geojson\n"
     ]
    },
    {
     "name": "stderr",
     "output_type": "stream",
     "text": [
      " 19%|██████▊                             | 1972/10357 [15:24<1:10:50,  1.97it/s]"
     ]
    },
    {
     "name": "stdout",
     "output_type": "stream",
     "text": [
      "[OK] 2450.txt → 2450_slots.csv and paths.geojson\n"
     ]
    },
    {
     "name": "stderr",
     "output_type": "stream",
     "text": [
      " 19%|██████▊                             | 1973/10357 [15:25<1:15:55,  1.84it/s]"
     ]
    },
    {
     "name": "stdout",
     "output_type": "stream",
     "text": [
      "[OK] 2451.txt → 2451_slots.csv and paths.geojson\n"
     ]
    },
    {
     "name": "stderr",
     "output_type": "stream",
     "text": [
      " 19%|██████▊                             | 1974/10357 [15:26<1:26:53,  1.61it/s]"
     ]
    },
    {
     "name": "stdout",
     "output_type": "stream",
     "text": [
      "[OK] 2452.txt → 2452_slots.csv and paths.geojson\n",
      "[OK] 2453.txt → 2453_slots.csv\n"
     ]
    },
    {
     "name": "stderr",
     "output_type": "stream",
     "text": [
      " 19%|██████▊                             | 1976/10357 [15:27<1:19:02,  1.77it/s]"
     ]
    },
    {
     "name": "stdout",
     "output_type": "stream",
     "text": [
      "[OK] 2454.txt → 2454_slots.csv and paths.geojson\n"
     ]
    },
    {
     "name": "stderr",
     "output_type": "stream",
     "text": [
      " 19%|██████▊                             | 1977/10357 [15:27<1:23:25,  1.67it/s]"
     ]
    },
    {
     "name": "stdout",
     "output_type": "stream",
     "text": [
      "[OK] 2455.txt → 2455_slots.csv and paths.geojson\n"
     ]
    },
    {
     "name": "stderr",
     "output_type": "stream",
     "text": [
      " 19%|███████▎                              | 1980/10357 [15:28<49:06,  2.84it/s]"
     ]
    },
    {
     "name": "stdout",
     "output_type": "stream",
     "text": [
      "[OK] 2456.txt → 2456_slots.csv and paths.geojson\n",
      "[OK] 2457.txt → 2457_slots.csv\n",
      "[OK] 2458.txt → 2458_slots.csv and paths.geojson\n",
      "[OK] 2459.txt → 2459_slots.csv\n"
     ]
    },
    {
     "name": "stderr",
     "output_type": "stream",
     "text": [
      " 19%|███████▎                              | 1982/10357 [15:28<42:59,  3.25it/s]"
     ]
    },
    {
     "name": "stdout",
     "output_type": "stream",
     "text": [
      "[OK] 246.txt → 246_slots.csv and paths.geojson\n"
     ]
    },
    {
     "name": "stderr",
     "output_type": "stream",
     "text": [
      " 19%|███████▎                              | 1983/10357 [15:29<49:32,  2.82it/s]"
     ]
    },
    {
     "name": "stdout",
     "output_type": "stream",
     "text": [
      "[OK] 2460.txt → 2460_slots.csv and paths.geojson\n"
     ]
    },
    {
     "name": "stderr",
     "output_type": "stream",
     "text": [
      " 19%|██████▉                             | 1984/10357 [15:30<1:09:31,  2.01it/s]"
     ]
    },
    {
     "name": "stdout",
     "output_type": "stream",
     "text": [
      "[OK] 2461.txt → 2461_slots.csv and paths.geojson\n"
     ]
    },
    {
     "name": "stderr",
     "output_type": "stream",
     "text": [
      " 19%|██████▉                             | 1985/10357 [15:30<1:13:06,  1.91it/s]"
     ]
    },
    {
     "name": "stdout",
     "output_type": "stream",
     "text": [
      "[OK] 2462.txt → 2462_slots.csv and paths.geojson\n"
     ]
    },
    {
     "name": "stderr",
     "output_type": "stream",
     "text": [
      " 19%|██████▉                             | 1986/10357 [15:31<1:15:28,  1.85it/s]"
     ]
    },
    {
     "name": "stdout",
     "output_type": "stream",
     "text": [
      "[OK] 2463.txt → 2463_slots.csv and paths.geojson\n"
     ]
    },
    {
     "name": "stderr",
     "output_type": "stream",
     "text": [
      " 19%|██████▉                             | 1987/10357 [15:32<1:14:30,  1.87it/s]"
     ]
    },
    {
     "name": "stdout",
     "output_type": "stream",
     "text": [
      "[OK] 2464.txt → 2464_slots.csv and paths.geojson\n"
     ]
    },
    {
     "name": "stderr",
     "output_type": "stream",
     "text": [
      " 19%|██████▉                             | 1988/10357 [15:32<1:07:21,  2.07it/s]"
     ]
    },
    {
     "name": "stdout",
     "output_type": "stream",
     "text": [
      "[OK] 2465.txt → 2465_slots.csv and paths.geojson\n",
      "[OK] 2466.txt → 2466_slots.csv\n"
     ]
    },
    {
     "name": "stderr",
     "output_type": "stream",
     "text": [
      " 19%|██████▉                             | 1990/10357 [15:33<1:02:49,  2.22it/s]"
     ]
    },
    {
     "name": "stdout",
     "output_type": "stream",
     "text": [
      "[OK] 2467.txt → 2467_slots.csv and paths.geojson\n"
     ]
    },
    {
     "name": "stderr",
     "output_type": "stream",
     "text": [
      " 19%|███████▎                              | 1991/10357 [15:33<58:25,  2.39it/s]"
     ]
    },
    {
     "name": "stdout",
     "output_type": "stream",
     "text": [
      "[OK] 2468.txt → 2468_slots.csv and paths.geojson\n"
     ]
    },
    {
     "name": "stderr",
     "output_type": "stream",
     "text": [
      " 19%|██████▉                             | 1992/10357 [15:34<1:03:29,  2.20it/s]"
     ]
    },
    {
     "name": "stdout",
     "output_type": "stream",
     "text": [
      "[OK] 2469.txt → 2469_slots.csv and paths.geojson\n"
     ]
    },
    {
     "name": "stderr",
     "output_type": "stream",
     "text": [
      " 19%|███████▎                              | 1994/10357 [15:34<56:05,  2.48it/s]"
     ]
    },
    {
     "name": "stdout",
     "output_type": "stream",
     "text": [
      "[OK] 247.txt → 247_slots.csv and paths.geojson\n",
      "[OK] 2470.txt → 2470_slots.csv and paths.geojson\n"
     ]
    },
    {
     "name": "stderr",
     "output_type": "stream",
     "text": [
      " 19%|███████▎                              | 1995/10357 [15:35<54:21,  2.56it/s]"
     ]
    },
    {
     "name": "stdout",
     "output_type": "stream",
     "text": [
      "[OK] 2471.txt → 2471_slots.csv and paths.geojson\n"
     ]
    },
    {
     "name": "stderr",
     "output_type": "stream",
     "text": [
      " 19%|███████▎                              | 1996/10357 [15:35<58:20,  2.39it/s]"
     ]
    },
    {
     "name": "stdout",
     "output_type": "stream",
     "text": [
      "[OK] 2472.txt → 2472_slots.csv and paths.geojson\n"
     ]
    },
    {
     "name": "stderr",
     "output_type": "stream",
     "text": [
      " 19%|██████▉                             | 1997/10357 [15:36<1:07:35,  2.06it/s]"
     ]
    },
    {
     "name": "stdout",
     "output_type": "stream",
     "text": [
      "[OK] 2473.txt → 2473_slots.csv and paths.geojson\n"
     ]
    },
    {
     "name": "stderr",
     "output_type": "stream",
     "text": [
      " 19%|██████▉                             | 1998/10357 [15:37<1:23:17,  1.67it/s]"
     ]
    },
    {
     "name": "stdout",
     "output_type": "stream",
     "text": [
      "[OK] 2474.txt → 2474_slots.csv and paths.geojson\n",
      "[OK] 2475.txt → 2475_slots.csv\n"
     ]
    },
    {
     "name": "stderr",
     "output_type": "stream",
     "text": [
      " 19%|██████▉                             | 2000/10357 [15:37<1:06:27,  2.10it/s]"
     ]
    },
    {
     "name": "stdout",
     "output_type": "stream",
     "text": [
      "[OK] 2476.txt → 2476_slots.csv and paths.geojson\n"
     ]
    },
    {
     "name": "stderr",
     "output_type": "stream",
     "text": [
      " 19%|██████▉                             | 2001/10357 [15:38<1:10:18,  1.98it/s]"
     ]
    },
    {
     "name": "stdout",
     "output_type": "stream",
     "text": [
      "[OK] 2477.txt → 2477_slots.csv and paths.geojson\n"
     ]
    },
    {
     "name": "stderr",
     "output_type": "stream",
     "text": [
      " 19%|██████▉                             | 2002/10357 [15:39<1:10:47,  1.97it/s]"
     ]
    },
    {
     "name": "stdout",
     "output_type": "stream",
     "text": [
      "[OK] 2478.txt → 2478_slots.csv and paths.geojson\n"
     ]
    },
    {
     "name": "stderr",
     "output_type": "stream",
     "text": [
      " 19%|██████▉                             | 2003/10357 [15:39<1:07:36,  2.06it/s]"
     ]
    },
    {
     "name": "stdout",
     "output_type": "stream",
     "text": [
      "[OK] 2479.txt → 2479_slots.csv and paths.geojson\n"
     ]
    },
    {
     "name": "stderr",
     "output_type": "stream",
     "text": [
      " 19%|██████▉                             | 2004/10357 [15:39<1:03:32,  2.19it/s]"
     ]
    },
    {
     "name": "stdout",
     "output_type": "stream",
     "text": [
      "[OK] 248.txt → 248_slots.csv and paths.geojson\n"
     ]
    },
    {
     "name": "stderr",
     "output_type": "stream",
     "text": [
      " 19%|██████▉                             | 2005/10357 [15:40<1:04:33,  2.16it/s]"
     ]
    },
    {
     "name": "stdout",
     "output_type": "stream",
     "text": [
      "[OK] 2480.txt → 2480_slots.csv and paths.geojson\n"
     ]
    },
    {
     "name": "stderr",
     "output_type": "stream",
     "text": [
      " 19%|██████▉                             | 2006/10357 [15:41<1:15:08,  1.85it/s]"
     ]
    },
    {
     "name": "stdout",
     "output_type": "stream",
     "text": [
      "[OK] 2481.txt → 2481_slots.csv and paths.geojson\n"
     ]
    },
    {
     "name": "stderr",
     "output_type": "stream",
     "text": [
      " 19%|██████▉                             | 2007/10357 [15:41<1:12:45,  1.91it/s]"
     ]
    },
    {
     "name": "stdout",
     "output_type": "stream",
     "text": [
      "[OK] 2482.txt → 2482_slots.csv and paths.geojson\n",
      "[OK] 2483.txt → 2483_slots.csv\n",
      "[OK] 2484.txt → 2484_slots.csv\n"
     ]
    },
    {
     "name": "stderr",
     "output_type": "stream",
     "text": [
      " 19%|███████▎                              | 2010/10357 [15:42<46:30,  2.99it/s]"
     ]
    },
    {
     "name": "stdout",
     "output_type": "stream",
     "text": [
      "[OK] 2485.txt → 2485_slots.csv and paths.geojson\n"
     ]
    },
    {
     "name": "stderr",
     "output_type": "stream",
     "text": [
      " 19%|███████▍                              | 2011/10357 [15:42<57:25,  2.42it/s]"
     ]
    },
    {
     "name": "stdout",
     "output_type": "stream",
     "text": [
      "[OK] 2486.txt → 2486_slots.csv and paths.geojson\n"
     ]
    },
    {
     "name": "stderr",
     "output_type": "stream",
     "text": [
      " 19%|██████▉                             | 2012/10357 [15:43<1:07:59,  2.05it/s]"
     ]
    },
    {
     "name": "stdout",
     "output_type": "stream",
     "text": [
      "[OK] 2487.txt → 2487_slots.csv and paths.geojson\n",
      "[OK] 2488.txt → 2488_slots.csv and paths.geojson\n"
     ]
    },
    {
     "name": "stderr",
     "output_type": "stream",
     "text": [
      " 19%|███████                             | 2014/10357 [15:44<1:04:16,  2.16it/s]"
     ]
    },
    {
     "name": "stdout",
     "output_type": "stream",
     "text": [
      "[OK] 2489.txt → 2489_slots.csv and paths.geojson\n"
     ]
    },
    {
     "name": "stderr",
     "output_type": "stream",
     "text": [
      " 19%|███████                             | 2015/10357 [15:44<1:04:08,  2.17it/s]"
     ]
    },
    {
     "name": "stdout",
     "output_type": "stream",
     "text": [
      "[OK] 249.txt → 249_slots.csv and paths.geojson\n"
     ]
    },
    {
     "name": "stderr",
     "output_type": "stream",
     "text": [
      " 19%|███████                             | 2016/10357 [15:45<1:02:39,  2.22it/s]"
     ]
    },
    {
     "name": "stdout",
     "output_type": "stream",
     "text": [
      "[OK] 2490.txt → 2490_slots.csv and paths.geojson\n"
     ]
    },
    {
     "name": "stderr",
     "output_type": "stream",
     "text": [
      " 19%|███████                             | 2017/10357 [15:45<1:12:45,  1.91it/s]"
     ]
    },
    {
     "name": "stdout",
     "output_type": "stream",
     "text": [
      "[OK] 2491.txt → 2491_slots.csv and paths.geojson\n"
     ]
    },
    {
     "name": "stderr",
     "output_type": "stream",
     "text": [
      " 19%|███████                             | 2018/10357 [15:46<1:04:27,  2.16it/s]"
     ]
    },
    {
     "name": "stdout",
     "output_type": "stream",
     "text": [
      "[OK] 2492.txt → 2492_slots.csv and paths.geojson\n"
     ]
    },
    {
     "name": "stderr",
     "output_type": "stream",
     "text": [
      " 19%|███████                             | 2019/10357 [15:46<1:03:38,  2.18it/s]"
     ]
    },
    {
     "name": "stdout",
     "output_type": "stream",
     "text": [
      "[OK] 2493.txt → 2493_slots.csv and paths.geojson\n"
     ]
    },
    {
     "name": "stderr",
     "output_type": "stream",
     "text": [
      " 20%|███████                             | 2020/10357 [15:47<1:01:35,  2.26it/s]"
     ]
    },
    {
     "name": "stdout",
     "output_type": "stream",
     "text": [
      "[OK] 2494.txt → 2494_slots.csv and paths.geojson\n"
     ]
    },
    {
     "name": "stderr",
     "output_type": "stream",
     "text": [
      " 20%|███████▍                              | 2021/10357 [15:47<58:34,  2.37it/s]"
     ]
    },
    {
     "name": "stdout",
     "output_type": "stream",
     "text": [
      "[OK] 2495.txt → 2495_slots.csv and paths.geojson\n"
     ]
    },
    {
     "name": "stderr",
     "output_type": "stream",
     "text": [
      " 20%|███████▍                              | 2022/10357 [15:47<51:45,  2.68it/s]"
     ]
    },
    {
     "name": "stdout",
     "output_type": "stream",
     "text": [
      "[OK] 2496.txt → 2496_slots.csv and paths.geojson\n"
     ]
    },
    {
     "name": "stderr",
     "output_type": "stream",
     "text": [
      " 20%|███████▍                              | 2023/10357 [15:48<53:14,  2.61it/s]"
     ]
    },
    {
     "name": "stdout",
     "output_type": "stream",
     "text": [
      "[OK] 2497.txt → 2497_slots.csv and paths.geojson\n"
     ]
    },
    {
     "name": "stderr",
     "output_type": "stream",
     "text": [
      " 20%|███████▍                              | 2024/10357 [15:48<52:00,  2.67it/s]"
     ]
    },
    {
     "name": "stdout",
     "output_type": "stream",
     "text": [
      "[OK] 2498.txt → 2498_slots.csv and paths.geojson\n"
     ]
    },
    {
     "name": "stderr",
     "output_type": "stream",
     "text": [
      " 20%|███████▍                              | 2025/10357 [15:49<59:49,  2.32it/s]"
     ]
    },
    {
     "name": "stdout",
     "output_type": "stream",
     "text": [
      "[OK] 2499.txt → 2499_slots.csv and paths.geojson\n"
     ]
    },
    {
     "name": "stderr",
     "output_type": "stream",
     "text": [
      " 20%|███████                             | 2026/10357 [15:49<1:08:38,  2.02it/s]"
     ]
    },
    {
     "name": "stdout",
     "output_type": "stream",
     "text": [
      "[OK] 25.txt → 25_slots.csv and paths.geojson\n"
     ]
    },
    {
     "name": "stderr",
     "output_type": "stream",
     "text": [
      " 20%|███████                             | 2027/10357 [15:50<1:03:00,  2.20it/s]"
     ]
    },
    {
     "name": "stdout",
     "output_type": "stream",
     "text": [
      "[OK] 250.txt → 250_slots.csv and paths.geojson\n"
     ]
    },
    {
     "name": "stderr",
     "output_type": "stream",
     "text": [
      " 20%|███████                             | 2028/10357 [15:50<1:00:47,  2.28it/s]"
     ]
    },
    {
     "name": "stdout",
     "output_type": "stream",
     "text": [
      "[OK] 2500.txt → 2500_slots.csv and paths.geojson\n"
     ]
    },
    {
     "name": "stderr",
     "output_type": "stream",
     "text": [
      " 20%|███████                             | 2029/10357 [15:50<1:02:12,  2.23it/s]"
     ]
    },
    {
     "name": "stdout",
     "output_type": "stream",
     "text": [
      "[OK] 2501.txt → 2501_slots.csv and paths.geojson\n"
     ]
    },
    {
     "name": "stderr",
     "output_type": "stream",
     "text": [
      " 20%|███████                             | 2030/10357 [15:51<1:00:48,  2.28it/s]"
     ]
    },
    {
     "name": "stdout",
     "output_type": "stream",
     "text": [
      "[OK] 2502.txt → 2502_slots.csv and paths.geojson\n",
      "[OK] 2503.txt → 2503_slots.csv\n",
      "[OK] 2504.txt → 2504_slots.csv and paths.geojson\n"
     ]
    },
    {
     "name": "stderr",
     "output_type": "stream",
     "text": [
      " 20%|███████▍                              | 2033/10357 [15:51<42:32,  3.26it/s]"
     ]
    },
    {
     "name": "stdout",
     "output_type": "stream",
     "text": [
      "[OK] 2505.txt → 2505_slots.csv and paths.geojson\n"
     ]
    },
    {
     "name": "stderr",
     "output_type": "stream",
     "text": [
      " 20%|███████▍                              | 2034/10357 [15:52<43:04,  3.22it/s]"
     ]
    },
    {
     "name": "stdout",
     "output_type": "stream",
     "text": [
      "[OK] 2506.txt → 2506_slots.csv and paths.geojson\n",
      "[OK] 2507.txt → 2507_slots.csv and paths.geojson\n"
     ]
    },
    {
     "name": "stderr",
     "output_type": "stream",
     "text": [
      " 20%|███████▍                              | 2036/10357 [15:52<41:04,  3.38it/s]"
     ]
    },
    {
     "name": "stdout",
     "output_type": "stream",
     "text": [
      "[OK] 2508.txt → 2508_slots.csv and paths.geojson\n",
      "[OK] 2509.txt → 2509_slots.csv\n"
     ]
    },
    {
     "name": "stderr",
     "output_type": "stream",
     "text": [
      " 20%|███████▍                              | 2038/10357 [15:53<40:33,  3.42it/s]"
     ]
    },
    {
     "name": "stdout",
     "output_type": "stream",
     "text": [
      "[OK] 251.txt → 251_slots.csv and paths.geojson\n"
     ]
    },
    {
     "name": "stderr",
     "output_type": "stream",
     "text": [
      " 20%|███████▍                              | 2039/10357 [15:53<42:32,  3.26it/s]"
     ]
    },
    {
     "name": "stdout",
     "output_type": "stream",
     "text": [
      "[OK] 2510.txt → 2510_slots.csv and paths.geojson\n"
     ]
    },
    {
     "name": "stderr",
     "output_type": "stream",
     "text": [
      " 20%|███████▍                              | 2040/10357 [15:54<46:18,  2.99it/s]"
     ]
    },
    {
     "name": "stdout",
     "output_type": "stream",
     "text": [
      "[OK] 2511.txt → 2511_slots.csv and paths.geojson\n"
     ]
    },
    {
     "name": "stderr",
     "output_type": "stream",
     "text": [
      " 20%|███████▍                              | 2041/10357 [15:54<47:44,  2.90it/s]"
     ]
    },
    {
     "name": "stdout",
     "output_type": "stream",
     "text": [
      "[OK] 2512.txt → 2512_slots.csv and paths.geojson\n"
     ]
    },
    {
     "name": "stderr",
     "output_type": "stream",
     "text": [
      " 20%|███████▍                              | 2042/10357 [15:55<52:19,  2.65it/s]"
     ]
    },
    {
     "name": "stdout",
     "output_type": "stream",
     "text": [
      "[OK] 2513.txt → 2513_slots.csv and paths.geojson\n"
     ]
    },
    {
     "name": "stderr",
     "output_type": "stream",
     "text": [
      " 20%|███████▍                              | 2043/10357 [15:55<50:18,  2.75it/s]"
     ]
    },
    {
     "name": "stdout",
     "output_type": "stream",
     "text": [
      "[OK] 2514.txt → 2514_slots.csv and paths.geojson\n"
     ]
    },
    {
     "name": "stderr",
     "output_type": "stream",
     "text": [
      " 20%|███████▍                              | 2044/10357 [15:55<45:12,  3.06it/s]"
     ]
    },
    {
     "name": "stdout",
     "output_type": "stream",
     "text": [
      "[OK] 2515.txt → 2515_slots.csv and paths.geojson\n"
     ]
    },
    {
     "name": "stderr",
     "output_type": "stream",
     "text": [
      " 20%|███████▌                              | 2045/10357 [15:56<47:01,  2.95it/s]"
     ]
    },
    {
     "name": "stdout",
     "output_type": "stream",
     "text": [
      "[OK] 2516.txt → 2516_slots.csv and paths.geojson\n"
     ]
    },
    {
     "name": "stderr",
     "output_type": "stream",
     "text": [
      " 20%|███████▌                              | 2046/10357 [15:56<52:38,  2.63it/s]"
     ]
    },
    {
     "name": "stdout",
     "output_type": "stream",
     "text": [
      "[OK] 2517.txt → 2517_slots.csv and paths.geojson\n"
     ]
    },
    {
     "name": "stderr",
     "output_type": "stream",
     "text": [
      " 20%|███████▌                              | 2047/10357 [15:57<59:06,  2.34it/s]"
     ]
    },
    {
     "name": "stdout",
     "output_type": "stream",
     "text": [
      "[OK] 2518.txt → 2518_slots.csv and paths.geojson\n"
     ]
    },
    {
     "name": "stderr",
     "output_type": "stream",
     "text": [
      " 20%|███████▌                              | 2048/10357 [15:57<55:51,  2.48it/s]"
     ]
    },
    {
     "name": "stdout",
     "output_type": "stream",
     "text": [
      "[OK] 2519.txt → 2519_slots.csv and paths.geojson\n"
     ]
    },
    {
     "name": "stderr",
     "output_type": "stream",
     "text": [
      " 20%|███████                             | 2049/10357 [15:58<1:15:42,  1.83it/s]"
     ]
    },
    {
     "name": "stdout",
     "output_type": "stream",
     "text": [
      "[OK] 252.txt → 252_slots.csv and paths.geojson\n",
      "[OK] 2520.txt → 2520_slots.csv\n"
     ]
    },
    {
     "name": "stderr",
     "output_type": "stream",
     "text": [
      " 20%|███████▌                              | 2051/10357 [15:58<59:01,  2.35it/s]"
     ]
    },
    {
     "name": "stdout",
     "output_type": "stream",
     "text": [
      "[OK] 2521.txt → 2521_slots.csv and paths.geojson\n"
     ]
    },
    {
     "name": "stderr",
     "output_type": "stream",
     "text": [
      " 20%|███████▌                              | 2052/10357 [15:59<57:59,  2.39it/s]"
     ]
    },
    {
     "name": "stdout",
     "output_type": "stream",
     "text": [
      "[OK] 2522.txt → 2522_slots.csv and paths.geojson\n"
     ]
    },
    {
     "name": "stderr",
     "output_type": "stream",
     "text": [
      " 20%|███████▌                              | 2054/10357 [15:59<46:10,  3.00it/s]"
     ]
    },
    {
     "name": "stdout",
     "output_type": "stream",
     "text": [
      "[OK] 2523.txt → 2523_slots.csv and paths.geojson\n",
      "[OK] 2524.txt → 2524_slots.csv and paths.geojson\n"
     ]
    },
    {
     "name": "stderr",
     "output_type": "stream",
     "text": [
      " 20%|███████▌                              | 2055/10357 [16:00<59:22,  2.33it/s]"
     ]
    },
    {
     "name": "stdout",
     "output_type": "stream",
     "text": [
      "[OK] 2525.txt → 2525_slots.csv and paths.geojson\n",
      "[OK] 2526.txt → 2526_slots.csv and paths.geojson\n"
     ]
    },
    {
     "name": "stderr",
     "output_type": "stream",
     "text": [
      " 20%|███████▌                              | 2058/10357 [16:00<35:48,  3.86it/s]"
     ]
    },
    {
     "name": "stdout",
     "output_type": "stream",
     "text": [
      "[OK] 2527.txt → 2527_slots.csv and paths.geojson\n",
      "[OK] 2528.txt → 2528_slots.csv and paths.geojson\n"
     ]
    },
    {
     "name": "stderr",
     "output_type": "stream",
     "text": [
      " 20%|███████▌                              | 2059/10357 [16:01<53:52,  2.57it/s]"
     ]
    },
    {
     "name": "stdout",
     "output_type": "stream",
     "text": [
      "[OK] 2529.txt → 2529_slots.csv and paths.geojson\n"
     ]
    },
    {
     "name": "stderr",
     "output_type": "stream",
     "text": [
      " 20%|███████▏                            | 2060/10357 [16:02<1:05:23,  2.11it/s]"
     ]
    },
    {
     "name": "stdout",
     "output_type": "stream",
     "text": [
      "[OK] 253.txt → 253_slots.csv and paths.geojson\n"
     ]
    },
    {
     "name": "stderr",
     "output_type": "stream",
     "text": [
      " 20%|███████▏                            | 2061/10357 [16:02<1:02:30,  2.21it/s]"
     ]
    },
    {
     "name": "stdout",
     "output_type": "stream",
     "text": [
      "[OK] 2530.txt → 2530_slots.csv and paths.geojson\n"
     ]
    },
    {
     "name": "stderr",
     "output_type": "stream",
     "text": [
      " 20%|███████▌                              | 2062/10357 [16:02<55:30,  2.49it/s]"
     ]
    },
    {
     "name": "stdout",
     "output_type": "stream",
     "text": [
      "[OK] 2531.txt → 2531_slots.csv and paths.geojson\n"
     ]
    },
    {
     "name": "stderr",
     "output_type": "stream",
     "text": [
      " 20%|███████▏                            | 2063/10357 [16:03<1:00:23,  2.29it/s]"
     ]
    },
    {
     "name": "stdout",
     "output_type": "stream",
     "text": [
      "[OK] 2532.txt → 2532_slots.csv and paths.geojson\n"
     ]
    },
    {
     "name": "stderr",
     "output_type": "stream",
     "text": [
      " 20%|███████▏                            | 2064/10357 [16:03<1:00:23,  2.29it/s]"
     ]
    },
    {
     "name": "stdout",
     "output_type": "stream",
     "text": [
      "[OK] 2533.txt → 2533_slots.csv and paths.geojson\n"
     ]
    },
    {
     "name": "stderr",
     "output_type": "stream",
     "text": [
      " 20%|███████▏                            | 2065/10357 [16:04<1:02:38,  2.21it/s]"
     ]
    },
    {
     "name": "stdout",
     "output_type": "stream",
     "text": [
      "[OK] 2534.txt → 2534_slots.csv and paths.geojson\n"
     ]
    },
    {
     "name": "stderr",
     "output_type": "stream",
     "text": [
      " 20%|███████▏                            | 2066/10357 [16:04<1:02:57,  2.19it/s]"
     ]
    },
    {
     "name": "stdout",
     "output_type": "stream",
     "text": [
      "[OK] 2535.txt → 2535_slots.csv and paths.geojson\n"
     ]
    },
    {
     "name": "stderr",
     "output_type": "stream",
     "text": [
      " 20%|███████▏                            | 2067/10357 [16:05<1:04:39,  2.14it/s]"
     ]
    },
    {
     "name": "stdout",
     "output_type": "stream",
     "text": [
      "[OK] 2536.txt → 2536_slots.csv and paths.geojson\n"
     ]
    },
    {
     "name": "stderr",
     "output_type": "stream",
     "text": [
      " 20%|███████▌                              | 2068/10357 [16:05<58:59,  2.34it/s]"
     ]
    },
    {
     "name": "stdout",
     "output_type": "stream",
     "text": [
      "[OK] 2537.txt → 2537_slots.csv and paths.geojson\n",
      "[OK] 2538.txt → 2538_slots.csv and paths.geojson\n"
     ]
    },
    {
     "name": "stderr",
     "output_type": "stream",
     "text": [
      " 20%|███████▌                              | 2070/10357 [16:06<44:27,  3.11it/s]"
     ]
    },
    {
     "name": "stdout",
     "output_type": "stream",
     "text": [
      "[OK] 2539.txt → 2539_slots.csv and paths.geojson\n"
     ]
    },
    {
     "name": "stderr",
     "output_type": "stream",
     "text": [
      " 20%|███████▌                              | 2071/10357 [16:06<51:00,  2.71it/s]"
     ]
    },
    {
     "name": "stdout",
     "output_type": "stream",
     "text": [
      "[OK] 254.txt → 254_slots.csv and paths.geojson\n"
     ]
    },
    {
     "name": "stderr",
     "output_type": "stream",
     "text": [
      " 20%|███████▌                              | 2072/10357 [16:07<53:54,  2.56it/s]"
     ]
    },
    {
     "name": "stdout",
     "output_type": "stream",
     "text": [
      "[OK] 2540.txt → 2540_slots.csv and paths.geojson\n"
     ]
    },
    {
     "name": "stderr",
     "output_type": "stream",
     "text": [
      " 20%|███████▌                              | 2073/10357 [16:07<49:53,  2.77it/s]"
     ]
    },
    {
     "name": "stdout",
     "output_type": "stream",
     "text": [
      "[OK] 2541.txt → 2541_slots.csv and paths.geojson\n"
     ]
    },
    {
     "name": "stderr",
     "output_type": "stream",
     "text": [
      " 20%|███████▌                              | 2074/10357 [16:07<55:59,  2.47it/s]"
     ]
    },
    {
     "name": "stdout",
     "output_type": "stream",
     "text": [
      "[OK] 2542.txt → 2542_slots.csv and paths.geojson\n",
      "[OK] 2543.txt → 2543_slots.csv and paths.geojson\n"
     ]
    },
    {
     "name": "stderr",
     "output_type": "stream",
     "text": [
      " 20%|███████▌                              | 2076/10357 [16:08<57:28,  2.40it/s]"
     ]
    },
    {
     "name": "stdout",
     "output_type": "stream",
     "text": [
      "[OK] 2544.txt → 2544_slots.csv and paths.geojson\n"
     ]
    },
    {
     "name": "stderr",
     "output_type": "stream",
     "text": [
      " 20%|███████▌                              | 2077/10357 [16:09<53:52,  2.56it/s]"
     ]
    },
    {
     "name": "stdout",
     "output_type": "stream",
     "text": [
      "[OK] 2545.txt → 2545_slots.csv and paths.geojson\n"
     ]
    },
    {
     "name": "stderr",
     "output_type": "stream",
     "text": [
      " 20%|███████▏                            | 2078/10357 [16:09<1:02:12,  2.22it/s]"
     ]
    },
    {
     "name": "stdout",
     "output_type": "stream",
     "text": [
      "[OK] 2546.txt → 2546_slots.csv and paths.geojson\n"
     ]
    },
    {
     "name": "stderr",
     "output_type": "stream",
     "text": [
      " 20%|███████▏                            | 2079/10357 [16:10<1:08:48,  2.01it/s]"
     ]
    },
    {
     "name": "stdout",
     "output_type": "stream",
     "text": [
      "[OK] 2547.txt → 2547_slots.csv and paths.geojson\n"
     ]
    },
    {
     "name": "stderr",
     "output_type": "stream",
     "text": [
      " 20%|███████▏                            | 2080/10357 [16:10<1:04:17,  2.15it/s]"
     ]
    },
    {
     "name": "stdout",
     "output_type": "stream",
     "text": [
      "[OK] 2548.txt → 2548_slots.csv and paths.geojson\n"
     ]
    },
    {
     "name": "stderr",
     "output_type": "stream",
     "text": [
      " 20%|███████▏                            | 2081/10357 [16:11<1:02:20,  2.21it/s]"
     ]
    },
    {
     "name": "stdout",
     "output_type": "stream",
     "text": [
      "[OK] 2549.txt → 2549_slots.csv and paths.geojson\n"
     ]
    },
    {
     "name": "stderr",
     "output_type": "stream",
     "text": [
      " 20%|███████▏                            | 2082/10357 [16:11<1:03:55,  2.16it/s]"
     ]
    },
    {
     "name": "stdout",
     "output_type": "stream",
     "text": [
      "[OK] 255.txt → 255_slots.csv and paths.geojson\n"
     ]
    },
    {
     "name": "stderr",
     "output_type": "stream",
     "text": [
      " 20%|███████▏                            | 2083/10357 [16:11<1:02:28,  2.21it/s]"
     ]
    },
    {
     "name": "stdout",
     "output_type": "stream",
     "text": [
      "[OK] 2550.txt → 2550_slots.csv and paths.geojson\n"
     ]
    },
    {
     "name": "stderr",
     "output_type": "stream",
     "text": [
      " 20%|███████▏                            | 2084/10357 [16:12<1:04:39,  2.13it/s]"
     ]
    },
    {
     "name": "stdout",
     "output_type": "stream",
     "text": [
      "[OK] 2551.txt → 2551_slots.csv and paths.geojson\n",
      "[OK] 2552.txt → 2552_slots.csv\n"
     ]
    },
    {
     "name": "stderr",
     "output_type": "stream",
     "text": [
      " 20%|███████▋                              | 2086/10357 [16:13<50:51,  2.71it/s]"
     ]
    },
    {
     "name": "stdout",
     "output_type": "stream",
     "text": [
      "[OK] 2553.txt → 2553_slots.csv and paths.geojson\n"
     ]
    },
    {
     "name": "stderr",
     "output_type": "stream",
     "text": [
      " 20%|███████▋                              | 2088/10357 [16:13<54:34,  2.53it/s]"
     ]
    },
    {
     "name": "stdout",
     "output_type": "stream",
     "text": [
      "[OK] 2554.txt → 2554_slots.csv and paths.geojson\n",
      "[OK] 2555.txt → 2555_slots.csv and paths.geojson\n"
     ]
    },
    {
     "name": "stderr",
     "output_type": "stream",
     "text": [
      " 20%|███████▋                              | 2090/10357 [16:14<42:33,  3.24it/s]"
     ]
    },
    {
     "name": "stdout",
     "output_type": "stream",
     "text": [
      "[OK] 2556.txt → 2556_slots.csv and paths.geojson\n",
      "[OK] 2557.txt → 2557_slots.csv and paths.geojson\n"
     ]
    },
    {
     "name": "stderr",
     "output_type": "stream",
     "text": [
      " 20%|███████▋                              | 2091/10357 [16:14<37:19,  3.69it/s]"
     ]
    },
    {
     "name": "stdout",
     "output_type": "stream",
     "text": [
      "[OK] 2558.txt → 2558_slots.csv and paths.geojson\n"
     ]
    },
    {
     "name": "stderr",
     "output_type": "stream",
     "text": [
      " 20%|███████▋                              | 2092/10357 [16:14<39:21,  3.50it/s]"
     ]
    },
    {
     "name": "stdout",
     "output_type": "stream",
     "text": [
      "[OK] 2559.txt → 2559_slots.csv and paths.geojson\n"
     ]
    },
    {
     "name": "stderr",
     "output_type": "stream",
     "text": [
      " 20%|███████▋                              | 2093/10357 [16:15<36:31,  3.77it/s]"
     ]
    },
    {
     "name": "stdout",
     "output_type": "stream",
     "text": [
      "[OK] 256.txt → 256_slots.csv and paths.geojson\n"
     ]
    },
    {
     "name": "stderr",
     "output_type": "stream",
     "text": [
      " 20%|███████▎                            | 2098/10357 [16:20<1:38:51,  1.39it/s]"
     ]
    },
    {
     "name": "stdout",
     "output_type": "stream",
     "text": [
      "[OK] 2560.txt → 2560_slots.csv and paths.geojson\n",
      "[OK] 2561.txt → 2561_slots.csv\n",
      "[OK] 2562.txt → 2562_slots.csv\n",
      "[OK] 2563.txt → 2563_slots.csv\n",
      "[OK] 2564.txt → 2564_slots.csv\n",
      "[OK] 2565.txt → 2565_slots.csv and paths.geojson\n"
     ]
    },
    {
     "name": "stderr",
     "output_type": "stream",
     "text": [
      " 20%|███████▎                            | 2100/10357 [16:21<1:28:44,  1.55it/s]"
     ]
    },
    {
     "name": "stdout",
     "output_type": "stream",
     "text": [
      "[OK] 2566.txt → 2566_slots.csv and paths.geojson\n"
     ]
    },
    {
     "name": "stderr",
     "output_type": "stream",
     "text": [
      " 20%|███████▎                            | 2101/10357 [16:22<1:31:27,  1.50it/s]"
     ]
    },
    {
     "name": "stdout",
     "output_type": "stream",
     "text": [
      "[OK] 2567.txt → 2567_slots.csv and paths.geojson\n"
     ]
    },
    {
     "name": "stderr",
     "output_type": "stream",
     "text": [
      " 20%|███████▎                            | 2102/10357 [16:23<1:24:54,  1.62it/s]"
     ]
    },
    {
     "name": "stdout",
     "output_type": "stream",
     "text": [
      "[OK] 2568.txt → 2568_slots.csv and paths.geojson\n"
     ]
    },
    {
     "name": "stderr",
     "output_type": "stream",
     "text": [
      " 20%|███████▎                            | 2103/10357 [16:24<1:35:18,  1.44it/s]"
     ]
    },
    {
     "name": "stdout",
     "output_type": "stream",
     "text": [
      "[OK] 2569.txt → 2569_slots.csv and paths.geojson\n"
     ]
    },
    {
     "name": "stderr",
     "output_type": "stream",
     "text": [
      " 20%|███████▎                            | 2104/10357 [16:24<1:32:19,  1.49it/s]"
     ]
    },
    {
     "name": "stdout",
     "output_type": "stream",
     "text": [
      "[OK] 257.txt → 257_slots.csv and paths.geojson\n"
     ]
    },
    {
     "name": "stderr",
     "output_type": "stream",
     "text": [
      " 20%|███████▎                            | 2105/10357 [16:25<1:25:39,  1.61it/s]"
     ]
    },
    {
     "name": "stdout",
     "output_type": "stream",
     "text": [
      "[OK] 2570.txt → 2570_slots.csv and paths.geojson\n"
     ]
    },
    {
     "name": "stderr",
     "output_type": "stream",
     "text": [
      " 20%|███████▎                            | 2106/10357 [16:25<1:14:06,  1.86it/s]"
     ]
    },
    {
     "name": "stdout",
     "output_type": "stream",
     "text": [
      "[OK] 2571.txt → 2571_slots.csv and paths.geojson\n"
     ]
    },
    {
     "name": "stderr",
     "output_type": "stream",
     "text": [
      " 20%|███████▎                            | 2107/10357 [16:25<1:03:32,  2.16it/s]"
     ]
    },
    {
     "name": "stdout",
     "output_type": "stream",
     "text": [
      "[OK] 2572.txt → 2572_slots.csv and paths.geojson\n"
     ]
    },
    {
     "name": "stderr",
     "output_type": "stream",
     "text": [
      " 20%|███████▋                              | 2108/10357 [16:26<59:54,  2.29it/s]"
     ]
    },
    {
     "name": "stdout",
     "output_type": "stream",
     "text": [
      "[OK] 2573.txt → 2573_slots.csv and paths.geojson\n"
     ]
    },
    {
     "name": "stderr",
     "output_type": "stream",
     "text": [
      " 20%|███████▋                              | 2109/10357 [16:26<53:57,  2.55it/s]"
     ]
    },
    {
     "name": "stdout",
     "output_type": "stream",
     "text": [
      "[OK] 2574.txt → 2574_slots.csv and paths.geojson\n"
     ]
    },
    {
     "name": "stderr",
     "output_type": "stream",
     "text": [
      " 20%|███████▎                            | 2110/10357 [16:27<1:05:09,  2.11it/s]"
     ]
    },
    {
     "name": "stdout",
     "output_type": "stream",
     "text": [
      "[OK] 2575.txt → 2575_slots.csv and paths.geojson\n"
     ]
    },
    {
     "name": "stderr",
     "output_type": "stream",
     "text": [
      " 20%|███████▎                            | 2111/10357 [16:27<1:07:18,  2.04it/s]"
     ]
    },
    {
     "name": "stdout",
     "output_type": "stream",
     "text": [
      "[OK] 2576.txt → 2576_slots.csv and paths.geojson\n"
     ]
    },
    {
     "name": "stderr",
     "output_type": "stream",
     "text": [
      " 20%|███████▎                            | 2112/10357 [16:28<1:07:56,  2.02it/s]"
     ]
    },
    {
     "name": "stdout",
     "output_type": "stream",
     "text": [
      "[OK] 2577.txt → 2577_slots.csv and paths.geojson\n"
     ]
    },
    {
     "name": "stderr",
     "output_type": "stream",
     "text": [
      " 20%|███████▊                              | 2114/10357 [16:28<48:52,  2.81it/s]"
     ]
    },
    {
     "name": "stdout",
     "output_type": "stream",
     "text": [
      "[OK] 2578.txt → 2578_slots.csv and paths.geojson\n",
      "[OK] 2579.txt → 2579_slots.csv and paths.geojson\n"
     ]
    },
    {
     "name": "stderr",
     "output_type": "stream",
     "text": [
      " 20%|███████▎                            | 2115/10357 [16:30<1:33:57,  1.46it/s]"
     ]
    },
    {
     "name": "stdout",
     "output_type": "stream",
     "text": [
      "[OK] 258.txt → 258_slots.csv and paths.geojson\n"
     ]
    },
    {
     "name": "stderr",
     "output_type": "stream",
     "text": [
      " 20%|███████▎                            | 2117/10357 [16:30<1:10:36,  1.95it/s]"
     ]
    },
    {
     "name": "stdout",
     "output_type": "stream",
     "text": [
      "[OK] 2580.txt → 2580_slots.csv and paths.geojson\n",
      "[OK] 2581.txt → 2581_slots.csv and paths.geojson\n"
     ]
    },
    {
     "name": "stderr",
     "output_type": "stream",
     "text": [
      " 20%|███████▎                            | 2118/10357 [16:31<1:04:34,  2.13it/s]"
     ]
    },
    {
     "name": "stdout",
     "output_type": "stream",
     "text": [
      "[OK] 2582.txt → 2582_slots.csv and paths.geojson\n"
     ]
    },
    {
     "name": "stderr",
     "output_type": "stream",
     "text": [
      " 20%|███████▎                            | 2119/10357 [16:31<1:06:45,  2.06it/s]"
     ]
    },
    {
     "name": "stdout",
     "output_type": "stream",
     "text": [
      "[OK] 2583.txt → 2583_slots.csv and paths.geojson\n"
     ]
    },
    {
     "name": "stderr",
     "output_type": "stream",
     "text": [
      " 20%|███████▊                              | 2121/10357 [16:32<50:38,  2.71it/s]"
     ]
    },
    {
     "name": "stdout",
     "output_type": "stream",
     "text": [
      "[OK] 2584.txt → 2584_slots.csv and paths.geojson\n",
      "[OK] 2585.txt → 2585_slots.csv and paths.geojson\n"
     ]
    },
    {
     "name": "stderr",
     "output_type": "stream",
     "text": [
      " 20%|███████▊                              | 2122/10357 [16:32<50:20,  2.73it/s]"
     ]
    },
    {
     "name": "stdout",
     "output_type": "stream",
     "text": [
      "[OK] 2586.txt → 2586_slots.csv and paths.geojson\n"
     ]
    },
    {
     "name": "stderr",
     "output_type": "stream",
     "text": [
      " 20%|███████▊                              | 2123/10357 [16:33<54:48,  2.50it/s]"
     ]
    },
    {
     "name": "stdout",
     "output_type": "stream",
     "text": [
      "[OK] 2587.txt → 2587_slots.csv and paths.geojson\n"
     ]
    },
    {
     "name": "stderr",
     "output_type": "stream",
     "text": [
      " 21%|███████▍                            | 2124/10357 [16:33<1:04:04,  2.14it/s]"
     ]
    },
    {
     "name": "stdout",
     "output_type": "stream",
     "text": [
      "[OK] 2588.txt → 2588_slots.csv and paths.geojson\n"
     ]
    },
    {
     "name": "stderr",
     "output_type": "stream",
     "text": [
      " 21%|███████▍                            | 2125/10357 [16:34<1:05:13,  2.10it/s]"
     ]
    },
    {
     "name": "stdout",
     "output_type": "stream",
     "text": [
      "[OK] 2589.txt → 2589_slots.csv and paths.geojson\n"
     ]
    },
    {
     "name": "stderr",
     "output_type": "stream",
     "text": [
      " 21%|███████▍                            | 2126/10357 [16:36<2:09:26,  1.06it/s]"
     ]
    },
    {
     "name": "stdout",
     "output_type": "stream",
     "text": [
      "[OK] 259.txt → 259_slots.csv and paths.geojson\n"
     ]
    },
    {
     "name": "stderr",
     "output_type": "stream",
     "text": [
      " 21%|███████▍                            | 2127/10357 [16:36<1:56:30,  1.18it/s]"
     ]
    },
    {
     "name": "stdout",
     "output_type": "stream",
     "text": [
      "[OK] 2590.txt → 2590_slots.csv and paths.geojson\n"
     ]
    },
    {
     "name": "stderr",
     "output_type": "stream",
     "text": [
      " 21%|███████▍                            | 2128/10357 [16:37<1:40:36,  1.36it/s]"
     ]
    },
    {
     "name": "stdout",
     "output_type": "stream",
     "text": [
      "[OK] 2591.txt → 2591_slots.csv and paths.geojson\n"
     ]
    },
    {
     "name": "stderr",
     "output_type": "stream",
     "text": [
      " 21%|███████▍                            | 2129/10357 [16:37<1:32:45,  1.48it/s]"
     ]
    },
    {
     "name": "stdout",
     "output_type": "stream",
     "text": [
      "[OK] 2592.txt → 2592_slots.csv and paths.geojson\n"
     ]
    },
    {
     "name": "stderr",
     "output_type": "stream",
     "text": [
      " 21%|███████▍                            | 2130/10357 [16:38<1:19:44,  1.72it/s]"
     ]
    },
    {
     "name": "stdout",
     "output_type": "stream",
     "text": [
      "[OK] 2593.txt → 2593_slots.csv and paths.geojson\n"
     ]
    },
    {
     "name": "stderr",
     "output_type": "stream",
     "text": [
      " 21%|███████▍                            | 2131/10357 [16:38<1:13:03,  1.88it/s]"
     ]
    },
    {
     "name": "stdout",
     "output_type": "stream",
     "text": [
      "[OK] 2594.txt → 2594_slots.csv and paths.geojson\n"
     ]
    },
    {
     "name": "stderr",
     "output_type": "stream",
     "text": [
      " 21%|███████▍                            | 2132/10357 [16:38<1:03:10,  2.17it/s]"
     ]
    },
    {
     "name": "stdout",
     "output_type": "stream",
     "text": [
      "[OK] 2595.txt → 2595_slots.csv and paths.geojson\n"
     ]
    },
    {
     "name": "stderr",
     "output_type": "stream",
     "text": [
      " 21%|███████▍                            | 2133/10357 [16:39<1:10:00,  1.96it/s]"
     ]
    },
    {
     "name": "stdout",
     "output_type": "stream",
     "text": [
      "[OK] 2596.txt → 2596_slots.csv and paths.geojson\n",
      "[OK] 2597.txt → 2597_slots.csv and paths.geojson\n"
     ]
    },
    {
     "name": "stderr",
     "output_type": "stream",
     "text": [
      " 21%|███████▊                              | 2135/10357 [16:40<52:09,  2.63it/s]"
     ]
    },
    {
     "name": "stdout",
     "output_type": "stream",
     "text": [
      "[OK] 2598.txt → 2598_slots.csv and paths.geojson\n"
     ]
    },
    {
     "name": "stderr",
     "output_type": "stream",
     "text": [
      " 21%|███████▊                              | 2136/10357 [16:40<49:58,  2.74it/s]"
     ]
    },
    {
     "name": "stdout",
     "output_type": "stream",
     "text": [
      "[OK] 2599.txt → 2599_slots.csv and paths.geojson\n"
     ]
    },
    {
     "name": "stderr",
     "output_type": "stream",
     "text": [
      " 21%|███████▍                            | 2137/10357 [16:41<1:13:26,  1.87it/s]"
     ]
    },
    {
     "name": "stdout",
     "output_type": "stream",
     "text": [
      "[OK] 26.txt → 26_slots.csv and paths.geojson\n"
     ]
    },
    {
     "name": "stderr",
     "output_type": "stream",
     "text": [
      " 21%|███████▍                            | 2138/10357 [16:41<1:10:36,  1.94it/s]"
     ]
    },
    {
     "name": "stdout",
     "output_type": "stream",
     "text": [
      "[OK] 260.txt → 260_slots.csv and paths.geojson\n"
     ]
    },
    {
     "name": "stderr",
     "output_type": "stream",
     "text": [
      " 21%|███████▊                              | 2139/10357 [16:42<59:46,  2.29it/s]"
     ]
    },
    {
     "name": "stdout",
     "output_type": "stream",
     "text": [
      "[OK] 2600.txt → 2600_slots.csv and paths.geojson\n"
     ]
    },
    {
     "name": "stderr",
     "output_type": "stream",
     "text": [
      " 21%|███████▊                              | 2140/10357 [16:42<55:06,  2.48it/s]"
     ]
    },
    {
     "name": "stdout",
     "output_type": "stream",
     "text": [
      "[OK] 2601.txt → 2601_slots.csv and paths.geojson\n"
     ]
    },
    {
     "name": "stderr",
     "output_type": "stream",
     "text": [
      " 21%|███████▍                            | 2141/10357 [16:42<1:03:04,  2.17it/s]"
     ]
    },
    {
     "name": "stdout",
     "output_type": "stream",
     "text": [
      "[OK] 2602.txt → 2602_slots.csv and paths.geojson\n"
     ]
    },
    {
     "name": "stderr",
     "output_type": "stream",
     "text": [
      " 21%|███████▊                              | 2142/10357 [16:43<54:00,  2.54it/s]"
     ]
    },
    {
     "name": "stdout",
     "output_type": "stream",
     "text": [
      "[OK] 2603.txt → 2603_slots.csv and paths.geojson\n"
     ]
    },
    {
     "name": "stderr",
     "output_type": "stream",
     "text": [
      " 21%|███████▊                              | 2143/10357 [16:43<49:11,  2.78it/s]"
     ]
    },
    {
     "name": "stdout",
     "output_type": "stream",
     "text": [
      "[OK] 2604.txt → 2604_slots.csv and paths.geojson\n"
     ]
    },
    {
     "name": "stderr",
     "output_type": "stream",
     "text": [
      " 21%|███████▊                              | 2144/10357 [16:43<55:49,  2.45it/s]"
     ]
    },
    {
     "name": "stdout",
     "output_type": "stream",
     "text": [
      "[OK] 2605.txt → 2605_slots.csv and paths.geojson\n"
     ]
    },
    {
     "name": "stderr",
     "output_type": "stream",
     "text": [
      " 21%|███████▍                            | 2145/10357 [16:44<1:04:23,  2.13it/s]"
     ]
    },
    {
     "name": "stdout",
     "output_type": "stream",
     "text": [
      "[OK] 2606.txt → 2606_slots.csv and paths.geojson\n"
     ]
    },
    {
     "name": "stderr",
     "output_type": "stream",
     "text": [
      " 21%|███████▍                            | 2146/10357 [16:45<1:05:21,  2.09it/s]"
     ]
    },
    {
     "name": "stdout",
     "output_type": "stream",
     "text": [
      "[OK] 2607.txt → 2607_slots.csv and paths.geojson\n"
     ]
    },
    {
     "name": "stderr",
     "output_type": "stream",
     "text": [
      " 21%|███████▍                            | 2147/10357 [16:45<1:10:17,  1.95it/s]"
     ]
    },
    {
     "name": "stdout",
     "output_type": "stream",
     "text": [
      "[OK] 2608.txt → 2608_slots.csv and paths.geojson\n"
     ]
    },
    {
     "name": "stderr",
     "output_type": "stream",
     "text": [
      " 21%|███████▍                            | 2148/10357 [16:46<1:03:37,  2.15it/s]"
     ]
    },
    {
     "name": "stdout",
     "output_type": "stream",
     "text": [
      "[OK] 2609.txt → 2609_slots.csv and paths.geojson\n"
     ]
    },
    {
     "name": "stderr",
     "output_type": "stream",
     "text": [
      " 21%|███████▉                              | 2149/10357 [16:46<58:48,  2.33it/s]"
     ]
    },
    {
     "name": "stdout",
     "output_type": "stream",
     "text": [
      "[OK] 261.txt → 261_slots.csv and paths.geojson\n"
     ]
    },
    {
     "name": "stderr",
     "output_type": "stream",
     "text": [
      " 21%|███████▍                            | 2150/10357 [16:46<1:01:14,  2.23it/s]"
     ]
    },
    {
     "name": "stdout",
     "output_type": "stream",
     "text": [
      "[OK] 2610.txt → 2610_slots.csv and paths.geojson\n"
     ]
    },
    {
     "name": "stderr",
     "output_type": "stream",
     "text": [
      " 21%|███████▍                            | 2151/10357 [16:47<1:00:11,  2.27it/s]"
     ]
    },
    {
     "name": "stdout",
     "output_type": "stream",
     "text": [
      "[OK] 2611.txt → 2611_slots.csv and paths.geojson\n"
     ]
    },
    {
     "name": "stderr",
     "output_type": "stream",
     "text": [
      " 21%|███████▍                            | 2152/10357 [16:48<1:15:41,  1.81it/s]"
     ]
    },
    {
     "name": "stdout",
     "output_type": "stream",
     "text": [
      "[OK] 2612.txt → 2612_slots.csv and paths.geojson\n"
     ]
    },
    {
     "name": "stderr",
     "output_type": "stream",
     "text": [
      " 21%|███████▍                            | 2153/10357 [16:48<1:14:25,  1.84it/s]"
     ]
    },
    {
     "name": "stdout",
     "output_type": "stream",
     "text": [
      "[OK] 2613.txt → 2613_slots.csv and paths.geojson\n"
     ]
    },
    {
     "name": "stderr",
     "output_type": "stream",
     "text": [
      " 21%|███████▍                            | 2154/10357 [16:49<1:16:28,  1.79it/s]"
     ]
    },
    {
     "name": "stdout",
     "output_type": "stream",
     "text": [
      "[OK] 2614.txt → 2614_slots.csv and paths.geojson\n"
     ]
    },
    {
     "name": "stderr",
     "output_type": "stream",
     "text": [
      " 21%|███████▍                            | 2155/10357 [16:49<1:05:10,  2.10it/s]"
     ]
    },
    {
     "name": "stdout",
     "output_type": "stream",
     "text": [
      "[OK] 2615.txt → 2615_slots.csv and paths.geojson\n"
     ]
    },
    {
     "name": "stderr",
     "output_type": "stream",
     "text": [
      " 21%|███████▍                            | 2156/10357 [16:50<1:05:35,  2.08it/s]"
     ]
    },
    {
     "name": "stdout",
     "output_type": "stream",
     "text": [
      "[OK] 2616.txt → 2616_slots.csv and paths.geojson\n"
     ]
    },
    {
     "name": "stderr",
     "output_type": "stream",
     "text": [
      " 21%|███████▍                            | 2157/10357 [16:50<1:12:43,  1.88it/s]"
     ]
    },
    {
     "name": "stdout",
     "output_type": "stream",
     "text": [
      "[OK] 2617.txt → 2617_slots.csv and paths.geojson\n"
     ]
    },
    {
     "name": "stderr",
     "output_type": "stream",
     "text": [
      " 21%|███████▌                            | 2158/10357 [16:51<1:17:57,  1.75it/s]"
     ]
    },
    {
     "name": "stdout",
     "output_type": "stream",
     "text": [
      "[OK] 2618.txt → 2618_slots.csv and paths.geojson\n"
     ]
    },
    {
     "name": "stderr",
     "output_type": "stream",
     "text": [
      " 21%|███████▌                            | 2159/10357 [16:52<1:23:06,  1.64it/s]"
     ]
    },
    {
     "name": "stdout",
     "output_type": "stream",
     "text": [
      "[OK] 2619.txt → 2619_slots.csv and paths.geojson\n"
     ]
    },
    {
     "name": "stderr",
     "output_type": "stream",
     "text": [
      " 21%|███████▌                            | 2160/10357 [16:52<1:08:39,  1.99it/s]"
     ]
    },
    {
     "name": "stdout",
     "output_type": "stream",
     "text": [
      "[OK] 262.txt → 262_slots.csv and paths.geojson\n"
     ]
    },
    {
     "name": "stderr",
     "output_type": "stream",
     "text": [
      " 21%|███████▌                            | 2161/10357 [16:52<1:01:46,  2.21it/s]"
     ]
    },
    {
     "name": "stdout",
     "output_type": "stream",
     "text": [
      "[OK] 2620.txt → 2620_slots.csv and paths.geojson\n",
      "[OK] 2621.txt → 2621_slots.csv and paths.geojson\n"
     ]
    },
    {
     "name": "stderr",
     "output_type": "stream",
     "text": [
      " 21%|███████▉                              | 2163/10357 [16:53<50:05,  2.73it/s]"
     ]
    },
    {
     "name": "stdout",
     "output_type": "stream",
     "text": [
      "[OK] 2622.txt → 2622_slots.csv and paths.geojson\n"
     ]
    },
    {
     "name": "stderr",
     "output_type": "stream",
     "text": [
      " 21%|███████▉                              | 2164/10357 [16:53<57:15,  2.38it/s]"
     ]
    },
    {
     "name": "stdout",
     "output_type": "stream",
     "text": [
      "[OK] 2623.txt → 2623_slots.csv and paths.geojson\n"
     ]
    },
    {
     "name": "stderr",
     "output_type": "stream",
     "text": [
      " 21%|███████▌                            | 2165/10357 [16:54<1:07:59,  2.01it/s]"
     ]
    },
    {
     "name": "stdout",
     "output_type": "stream",
     "text": [
      "[OK] 2624.txt → 2624_slots.csv and paths.geojson\n"
     ]
    },
    {
     "name": "stderr",
     "output_type": "stream",
     "text": [
      " 21%|███████▌                            | 2166/10357 [16:54<1:06:10,  2.06it/s]"
     ]
    },
    {
     "name": "stdout",
     "output_type": "stream",
     "text": [
      "[OK] 2625.txt → 2625_slots.csv and paths.geojson\n"
     ]
    },
    {
     "name": "stderr",
     "output_type": "stream",
     "text": [
      " 21%|███████▌                            | 2167/10357 [16:55<1:02:09,  2.20it/s]"
     ]
    },
    {
     "name": "stdout",
     "output_type": "stream",
     "text": [
      "[OK] 2626.txt → 2626_slots.csv and paths.geojson\n"
     ]
    },
    {
     "name": "stderr",
     "output_type": "stream",
     "text": [
      " 21%|███████▉                              | 2169/10357 [16:56<55:00,  2.48it/s]"
     ]
    },
    {
     "name": "stdout",
     "output_type": "stream",
     "text": [
      "[OK] 2627.txt → 2627_slots.csv and paths.geojson\n",
      "[OK] 2628.txt → 2628_slots.csv and paths.geojson\n",
      "[OK] 2629.txt → 2629_slots.csv\n"
     ]
    },
    {
     "name": "stderr",
     "output_type": "stream",
     "text": [
      " 21%|███████▉                              | 2171/10357 [16:56<47:12,  2.89it/s]"
     ]
    },
    {
     "name": "stdout",
     "output_type": "stream",
     "text": [
      "[OK] 263.txt → 263_slots.csv and paths.geojson\n"
     ]
    },
    {
     "name": "stderr",
     "output_type": "stream",
     "text": [
      " 21%|███████▉                              | 2173/10357 [16:57<56:40,  2.41it/s]"
     ]
    },
    {
     "name": "stdout",
     "output_type": "stream",
     "text": [
      "[OK] 2630.txt → 2630_slots.csv and paths.geojson\n",
      "[OK] 2631.txt → 2631_slots.csv and paths.geojson\n"
     ]
    },
    {
     "name": "stderr",
     "output_type": "stream",
     "text": [
      " 21%|███████▉                              | 2174/10357 [16:58<49:33,  2.75it/s]"
     ]
    },
    {
     "name": "stdout",
     "output_type": "stream",
     "text": [
      "[OK] 2632.txt → 2632_slots.csv and paths.geojson\n"
     ]
    },
    {
     "name": "stderr",
     "output_type": "stream",
     "text": [
      " 21%|███████▉                              | 2176/10357 [16:58<37:54,  3.60it/s]"
     ]
    },
    {
     "name": "stdout",
     "output_type": "stream",
     "text": [
      "[OK] 2633.txt → 2633_slots.csv and paths.geojson\n",
      "[OK] 2634.txt → 2634_slots.csv and paths.geojson\n"
     ]
    },
    {
     "name": "stderr",
     "output_type": "stream",
     "text": [
      " 21%|███████▉                              | 2177/10357 [16:58<36:51,  3.70it/s]"
     ]
    },
    {
     "name": "stdout",
     "output_type": "stream",
     "text": [
      "[OK] 2635.txt → 2635_slots.csv and paths.geojson\n",
      "[OK] 2636.txt → 2636_slots.csv\n"
     ]
    },
    {
     "name": "stderr",
     "output_type": "stream",
     "text": [
      " 21%|███████▉                              | 2179/10357 [16:58<29:46,  4.58it/s]"
     ]
    },
    {
     "name": "stdout",
     "output_type": "stream",
     "text": [
      "[OK] 2637.txt → 2637_slots.csv and paths.geojson\n"
     ]
    },
    {
     "name": "stderr",
     "output_type": "stream",
     "text": [
      " 21%|███████▉                              | 2180/10357 [16:59<48:33,  2.81it/s]"
     ]
    },
    {
     "name": "stdout",
     "output_type": "stream",
     "text": [
      "[OK] 2638.txt → 2638_slots.csv and paths.geojson\n"
     ]
    },
    {
     "name": "stderr",
     "output_type": "stream",
     "text": [
      " 21%|████████                              | 2181/10357 [17:00<47:47,  2.85it/s]"
     ]
    },
    {
     "name": "stdout",
     "output_type": "stream",
     "text": [
      "[OK] 2639.txt → 2639_slots.csv and paths.geojson\n"
     ]
    },
    {
     "name": "stderr",
     "output_type": "stream",
     "text": [
      " 21%|████████                              | 2182/10357 [17:00<47:09,  2.89it/s]"
     ]
    },
    {
     "name": "stdout",
     "output_type": "stream",
     "text": [
      "[OK] 264.txt → 264_slots.csv and paths.geojson\n"
     ]
    },
    {
     "name": "stderr",
     "output_type": "stream",
     "text": [
      " 21%|████████                              | 2184/10357 [17:01<46:00,  2.96it/s]"
     ]
    },
    {
     "name": "stdout",
     "output_type": "stream",
     "text": [
      "[OK] 2640.txt → 2640_slots.csv and paths.geojson\n",
      "[OK] 2641.txt → 2641_slots.csv and paths.geojson\n"
     ]
    },
    {
     "name": "stderr",
     "output_type": "stream",
     "text": [
      " 21%|████████                              | 2185/10357 [17:01<40:26,  3.37it/s]"
     ]
    },
    {
     "name": "stdout",
     "output_type": "stream",
     "text": [
      "[OK] 2642.txt → 2642_slots.csv and paths.geojson\n"
     ]
    },
    {
     "name": "stderr",
     "output_type": "stream",
     "text": [
      " 21%|████████                              | 2186/10357 [17:01<45:56,  2.96it/s]"
     ]
    },
    {
     "name": "stdout",
     "output_type": "stream",
     "text": [
      "[OK] 2643.txt → 2643_slots.csv and paths.geojson\n"
     ]
    },
    {
     "name": "stderr",
     "output_type": "stream",
     "text": [
      " 21%|████████                              | 2187/10357 [17:02<43:24,  3.14it/s]"
     ]
    },
    {
     "name": "stdout",
     "output_type": "stream",
     "text": [
      "[OK] 2644.txt → 2644_slots.csv and paths.geojson\n"
     ]
    },
    {
     "name": "stderr",
     "output_type": "stream",
     "text": [
      " 21%|████████                              | 2189/10357 [17:02<35:02,  3.89it/s]"
     ]
    },
    {
     "name": "stdout",
     "output_type": "stream",
     "text": [
      "[OK] 2645.txt → 2645_slots.csv and paths.geojson\n",
      "[OK] 2646.txt → 2646_slots.csv and paths.geojson\n"
     ]
    },
    {
     "name": "stderr",
     "output_type": "stream",
     "text": [
      " 21%|████████                              | 2190/10357 [17:02<39:51,  3.41it/s]"
     ]
    },
    {
     "name": "stdout",
     "output_type": "stream",
     "text": [
      "[OK] 2647.txt → 2647_slots.csv and paths.geojson\n"
     ]
    },
    {
     "name": "stderr",
     "output_type": "stream",
     "text": [
      " 21%|████████                              | 2191/10357 [17:03<45:12,  3.01it/s]"
     ]
    },
    {
     "name": "stdout",
     "output_type": "stream",
     "text": [
      "[OK] 2648.txt → 2648_slots.csv and paths.geojson\n"
     ]
    },
    {
     "name": "stderr",
     "output_type": "stream",
     "text": [
      " 21%|████████                              | 2192/10357 [17:03<40:40,  3.35it/s]"
     ]
    },
    {
     "name": "stdout",
     "output_type": "stream",
     "text": [
      "[OK] 2649.txt → 2649_slots.csv and paths.geojson\n"
     ]
    },
    {
     "name": "stderr",
     "output_type": "stream",
     "text": [
      " 21%|████████                              | 2193/10357 [17:04<49:12,  2.77it/s]"
     ]
    },
    {
     "name": "stdout",
     "output_type": "stream",
     "text": [
      "[OK] 265.txt → 265_slots.csv and paths.geojson\n"
     ]
    },
    {
     "name": "stderr",
     "output_type": "stream",
     "text": [
      " 21%|████████                              | 2194/10357 [17:04<49:16,  2.76it/s]"
     ]
    },
    {
     "name": "stdout",
     "output_type": "stream",
     "text": [
      "[OK] 2650.txt → 2650_slots.csv and paths.geojson\n"
     ]
    },
    {
     "name": "stderr",
     "output_type": "stream",
     "text": [
      " 21%|████████                              | 2195/10357 [17:04<58:49,  2.31it/s]"
     ]
    },
    {
     "name": "stdout",
     "output_type": "stream",
     "text": [
      "[OK] 2651.txt → 2651_slots.csv and paths.geojson\n"
     ]
    },
    {
     "name": "stderr",
     "output_type": "stream",
     "text": [
      " 21%|████████                              | 2196/10357 [17:05<54:42,  2.49it/s]"
     ]
    },
    {
     "name": "stdout",
     "output_type": "stream",
     "text": [
      "[OK] 2652.txt → 2652_slots.csv and paths.geojson\n"
     ]
    },
    {
     "name": "stderr",
     "output_type": "stream",
     "text": [
      " 21%|███████▋                            | 2197/10357 [17:05<1:00:13,  2.26it/s]"
     ]
    },
    {
     "name": "stdout",
     "output_type": "stream",
     "text": [
      "[OK] 2653.txt → 2653_slots.csv and paths.geojson\n"
     ]
    },
    {
     "name": "stderr",
     "output_type": "stream",
     "text": [
      " 21%|███████▋                            | 2198/10357 [17:06<1:04:00,  2.12it/s]"
     ]
    },
    {
     "name": "stdout",
     "output_type": "stream",
     "text": [
      "[OK] 2654.txt → 2654_slots.csv and paths.geojson\n"
     ]
    },
    {
     "name": "stderr",
     "output_type": "stream",
     "text": [
      " 21%|███████▋                            | 2199/10357 [17:07<1:10:35,  1.93it/s]"
     ]
    },
    {
     "name": "stdout",
     "output_type": "stream",
     "text": [
      "[OK] 2655.txt → 2655_slots.csv and paths.geojson\n"
     ]
    },
    {
     "name": "stderr",
     "output_type": "stream",
     "text": [
      " 21%|███████▋                            | 2200/10357 [17:07<1:23:29,  1.63it/s]"
     ]
    },
    {
     "name": "stdout",
     "output_type": "stream",
     "text": [
      "[OK] 2656.txt → 2656_slots.csv and paths.geojson\n"
     ]
    },
    {
     "name": "stderr",
     "output_type": "stream",
     "text": [
      " 21%|███████▋                            | 2201/10357 [17:08<1:36:10,  1.41it/s]"
     ]
    },
    {
     "name": "stdout",
     "output_type": "stream",
     "text": [
      "[OK] 2657.txt → 2657_slots.csv and paths.geojson\n"
     ]
    },
    {
     "name": "stderr",
     "output_type": "stream",
     "text": [
      " 21%|███████▋                            | 2202/10357 [17:09<1:35:09,  1.43it/s]"
     ]
    },
    {
     "name": "stdout",
     "output_type": "stream",
     "text": [
      "[OK] 2658.txt → 2658_slots.csv and paths.geojson\n"
     ]
    },
    {
     "name": "stderr",
     "output_type": "stream",
     "text": [
      " 21%|███████▋                            | 2203/10357 [17:10<1:30:39,  1.50it/s]"
     ]
    },
    {
     "name": "stdout",
     "output_type": "stream",
     "text": [
      "[OK] 2659.txt → 2659_slots.csv and paths.geojson\n"
     ]
    },
    {
     "name": "stderr",
     "output_type": "stream",
     "text": [
      " 21%|███████▋                            | 2204/10357 [17:10<1:27:39,  1.55it/s]"
     ]
    },
    {
     "name": "stdout",
     "output_type": "stream",
     "text": [
      "[OK] 266.txt → 266_slots.csv and paths.geojson\n"
     ]
    },
    {
     "name": "stderr",
     "output_type": "stream",
     "text": [
      " 21%|███████▋                            | 2205/10357 [17:11<1:21:32,  1.67it/s]"
     ]
    },
    {
     "name": "stdout",
     "output_type": "stream",
     "text": [
      "[OK] 2660.txt → 2660_slots.csv and paths.geojson\n"
     ]
    },
    {
     "name": "stderr",
     "output_type": "stream",
     "text": [
      " 21%|███████▋                            | 2206/10357 [17:11<1:05:51,  2.06it/s]"
     ]
    },
    {
     "name": "stdout",
     "output_type": "stream",
     "text": [
      "[OK] 2661.txt → 2661_slots.csv and paths.geojson\n"
     ]
    },
    {
     "name": "stderr",
     "output_type": "stream",
     "text": [
      " 21%|███████▋                            | 2207/10357 [17:11<1:06:48,  2.03it/s]"
     ]
    },
    {
     "name": "stdout",
     "output_type": "stream",
     "text": [
      "[OK] 2662.txt → 2662_slots.csv and paths.geojson\n"
     ]
    },
    {
     "name": "stderr",
     "output_type": "stream",
     "text": [
      " 21%|████████                              | 2208/10357 [17:12<55:39,  2.44it/s]"
     ]
    },
    {
     "name": "stdout",
     "output_type": "stream",
     "text": [
      "[OK] 2663.txt → 2663_slots.csv and paths.geojson\n"
     ]
    },
    {
     "name": "stderr",
     "output_type": "stream",
     "text": [
      " 21%|███████▋                            | 2209/10357 [17:12<1:03:41,  2.13it/s]"
     ]
    },
    {
     "name": "stdout",
     "output_type": "stream",
     "text": [
      "[OK] 2664.txt → 2664_slots.csv and paths.geojson\n"
     ]
    },
    {
     "name": "stderr",
     "output_type": "stream",
     "text": [
      " 21%|███████▋                            | 2210/10357 [17:13<1:03:12,  2.15it/s]"
     ]
    },
    {
     "name": "stdout",
     "output_type": "stream",
     "text": [
      "[OK] 2665.txt → 2665_slots.csv and paths.geojson\n"
     ]
    },
    {
     "name": "stderr",
     "output_type": "stream",
     "text": [
      " 21%|████████                              | 2211/10357 [17:13<57:54,  2.34it/s]"
     ]
    },
    {
     "name": "stdout",
     "output_type": "stream",
     "text": [
      "[OK] 2666.txt → 2666_slots.csv and paths.geojson\n"
     ]
    },
    {
     "name": "stderr",
     "output_type": "stream",
     "text": [
      " 21%|███████▋                            | 2212/10357 [17:14<1:20:23,  1.69it/s]"
     ]
    },
    {
     "name": "stdout",
     "output_type": "stream",
     "text": [
      "[OK] 2667.txt → 2667_slots.csv and paths.geojson\n"
     ]
    },
    {
     "name": "stderr",
     "output_type": "stream",
     "text": [
      " 21%|███████▋                            | 2213/10357 [17:15<1:20:28,  1.69it/s]"
     ]
    },
    {
     "name": "stdout",
     "output_type": "stream",
     "text": [
      "[OK] 2668.txt → 2668_slots.csv and paths.geojson\n"
     ]
    },
    {
     "name": "stderr",
     "output_type": "stream",
     "text": [
      " 21%|███████▋                            | 2214/10357 [17:21<5:36:24,  2.48s/it]"
     ]
    },
    {
     "name": "stdout",
     "output_type": "stream",
     "text": [
      "[OK] 2669.txt → 2669_slots.csv and paths.geojson\n",
      "[OK] 267.txt → 267_slots.csv and paths.geojson\n"
     ]
    },
    {
     "name": "stderr",
     "output_type": "stream",
     "text": [
      " 21%|███████▋                            | 2216/10357 [17:22<3:17:29,  1.46s/it]"
     ]
    },
    {
     "name": "stdout",
     "output_type": "stream",
     "text": [
      "[OK] 2670.txt → 2670_slots.csv and paths.geojson\n"
     ]
    },
    {
     "name": "stderr",
     "output_type": "stream",
     "text": [
      " 21%|███████▋                            | 2217/10357 [17:22<2:38:56,  1.17s/it]"
     ]
    },
    {
     "name": "stdout",
     "output_type": "stream",
     "text": [
      "[OK] 2671.txt → 2671_slots.csv and paths.geojson\n"
     ]
    },
    {
     "name": "stderr",
     "output_type": "stream",
     "text": [
      " 21%|███████▋                            | 2218/10357 [17:23<2:13:32,  1.02it/s]"
     ]
    },
    {
     "name": "stdout",
     "output_type": "stream",
     "text": [
      "[OK] 2672.txt → 2672_slots.csv and paths.geojson\n"
     ]
    },
    {
     "name": "stderr",
     "output_type": "stream",
     "text": [
      " 21%|███████▋                            | 2219/10357 [17:23<1:48:01,  1.26it/s]"
     ]
    },
    {
     "name": "stdout",
     "output_type": "stream",
     "text": [
      "[OK] 2673.txt → 2673_slots.csv and paths.geojson\n"
     ]
    },
    {
     "name": "stderr",
     "output_type": "stream",
     "text": [
      " 21%|███████▋                            | 2221/10357 [17:24<1:14:54,  1.81it/s]"
     ]
    },
    {
     "name": "stdout",
     "output_type": "stream",
     "text": [
      "[OK] 2674.txt → 2674_slots.csv and paths.geojson\n",
      "[OK] 2675.txt → 2675_slots.csv and paths.geojson\n"
     ]
    },
    {
     "name": "stderr",
     "output_type": "stream",
     "text": [
      " 21%|███████▋                            | 2222/10357 [17:24<1:17:20,  1.75it/s]"
     ]
    },
    {
     "name": "stdout",
     "output_type": "stream",
     "text": [
      "[OK] 2676.txt → 2676_slots.csv and paths.geojson\n"
     ]
    },
    {
     "name": "stderr",
     "output_type": "stream",
     "text": [
      " 21%|███████▋                            | 2223/10357 [17:25<1:08:30,  1.98it/s]"
     ]
    },
    {
     "name": "stdout",
     "output_type": "stream",
     "text": [
      "[OK] 2677.txt → 2677_slots.csv and paths.geojson\n"
     ]
    },
    {
     "name": "stderr",
     "output_type": "stream",
     "text": [
      " 21%|███████▋                            | 2224/10357 [17:25<1:06:33,  2.04it/s]"
     ]
    },
    {
     "name": "stdout",
     "output_type": "stream",
     "text": [
      "[OK] 2678.txt → 2678_slots.csv and paths.geojson\n"
     ]
    },
    {
     "name": "stderr",
     "output_type": "stream",
     "text": [
      " 21%|███████▋                            | 2225/10357 [17:26<1:04:03,  2.12it/s]"
     ]
    },
    {
     "name": "stdout",
     "output_type": "stream",
     "text": [
      "[OK] 2679.txt → 2679_slots.csv and paths.geojson\n"
     ]
    },
    {
     "name": "stderr",
     "output_type": "stream",
     "text": [
      " 21%|███████▋                            | 2226/10357 [17:26<1:06:39,  2.03it/s]"
     ]
    },
    {
     "name": "stdout",
     "output_type": "stream",
     "text": [
      "[OK] 268.txt → 268_slots.csv and paths.geojson\n"
     ]
    },
    {
     "name": "stderr",
     "output_type": "stream",
     "text": [
      " 22%|███████▋                            | 2227/10357 [17:26<1:04:51,  2.09it/s]"
     ]
    },
    {
     "name": "stdout",
     "output_type": "stream",
     "text": [
      "[OK] 2680.txt → 2680_slots.csv and paths.geojson\n"
     ]
    },
    {
     "name": "stderr",
     "output_type": "stream",
     "text": [
      " 22%|███████▋                            | 2228/10357 [17:27<1:00:58,  2.22it/s]"
     ]
    },
    {
     "name": "stdout",
     "output_type": "stream",
     "text": [
      "[OK] 2681.txt → 2681_slots.csv and paths.geojson\n"
     ]
    },
    {
     "name": "stderr",
     "output_type": "stream",
     "text": [
      " 22%|████████▏                             | 2229/10357 [17:27<57:33,  2.35it/s]"
     ]
    },
    {
     "name": "stdout",
     "output_type": "stream",
     "text": [
      "[OK] 2682.txt → 2682_slots.csv and paths.geojson\n"
     ]
    },
    {
     "name": "stderr",
     "output_type": "stream",
     "text": [
      " 22%|████████▏                             | 2230/10357 [17:28<52:45,  2.57it/s]"
     ]
    },
    {
     "name": "stdout",
     "output_type": "stream",
     "text": [
      "[OK] 2683.txt → 2683_slots.csv and paths.geojson\n"
     ]
    },
    {
     "name": "stderr",
     "output_type": "stream",
     "text": [
      " 22%|████████▏                             | 2231/10357 [17:28<56:46,  2.39it/s]"
     ]
    },
    {
     "name": "stdout",
     "output_type": "stream",
     "text": [
      "[OK] 2684.txt → 2684_slots.csv and paths.geojson\n"
     ]
    },
    {
     "name": "stderr",
     "output_type": "stream",
     "text": [
      " 22%|████████▏                             | 2233/10357 [17:28<41:37,  3.25it/s]"
     ]
    },
    {
     "name": "stdout",
     "output_type": "stream",
     "text": [
      "[OK] 2685.txt → 2685_slots.csv and paths.geojson\n",
      "[OK] 2686.txt → 2686_slots.csv and paths.geojson\n"
     ]
    },
    {
     "name": "stderr",
     "output_type": "stream",
     "text": [
      " 22%|████████▏                             | 2234/10357 [17:29<43:23,  3.12it/s]"
     ]
    },
    {
     "name": "stdout",
     "output_type": "stream",
     "text": [
      "[OK] 2687.txt → 2687_slots.csv and paths.geojson\n"
     ]
    },
    {
     "name": "stderr",
     "output_type": "stream",
     "text": [
      " 22%|████████▏                             | 2236/10357 [17:29<38:48,  3.49it/s]"
     ]
    },
    {
     "name": "stdout",
     "output_type": "stream",
     "text": [
      "[OK] 2688.txt → 2688_slots.csv and paths.geojson\n",
      "[OK] 2689.txt → 2689_slots.csv and paths.geojson\n"
     ]
    },
    {
     "name": "stderr",
     "output_type": "stream",
     "text": [
      " 22%|████████▏                             | 2237/10357 [17:30<46:43,  2.90it/s]"
     ]
    },
    {
     "name": "stdout",
     "output_type": "stream",
     "text": [
      "[OK] 269.txt → 269_slots.csv and paths.geojson\n"
     ]
    },
    {
     "name": "stderr",
     "output_type": "stream",
     "text": [
      " 22%|████████▏                             | 2238/10357 [17:30<49:30,  2.73it/s]"
     ]
    },
    {
     "name": "stdout",
     "output_type": "stream",
     "text": [
      "[OK] 2690.txt → 2690_slots.csv and paths.geojson\n"
     ]
    },
    {
     "name": "stderr",
     "output_type": "stream",
     "text": [
      " 22%|████████▏                             | 2239/10357 [17:31<52:47,  2.56it/s]"
     ]
    },
    {
     "name": "stdout",
     "output_type": "stream",
     "text": [
      "[OK] 2691.txt → 2691_slots.csv and paths.geojson\n"
     ]
    },
    {
     "name": "stderr",
     "output_type": "stream",
     "text": [
      " 22%|████████▏                             | 2240/10357 [17:31<47:16,  2.86it/s]"
     ]
    },
    {
     "name": "stdout",
     "output_type": "stream",
     "text": [
      "[OK] 2692.txt → 2692_slots.csv and paths.geojson\n"
     ]
    },
    {
     "name": "stderr",
     "output_type": "stream",
     "text": [
      " 22%|████████▏                             | 2241/10357 [17:31<47:55,  2.82it/s]"
     ]
    },
    {
     "name": "stdout",
     "output_type": "stream",
     "text": [
      "[OK] 2693.txt → 2693_slots.csv and paths.geojson\n"
     ]
    }
   ],
   "source": [
    "\"\"\"\n",
    "T-Drive: timeslot routing reconstruction (bbox + cache, OSMnx 2.0.6)\n",
    "+ average speed per timeslot\n",
    "+ minute-within-slot metadata\n",
    "\n",
    "- Reads all taxi .txt files from INPUT_DIR (format: taxi_id,timestamp,lon,lat).\n",
    "- Buckets records into M_MINUTES slots starting at 00:00 (UTC).\n",
    "- For each (date, slot), sorts by time, snaps points to nearest OSM node,\n",
    "  computes shortest paths between consecutive points (NetworkX), and sums distances.\n",
    "- Adds:\n",
    "  - slot_size_min           : slot length in minutes (M_MINUTES)\n",
    "  - slot_start_utc          : UTC timestamp of the slot’s start (date 00:00 + slot*M_MINUTES)\n",
    "  - start_minute_in_slot    : minute offset (0..M_MINUTES-1) of the first point within the slot\n",
    "  - start_offset_s          : exact seconds offset from slot start to first point\n",
    "- Writes:\n",
    "  - <output_dir>/<file>_slots.csv : per-slot summary\n",
    "  - (optional) <output_dir>/<file>_paths.geojson : reconstructed polylines\n",
    "\"\"\"\n",
    "\n",
    "import os\n",
    "import math\n",
    "from typing import Tuple, List, Optional\n",
    "import pandas as pd\n",
    "import numpy as np\n",
    "\n",
    "# tqdm is optional\n",
    "try:\n",
    "    from tqdm import tqdm\n",
    "except ImportError:\n",
    "    def tqdm(x): return x\n",
    "\n",
    "import osmnx as ox\n",
    "import networkx as nx\n",
    "import geopandas as gpd\n",
    "from shapely.geometry import LineString, box\n",
    "\n",
    "# -------------------------- USER CONFIG ---------------------------------------\n",
    "\n",
    "INPUT_DIR  = \"tdrive\"\n",
    "OUTPUT_DIR = \"tdrive_routes_speed_MINUTES\"\n",
    "GRAPH_CACHE_DIR = OUTPUT_DIR\n",
    "\n",
    "M_MINUTES = 60  # slot size in minutes\n",
    "\n",
    "# Use a bbox to avoid full-city queries: (min_lat, max_lat, min_lon, max_lon)\n",
    "BBOX = (39.8, 40.05, 116.2, 116.5)\n",
    "\n",
    "# Weight for shortest path: \"length\" (meters) or \"travel_time\" (if you add speeds)\n",
    "WEIGHT = \"length\"\n",
    "\n",
    "# Export polylines for each slot (disable for speed while testing)\n",
    "WRITE_GEOJSON = True\n",
    "\n",
    "# Skip routing if consecutive point time gap exceeds this (minutes)\n",
    "MAX_GAP_MIN = 60  # set None to disable\n",
    "\n",
    "# -----------------------------------------------------------------------------\n",
    "\n",
    "def _graph_cache_path(bbox: Tuple[float, float, float, float]) -> str:\n",
    "    miny, maxy, minx, maxx = bbox\n",
    "    tag = f\"{miny:.4f}_{maxy:.4f}_{minx:.4f}_{maxx:.4f}\"\n",
    "    return os.path.join(GRAPH_CACHE_DIR, f\"drive_bbox_{tag}.graphml\")\n",
    "\n",
    "\n",
    "def load_graph() -> nx.MultiDiGraph:\n",
    "    \"\"\"\n",
    "    Load drivable OSM graph for the configured BBOX, using local cache.\n",
    "    Compatible with OSMnx 2.0.6 (polygon-based).\n",
    "    \"\"\"\n",
    "    os.makedirs(GRAPH_CACHE_DIR, exist_ok=True)\n",
    "    ox.settings.use_cache = True\n",
    "    ox.settings.log_console = False\n",
    "\n",
    "    miny, maxy, minx, maxx = BBOX\n",
    "    cache_path = _graph_cache_path(BBOX)\n",
    "\n",
    "    if os.path.exists(cache_path):\n",
    "        G = ox.load_graphml(cache_path)\n",
    "    else:\n",
    "        polygon = box(minx, miny, maxx, maxy)\n",
    "        G = ox.graph_from_polygon(polygon, network_type=\"drive\")\n",
    "        G = ox.distance.add_edge_lengths(G)  # adds 'length' to edges\n",
    "        ox.save_graphml(G, cache_path)\n",
    "\n",
    "    # Ensure 'length' exists (paranoia)\n",
    "    if not all('length' in d for _, _, d in G.edges(data=True)):\n",
    "        G = ox.distance.add_edge_lengths(G)\n",
    "        ox.save_graphml(G, cache_path)\n",
    "    return G\n",
    "\n",
    "\n",
    "def read_tdrive_file(path: str) -> pd.DataFrame:\n",
    "    \"\"\"\n",
    "    Read T-Drive txt: taxi_id,timestamp,lon,lat (no header).\n",
    "    Adds: date (YYYY-MM-DD string), slot_id (00:00-based index).\n",
    "    All timestamps are parsed as UTC.\n",
    "    \"\"\"\n",
    "    df = pd.read_csv(\n",
    "        path,\n",
    "        header=None,\n",
    "        names=[\"taxi_id\", \"timestamp\", \"lon\", \"lat\"],\n",
    "        dtype={\"taxi_id\": str, \"timestamp\": str, \"lon\": float, \"lat\": float},\n",
    "    )\n",
    "    df[\"timestamp\"] = pd.to_datetime(df[\"timestamp\"], errors=\"coerce\", utc=True)\n",
    "    df = df.dropna(subset=[\"timestamp\", \"lon\", \"lat\"]).copy()\n",
    "\n",
    "    df[\"date\"] = df[\"timestamp\"].dt.date.astype(str)\n",
    "    minutes = df[\"timestamp\"].dt.hour * 60 + df[\"timestamp\"].dt.minute\n",
    "    df[\"slot_id\"] = (minutes // M_MINUTES).astype(int)\n",
    "    return df.sort_values(\"timestamp\")\n",
    "\n",
    "\n",
    "def snap_points_to_nodes(G: nx.MultiDiGraph, df: pd.DataFrame) -> np.ndarray:\n",
    "    \"\"\"\n",
    "    Snap each (lon,lat) to the nearest OSM node. Returns node ids (np.array).\n",
    "    \"\"\"\n",
    "    xs = df[\"lon\"].to_numpy()\n",
    "    ys = df[\"lat\"].to_numpy()\n",
    "    nodes = ox.distance.nearest_nodes(G, X=xs, Y=ys)\n",
    "    return np.array(nodes)\n",
    "\n",
    "\n",
    "def path_between_nodes(G: nx.MultiDiGraph, u: int, v: int, weight: str = \"length\") -> Optional[List[int]]:\n",
    "    \"\"\"\n",
    "    Shortest path node-list between u and v using NetworkX. None if no path.\n",
    "    \"\"\"\n",
    "    try:\n",
    "        if u == v:\n",
    "            return [u]\n",
    "        return nx.shortest_path(G, u, v, weight=weight)\n",
    "    except (nx.NetworkXNoPath, nx.NodeNotFound):\n",
    "        return None\n",
    "\n",
    "\n",
    "def path_length_m(G: nx.MultiDiGraph, path: List[int]) -> float:\n",
    "    \"\"\"\n",
    "    Sum edge lengths (meters) along a node path.\n",
    "    \"\"\"\n",
    "    if not path or len(path) < 2:\n",
    "        return 0.0\n",
    "    total = 0.0\n",
    "    for a, b in zip(path[:-1], path[1:]):\n",
    "        if G.has_edge(a, b):\n",
    "            edges = G.get_edge_data(a, b)\n",
    "            if not edges:\n",
    "                continue\n",
    "            # choose the minimum length among parallel edges\n",
    "            best = min((edata.get(\"length\", math.inf) for _, edata in edges.items()))\n",
    "            if math.isfinite(best):\n",
    "                total += best\n",
    "    return total\n",
    "\n",
    "\n",
    "def build_linestring_from_path(G: nx.MultiDiGraph, path: List[int]) -> Optional[LineString]:\n",
    "    \"\"\"\n",
    "    Convert a node path into a LineString in EPSG:4326.\n",
    "    \"\"\"\n",
    "    if not path:\n",
    "        return None\n",
    "    coords = []\n",
    "    for n in path:\n",
    "        nd = G.nodes[n]\n",
    "        x, y = nd.get(\"x\"), nd.get(\"y\")\n",
    "        if x is None or y is None:\n",
    "            return None\n",
    "        coords.append((x, y))\n",
    "    if len(coords) < 2:\n",
    "        return None\n",
    "    return LineString(coords)\n",
    "\n",
    "\n",
    "def process_file(G: nx.MultiDiGraph, infile: str, outdir: str) -> None:\n",
    "    \"\"\"\n",
    "    Process a single taxi file and write CSV (+ optional GeoJSON).\n",
    "    \"\"\"\n",
    "    basename = os.path.basename(infile)\n",
    "    stem = os.path.splitext(basename)[0]\n",
    "\n",
    "    df = read_tdrive_file(infile)\n",
    "    if df.empty:\n",
    "        print(f\"[SKIP] {basename}: no valid rows\")\n",
    "        return\n",
    "\n",
    "    df[\"node\"] = snap_points_to_nodes(G, df)\n",
    "\n",
    "    rows = []\n",
    "    geoms = []\n",
    "    gprops = []\n",
    "\n",
    "    for (date, slot), g in df.groupby([\"date\", \"slot_id\"], sort=True):\n",
    "        g = g.sort_values(\"timestamp\")\n",
    "        npts = len(g)\n",
    "\n",
    "        # Compute slot start instant in UTC (date 00:00 + slot*M_MINUTES)\n",
    "        slot_start_utc = pd.to_datetime(f\"{date} 00:00:00\", utc=True)\n",
    "        slot_start_utc = slot_start_utc + pd.Timedelta(minutes=int(slot) * M_MINUTES)\n",
    "\n",
    "        # Record start/end times for duration\n",
    "        start_time = g[\"timestamp\"].iloc[0]\n",
    "        end_time   = g[\"timestamp\"].iloc[-1]\n",
    "        duration_s = max(0.0, (end_time - start_time).total_seconds())\n",
    "        duration_min = duration_s / 60.0\n",
    "\n",
    "        # Offsets relative to the slot start\n",
    "        start_offset_s = max(0.0, (start_time - slot_start_utc).total_seconds())\n",
    "        start_minute_in_slot = int(start_offset_s // 60)  # 0 .. M_MINUTES-1\n",
    "\n",
    "        if npts < 2:\n",
    "            rows.append({\n",
    "                \"file\": basename,\n",
    "                \"date\": date,\n",
    "                \"slot_id\": slot,\n",
    "                \"slot_size_min\": M_MINUTES,\n",
    "                \"slot_start_utc\": slot_start_utc,\n",
    "                \"start_minute_in_slot\": start_minute_in_slot,\n",
    "                \"start_offset_s\": start_offset_s,\n",
    "                \"n_points\": npts,\n",
    "                \"n_paths\": 0,\n",
    "                \"total_length_m\": 0.0,\n",
    "                \"duration_s\": duration_s,\n",
    "                \"duration_min\": duration_min,\n",
    "                \"avg_speed_kmh\": 0.0,\n",
    "                \"start_time\": start_time,\n",
    "                \"end_time\": end_time,\n",
    "            })\n",
    "            continue\n",
    "\n",
    "        times = g[\"timestamp\"].to_numpy()\n",
    "        nodes = g[\"node\"].to_numpy()\n",
    "\n",
    "        slot_paths: List[List[int]] = []\n",
    "        slot_length = 0.0\n",
    "        n_paths = 0\n",
    "\n",
    "        for i in range(npts - 1):\n",
    "            t0 = pd.Timestamp(times[i])\n",
    "            t1 = pd.Timestamp(times[i + 1])\n",
    "            if MAX_GAP_MIN is not None:\n",
    "                gap_min = (t1 - t0).total_seconds() / 60.0\n",
    "                if gap_min > MAX_GAP_MIN:\n",
    "                    continue  # skip unrealistic jump\n",
    "\n",
    "            u = int(nodes[i])\n",
    "            v = int(nodes[i + 1])\n",
    "            if u == v:\n",
    "                continue  # no movement\n",
    "\n",
    "            path = path_between_nodes(G, u, v, weight=WEIGHT)\n",
    "            if path is None:\n",
    "                continue\n",
    "\n",
    "            slot_paths.append(path)\n",
    "            slot_length += path_length_m(G, path)\n",
    "            n_paths += 1\n",
    "\n",
    "        # Average speed (km/h) over the slot, using total_length_m and slot duration\n",
    "        if duration_s > 0:\n",
    "            avg_speed_kmh = (slot_length / 1000.0) / (duration_s / 3600.0)\n",
    "        else:\n",
    "            avg_speed_kmh = 0.0\n",
    "\n",
    "        rows.append({\n",
    "            \"file\": basename,\n",
    "            \"date\": date,\n",
    "            \"slot_id\": slot,\n",
    "            \"slot_size_min\": M_MINUTES,\n",
    "            \"slot_start_utc\": slot_start_utc,\n",
    "            \"start_minute_in_slot\": start_minute_in_slot,\n",
    "            \"start_offset_s\": start_offset_s,\n",
    "            \"n_points\": npts,\n",
    "            \"n_paths\": n_paths,\n",
    "            \"total_length_m\": slot_length,\n",
    "            \"duration_s\": duration_s,\n",
    "            \"duration_min\": duration_min,\n",
    "            \"avg_speed_kmh\": avg_speed_kmh,\n",
    "            \"start_time\": start_time,\n",
    "            \"end_time\": end_time,\n",
    "        })\n",
    "\n",
    "        if WRITE_GEOJSON and n_paths > 0:\n",
    "            # Merge paths by concatenating coordinates while avoiding duplicate joints\n",
    "            merged_coords = []\n",
    "            for pth in slot_paths:\n",
    "                ls = build_linestring_from_path(G, pth)\n",
    "                if ls is None:\n",
    "                    continue\n",
    "                seg = list(ls.coords)\n",
    "                if not merged_coords:\n",
    "                    merged_coords.extend(seg)\n",
    "                else:\n",
    "                    merged_coords.extend(seg[1:])\n",
    "            if len(merged_coords) >= 2:\n",
    "                geoms.append(LineString(merged_coords))\n",
    "                gprops.append({\n",
    "                    \"file\": basename,\n",
    "                    \"date\": date,\n",
    "                    \"slot_id\": slot,\n",
    "                    \"slot_size_min\": M_MINUTES,               # optional, for context\n",
    "                    \"start_minute_in_slot\": start_minute_in_slot,  # optional\n",
    "                    \"n_points\": npts,\n",
    "                    \"n_paths\": n_paths,\n",
    "                    \"total_length_m\": slot_length,\n",
    "                    \"duration_s\": duration_s,\n",
    "                    \"avg_speed_kmh\": avg_speed_kmh\n",
    "                })\n",
    "\n",
    "    # CSV summary\n",
    "    os.makedirs(outdir, exist_ok=True)\n",
    "    out_csv = os.path.join(outdir, f\"{stem}_slots.csv\")\n",
    "    pd.DataFrame(rows).to_csv(out_csv, index=False)\n",
    "\n",
    "    # GeoJSON polylines\n",
    "    if WRITE_GEOJSON and geoms:\n",
    "        gdf = gpd.GeoDataFrame(gprops, geometry=geoms, crs=\"EPSG:4326\")\n",
    "        out_geojson = os.path.join(outdir, f\"{stem}_paths.geojson\")\n",
    "        gdf.to_file(out_geojson, driver=\"GeoJSON\")\n",
    "\n",
    "    print(f\"[OK] {basename} → {os.path.relpath(out_csv, outdir)}\"\n",
    "          f\"{' and paths.geojson' if WRITE_GEOJSON and geoms else ''}\")\n",
    "\n",
    "\n",
    "def main():\n",
    "    os.makedirs(OUTPUT_DIR, exist_ok=True)\n",
    "    print(f\"[1/3] Loading (or caching) road graph for bbox {BBOX} …\")\n",
    "    G = load_graph()\n",
    "\n",
    "    # If you want time-based paths, uncomment the next two lines and set WEIGHT = \"travel_time\"\n",
    "    # G = ox.speed.add_edge_speeds(G)        # adds 'speed_kph'\n",
    "    # G = ox.speed.add_edge_travel_times(G)  # adds 'travel_time'\n",
    "\n",
    "    print(\"[2/3] Processing files…\")\n",
    "    files = sorted(f for f in os.listdir(INPUT_DIR) if f.endswith(\".txt\"))\n",
    "    if not files:\n",
    "        print(\"No .txt files found in INPUT_DIR.\")\n",
    "        return\n",
    "\n",
    "    for fname in tqdm(files):\n",
    "        process_file(G, os.path.join(INPUT_DIR, fname), OUTPUT_DIR)\n",
    "\n",
    "    print(\"[3/3] Done.\")\n",
    "\n",
    "\n",
    "if __name__ == \"__main__\":\n",
    "    main()\n"
   ]
  },
  {
   "cell_type": "code",
   "execution_count": null,
   "id": "47cf6e89-9d27-4574-b344-0d737a687c31",
   "metadata": {
    "scrolled": true
   },
   "outputs": [],
   "source": [
    "'''\n",
    "------------------------------------------------------------------------------\n",
    "DESCRIPTION\n",
    "------------------------------------------------------------------------------\n",
    "Purpose\n",
    "-------\n",
    "Post-process slot-wise routed paths (GeoJSON) into a grid-based, time-aware\n",
    "traversal summary. Each reconstructed polyline is raster-walked across a\n",
    "regular grid using a Bresenham-style line traversal, converting distance\n",
    "traversed into cumulative \"reaching time\" per grid cell.\n",
    "\n",
    "Terminology (as used in the paper/artifact)\n",
    "-------------------------------------------\n",
    "• \"Big box\"  := a cellular area (coarse grid cell). It aggregates K×K small boxes.\n",
    "• \"Small box\": a subarea within a cellular area (fine grid cell). Map segments\n",
    "                and their traversal are attributed at this finer granularity.\n",
    "\n",
    "Inputs\n",
    "------\n",
    "• INPUT_DIR: folder containing per-slot routed polylines exported as\n",
    "             \"<stem>_paths.geojson\" (EPSG:4326). Each feature must include:\n",
    "    - geometry            : LineString of the routed path for that slot\n",
    "    - total_length_m      : total routed length (meters) within the slot\n",
    "    - duration_s          : slot traversal duration (seconds)\n",
    "    - n_points, n_paths   : metadata for sanity/QA\n",
    "    - file, date, slot_id : provenance keys\n",
    "    - start_minute_in_slot (optional): minute offset (0..M_MINUTES-1) at which\n",
    "                                       the slot’s first trajectory point occurs.\n",
    "\n",
    "Configuration\n",
    "-------------\n",
    "• BBOX          : geographic bounding box (min_lat, max_lat, min_lon, max_lon).\n",
    "• UTM_CRS       : projected CRS in meters (e.g., UTM zone 50N for Beijing).\n",
    "• CELL_SIZE_X/Y : small-box (subarea) grid resolution in meters.\n",
    "• K             : grouping factor; a big box = K×K small boxes (cellular area).\n",
    "\n",
    "Processing pipeline\n",
    "-------------------\n",
    "1) Project the geographical BBOX to UTM_CRS to obtain metric bounds.\n",
    "2) Construct a regular grid:\n",
    "     - small-grid resolution: CELL_SIZE_X by CELL_SIZE_Y (meters)\n",
    "     - big-grid resolution  : groups of K×K small cells (cellular areas)\n",
    "3) For each LineString in <stem>_paths.geojson:\n",
    "     a) Compute average speed (m/s) = total_length_m / duration_s.\n",
    "     b) Convert the line to a sequence of small-grid indices via Bresenham,\n",
    "        enumerating every crossed small cell along the path.\n",
    "     c) For each Bresenham step, increment cumulative time t_cum by\n",
    "        step_distance / average_speed, yielding the grid \"reaching time\".\n",
    "     d) Emit labels \"BIG_ID/SMALL_ID/REACH_TIME_SECONDS\" in traversal order.\n",
    "     e) Preserve 'start_minute_in_slot' if present (else -1).\n",
    "\n",
    "Outputs\n",
    "-------\n",
    "• OUTPUT_DIR/<stem>_boxes_reach.csv with columns:\n",
    "    - file, date, slot_id\n",
    "    - start_minute_in_slot     : forwarded from input (or -1 if absent)\n",
    "    - n_points, n_paths\n",
    "    - total_length_m\n",
    "    - box_labels               : semicolon-separated sequence of labels\n",
    "                                 \"BIG_ID/SMALL_ID/REACH_TIME_SECONDS\"\n",
    "\n",
    "Notes & Guarantees\n",
    "------------------\n",
    "• \"Big box\" (cellular area) IDs come from (I,J) = (i//K, j//K) where (i,j) are\n",
    "  small-grid indices. \"Small box\" (subarea) IDs index each fine cell uniquely\n",
    "  within the full grid.\n",
    "• Bresenham traversal ensures every intersected small box is visited in a\n",
    "  reproducible order with no gaps.\n",
    "• Reaching time starts at 0 s at the first encountered small box for that\n",
    "  feature and accumulates along the rasterized path.\n",
    "• Assumes inputs were generated by the prior routing pipeline and that GeoJSON\n",
    "  features are valid LineStrings with required properties.\n",
    "------------------------------------------------------------------------------\n",
    "'''\n",
    "\n",
    "\n",
    "import os\n",
    "import math\n",
    "import pandas as pd\n",
    "import geopandas as gpd\n",
    "from shapely.geometry import LineString\n",
    "\n",
    "# ---------------- CONFIG ----------------\n",
    "INPUT_DIR  = \"tdrive_routes_speed_MINUTES\"\n",
    "OUTPUT_DIR = \"tdrive_boxes_time_MINUTES\"\n",
    "# Bounding box (lat, lon)\n",
    "BBOX = (39.8, 40.05, 116.2, 116.5)  # (min_lat, max_lat, min_lon, max_lon)\n",
    "# Grid cell size in meters\n",
    "CELL_SIZE_X = 250\n",
    "CELL_SIZE_Y = 250\n",
    "\n",
    "# Grouping factor: how many small cells per big cell\n",
    "K = 4  # (e.g., 4×4 small cells = 1 big cell)\n",
    "\n",
    "# CRS for Beijing (UTM zone 50N, units = meters)\n",
    "UTM_CRS = 32650\n",
    "# ----------------------------------------\n",
    "\n",
    "\n",
    "def coord_to_grid(x, y, xmin, ymin, dx, dy):\n",
    "    \"\"\"Convert projected (x,y) into grid indices (i,j).\"\"\"\n",
    "    i = int((x - xmin) // dx)\n",
    "    j = int((y - ymin) // dy)\n",
    "    return i, j\n",
    "\n",
    "\n",
    "def bresenham(i0, j0, i1, j1):\n",
    "    \"\"\"Return grid cells between (i0,j0) and (i1,j1) using Bresenham.\"\"\"\n",
    "    cells = []\n",
    "\n",
    "    dx = abs(i1 - i0)\n",
    "    dy = abs(j1 - j0)\n",
    "    sx = 1 if i0 < i1 else -1\n",
    "    sy = 1 if j0 < j1 else -1\n",
    "    err = dx - dy\n",
    "\n",
    "    x, y = i0, j0\n",
    "    while True:\n",
    "        cells.append((x, y))\n",
    "        if x == i1 and y == j1:\n",
    "            break\n",
    "        e2 = 2 * err\n",
    "        if e2 > -dy:\n",
    "            err -= dy\n",
    "            x += sx\n",
    "        if e2 < dx:\n",
    "            err += dx\n",
    "            y += sy\n",
    "    return cells\n",
    "\n",
    "\n",
    "def step_distance(i0, j0, i1, j1, dx, dy):\n",
    "    \"\"\"Distance in meters for one Bresenham step.\"\"\"\n",
    "    if i0 == i1 or j0 == j1:\n",
    "        # horizontal or vertical step\n",
    "        return dx if i0 != i1 else dy\n",
    "    else:\n",
    "        # diagonal step\n",
    "        return math.sqrt(dx**2 + dy**2)\n",
    "\n",
    "\n",
    "def process_geojson(infile, outdir, xmin, ymin, xmax, ymax, dx, dy, nx, ny, k):\n",
    "    \"\"\"\n",
    "    Process one _paths.geojson file with Bresenham grid traversal + reaching time.\n",
    "    Also forwards the 'start_minute_in_slot' property (if present in the GeoJSON)\n",
    "    into the output CSV as a dedicated column.\n",
    "    \"\"\"\n",
    "    gdf = gpd.read_file(infile).to_crs(epsg=UTM_CRS)\n",
    "\n",
    "    # Number of big cells horizontally and vertically\n",
    "    nbx = (nx + k - 1) // k\n",
    "    nby = (ny + k - 1) // k\n",
    "\n",
    "    rows = []\n",
    "\n",
    "    for _, row in gdf.iterrows():\n",
    "        geom = row.geometry\n",
    "        if geom is None or geom.is_empty or geom.geom_type != \"LineString\":\n",
    "            continue\n",
    "\n",
    "        total_length_m = row[\"total_length_m\"]\n",
    "        duration_s = row.get(\"duration_s\", None)\n",
    "        if duration_s is None or duration_s <= 0 or total_length_m <= 0:\n",
    "            continue\n",
    "\n",
    "        # average speed (m/s) used to convert Bresenham step distances to time\n",
    "        avg_speed_mps = total_length_m / duration_s\n",
    "\n",
    "        # NEW: forward the starting minute within the slot if present in GeoJSON props\n",
    "        # falls back to -1 if not available\n",
    "        start_minute_in_slot = int(row.get(\"start_minute_in_slot\", -1))\n",
    "\n",
    "        coords = list(geom.coords)\n",
    "        timeline = []  # [\"big/small/reaching_time\"]\n",
    "\n",
    "        t_cum = 0.0  # reaching time starts at 0 (seconds)\n",
    "\n",
    "        for m in range(len(coords) - 1):\n",
    "            x0, y0 = coords[m]\n",
    "            x1, y1 = coords[m + 1]\n",
    "            i0, j0 = coord_to_grid(x0, y0, xmin, ymin, dx, dy)\n",
    "            i1, j1 = coord_to_grid(x1, y1, xmin, ymin, dx, dy)\n",
    "            cells = bresenham(i0, j0, i1, j1)\n",
    "\n",
    "            for step in range(len(cells) - 1):\n",
    "                iA, jA = cells[step]\n",
    "                iB, jB = cells[step + 1]\n",
    "\n",
    "                if iA < 0 or jA < 0 or iA >= nx or jA >= ny:\n",
    "                    continue\n",
    "\n",
    "                small_id = jA * nx + iA + 1\n",
    "                I = iA // k\n",
    "                J = jA // k\n",
    "                big_id = J * nbx + I + 1\n",
    "\n",
    "                label = f\"{big_id}/{small_id}/{round(t_cum, 2)}\"\n",
    "                timeline.append(label)\n",
    "\n",
    "                # advance time for next step\n",
    "                d = step_distance(iA, jA, iB, jB, dx, dy)\n",
    "                dt = d / avg_speed_mps\n",
    "                t_cum += dt\n",
    "\n",
    "        # Add last cell at its final reaching time\n",
    "        if timeline:\n",
    "            iL, jL = cells[-1]\n",
    "            if 0 <= iL < nx and 0 <= jL < ny:\n",
    "                small_id = jL * nx + iL + 1\n",
    "                I = iL // k\n",
    "                J = jL // k\n",
    "                big_id = J * nbx + I + 1\n",
    "                label = f\"{big_id}/{small_id}/{round(t_cum, 2)}\"\n",
    "                timeline.append(label)\n",
    "\n",
    "        rows.append({\n",
    "            \"file\": row[\"file\"],\n",
    "            \"date\": row[\"date\"],\n",
    "            \"slot_id\": row[\"slot_id\"],\n",
    "            \"start_minute_in_slot\": start_minute_in_slot,  # <<< NEW COLUMN\n",
    "            \"n_points\": row[\"n_points\"],\n",
    "            \"n_paths\": row[\"n_paths\"],\n",
    "            \"total_length_m\": total_length_m,\n",
    "            \"box_labels\": \";\".join(timeline),\n",
    "        })\n",
    "\n",
    "    # Save CSV\n",
    "    os.makedirs(outdir, exist_ok=True)\n",
    "    basename = os.path.basename(infile).replace(\"_paths.geojson\", \"_boxes_reach.csv\")\n",
    "    outfile = os.path.join(outdir, basename)\n",
    "    pd.DataFrame(rows).to_csv(outfile, index=False)\n",
    "\n",
    "    print(f\"[OK] {os.path.basename(infile)} → {os.path.basename(outfile)}\")\n",
    "\n",
    "\n",
    "def main():\n",
    "    # Prepare bbox in UTM\n",
    "    bbox_poly = gpd.GeoDataFrame(\n",
    "        geometry=[LineString([\n",
    "            (BBOX[2], BBOX[0]), (BBOX[3], BBOX[0]),\n",
    "            (BBOX[3], BBOX[1]), (BBOX[2], BBOX[1]),\n",
    "            (BBOX[2], BBOX[0])\n",
    "        ])],\n",
    "        crs=\"EPSG:4326\"\n",
    "    ).to_crs(epsg=UTM_CRS)\n",
    "\n",
    "    xmin, ymin, xmax, ymax = bbox_poly.total_bounds\n",
    "    dx, dy = CELL_SIZE_X, CELL_SIZE_Y\n",
    "\n",
    "    nx = int((xmax - xmin) // dx) + 1\n",
    "    ny = int((ymax - ymin) // dy) + 1\n",
    "    nbx = (nx + K - 1) // K\n",
    "    nby = (ny + K - 1) // K\n",
    "\n",
    "    print(f\"Total small grids: {nx * ny}\")\n",
    "    print(f\"Total big grids: {nbx * nby}\")\n",
    "\n",
    "    files = [f for f in os.listdir(INPUT_DIR) if f.endswith(\"_paths.geojson\")]\n",
    "    if not files:\n",
    "        print(\"No _paths.geojson files found.\")\n",
    "        return\n",
    "\n",
    "    print(f\"Processing {len(files)} GeoJSON files …\")\n",
    "    for fname in sorted(files):\n",
    "        infile = os.path.join(INPUT_DIR, fname)\n",
    "        process_geojson(infile, OUTPUT_DIR, xmin, ymin, xmax, ymax, dx, dy, nx, ny, K)\n",
    "\n",
    "    print(\"All files processed.\")\n",
    "\n",
    "\n",
    "if __name__ == \"__main__\":\n",
    "    main()\n"
   ]
  },
  {
   "cell_type": "code",
   "execution_count": null,
   "id": "9ffc14c7-032a-457a-8bb7-b22b56ec9b08",
   "metadata": {},
   "outputs": [],
   "source": [
    "\n",
    "\"\"\"\n",
    "Normalized Urgency-Weighted Popularity (UWP) computation across big boxes.\n",
    "\n",
    "Each *_boxes_reach.csv row has:\n",
    "  box_labels = \"big_id/small_id/reaching_time; ...\", where reaching_time is in SECONDS.\n",
    "\n",
    "Let T_final = max(reaching_time) among tokens in the row.\n",
    "We compute weights only for cross-big tokens (skip tokens where token.big_id == start_big)\n",
    "using the standard UWP formulation.\n",
    "\n",
    "Outputs one CSV per starting big box:\n",
    "  big_<BIGID>_popularity_sparse.csv with columns:\n",
    "    day_idx, slot_id, nnz, total_urgency, counts_json\n",
    "\n",
    "Notes:\n",
    "- Extra columns (e.g., start_minute_in_slot) are ignored.\n",
    "- JSON values are rounded floats (ROUND_DECIMALS).\n",
    "\"\"\"\n",
    "\n",
    "import os\n",
    "import glob\n",
    "import csv\n",
    "import json\n",
    "import math\n",
    "from collections import defaultdict, Counter\n",
    "from typing import Optional, Tuple, List\n",
    "\n",
    "import pandas as pd\n",
    "\n",
    "# ---------------- CONFIG ----------------\n",
    "INPUT_DIR  = \"/home/mandal/Documents/Beijing/tdrive_boxes_time_MINUTES\"            # where *_boxes_reach.csv live\n",
    "OUTPUT_DIR = \"/home/mandal/Documents/Beijing/tdrive_UWP_sparse_1hour_250_Normal\"  # output folder\n",
    "FILE_GLOB  = \"*_boxes_reach.csv\"\n",
    "\n",
    "# Column names expected in input CSVs\n",
    "COL_FILE       = \"file\"\n",
    "COL_DATE       = \"date\"\n",
    "COL_SLOT       = \"slot_id\"\n",
    "COL_BOX_LABELS = \"box_labels\"  # \"big/small/time;big/small/time;...\"\n",
    "\n",
    "# ---- UWP calculation parameters ----\n",
    "P             = 3.0        # higher -> more separation near the start\n",
    "CLAMP_01      = True       # clamp weights into [0,1]\n",
    "ROUND_DECIMALS = 6         # rounding for JSON values\n",
    "# ------------------------------------\n",
    "\n",
    "\n",
    "def parse_label_with_time(token: str) -> Optional[Tuple[int, int, float]]:\n",
    "    \"\"\"\n",
    "    Parse 'big/small/time' -> (big_id:int, small_id:int, t:float)\n",
    "    Returns None if parsing fails or any field is missing.\n",
    "    \"\"\"\n",
    "    try:\n",
    "        parts = token.strip().split(\"/\")\n",
    "        if len(parts) < 3:\n",
    "            return None\n",
    "        big_id = int(parts[0].strip())\n",
    "        small_id = int(parts[1].strip())\n",
    "        t = float(parts[2].strip())\n",
    "        return big_id, small_id, t\n",
    "    except Exception:\n",
    "        return None\n",
    "\n",
    "\n",
    "def build_day_index_map(all_dates: List[str]) -> dict:\n",
    "    \"\"\"Map unique date strings -> day_idx (1..N) in ascending date order.\"\"\"\n",
    "    unique_sorted = sorted(set(all_dates))\n",
    "    return {d: i + 1 for i, d in enumerate(unique_sorted)}\n",
    "\n",
    "\n",
    "def _clamp01(x: float) -> float:\n",
    "    if CLAMP_01:\n",
    "        if x < 0.0:\n",
    "            return 0.0\n",
    "        if x > 1.0:\n",
    "            return 1.0\n",
    "    return x\n",
    "\n",
    "\n",
    "def uwp_weights(times_rel: List[float]) -> List[float]:\n",
    "    \"\"\"\n",
    "    Given a list of relative times t/T_final in [0,1], return UWP weights.\n",
    "    \"\"\"\n",
    "    if not times_rel:\n",
    "        return []\n",
    "    return [_clamp01((1.0 - tr) ** P) for tr in times_rel]\n",
    "\n",
    "\n",
    "def process_folder(input_dir: str, output_dir: str) -> None:\n",
    "    os.makedirs(output_dir, exist_ok=True)\n",
    "\n",
    "    # 1) Load all *_boxes_reach.csv\n",
    "    paths = sorted(glob.glob(os.path.join(input_dir, FILE_GLOB)))\n",
    "    if not paths:\n",
    "        print(\"No *_boxes_reach.csv files found.\")\n",
    "        return\n",
    "\n",
    "    frames = []\n",
    "    for p in paths:\n",
    "        try:\n",
    "            df = pd.read_csv(p, dtype={COL_FILE: \"string\", COL_DATE: \"string\"}, keep_default_na=False)\n",
    "            # Keep only the columns we need; extra columns (e.g., start_minute_in_slot) are ignored\n",
    "            cols = [COL_FILE, COL_DATE, COL_SLOT, COL_BOX_LABELS]\n",
    "            df = df[[c for c in cols if c in df.columns]].copy()\n",
    "            frames.append(df)\n",
    "        except Exception as e:\n",
    "            print(f\"[WARN] Skipping {os.path.basename(p)}: {e}\")\n",
    "\n",
    "    if not frames:\n",
    "        print(\"No valid data after reading files.\")\n",
    "        return\n",
    "\n",
    "    data = pd.concat(frames, ignore_index=True)\n",
    "    if data.empty:\n",
    "        print(\"Input data is empty.\")\n",
    "        return\n",
    "\n",
    "    # 2) Build day indices\n",
    "    day_map = build_day_index_map(data[COL_DATE].tolist())\n",
    "    data[\"day_idx\"] = data[COL_DATE].map(day_map)\n",
    "\n",
    "    # 3) Accumulator:\n",
    "    #    uwp[start_big][(day_idx, slot_id)] = Counter({small_id: weight_sum})\n",
    "    uwp = defaultdict(lambda: defaultdict(Counter))\n",
    "\n",
    "    # 4) Iterate rows\n",
    "    for _, row in data.iterrows():\n",
    "        date_str   = row.get(COL_DATE, \"\")\n",
    "        slot_val   = row.get(COL_SLOT, None)\n",
    "        labels_str = row.get(COL_BOX_LABELS, \"\")\n",
    "\n",
    "        if not date_str or slot_val is None or not labels_str:\n",
    "            continue\n",
    "\n",
    "        try:\n",
    "            slot_id = int(slot_val)\n",
    "        except Exception:\n",
    "            continue\n",
    "\n",
    "        tokens = [tok.strip() for tok in labels_str.split(\";\") if tok.strip()]\n",
    "        if not tokens:\n",
    "            continue\n",
    "\n",
    "        # Parse all tokens with time\n",
    "        parsed = [parse_label_with_time(tok) for tok in tokens]\n",
    "        parsed = [x for x in parsed if x is not None]\n",
    "        if not parsed:\n",
    "            continue\n",
    "\n",
    "        # Determine starting big box from the FIRST token\n",
    "        start_big = parsed[0][0]\n",
    "\n",
    "        # Destination time = maximum reaching time among ALL tokens in this row\n",
    "        T_final = max(t for (_, _, t) in parsed)\n",
    "        if T_final <= 0:\n",
    "            continue\n",
    "\n",
    "        # Consider only cross-big tokens for weighting\n",
    "        cross = [(big, small, t) for (big, small, t) in parsed if big != start_big]\n",
    "        if not cross:\n",
    "            continue\n",
    "\n",
    "        # Relative times for selected tokens\n",
    "        times_rel = [t / T_final for (_, _, t) in cross]\n",
    "\n",
    "        # Compute UWP weights\n",
    "        w_list = uwp_weights(times_rel)\n",
    "\n",
    "        day_idx = day_map[date_str]\n",
    "        ctr = uwp[start_big][(day_idx, slot_id)]\n",
    "\n",
    "        # Accumulate weights per small_id\n",
    "        for ((_, small_id, _), w) in zip(cross, w_list):\n",
    "            ctr[int(small_id)] += float(w)\n",
    "\n",
    "    # 5) Write one CSV per starting big box\n",
    "    for start_big, bucket in uwp.items():\n",
    "        out_path = os.path.join(output_dir, f\"big_{start_big}_popularity_sparse.csv\")\n",
    "        with open(out_path, \"w\", newline=\"\") as f:\n",
    "            writer = csv.writer(f)\n",
    "            # Header: day_idx, slot_id, nnz (#unique small boxes), total_urgency, counts_json\n",
    "            writer.writerow([\"day_idx\", \"slot_id\", \"nnz\", \"total_urgency\", \"counts_json\"])\n",
    "            for (day_idx, slot_id), ctr in sorted(bucket.items()):\n",
    "                nnz = len(ctr)\n",
    "                total_urgency = float(sum(ctr.values()))\n",
    "                counts_json = json.dumps(\n",
    "                    {str(k): round(float(v), ROUND_DECIMALS) for k, v in sorted(ctr.items())},\n",
    "                    separators=(',', ':'), sort_keys=True\n",
    "                )\n",
    "                writer.writerow([day_idx, slot_id, nnz, round(total_urgency, ROUND_DECIMALS), counts_json])\n",
    "\n",
    "        print(f\"[OK] Wrote {os.path.basename(out_path)} with {len(bucket)} rows (UWP computed)\")\n",
    "\n",
    "    # Also write day index map for reference\n",
    "    pd.DataFrame(\n",
    "        [{\"date\": d, \"day_idx\": idx} for d, idx in sorted(day_map.items(), key=lambda x: x[1])]\n",
    "    ).to_csv(os.path.join(output_dir, \"day_index_map.csv\"), index=False)\n",
    "    print(\"[OK] Wrote day_index_map.csv\")\n",
    "\n",
    "\n",
    "def main():\n",
    "    os.makedirs(OUTPUT_DIR, exist_ok=True)\n",
    "    process_folder(INPUT_DIR, OUTPUT_DIR)\n",
    "\n",
    "\n",
    "if __name__ == \"__main__\":\n",
    "    main()"
   ]
  },
  {
   "cell_type": "code",
   "execution_count": null,
   "id": "66d08c8b-2602-46b9-982b-ba25a1217b6c",
   "metadata": {},
   "outputs": [],
   "source": [
    "\"\"\"\n",
    "Chosing the cellular areas (big_boxes) for the experimemts.\n",
    "Enumerate small_ids across selected big boxes, align rows/columns, and write:\n",
    "  - global_small_ids.csv        : col_idx (0-based), small_id\n",
    "  - reverse_small_ids.csv       : small_id, col_idx (0-based)\n",
    "  - big_<ID>_vectors.csv        : day_idx, slot_id, vector (zero-filled, aligned)\n",
    "\n",
    "Behavior:\n",
    "- Columns = UNION of small_ids observed in the SELECTED files only (not the whole folder).\n",
    "- Rows    = UNION of (day_idx, slot_id) across the SELECTED files; zero-fill where missing.\n",
    "- Values  = parsed from counts_json as float (works for both popularity ints and UWP floats).\n",
    "\n",
    "Adjust SPARSE_DIR / OUT_DIR / BIG_IDS as needed.\n",
    "\"\"\"\n",
    "\n",
    "import os\n",
    "import glob\n",
    "import csv\n",
    "import json\n",
    "import pandas as pd\n",
    "\n",
    "# ---------------- CONFIG ----------------\n",
    "SPARSE_DIR = \"tdrive_UWP_sparse_1hour_250_Normal\"  # or popularity folder\n",
    "OUT_DIR    = \"UWP_ENUM_Minutes\"    # output folder\n",
    "FILE_GLOB  = \"big_*_popularity_sparse.csv\"\n",
    "\n",
    "# Select ONLY these big boxes; global small_ids are built from them\n",
    "BIG_IDS = [21, 22]   # <-- edit as needed\n",
    "\n",
    "# Vector serialization (keep float to support UWP). If using pure ints, it's fine too.\n",
    "ROUND_DECIMALS = 6\n",
    "# ----------------------------------------\n",
    "\n",
    "\n",
    "def safe_load_json(s: str):\n",
    "    try:\n",
    "        return json.loads(s) if isinstance(s, str) and s else {}\n",
    "    except Exception:\n",
    "        return {}\n",
    "\n",
    "\n",
    "def list_available_files(sparse_dir: str, pattern: str):\n",
    "    \"\"\"Return {big_id: filepath} for all matching files.\"\"\"\n",
    "    out = {}\n",
    "    for p in glob.glob(os.path.join(sparse_dir, pattern)):\n",
    "        base = os.path.basename(p)\n",
    "        if base.startswith(\"big_\") and base.endswith(\"_popularity_sparse.csv\"):\n",
    "            core = base[len(\"big_\"):-len(\"_popularity_sparse.csv\")]\n",
    "            try:\n",
    "                out[int(core)] = p\n",
    "            except Exception:\n",
    "                pass\n",
    "    return out\n",
    "\n",
    "\n",
    "def collect_union_small_ids(files_map):\n",
    "    \"\"\"Union of small_ids across the selected files, returned as a sorted list.\"\"\"\n",
    "    sids = set()\n",
    "    for _, path in sorted(files_map.items()):\n",
    "        try:\n",
    "            df = pd.read_csv(path, usecols=[\"counts_json\"])\n",
    "        except Exception:\n",
    "            continue\n",
    "        for _, r in df.iterrows():\n",
    "            d = safe_load_json(r.get(\"counts_json\", \"\"))\n",
    "            for k in d.keys():\n",
    "                try:\n",
    "                    sids.add(int(k))\n",
    "                except Exception:\n",
    "                    continue\n",
    "    return sorted(sids)\n",
    "\n",
    "\n",
    "def collect_union_day_slot(files_map):\n",
    "    \"\"\"Union of (day_idx, slot_id) across selected files, returned as a sorted DataFrame.\"\"\"\n",
    "    pairs = set()\n",
    "    for _, path in files_map.items():\n",
    "        try:\n",
    "            df = pd.read_csv(path, usecols=[\"day_idx\", \"slot_id\"])\n",
    "        except Exception:\n",
    "            continue\n",
    "        for _, r in df.iterrows():\n",
    "            d = r.get(\"day_idx\")\n",
    "            s = r.get(\"slot_id\")\n",
    "            if pd.notna(d) and pd.notna(s):\n",
    "                try:\n",
    "                    pairs.add((int(d), int(s)))\n",
    "                except Exception:\n",
    "                    pass\n",
    "    if not pairs:\n",
    "        return pd.DataFrame(columns=[\"day_idx\", \"slot_id\"])\n",
    "    return pd.DataFrame(sorted(pairs), columns=[\"day_idx\", \"slot_id\"])\n",
    "\n",
    "\n",
    "def write_global_index(out_dir, small_ids_sorted):\n",
    "    \"\"\"Write the enumeration mapping: col_idx (0-based), small_id.\"\"\"\n",
    "    os.makedirs(out_dir, exist_ok=True)\n",
    "    path = os.path.join(out_dir, \"global_small_ids.csv\")\n",
    "    with open(path, \"w\", newline=\"\") as f:\n",
    "        w = csv.writer(f)\n",
    "        w.writerow([\"col_idx\", \"small_id\"])\n",
    "        for i, sid in enumerate(small_ids_sorted):  # 0-based\n",
    "            w.writerow([i, sid])\n",
    "    print(f\"[OK] Wrote global_small_ids.csv (K={len(small_ids_sorted)})\")\n",
    "\n",
    "\n",
    "def write_reverse_mapping(out_dir, small_ids_sorted):\n",
    "    \"\"\"Write reverse mapping: small_id -> col_idx (0-based).\"\"\"\n",
    "    path = os.path.join(out_dir, \"reverse_small_ids.csv\")\n",
    "    with open(path, \"w\", newline=\"\") as f:\n",
    "        w = csv.writer(f)\n",
    "        w.writerow([\"small_id\", \"col_idx\"])\n",
    "        for i, sid in enumerate(small_ids_sorted):  # 0-based\n",
    "            w.writerow([sid, i])\n",
    "    print(f\"[OK] Wrote reverse_small_ids.csv (K={len(small_ids_sorted)})\")\n",
    "\n",
    "\n",
    "def vector_to_string(vec):\n",
    "    return \"[\" + \",\".join(f\"{v:.{ROUND_DECIMALS}f}\" for v in vec) + \"]\"\n",
    "\n",
    "\n",
    "def load_sparse_map(path):\n",
    "    \"\"\"\n",
    "    Load one big_* file into:\n",
    "      {(day_idx, slot_id): {small_id: float_value, ...}}\n",
    "    \"\"\"\n",
    "    out = {}\n",
    "    try:\n",
    "        df = pd.read_csv(path)\n",
    "    except Exception:\n",
    "        return out\n",
    "\n",
    "    if not {\"day_idx\", \"slot_id\", \"counts_json\"}.issubset(df.columns):\n",
    "        return out\n",
    "\n",
    "    for _, r in df.iterrows():\n",
    "        d = r.get(\"day_idx\")\n",
    "        s = r.get(\"slot_id\")\n",
    "        if pd.isna(d) or pd.isna(s):\n",
    "            continue\n",
    "        try:\n",
    "            key = (int(d), int(s))\n",
    "        except Exception:\n",
    "            continue\n",
    "        dd = {}\n",
    "        counts = safe_load_json(r.get(\"counts_json\", \"\"))\n",
    "        for k, v in counts.items():\n",
    "            try:\n",
    "                dd[int(k)] = float(v)  # supports UWP floats & int popularity\n",
    "            except Exception:\n",
    "                continue\n",
    "        out[key] = dd\n",
    "    return out\n",
    "\n",
    "\n",
    "def convert_to_vectors(files_map, small_ids_sorted, union_day_slot, out_dir):\n",
    "    \"\"\"Write one vectors CSV per selected big box, zero-filling missing.\"\"\"\n",
    "    os.makedirs(out_dir, exist_ok=True)\n",
    "    col_index = {sid: i for i, sid in enumerate(small_ids_sorted)}\n",
    "    K = len(small_ids_sorted)\n",
    "\n",
    "    for bid, path in sorted(files_map.items()):\n",
    "        sparse_map = load_sparse_map(path)\n",
    "        rows = []\n",
    "\n",
    "        for _, rs in union_day_slot.iterrows():\n",
    "            d = int(rs[\"day_idx\"])\n",
    "            s = int(rs[\"slot_id\"])\n",
    "            dd = sparse_map.get((d, s), {})  # {} => zero vector\n",
    "\n",
    "            vec = [0.0] * K\n",
    "            for sid, val in dd.items():\n",
    "                j = col_index.get(sid)\n",
    "                if j is not None:\n",
    "                    vec[j] = val\n",
    "\n",
    "            rows.append({\"day_idx\": d, \"slot_id\": s, \"vector\": vector_to_string(vec)})\n",
    "\n",
    "        out_df = pd.DataFrame(rows).sort_values([\"day_idx\", \"slot_id\"])\n",
    "        out_name = f\"big_{bid}_vectors.csv\"\n",
    "        out_path = os.path.join(out_dir, out_name)\n",
    "        out_df.to_csv(out_path, index=False)\n",
    "        print(f\"[OK] Wrote {out_name}  rows={len(out_df)}  vec_dim={K}\")\n",
    "\n",
    "\n",
    "def main():\n",
    "    # Keep ONLY the selected big boxes\n",
    "    all_files = list_available_files(SPARSE_DIR, FILE_GLOB)\n",
    "    files_map = {bid: all_files[bid] for bid in BIG_IDS if bid in all_files}\n",
    "    missing = [bid for bid in BIG_IDS if bid not in files_map]\n",
    "    if missing:\n",
    "        print(f\"[WARN] Missing big IDs: {missing}\")\n",
    "    if not files_map:\n",
    "        print(\"ERROR: none of the requested big IDs exist in the folder.\")\n",
    "        return\n",
    "\n",
    "    # 1) UNION of small_ids across selected files -> enumerate 0..K-1\n",
    "    small_ids_sorted = collect_union_small_ids(files_map)\n",
    "    write_global_index(OUT_DIR, small_ids_sorted)\n",
    "    write_reverse_mapping(OUT_DIR, small_ids_sorted)\n",
    "\n",
    "    # 2) UNION of (day_idx, slot_id) across selected files -> consistent rows\n",
    "    union_day_slot = collect_union_day_slot(files_map)\n",
    "    if union_day_slot.empty:\n",
    "        print(\"[INFO] No (day_idx, slot_id) pairs found. Nothing to write.\")\n",
    "        return\n",
    "\n",
    "    # 3) Convert each selected file -> aligned, zero-filled vectors\n",
    "    convert_to_vectors(files_map, small_ids_sorted, union_day_slot, OUT_DIR)\n",
    "\n",
    "    print(f\"All done. Outputs at: {OUT_DIR}\")\n",
    "\n",
    "\n",
    "if __name__ == \"__main__\":\n",
    "    main()"
   ]
  },
  {
   "cell_type": "code",
   "execution_count": null,
   "id": "57282862-255e-4c9b-a6e8-aa17a9363e33",
   "metadata": {},
   "outputs": [],
   "source": [
    "\"\"\"\n",
    "Combine fully-prepared big_<ID>_vectors.csv files into one 3D NumPy tensor.\n",
    "\n",
    "Input  : big_<ID>_vectors.csv  (each already zero-filled)\n",
    "Output : big_tensor.npy  → can be loaded later with np.load()\n",
    "\n",
    "Tensor shape: (num_big_boxes, num_timeslots, vector_length)\n",
    "Example     : (2, 100, 5307)\n",
    "\"\"\"\n",
    "\n",
    "import os\n",
    "import ast\n",
    "import numpy as np\n",
    "import pandas as pd\n",
    "\n",
    "# ---------------- CONFIG ----------------\n",
    "INPUT_DIR = \"UWP_ENUM_Minutes\"\n",
    "FILES = [\"big_21_vectors.csv\", \"big_22_vectors.csv\"]\n",
    "SAVE_PATH = \"/home/mandal/Documents/Beijing/big_UWP_tensor.npy\"\n",
    "# ----------------------------------------\n",
    "\n",
    "\n",
    "def parse_vector(vec_str):\n",
    "    \"\"\"Convert '[0,1,2,...]' string into list[int].\"\"\"\n",
    "    try:\n",
    "        return [float(x) for x in ast.literal_eval(vec_str)]\n",
    "    except Exception:\n",
    "        return []\n",
    "\n",
    "tensors = []\n",
    "big_ids = []\n",
    "\n",
    "for fname in FILES:\n",
    "    path = os.path.join(INPUT_DIR, fname)\n",
    "    if not os.path.exists(path):\n",
    "        print(f\"[WARN] File not found: {path}\")\n",
    "        continue\n",
    "\n",
    "    # Infer big_id from filename (e.g., 'big_21_vectors.csv' → 21)\n",
    "    try:\n",
    "        bid = int(fname.replace(\"big_\", \"\").replace(\"_vectors.csv\", \"\"))\n",
    "    except Exception:\n",
    "        bid = None\n",
    "\n",
    "    df = pd.read_csv(path)\n",
    "    df[\"vector_list\"] = df[\"vector\"].apply(parse_vector)\n",
    "\n",
    "    # Convert list of lists into NumPy array (num_timeslots, vector_len)\n",
    "    arr = np.array(df[\"vector_list\"].to_list())\n",
    "    tensors.append(arr)\n",
    "    big_ids.append(bid)\n",
    "    print(f\"[OK] Loaded {fname} → shape {arr.shape}\")\n",
    "\n",
    "if not tensors:\n",
    "    print(\"No valid CSV files loaded.\")\n",
    "    #return\n",
    "\n",
    "# Stack into final tensor (num_big_boxes, num_timeslots, vector_len)\n",
    "tensor = np.stack(tensors, axis=0)\n",
    "print(f\"\\n Final tensor shape: {tensor.shape}\")\n",
    "print(f\"Big IDs (axis 0 order): {big_ids}\")\n",
    "\n",
    "# Save as .npy file for easy np.load() use later\n",
    "os.makedirs(os.path.dirname(SAVE_PATH), exist_ok=True)\n",
    "np.save(SAVE_PATH, tensor)\n",
    "print(f\"[OK] Saved NumPy tensor to: {SAVE_PATH}\")\n",
    "\n",
    "# (Optional) also save order of big_ids\n",
    "np.save(os.path.join(os.path.dirname(SAVE_PATH), \"big_ids_order.npy\"), np.array(big_ids))\n",
    "print(f\"[OK] Saved big_ids order array.\")"
   ]
  },
  {
   "cell_type": "code",
   "execution_count": null,
   "id": "79d595ca-69d9-49a6-90e2-6efe2fbd5f81",
   "metadata": {
    "scrolled": true
   },
   "outputs": [],
   "source": [
    "\"\"\"\n",
    "This code produces, for each cellular area (“big box”) and time slot, the list of\n",
    "HD map segments (small boxes) requested by vehicles together with their Urgency-Weighted Popularity (UWP) weights.\n",
    "\n",
    "INPUT_DIR contains many *_boxes_reach.csv files with columns:\n",
    "  - file (original taxi filename; vehicle id derived from its stem)\n",
    "  - date (YYYY-MM-DD)\n",
    "  - slot_id (integer hour slot)\n",
    "  - start_minute_in_slot (optional; integer minute within slot)\n",
    "  - box_labels: \"big_id/small_id/reaching_time;big_id/small_id/reaching_time;...\"\n",
    "\n",
    "For each row:\n",
    "  - Determine starting big box (start_big) from the FIRST token's big_id.\n",
    "  - Compute T_final = max(reaching_time) across tokens in the row.\n",
    "  - Build a sublist: [vehicle_id, start_minute, [[small_id, uwp_weight], ...]],\n",
    "    where uwp_weight is computed from relative time t/T_final via the UWP formula.\n",
    "  - Only include tokens whose big_id != start_big (skip within-same-big-box visits).\n",
    "\n",
    "We aggregate by (start_big, day_idx, slot_id).\n",
    "For each (day_idx, slot_id), we collect a list of those sublists (one per input row).\n",
    "\n",
    "OUTPUT:\n",
    "  OUTPUT_DIR / big_<BIGID>.csv\n",
    "    Columns:\n",
    "      - day_idx\n",
    "      - slot_id\n",
    "      - entries_json   (JSON array of sublists as described above)\n",
    "\n",
    "Also writes:\n",
    "  OUTPUT_DIR / day_index_map.csv  (date -> day_idx mapping)\n",
    "\"\"\"\n",
    "\n",
    "import os\n",
    "import glob\n",
    "import json\n",
    "import csv\n",
    "import math\n",
    "from collections import defaultdict\n",
    "from typing import Optional, Tuple, List\n",
    "\n",
    "import pandas as pd\n",
    "\n",
    "# ---------------- CONFIG ----------------\n",
    "INPUT_DIR  = \"tdrive_boxes_time_MINUTES\"\n",
    "OUTPUT_DIR = \"bigbox_slot_dicts_uwp\"\n",
    "FILE_GLOB  = \"*_boxes_reach.csv\"\n",
    "\n",
    "# UWP parameters\n",
    "P         = 3.0     # controls separation (higher → sharper early emphasis)\n",
    "CLAMP_01  = True    # clamp weights to [0,1]\n",
    "ROUND_DEC = 6       # rounding for weights inside JSON\n",
    "\n",
    "# Column names in *_boxes_reach.csv\n",
    "COL_FILE        = \"file\"\n",
    "COL_DATE        = \"date\"\n",
    "COL_SLOT        = \"slot_id\"\n",
    "COL_BOX_LABELS  = \"box_labels\"\n",
    "COL_START_MIN   = \"start_minute_in_slot\"  # optional\n",
    "# ----------------------------------------\n",
    "\n",
    "\n",
    "def parse_label_with_time(token: str) -> Optional[Tuple[int, int, float]]:\n",
    "    \"\"\"Parse 'big/small/time' -> (big_id:int, small_id:int, t:float).\"\"\"\n",
    "    try:\n",
    "        parts = token.strip().split(\"/\")\n",
    "        if len(parts) < 3:\n",
    "            return None\n",
    "        big_id = int(parts[0].strip())\n",
    "        small_id = int(parts[1].strip())\n",
    "        t = float(parts[2].strip())\n",
    "        return big_id, small_id, t\n",
    "    except Exception:\n",
    "        return None\n",
    "\n",
    "\n",
    "def build_day_index_map(all_dates: List[str]) -> dict:\n",
    "    \"\"\"Map unique date strings -> day_idx (1..N) in ascending date order.\"\"\"\n",
    "    uniq = sorted(set(all_dates))\n",
    "    return {d: i + 1 for i, d in enumerate(uniq)}\n",
    "\n",
    "\n",
    "def stem_from_path(path: str) -> str:\n",
    "    \"\"\"Return basename without extension.\"\"\"\n",
    "    base = os.path.basename(path)\n",
    "    if \".\" in base:\n",
    "        return \".\".join(base.split(\".\")[:-1]) or base\n",
    "    return base\n",
    "\n",
    "\n",
    "def extract_vehicle_id(file_field: str) -> str:\n",
    "    \"\"\"Derive vehicle id from the 'file' column by taking the stem.\"\"\"\n",
    "    return stem_from_path(file_field)\n",
    "\n",
    "\n",
    "def _clamp01(x: float) -> float:\n",
    "    if CLAMP_01:\n",
    "        if x < 0.0:\n",
    "            return 0.0\n",
    "        if x > 1.0:\n",
    "            return 1.0\n",
    "    return x\n",
    "\n",
    "\n",
    "def uwp_weights(times_rel: List[float]) -> List[float]:\n",
    "    \"\"\"\n",
    "    Given relative times t/T in [0,1] for cross-big tokens of a row,\n",
    "    return per-token UWP weights: w = (1 - t/T)^P.\n",
    "    \"\"\"\n",
    "    if not times_rel:\n",
    "        return []\n",
    "    return [_clamp01((1.0 - tr) ** P) for tr in times_rel]\n",
    "\n",
    "\n",
    "def process(input_dir: str, output_dir: str) -> None:\n",
    "    os.makedirs(output_dir, exist_ok=True)\n",
    "\n",
    "    # 1) Load all *_boxes_reach.csv\n",
    "    paths = sorted(glob.glob(os.path.join(input_dir, FILE_GLOB)))\n",
    "    if not paths:\n",
    "        print(\"No *_boxes_reach.csv files found.\")\n",
    "        return\n",
    "\n",
    "    frames = []\n",
    "    for p in paths:\n",
    "        try:\n",
    "            df = pd.read_csv(\n",
    "                p,\n",
    "                dtype={COL_FILE: \"string\", COL_DATE: \"string\"},\n",
    "                keep_default_na=False,\n",
    "            )\n",
    "            # Keep only relevant columns; tolerate missing start_minute_in_slot\n",
    "            cols = [COL_FILE, COL_DATE, COL_SLOT, COL_BOX_LABELS, COL_START_MIN]\n",
    "            df = df[[c for c in cols if c in df.columns]].copy()\n",
    "            frames.append(df)\n",
    "        except Exception as e:\n",
    "            print(f\"[WARN] Skipping {os.path.basename(p)}: {e}\")\n",
    "\n",
    "    if not frames:\n",
    "        print(\"No valid data after reading files.\")\n",
    "        return\n",
    "\n",
    "    data = pd.concat(frames, ignore_index=True)\n",
    "    if data.empty:\n",
    "        print(\"Input data is empty.\")\n",
    "        return\n",
    "\n",
    "    # 2) day_idx mapping\n",
    "    day_map = build_day_index_map(data[COL_DATE].tolist())\n",
    "    data[\"day_idx\"] = data[COL_DATE].map(day_map)\n",
    "\n",
    "    has_start_min_col = (COL_START_MIN in data.columns)\n",
    "\n",
    "    # 3) Accumulator:\n",
    "    # agg[start_big][(day_idx, slot_id)] = list of sublists\n",
    "    # sublist = [vehicle_id, start_minute, [[small_id, uwp_weight], ...]]\n",
    "    agg = defaultdict(lambda: defaultdict(list))\n",
    "\n",
    "    # 4) Iterate rows\n",
    "    for _, row in data.iterrows():\n",
    "        date_str   = row.get(COL_DATE, \"\")\n",
    "        slot_val   = row.get(COL_SLOT, None)\n",
    "        labels_str = row.get(COL_BOX_LABELS, \"\")\n",
    "        file_val   = row.get(COL_FILE, \"\")\n",
    "\n",
    "        if not date_str or slot_val is None or not labels_str or not file_val:\n",
    "            continue\n",
    "\n",
    "        try:\n",
    "            slot_id = int(slot_val)\n",
    "        except Exception:\n",
    "            continue\n",
    "\n",
    "        tokens = [tok.strip() for tok in str(labels_str).split(\";\") if tok.strip()]\n",
    "        if not tokens:\n",
    "            continue\n",
    "\n",
    "        parsed = [parse_label_with_time(tok) for tok in tokens]\n",
    "        parsed = [x for x in parsed if x is not None]\n",
    "        if not parsed:\n",
    "            continue\n",
    "\n",
    "        # Start big from FIRST token\n",
    "        start_big = parsed[0][0]\n",
    "\n",
    "        # Destination time = max reaching time among tokens\n",
    "        T_final = max(t for (_, _, t) in parsed)\n",
    "        # If no time progression, we end up with empty weights for this row\n",
    "        if T_final <= 0:\n",
    "            uwp_pairs: List[List[float]] = []\n",
    "        else:\n",
    "            # Keep only cross-big visits\n",
    "            cross = [(bid, sid, t) for (bid, sid, t) in parsed if bid != start_big]\n",
    "            if not cross:\n",
    "                uwp_pairs = []\n",
    "            else:\n",
    "                times_rel = [t / T_final for (_, _, t) in cross]\n",
    "                w_list = uwp_weights(times_rel)\n",
    "                uwp_pairs = [[int(sid), round(float(w), ROUND_DEC)] for ((_, sid, _), w) in zip(cross, w_list)]\n",
    "\n",
    "        # minute\n",
    "        if has_start_min_col:\n",
    "            try:\n",
    "                m = row.get(COL_START_MIN, -1)\n",
    "                start_min = int(m) if pd.notna(m) else -1\n",
    "            except Exception:\n",
    "                start_min = -1\n",
    "        else:\n",
    "            start_min = -1\n",
    "\n",
    "        # vehicle id\n",
    "        vehicle_id = extract_vehicle_id(str(file_val))\n",
    "\n",
    "        # sublist for this row\n",
    "        sublist = [vehicle_id, start_min, uwp_pairs]\n",
    "\n",
    "        day_idx = int(row[\"day_idx\"])\n",
    "        agg[start_big][(day_idx, slot_id)].append(sublist)\n",
    "\n",
    "    # 5) Write one CSV per start_big\n",
    "    for start_big, bucket in agg.items():\n",
    "        out_path = os.path.join(output_dir, f\"big_{start_big}.csv\")\n",
    "        with open(out_path, \"w\", newline=\"\") as f:\n",
    "            w = csv.writer(f)\n",
    "            w.writerow([\"day_idx\", \"slot_id\", \"entries_json\"])\n",
    "            for (day_idx, slot_id) in sorted(bucket.keys()):\n",
    "                entries = bucket[(day_idx, slot_id)]  # list of sublists\n",
    "                entries_json = json.dumps(entries, separators=(\",\", \":\"), ensure_ascii=False)\n",
    "                w.writerow([day_idx, slot_id, entries_json])\n",
    "        print(f\"[OK] Wrote {os.path.basename(out_path)} with {len(bucket)} keys\")\n",
    "\n",
    "    # Also write reference day index map\n",
    "    day_map_path = os.path.join(output_dir, \"day_index_map.csv\")\n",
    "    pd.DataFrame(\n",
    "        [{\"date\": d, \"day_idx\": idx} for d, idx in sorted(day_map.items(), key=lambda x: x[1])]\n",
    "    ).to_csv(day_map_path, index=False)\n",
    "    print(f\"[OK] Wrote day_index_map.csv at {day_map_path}\")\n",
    "\n",
    "\n",
    "def main():\n",
    "    os.makedirs(OUTPUT_DIR, exist_ok=True)\n",
    "    process(INPUT_DIR, OUTPUT_DIR)\n",
    "\n",
    "\n",
    "if __name__ == \"__main__\":\n",
    "    main()\n"
   ]
  },
  {
   "cell_type": "code",
   "execution_count": null,
   "id": "ddb384db-d03b-47d0-83cc-a7de573e28bb",
   "metadata": {},
   "outputs": [],
   "source": [
    "\"\"\"\n",
    "Build a nested Python dictionary from multiple big_<ID>.csv files, the cellular areas which are considered together for experiments from\n",
    "all the cellular area in the city.\n",
    "\n",
    "INPUT:\n",
    "  - BIGBOX_IDS: list of big box IDs to load\n",
    "  - Each file: OUTPUT_DIR / big_<ID>.csv\n",
    "      Columns: day_idx, slot_id, entries_json\n",
    "      entries_json = list of sublists: [vehicle_id, start_minute, [[small_id, uwp_weight], ...]]\n",
    "\n",
    "OUTPUT:\n",
    "  - A Python dictionary with structure:\n",
    "        result = {\n",
    "            big_id_1: {\n",
    "                (day_idx, slot_id): [\n",
    "                    [vehicle_id, start_minute, [[small_id, uwp_weight], ...]],\n",
    "                    ...\n",
    "                ],\n",
    "                ...\n",
    "            },\n",
    "            big_id_2: {\n",
    "                ...\n",
    "            },\n",
    "            ...\n",
    "        }\n",
    "\"\"\"\n",
    "\n",
    "import os\n",
    "import json\n",
    "import pandas as pd\n",
    "\n",
    "# ---------------- CONFIG ----------------\n",
    "INPUT_DIR = \"bigbox_slot_dicts_uwp\"  # folder with big_<ID>.csv\n",
    "BIGBOX_IDS = [21,22]   # For Cellular area 21,22\n",
    "# ----------------------------------------\n",
    "\n",
    "\n",
    "def load_bigbox_dict(input_dir: str, big_ids: list) -> dict:\n",
    "    \"\"\"\n",
    "    Load multiple big_<ID>.csv files into a nested dictionary.\n",
    "    \"\"\"\n",
    "    result = {}\n",
    "\n",
    "    for bid in big_ids:\n",
    "        path = os.path.join(input_dir, f\"big_{bid}.csv\")\n",
    "        if not os.path.exists(path):\n",
    "            print(f\"[WARN] File not found: {path}\")\n",
    "            continue\n",
    "\n",
    "        df = pd.read_csv(path, dtype={\"day_idx\": int, \"slot_id\": int})\n",
    "        big_dict = {}\n",
    "\n",
    "        for _, row in df.iterrows():\n",
    "            day_idx = int(row[\"day_idx\"])\n",
    "            slot_id = int(row[\"slot_id\"])\n",
    "            key = (day_idx, slot_id)\n",
    "\n",
    "            try:\n",
    "                entries = json.loads(row[\"entries_json\"])\n",
    "            except json.JSONDecodeError:\n",
    "                print(f\"[ERROR] JSON parse failed for big {bid}, day {day_idx}, slot {slot_id}\")\n",
    "                entries = []\n",
    "\n",
    "            big_dict[key] = entries\n",
    "\n",
    "        result[bid] = big_dict\n",
    "        print(f\"[OK] Loaded big_{bid}.csv → {len(big_dict)} time slots\")\n",
    "\n",
    "    return result\n",
    "\n",
    "\n",
    "bigbox_data = load_bigbox_dict(INPUT_DIR, BIGBOX_IDS)\n",
    "\n",
    "# ✅ Example usage: iterate over dictionary\n",
    "for bid, slots in bigbox_data.items():\n",
    "    print(f\"\\n=== BIG BOX {bid} ===\")\n",
    "    for (day_idx, slot_id), entries in list(slots.items())[:3]:  # show first 3\n",
    "        print(f\"Day {day_idx}, Slot {slot_id}: {len(entries)} vehicle records\")\n",
    "        for vehicle_entry in entries[:2]:  # show first 2 vehicles\n",
    "            print(\"   \", vehicle_entry)\n",
    "\n",
    "# Optionally, save thea dictionary as JSON (if you want)\n",
    "out_json = os.path.join(INPUT_DIR, \"combined_bigbox_dict.json\")\n",
    "with open(out_json, \"w\") as f:\n",
    "    json.dump(bigbox_data, f, indent=2)\n",
    "print(f\"\\n[OK] Combined dictionary saved to {out_json}\")"
   ]
  },
  {
   "cell_type": "code",
   "execution_count": null,
   "id": "f0433bb4-ab44-408b-b82e-0481a8ce1f0c",
   "metadata": {},
   "outputs": [],
   "source": [
    "import pandas as pd\n",
    "import copy\n",
    "\n",
    "def load_reverse_map(csv_path: str) -> dict:\n",
    "    \"\"\"\n",
    "    reverse_small_ids.csv -> {small_id: col_idx}\n",
    "    \"\"\"\n",
    "    df = pd.read_csv(csv_path, dtype={\"small_id\": int, \"col_idx\": int})\n",
    "    return dict(zip(df[\"small_id\"], df[\"col_idx\"]))\n",
    "\n",
    "def map_small_ids_to_global(bigbox_data: dict,\n",
    "                            reverse_map_csv: str,\n",
    "                            skip_unmapped: bool = True,\n",
    "                            inplace: bool = False) -> dict:\n",
    "    \"\"\"\n",
    "    Replace small_id with global col_idx using reverse_small_ids.csv.\n",
    "\n",
    "    Parameters\n",
    "    ----------\n",
    "    bigbox_data : dict\n",
    "        { big_id: { (day_idx, slot_id): [ [vehicle_id, start_minute, [[small_id, weight], ...]], ... ] } }\n",
    "    reverse_map_csv : str\n",
    "        Path to CSV with columns: small_id,col_idx\n",
    "    skip_unmapped : bool\n",
    "        If True, drops pairs whose small_id isn't in the reverse map.\n",
    "        If False, keeps original small_id for those pairs.\n",
    "    inplace : bool\n",
    "        If True, modify bigbox_data in place. Otherwise, return a deep-copied mapped dict.\n",
    "\n",
    "    Returns\n",
    "    -------\n",
    "    dict\n",
    "        Same structure as input, with small_ids replaced by col_idx where mapped.\n",
    "    \"\"\"\n",
    "    rev_map = load_reverse_map(reverse_map_csv)\n",
    "\n",
    "    target = bigbox_data if inplace else copy.deepcopy(bigbox_data)\n",
    "\n",
    "    missing = 0\n",
    "    total   = 0\n",
    "\n",
    "    for big_id, slot_dict in target.items():\n",
    "        for key, vehicle_list in slot_dict.items():\n",
    "            # vehicle_list: [ [vehicle_id, start_minute, [[small_id, weight], ...]], ... ]\n",
    "            for entry in vehicle_list:\n",
    "                # entry: [vehicle_id, start_minute, pairs]\n",
    "                pairs = entry[2]\n",
    "                new_pairs = []\n",
    "                for sid, w in pairs:\n",
    "                    total += 1\n",
    "                    sid_int = int(sid)\n",
    "                    if sid_int in rev_map:\n",
    "                        new_pairs.append([rev_map[sid_int], float(w)])\n",
    "                    else:\n",
    "                        missing += 1\n",
    "                        if not skip_unmapped:\n",
    "                            new_pairs.append([sid_int, float(w)])\n",
    "                        # else: drop it\n",
    "                entry[2] = new_pairs  # replace pairs list\n",
    "\n",
    "    if missing:\n",
    "        print(f\"[INFO] Mapping done. {missing}/{total} pairs had no mapping \"\n",
    "              f\"({missing/total:.2%}). {'Dropped' if skip_unmapped else 'Kept'} unmapped.\")\n",
    "    else:\n",
    "        print(f\"[INFO] Mapping done. All {total} pairs mapped.\")\n",
    "\n",
    "    return target\n"
   ]
  },
  {
   "cell_type": "code",
   "execution_count": null,
   "id": "15642fa9-0d40-4476-ae5a-2e4931de66af",
   "metadata": {},
   "outputs": [],
   "source": [
    "# Path to the reverse map CSV\n",
    "reverse_map_csv = \"reverse_small_ids.csv\"\n",
    "\n",
    "# Create a new mapped dictionary (does NOT modify the original)\n",
    "mapped_data = map_small_ids_to_global(\n",
    "    bigbox_data, \n",
    "    reverse_map_csv,\n",
    "    skip_unmapped=True,   # drop small IDs not found in the reverse map\n",
    "    inplace=False         # set to True if you want to overwrite bigbox_data\n",
    ")"
   ]
  },
  {
   "cell_type": "code",
   "execution_count": null,
   "id": "998f68d3-14a8-4f8e-ac8b-ad9beb21ae28",
   "metadata": {},
   "outputs": [],
   "source": [
    "import numpy as np\n",
    "car4=[]\n",
    "car4.append(mapped_data)\n",
    "np.save('car4real.npy',car4)"
   ]
  }
 ],
 "metadata": {
  "kernelspec": {
   "display_name": "Python 3 (ipykernel)",
   "language": "python",
   "name": "python3"
  },
  "language_info": {
   "codemirror_mode": {
    "name": "ipython",
    "version": 3
   },
   "file_extension": ".py",
   "mimetype": "text/x-python",
   "name": "python",
   "nbconvert_exporter": "python",
   "pygments_lexer": "ipython3",
   "version": "3.12.11"
  }
 },
 "nbformat": 4,
 "nbformat_minor": 5
}
